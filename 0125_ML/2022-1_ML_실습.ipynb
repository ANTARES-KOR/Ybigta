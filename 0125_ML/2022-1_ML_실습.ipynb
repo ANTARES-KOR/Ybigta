{
 "cells": [
  {
   "cell_type": "markdown",
   "metadata": {
    "id": "7qAbsP30xi9m"
   },
   "source": [
    "# ML - Decision Tree 실습"
   ]
  },
  {
   "cell_type": "markdown",
   "metadata": {
    "id": "nBWfFbYFxi9r"
   },
   "source": [
    "이번 실습에서는 Decision Tree를 이용한 분류/회귀를 진행하고, 학습된 모델의 성능을 평가하는 Evaluation을 진행하도록 하겠습니다."
   ]
  },
  {
   "cell_type": "code",
   "execution_count": 1,
   "metadata": {
    "id": "UrsRpGDYxi9s"
   },
   "outputs": [],
   "source": [
    "# 우선 데이터셋을 로드하기 위해 pandas와 numpy를 불러오겠습니다.\n",
    "import pandas as pd\n",
    "import numpy as np\n",
    "\n",
    "# 경고는 가볍게 무시하도록 하겠습니다.\n",
    "import warnings\n",
    "warnings.filterwarnings(action='ignore')"
   ]
  },
  {
   "cell_type": "code",
   "execution_count": null,
   "metadata": {
    "colab": {
     "base_uri": "https://localhost:8080/"
    },
    "executionInfo": {
     "elapsed": 117462,
     "status": "ok",
     "timestamp": 1643028979954,
     "user": {
      "displayName": "김상회",
      "photoUrl": "https://lh3.googleusercontent.com/a/default-user=s64",
      "userId": "17849189406907453051"
     },
     "user_tz": -540
    },
    "id": "4kinD_sXxu7P",
    "outputId": "33bc6854-08cf-4633-aafc-810b8edf276d"
   },
   "outputs": [
    {
     "name": "stdout",
     "output_type": "stream",
     "text": [
      "Mounted at /content/gdrive\n"
     ]
    }
   ],
   "source": [
    "from google.colab import drive\n",
    "drive.mount('/content/gdrive')"
   ]
  },
  {
   "cell_type": "markdown",
   "metadata": {
    "id": "_YZ_ku3yxi9s"
   },
   "source": [
    "## 1. Decision Tree - Classificiation\n",
    "\n",
    "심장병 예측 데이터 셋 사용"
   ]
  },
  {
   "cell_type": "markdown",
   "metadata": {
    "id": "6C3lzHXFxi9s"
   },
   "source": [
    "#### 1.1 데이터 로드 및 훓어보기"
   ]
  },
  {
   "cell_type": "code",
   "execution_count": 2,
   "metadata": {
    "colab": {
     "base_uri": "https://localhost:8080/"
    },
    "executionInfo": {
     "elapsed": 8,
     "status": "ok",
     "timestamp": 1643028980291,
     "user": {
      "displayName": "김상회",
      "photoUrl": "https://lh3.googleusercontent.com/a/default-user=s64",
      "userId": "17849189406907453051"
     },
     "user_tz": -540
    },
    "id": "2Aqml1Vhxi9t",
    "outputId": "703a0439-4504-4ef5-d65e-4cef9a0d45d6"
   },
   "outputs": [
    {
     "data": {
      "text/html": [
       "<div>\n",
       "<style scoped>\n",
       "    .dataframe tbody tr th:only-of-type {\n",
       "        vertical-align: middle;\n",
       "    }\n",
       "\n",
       "    .dataframe tbody tr th {\n",
       "        vertical-align: top;\n",
       "    }\n",
       "\n",
       "    .dataframe thead th {\n",
       "        text-align: right;\n",
       "    }\n",
       "</style>\n",
       "<table border=\"1\" class=\"dataframe\">\n",
       "  <thead>\n",
       "    <tr style=\"text-align: right;\">\n",
       "      <th></th>\n",
       "      <th>age</th>\n",
       "      <th>sex</th>\n",
       "      <th>cp</th>\n",
       "      <th>trestbps</th>\n",
       "      <th>chol</th>\n",
       "      <th>fbs</th>\n",
       "      <th>restecg</th>\n",
       "      <th>thalach</th>\n",
       "      <th>exang</th>\n",
       "      <th>oldpeak</th>\n",
       "      <th>slope</th>\n",
       "      <th>ca</th>\n",
       "      <th>thal</th>\n",
       "      <th>target</th>\n",
       "    </tr>\n",
       "  </thead>\n",
       "  <tbody>\n",
       "    <tr>\n",
       "      <th>0</th>\n",
       "      <td>63</td>\n",
       "      <td>1</td>\n",
       "      <td>3</td>\n",
       "      <td>145</td>\n",
       "      <td>233</td>\n",
       "      <td>1</td>\n",
       "      <td>0</td>\n",
       "      <td>150</td>\n",
       "      <td>0</td>\n",
       "      <td>2.3</td>\n",
       "      <td>0</td>\n",
       "      <td>0</td>\n",
       "      <td>1</td>\n",
       "      <td>1</td>\n",
       "    </tr>\n",
       "    <tr>\n",
       "      <th>1</th>\n",
       "      <td>37</td>\n",
       "      <td>1</td>\n",
       "      <td>2</td>\n",
       "      <td>130</td>\n",
       "      <td>250</td>\n",
       "      <td>0</td>\n",
       "      <td>1</td>\n",
       "      <td>187</td>\n",
       "      <td>0</td>\n",
       "      <td>3.5</td>\n",
       "      <td>0</td>\n",
       "      <td>0</td>\n",
       "      <td>2</td>\n",
       "      <td>1</td>\n",
       "    </tr>\n",
       "    <tr>\n",
       "      <th>2</th>\n",
       "      <td>41</td>\n",
       "      <td>0</td>\n",
       "      <td>1</td>\n",
       "      <td>130</td>\n",
       "      <td>204</td>\n",
       "      <td>0</td>\n",
       "      <td>0</td>\n",
       "      <td>172</td>\n",
       "      <td>0</td>\n",
       "      <td>1.4</td>\n",
       "      <td>2</td>\n",
       "      <td>0</td>\n",
       "      <td>2</td>\n",
       "      <td>1</td>\n",
       "    </tr>\n",
       "    <tr>\n",
       "      <th>3</th>\n",
       "      <td>56</td>\n",
       "      <td>1</td>\n",
       "      <td>1</td>\n",
       "      <td>120</td>\n",
       "      <td>236</td>\n",
       "      <td>0</td>\n",
       "      <td>1</td>\n",
       "      <td>178</td>\n",
       "      <td>0</td>\n",
       "      <td>0.8</td>\n",
       "      <td>2</td>\n",
       "      <td>0</td>\n",
       "      <td>2</td>\n",
       "      <td>1</td>\n",
       "    </tr>\n",
       "    <tr>\n",
       "      <th>4</th>\n",
       "      <td>57</td>\n",
       "      <td>0</td>\n",
       "      <td>0</td>\n",
       "      <td>120</td>\n",
       "      <td>354</td>\n",
       "      <td>0</td>\n",
       "      <td>1</td>\n",
       "      <td>163</td>\n",
       "      <td>1</td>\n",
       "      <td>0.6</td>\n",
       "      <td>2</td>\n",
       "      <td>0</td>\n",
       "      <td>2</td>\n",
       "      <td>1</td>\n",
       "    </tr>\n",
       "  </tbody>\n",
       "</table>\n",
       "</div>"
      ],
      "text/plain": [
       "   age  sex  cp  trestbps  chol  fbs  restecg  thalach  exang  oldpeak  slope  \\\n",
       "0   63    1   3       145   233    1        0      150      0      2.3      0   \n",
       "1   37    1   2       130   250    0        1      187      0      3.5      0   \n",
       "2   41    0   1       130   204    0        0      172      0      1.4      2   \n",
       "3   56    1   1       120   236    0        1      178      0      0.8      2   \n",
       "4   57    0   0       120   354    0        1      163      1      0.6      2   \n",
       "\n",
       "   ca  thal  target  \n",
       "0   0     1       1  \n",
       "1   0     2       1  \n",
       "2   0     2       1  \n",
       "3   0     2       1  \n",
       "4   0     2       1  "
      ]
     },
     "execution_count": 2,
     "metadata": {},
     "output_type": "execute_result"
    }
   ],
   "source": [
    "heart_classification = pd.read_csv(\"./heart.csv\")\n",
    "heart_classification.head()"
   ]
  },
  {
   "cell_type": "code",
   "execution_count": 3,
   "metadata": {
    "colab": {
     "base_uri": "https://localhost:8080/"
    },
    "executionInfo": {
     "elapsed": 6,
     "status": "ok",
     "timestamp": 1643028980291,
     "user": {
      "displayName": "김상회",
      "photoUrl": "https://lh3.googleusercontent.com/a/default-user=s64",
      "userId": "17849189406907453051"
     },
     "user_tz": -540
    },
    "id": "yBaXM1NExi9t",
    "outputId": "97e87589-ed20-49fb-8407-bdf76c838f14"
   },
   "outputs": [
    {
     "name": "stdout",
     "output_type": "stream",
     "text": [
      "<class 'pandas.core.frame.DataFrame'>\n",
      "RangeIndex: 303 entries, 0 to 302\n",
      "Data columns (total 14 columns):\n",
      " #   Column    Non-Null Count  Dtype  \n",
      "---  ------    --------------  -----  \n",
      " 0   age       303 non-null    int64  \n",
      " 1   sex       303 non-null    int64  \n",
      " 2   cp        303 non-null    int64  \n",
      " 3   trestbps  303 non-null    int64  \n",
      " 4   chol      303 non-null    int64  \n",
      " 5   fbs       303 non-null    int64  \n",
      " 6   restecg   303 non-null    int64  \n",
      " 7   thalach   303 non-null    int64  \n",
      " 8   exang     303 non-null    int64  \n",
      " 9   oldpeak   303 non-null    float64\n",
      " 10  slope     303 non-null    int64  \n",
      " 11  ca        303 non-null    int64  \n",
      " 12  thal      303 non-null    int64  \n",
      " 13  target    303 non-null    int64  \n",
      "dtypes: float64(1), int64(13)\n",
      "memory usage: 33.3 KB\n"
     ]
    }
   ],
   "source": [
    "# 데이터셋을 천천히 훑어보도록 하겠습니다.\n",
    "# Column 개수가 많거나 변수에 str 타입의 데이터가 들어가게 된다면 그냥 보는 것보다 .info() method를 이용하면 좀 더 쉽게 데이터 정보를 파악할 수 있습니다.\n",
    "# 다만, 이미 정수형으로 변환되어 있는 categorical data(범주형 데이터)는 continuous data로 인식합니다.\n",
    "heart_classification.info(null_counts = True)"
   ]
  },
  {
   "cell_type": "markdown",
   "metadata": {
    "id": "0LSXczYT17JP"
   },
   "source": [
    "## 0과 1의 이진분류 문제"
   ]
  },
  {
   "cell_type": "code",
   "execution_count": 4,
   "metadata": {
    "colab": {
     "base_uri": "https://localhost:8080/"
    },
    "executionInfo": {
     "elapsed": 5,
     "status": "ok",
     "timestamp": 1643028980291,
     "user": {
      "displayName": "김상회",
      "photoUrl": "https://lh3.googleusercontent.com/a/default-user=s64",
      "userId": "17849189406907453051"
     },
     "user_tz": -540
    },
    "id": "ylcSV8uG109O",
    "outputId": "181a5989-f897-435f-8cd5-6fdc5f690b4e"
   },
   "outputs": [
    {
     "data": {
      "text/plain": [
       "array([1, 0])"
      ]
     },
     "execution_count": 4,
     "metadata": {},
     "output_type": "execute_result"
    }
   ],
   "source": [
    "heart_classification.target.unique()"
   ]
  },
  {
   "cell_type": "code",
   "execution_count": null,
   "metadata": {
    "colab": {
     "base_uri": "https://localhost:8080/"
    },
    "executionInfo": {
     "elapsed": 4,
     "status": "ok",
     "timestamp": 1643028980291,
     "user": {
      "displayName": "김상회",
      "photoUrl": "https://lh3.googleusercontent.com/a/default-user=s64",
      "userId": "17849189406907453051"
     },
     "user_tz": -540
    },
    "id": "LAQr_bJXxi9u",
    "outputId": "091015f8-1d0e-4e67-9849-15cae072301a"
   },
   "outputs": [
    {
     "data": {
      "text/plain": [
       "target\n",
       "0    138\n",
       "1    165\n",
       "dtype: int64"
      ]
     },
     "execution_count": 6,
     "metadata": {},
     "output_type": "execute_result"
    }
   ],
   "source": [
    "# 우리의 목표는 target입니다. 심장병 유무에 관련해 1,0으로 표기한겁니다.\n",
    "# 결과를 보니 균일하게 잘 분포가 되어 있습니다.\n",
    "# 결과의 분포를 확인. '암 환자' 판단 문제에서 데이터셋의 분포가 불균형하면 Accuray Paradox가 생길 수 있었음!\n",
    "heart_classification.groupby('target').size()"
   ]
  },
  {
   "cell_type": "markdown",
   "metadata": {
    "id": "W-FSK6_Txi9u"
   },
   "source": [
    "#### 1.2  데이터 분할 및 학습"
   ]
  },
  {
   "cell_type": "code",
   "execution_count": null,
   "metadata": {
    "id": "kehE_3Qbxi9u"
   },
   "outputs": [],
   "source": [
    "# sklearn에서 필요한 패키지들을 다시 불러옵니다.\n",
    "from sklearn.model_selection import train_test_split\n",
    "from sklearn.tree import DecisionTreeClassifier"
   ]
  },
  {
   "cell_type": "code",
   "execution_count": null,
   "metadata": {
    "id": "dLJ4XaR9xi9v"
   },
   "outputs": [],
   "source": [
    "# 원본 DataFrame에서 X, y를 따로 할당하고, train / test set으로 분할합니다\n",
    "\n",
    "y = heart_classification.target\n",
    "X = heart_classification.drop('target', axis = 1) #axix = 1 설정을 꼭 해주셔야 합니다. default가 0으로 설정되어 있습니다.\n",
    "\n",
    "X_train, X_val, y_train, y_val = train_test_split(X, y, test_size = 0.2, random_state = 42, stratify=y)\n",
    "#test_size parameter 말고 train_size로도 설정이 가능합니다.\n",
    "#stratify : y 분포를 그대로 가져와서 split 진행"
   ]
  },
  {
   "cell_type": "code",
   "execution_count": null,
   "metadata": {
    "colab": {
     "base_uri": "https://localhost:8080/"
    },
    "executionInfo": {
     "elapsed": 13,
     "status": "ok",
     "timestamp": 1643028981400,
     "user": {
      "displayName": "김상회",
      "photoUrl": "https://lh3.googleusercontent.com/a/default-user=s64",
      "userId": "17849189406907453051"
     },
     "user_tz": -540
    },
    "id": "9g97OkUyIiOT",
    "outputId": "ea9e78b2-96d4-414d-8dd3-cd8a3dc6ea58"
   },
   "outputs": [
    {
     "data": {
      "text/plain": [
       "1    0.544554\n",
       "0    0.455446\n",
       "Name: target, dtype: float64"
      ]
     },
     "execution_count": 9,
     "metadata": {},
     "output_type": "execute_result"
    }
   ],
   "source": [
    "y.value_counts(normalize=True)"
   ]
  },
  {
   "cell_type": "code",
   "execution_count": null,
   "metadata": {
    "colab": {
     "base_uri": "https://localhost:8080/"
    },
    "executionInfo": {
     "elapsed": 11,
     "status": "ok",
     "timestamp": 1643028981401,
     "user": {
      "displayName": "김상회",
      "photoUrl": "https://lh3.googleusercontent.com/a/default-user=s64",
      "userId": "17849189406907453051"
     },
     "user_tz": -540
    },
    "id": "auRY1AWMIaog",
    "outputId": "d2b7edc5-853e-4ae3-ba89-bab8e23c233e"
   },
   "outputs": [
    {
     "data": {
      "text/plain": [
       "1    0.545455\n",
       "0    0.454545\n",
       "Name: target, dtype: float64"
      ]
     },
     "execution_count": 10,
     "metadata": {},
     "output_type": "execute_result"
    }
   ],
   "source": [
    "y_train.value_counts(normalize=True)"
   ]
  },
  {
   "cell_type": "code",
   "execution_count": null,
   "metadata": {
    "colab": {
     "base_uri": "https://localhost:8080/"
    },
    "executionInfo": {
     "elapsed": 9,
     "status": "ok",
     "timestamp": 1643028981401,
     "user": {
      "displayName": "김상회",
      "photoUrl": "https://lh3.googleusercontent.com/a/default-user=s64",
      "userId": "17849189406907453051"
     },
     "user_tz": -540
    },
    "id": "VAno-BQTIgNe",
    "outputId": "2cadcdb3-440c-40d1-c299-3bbb49c0d0c2"
   },
   "outputs": [
    {
     "data": {
      "text/plain": [
       "1    0.540984\n",
       "0    0.459016\n",
       "Name: target, dtype: float64"
      ]
     },
     "execution_count": 11,
     "metadata": {},
     "output_type": "execute_result"
    }
   ],
   "source": [
    "y_val.value_counts(normalize=True)"
   ]
  },
  {
   "cell_type": "code",
   "execution_count": null,
   "metadata": {
    "colab": {
     "base_uri": "https://localhost:8080/"
    },
    "executionInfo": {
     "elapsed": 7,
     "status": "ok",
     "timestamp": 1643028981401,
     "user": {
      "displayName": "김상회",
      "photoUrl": "https://lh3.googleusercontent.com/a/default-user=s64",
      "userId": "17849189406907453051"
     },
     "user_tz": -540
    },
    "id": "Wqe_Brewxi9v",
    "outputId": "d097c468-bbb6-4674-c394-a0e218a7952b"
   },
   "outputs": [
    {
     "data": {
      "text/plain": [
       "DecisionTreeClassifier(criterion='entropy')"
      ]
     },
     "execution_count": 12,
     "metadata": {},
     "output_type": "execute_result"
    }
   ],
   "source": [
    "#Shift+Tab을 눌러보시면 criterion(불순도 지표 기준)으로 무엇을 선택할지부터 다양한 option을 볼 수 있습니다.\n",
    "dt_clf = DecisionTreeClassifier(criterion='entropy') \n",
    "\n",
    "#학습을 진행합시다.\n",
    "dt_clf.fit(X_train, y_train) "
   ]
  },
  {
   "cell_type": "markdown",
   "metadata": {
    "id": "WS-y7UTixi9v"
   },
   "source": [
    "#### 1.3 Graphviz를 통한 시각화\n",
    "\n",
    "<span style=\"color:red\"><b> graphviz 패키지가 설치되어 있지 않다면 이 부분의 코드를 실행하지 마세요!</b></span> <br>"
   ]
  },
  {
   "cell_type": "code",
   "execution_count": null,
   "metadata": {
    "colab": {
     "base_uri": "https://localhost:8080/"
    },
    "executionInfo": {
     "elapsed": 4313,
     "status": "ok",
     "timestamp": 1643028985708,
     "user": {
      "displayName": "김상회",
      "photoUrl": "https://lh3.googleusercontent.com/a/default-user=s64",
      "userId": "17849189406907453051"
     },
     "user_tz": -540
    },
    "id": "J7NaiPRhv2hb",
    "outputId": "9693aaeb-6a0c-40e8-c731-1effa2fb6527"
   },
   "outputs": [
    {
     "name": "stdout",
     "output_type": "stream",
     "text": [
      "Requirement already satisfied: graphviz in /usr/local/lib/python3.7/dist-packages (0.10.1)\n"
     ]
    }
   ],
   "source": [
    "!pip install graphviz"
   ]
  },
  {
   "cell_type": "code",
   "execution_count": null,
   "metadata": {
    "id": "cB4xazFxxi9v"
   },
   "outputs": [],
   "source": [
    "# graphviz 패키지를 통해 시각화를 진행할 수 있습니다.\n",
    "# sklearn의 export_graphviz를 import 합니다.\n",
    "\n",
    "from sklearn.tree import export_graphviz\n",
    "\n",
    "# 결과물을 graphviz 패키지의 default 경로로 export할 겁니다.\n",
    "\n",
    "export_graphviz(dt_clf,\n",
    "                out_file=(\"heart_tree.dot\"),\n",
    "                feature_names=X_train.columns,\n",
    "                class_names=['0','1'],\n",
    "                rounded=True,\n",
    "                filled=True)"
   ]
  },
  {
   "cell_type": "code",
   "execution_count": null,
   "metadata": {
    "colab": {
     "base_uri": "https://localhost:8080/"
    },
    "executionInfo": {
     "elapsed": 10,
     "status": "ok",
     "timestamp": 1643028985709,
     "user": {
      "displayName": "김상회",
      "photoUrl": "https://lh3.googleusercontent.com/a/default-user=s64",
      "userId": "17849189406907453051"
     },
     "user_tz": -540
    },
    "id": "f2ofjHHLxi9v",
    "outputId": "b8a75e3d-9bcb-4397-e0a7-de06ecf4ad9e"
   },
   "outputs": [
    {
     "data": {
      "image/svg+xml": [
       "<?xml version=\"1.0\" encoding=\"UTF-8\" standalone=\"no\"?>\n",
       "<!DOCTYPE svg PUBLIC \"-//W3C//DTD SVG 1.1//EN\"\n",
       " \"http://www.w3.org/Graphics/SVG/1.1/DTD/svg11.dtd\">\n",
       "<!-- Generated by graphviz version 2.40.1 (20161225.0304)\n",
       " -->\n",
       "<!-- Title: Tree Pages: 1 -->\n",
       "<svg width=\"2244pt\" height=\"1147pt\"\n",
       " viewBox=\"0.00 0.00 2244.00 1147.00\" xmlns=\"http://www.w3.org/2000/svg\" xmlns:xlink=\"http://www.w3.org/1999/xlink\">\n",
       "<g id=\"graph0\" class=\"graph\" transform=\"scale(1 1) rotate(0) translate(4 1143)\">\n",
       "<title>Tree</title>\n",
       "<polygon fill=\"#ffffff\" stroke=\"transparent\" points=\"-4,4 -4,-1143 2240,-1143 2240,4 -4,4\"/>\n",
       "<!-- 0 -->\n",
       "<g id=\"node1\" class=\"node\">\n",
       "<title>0</title>\n",
       "<path fill=\"#deeffb\" stroke=\"#000000\" d=\"M1451.5,-1139C1451.5,-1139 1343.5,-1139 1343.5,-1139 1337.5,-1139 1331.5,-1133 1331.5,-1127 1331.5,-1127 1331.5,-1068 1331.5,-1068 1331.5,-1062 1337.5,-1056 1343.5,-1056 1343.5,-1056 1451.5,-1056 1451.5,-1056 1457.5,-1056 1463.5,-1062 1463.5,-1068 1463.5,-1068 1463.5,-1127 1463.5,-1127 1463.5,-1133 1457.5,-1139 1451.5,-1139\"/>\n",
       "<text text-anchor=\"middle\" x=\"1397.5\" y=\"-1123.8\" font-family=\"Helvetica,sans-Serif\" font-size=\"14.00\" fill=\"#000000\">cp &lt;= 0.5</text>\n",
       "<text text-anchor=\"middle\" x=\"1397.5\" y=\"-1108.8\" font-family=\"Helvetica,sans-Serif\" font-size=\"14.00\" fill=\"#000000\">entropy = 0.994</text>\n",
       "<text text-anchor=\"middle\" x=\"1397.5\" y=\"-1093.8\" font-family=\"Helvetica,sans-Serif\" font-size=\"14.00\" fill=\"#000000\">samples = 242</text>\n",
       "<text text-anchor=\"middle\" x=\"1397.5\" y=\"-1078.8\" font-family=\"Helvetica,sans-Serif\" font-size=\"14.00\" fill=\"#000000\">value = [110, 132]</text>\n",
       "<text text-anchor=\"middle\" x=\"1397.5\" y=\"-1063.8\" font-family=\"Helvetica,sans-Serif\" font-size=\"14.00\" fill=\"#000000\">class = 1</text>\n",
       "</g>\n",
       "<!-- 1 -->\n",
       "<g id=\"node2\" class=\"node\">\n",
       "<title>1</title>\n",
       "<path fill=\"#eead7f\" stroke=\"#000000\" d=\"M1194.5,-1020C1194.5,-1020 1100.5,-1020 1100.5,-1020 1094.5,-1020 1088.5,-1014 1088.5,-1008 1088.5,-1008 1088.5,-949 1088.5,-949 1088.5,-943 1094.5,-937 1100.5,-937 1100.5,-937 1194.5,-937 1194.5,-937 1200.5,-937 1206.5,-943 1206.5,-949 1206.5,-949 1206.5,-1008 1206.5,-1008 1206.5,-1014 1200.5,-1020 1194.5,-1020\"/>\n",
       "<text text-anchor=\"middle\" x=\"1147.5\" y=\"-1004.8\" font-family=\"Helvetica,sans-Serif\" font-size=\"14.00\" fill=\"#000000\">oldpeak &lt;= 0.7</text>\n",
       "<text text-anchor=\"middle\" x=\"1147.5\" y=\"-989.8\" font-family=\"Helvetica,sans-Serif\" font-size=\"14.00\" fill=\"#000000\">entropy = 0.828</text>\n",
       "<text text-anchor=\"middle\" x=\"1147.5\" y=\"-974.8\" font-family=\"Helvetica,sans-Serif\" font-size=\"14.00\" fill=\"#000000\">samples = 115</text>\n",
       "<text text-anchor=\"middle\" x=\"1147.5\" y=\"-959.8\" font-family=\"Helvetica,sans-Serif\" font-size=\"14.00\" fill=\"#000000\">value = [85, 30]</text>\n",
       "<text text-anchor=\"middle\" x=\"1147.5\" y=\"-944.8\" font-family=\"Helvetica,sans-Serif\" font-size=\"14.00\" fill=\"#000000\">class = 0</text>\n",
       "</g>\n",
       "<!-- 0&#45;&gt;1 -->\n",
       "<g id=\"edge1\" class=\"edge\">\n",
       "<title>0&#45;&gt;1</title>\n",
       "<path fill=\"none\" stroke=\"#000000\" d=\"M1331.4884,-1066.0785C1295.899,-1049.1379 1252.0318,-1028.2571 1216.0586,-1011.1339\"/>\n",
       "<polygon fill=\"#000000\" stroke=\"#000000\" points=\"1217.1489,-1007.7767 1206.6154,-1006.6389 1214.1404,-1014.0972 1217.1489,-1007.7767\"/>\n",
       "<text text-anchor=\"middle\" x=\"1214.9793\" y=\"-1026.4983\" font-family=\"Helvetica,sans-Serif\" font-size=\"14.00\" fill=\"#000000\">True</text>\n",
       "</g>\n",
       "<!-- 40 -->\n",
       "<g id=\"node41\" class=\"node\">\n",
       "<title>40</title>\n",
       "<path fill=\"#6ab5eb\" stroke=\"#000000\" d=\"M1570.5,-1020C1570.5,-1020 1470.5,-1020 1470.5,-1020 1464.5,-1020 1458.5,-1014 1458.5,-1008 1458.5,-1008 1458.5,-949 1458.5,-949 1458.5,-943 1464.5,-937 1470.5,-937 1470.5,-937 1570.5,-937 1570.5,-937 1576.5,-937 1582.5,-943 1582.5,-949 1582.5,-949 1582.5,-1008 1582.5,-1008 1582.5,-1014 1576.5,-1020 1570.5,-1020\"/>\n",
       "<text text-anchor=\"middle\" x=\"1520.5\" y=\"-1004.8\" font-family=\"Helvetica,sans-Serif\" font-size=\"14.00\" fill=\"#000000\">thal &lt;= 2.5</text>\n",
       "<text text-anchor=\"middle\" x=\"1520.5\" y=\"-989.8\" font-family=\"Helvetica,sans-Serif\" font-size=\"14.00\" fill=\"#000000\">entropy = 0.716</text>\n",
       "<text text-anchor=\"middle\" x=\"1520.5\" y=\"-974.8\" font-family=\"Helvetica,sans-Serif\" font-size=\"14.00\" fill=\"#000000\">samples = 127</text>\n",
       "<text text-anchor=\"middle\" x=\"1520.5\" y=\"-959.8\" font-family=\"Helvetica,sans-Serif\" font-size=\"14.00\" fill=\"#000000\">value = [25, 102]</text>\n",
       "<text text-anchor=\"middle\" x=\"1520.5\" y=\"-944.8\" font-family=\"Helvetica,sans-Serif\" font-size=\"14.00\" fill=\"#000000\">class = 1</text>\n",
       "</g>\n",
       "<!-- 0&#45;&gt;40 -->\n",
       "<g id=\"edge40\" class=\"edge\">\n",
       "<title>0&#45;&gt;40</title>\n",
       "<path fill=\"none\" stroke=\"#000000\" d=\"M1440.5194,-1055.8796C1450.0147,-1046.6931 1460.1578,-1036.8798 1469.9215,-1027.4336\"/>\n",
       "<polygon fill=\"#000000\" stroke=\"#000000\" points=\"1472.5436,-1029.7668 1477.297,-1020.2981 1467.6763,-1024.7359 1472.5436,-1029.7668\"/>\n",
       "<text text-anchor=\"middle\" x=\"1476.8838\" y=\"-1041.5947\" font-family=\"Helvetica,sans-Serif\" font-size=\"14.00\" fill=\"#000000\">False</text>\n",
       "</g>\n",
       "<!-- 2 -->\n",
       "<g id=\"node3\" class=\"node\">\n",
       "<title>2</title>\n",
       "<path fill=\"#ddeefa\" stroke=\"#000000\" d=\"M781.5,-901C781.5,-901 687.5,-901 687.5,-901 681.5,-901 675.5,-895 675.5,-889 675.5,-889 675.5,-830 675.5,-830 675.5,-824 681.5,-818 687.5,-818 687.5,-818 781.5,-818 781.5,-818 787.5,-818 793.5,-824 793.5,-830 793.5,-830 793.5,-889 793.5,-889 793.5,-895 787.5,-901 781.5,-901\"/>\n",
       "<text text-anchor=\"middle\" x=\"734.5\" y=\"-885.8\" font-family=\"Helvetica,sans-Serif\" font-size=\"14.00\" fill=\"#000000\">ca &lt;= 0.5</text>\n",
       "<text text-anchor=\"middle\" x=\"734.5\" y=\"-870.8\" font-family=\"Helvetica,sans-Serif\" font-size=\"14.00\" fill=\"#000000\">entropy = 0.993</text>\n",
       "<text text-anchor=\"middle\" x=\"734.5\" y=\"-855.8\" font-family=\"Helvetica,sans-Serif\" font-size=\"14.00\" fill=\"#000000\">samples = 42</text>\n",
       "<text text-anchor=\"middle\" x=\"734.5\" y=\"-840.8\" font-family=\"Helvetica,sans-Serif\" font-size=\"14.00\" fill=\"#000000\">value = [19, 23]</text>\n",
       "<text text-anchor=\"middle\" x=\"734.5\" y=\"-825.8\" font-family=\"Helvetica,sans-Serif\" font-size=\"14.00\" fill=\"#000000\">class = 1</text>\n",
       "</g>\n",
       "<!-- 1&#45;&gt;2 -->\n",
       "<g id=\"edge2\" class=\"edge\">\n",
       "<title>1&#45;&gt;2</title>\n",
       "<path fill=\"none\" stroke=\"#000000\" d=\"M1088.3272,-961.4502C1013.0361,-939.7562 883.2229,-902.3524 803.5081,-879.3837\"/>\n",
       "<polygon fill=\"#000000\" stroke=\"#000000\" points=\"804.1412,-875.9238 793.5631,-876.5182 802.2031,-882.6501 804.1412,-875.9238\"/>\n",
       "</g>\n",
       "<!-- 23 -->\n",
       "<g id=\"node24\" class=\"node\">\n",
       "<title>23</title>\n",
       "<path fill=\"#e88e4e\" stroke=\"#000000\" d=\"M1194.5,-901C1194.5,-901 1100.5,-901 1100.5,-901 1094.5,-901 1088.5,-895 1088.5,-889 1088.5,-889 1088.5,-830 1088.5,-830 1088.5,-824 1094.5,-818 1100.5,-818 1100.5,-818 1194.5,-818 1194.5,-818 1200.5,-818 1206.5,-824 1206.5,-830 1206.5,-830 1206.5,-889 1206.5,-889 1206.5,-895 1200.5,-901 1194.5,-901\"/>\n",
       "<text text-anchor=\"middle\" x=\"1147.5\" y=\"-885.8\" font-family=\"Helvetica,sans-Serif\" font-size=\"14.00\" fill=\"#000000\">thal &lt;= 2.5</text>\n",
       "<text text-anchor=\"middle\" x=\"1147.5\" y=\"-870.8\" font-family=\"Helvetica,sans-Serif\" font-size=\"14.00\" fill=\"#000000\">entropy = 0.456</text>\n",
       "<text text-anchor=\"middle\" x=\"1147.5\" y=\"-855.8\" font-family=\"Helvetica,sans-Serif\" font-size=\"14.00\" fill=\"#000000\">samples = 73</text>\n",
       "<text text-anchor=\"middle\" x=\"1147.5\" y=\"-840.8\" font-family=\"Helvetica,sans-Serif\" font-size=\"14.00\" fill=\"#000000\">value = [66, 7]</text>\n",
       "<text text-anchor=\"middle\" x=\"1147.5\" y=\"-825.8\" font-family=\"Helvetica,sans-Serif\" font-size=\"14.00\" fill=\"#000000\">class = 0</text>\n",
       "</g>\n",
       "<!-- 1&#45;&gt;23 -->\n",
       "<g id=\"edge23\" class=\"edge\">\n",
       "<title>1&#45;&gt;23</title>\n",
       "<path fill=\"none\" stroke=\"#000000\" d=\"M1147.5,-936.8796C1147.5,-928.6838 1147.5,-919.9891 1147.5,-911.5013\"/>\n",
       "<polygon fill=\"#000000\" stroke=\"#000000\" points=\"1151.0001,-911.298 1147.5,-901.2981 1144.0001,-911.2981 1151.0001,-911.298\"/>\n",
       "</g>\n",
       "<!-- 3 -->\n",
       "<g id=\"node4\" class=\"node\">\n",
       "<title>3</title>\n",
       "<path fill=\"#82c1ef\" stroke=\"#000000\" d=\"M545.5,-782C545.5,-782 459.5,-782 459.5,-782 453.5,-782 447.5,-776 447.5,-770 447.5,-770 447.5,-711 447.5,-711 447.5,-705 453.5,-699 459.5,-699 459.5,-699 545.5,-699 545.5,-699 551.5,-699 557.5,-705 557.5,-711 557.5,-711 557.5,-770 557.5,-770 557.5,-776 551.5,-782 545.5,-782\"/>\n",
       "<text text-anchor=\"middle\" x=\"502.5\" y=\"-766.8\" font-family=\"Helvetica,sans-Serif\" font-size=\"14.00\" fill=\"#000000\">age &lt;= 41.5</text>\n",
       "<text text-anchor=\"middle\" x=\"502.5\" y=\"-751.8\" font-family=\"Helvetica,sans-Serif\" font-size=\"14.00\" fill=\"#000000\">entropy = 0.84</text>\n",
       "<text text-anchor=\"middle\" x=\"502.5\" y=\"-736.8\" font-family=\"Helvetica,sans-Serif\" font-size=\"14.00\" fill=\"#000000\">samples = 26</text>\n",
       "<text text-anchor=\"middle\" x=\"502.5\" y=\"-721.8\" font-family=\"Helvetica,sans-Serif\" font-size=\"14.00\" fill=\"#000000\">value = [7, 19]</text>\n",
       "<text text-anchor=\"middle\" x=\"502.5\" y=\"-706.8\" font-family=\"Helvetica,sans-Serif\" font-size=\"14.00\" fill=\"#000000\">class = 1</text>\n",
       "</g>\n",
       "<!-- 2&#45;&gt;3 -->\n",
       "<g id=\"edge3\" class=\"edge\">\n",
       "<title>2&#45;&gt;3</title>\n",
       "<path fill=\"none\" stroke=\"#000000\" d=\"M675.3563,-829.1634C642.0823,-812.0961 600.5164,-790.7756 566.4838,-773.3193\"/>\n",
       "<polygon fill=\"#000000\" stroke=\"#000000\" points=\"568.0472,-770.1876 557.552,-768.7379 564.8524,-776.4161 568.0472,-770.1876\"/>\n",
       "</g>\n",
       "<!-- 16 -->\n",
       "<g id=\"node17\" class=\"node\">\n",
       "<title>16</title>\n",
       "<path fill=\"#eeab7b\" stroke=\"#000000\" d=\"M781.5,-782C781.5,-782 687.5,-782 687.5,-782 681.5,-782 675.5,-776 675.5,-770 675.5,-770 675.5,-711 675.5,-711 675.5,-705 681.5,-699 687.5,-699 687.5,-699 781.5,-699 781.5,-699 787.5,-699 793.5,-705 793.5,-711 793.5,-711 793.5,-770 793.5,-770 793.5,-776 787.5,-782 781.5,-782\"/>\n",
       "<text text-anchor=\"middle\" x=\"734.5\" y=\"-766.8\" font-family=\"Helvetica,sans-Serif\" font-size=\"14.00\" fill=\"#000000\">sex &lt;= 0.5</text>\n",
       "<text text-anchor=\"middle\" x=\"734.5\" y=\"-751.8\" font-family=\"Helvetica,sans-Serif\" font-size=\"14.00\" fill=\"#000000\">entropy = 0.811</text>\n",
       "<text text-anchor=\"middle\" x=\"734.5\" y=\"-736.8\" font-family=\"Helvetica,sans-Serif\" font-size=\"14.00\" fill=\"#000000\">samples = 16</text>\n",
       "<text text-anchor=\"middle\" x=\"734.5\" y=\"-721.8\" font-family=\"Helvetica,sans-Serif\" font-size=\"14.00\" fill=\"#000000\">value = [12, 4]</text>\n",
       "<text text-anchor=\"middle\" x=\"734.5\" y=\"-706.8\" font-family=\"Helvetica,sans-Serif\" font-size=\"14.00\" fill=\"#000000\">class = 0</text>\n",
       "</g>\n",
       "<!-- 2&#45;&gt;16 -->\n",
       "<g id=\"edge16\" class=\"edge\">\n",
       "<title>2&#45;&gt;16</title>\n",
       "<path fill=\"none\" stroke=\"#000000\" d=\"M734.5,-817.8796C734.5,-809.6838 734.5,-800.9891 734.5,-792.5013\"/>\n",
       "<polygon fill=\"#000000\" stroke=\"#000000\" points=\"738.0001,-792.298 734.5,-782.2981 731.0001,-792.2981 738.0001,-792.298\"/>\n",
       "</g>\n",
       "<!-- 4 -->\n",
       "<g id=\"node5\" class=\"node\">\n",
       "<title>4</title>\n",
       "<path fill=\"#e58139\" stroke=\"#000000\" d=\"M413,-655.5C413,-655.5 336,-655.5 336,-655.5 330,-655.5 324,-649.5 324,-643.5 324,-643.5 324,-599.5 324,-599.5 324,-593.5 330,-587.5 336,-587.5 336,-587.5 413,-587.5 413,-587.5 419,-587.5 425,-593.5 425,-599.5 425,-599.5 425,-643.5 425,-643.5 425,-649.5 419,-655.5 413,-655.5\"/>\n",
       "<text text-anchor=\"middle\" x=\"374.5\" y=\"-640.3\" font-family=\"Helvetica,sans-Serif\" font-size=\"14.00\" fill=\"#000000\">entropy = 0.0</text>\n",
       "<text text-anchor=\"middle\" x=\"374.5\" y=\"-625.3\" font-family=\"Helvetica,sans-Serif\" font-size=\"14.00\" fill=\"#000000\">samples = 2</text>\n",
       "<text text-anchor=\"middle\" x=\"374.5\" y=\"-610.3\" font-family=\"Helvetica,sans-Serif\" font-size=\"14.00\" fill=\"#000000\">value = [2, 0]</text>\n",
       "<text text-anchor=\"middle\" x=\"374.5\" y=\"-595.3\" font-family=\"Helvetica,sans-Serif\" font-size=\"14.00\" fill=\"#000000\">class = 0</text>\n",
       "</g>\n",
       "<!-- 3&#45;&gt;4 -->\n",
       "<g id=\"edge4\" class=\"edge\">\n",
       "<title>3&#45;&gt;4</title>\n",
       "<path fill=\"none\" stroke=\"#000000\" d=\"M457.7318,-698.8796C445.1944,-687.2237 431.5716,-674.5587 419.047,-662.9148\"/>\n",
       "<polygon fill=\"#000000\" stroke=\"#000000\" points=\"421.1172,-660.0605 411.4102,-655.8149 416.3509,-665.1872 421.1172,-660.0605\"/>\n",
       "</g>\n",
       "<!-- 5 -->\n",
       "<g id=\"node6\" class=\"node\">\n",
       "<title>5</title>\n",
       "<path fill=\"#6db7ec\" stroke=\"#000000\" d=\"M549.5,-663C549.5,-663 455.5,-663 455.5,-663 449.5,-663 443.5,-657 443.5,-651 443.5,-651 443.5,-592 443.5,-592 443.5,-586 449.5,-580 455.5,-580 455.5,-580 549.5,-580 549.5,-580 555.5,-580 561.5,-586 561.5,-592 561.5,-592 561.5,-651 561.5,-651 561.5,-657 555.5,-663 549.5,-663\"/>\n",
       "<text text-anchor=\"middle\" x=\"502.5\" y=\"-647.8\" font-family=\"Helvetica,sans-Serif\" font-size=\"14.00\" fill=\"#000000\">slope &lt;= 1.5</text>\n",
       "<text text-anchor=\"middle\" x=\"502.5\" y=\"-632.8\" font-family=\"Helvetica,sans-Serif\" font-size=\"14.00\" fill=\"#000000\">entropy = 0.738</text>\n",
       "<text text-anchor=\"middle\" x=\"502.5\" y=\"-617.8\" font-family=\"Helvetica,sans-Serif\" font-size=\"14.00\" fill=\"#000000\">samples = 24</text>\n",
       "<text text-anchor=\"middle\" x=\"502.5\" y=\"-602.8\" font-family=\"Helvetica,sans-Serif\" font-size=\"14.00\" fill=\"#000000\">value = [5, 19]</text>\n",
       "<text text-anchor=\"middle\" x=\"502.5\" y=\"-587.8\" font-family=\"Helvetica,sans-Serif\" font-size=\"14.00\" fill=\"#000000\">class = 1</text>\n",
       "</g>\n",
       "<!-- 3&#45;&gt;5 -->\n",
       "<g id=\"edge5\" class=\"edge\">\n",
       "<title>3&#45;&gt;5</title>\n",
       "<path fill=\"none\" stroke=\"#000000\" d=\"M502.5,-698.8796C502.5,-690.6838 502.5,-681.9891 502.5,-673.5013\"/>\n",
       "<polygon fill=\"#000000\" stroke=\"#000000\" points=\"506.0001,-673.298 502.5,-663.2981 499.0001,-673.2981 506.0001,-673.298\"/>\n",
       "</g>\n",
       "<!-- 6 -->\n",
       "<g id=\"node7\" class=\"node\">\n",
       "<title>6</title>\n",
       "<path fill=\"#d7ebfa\" stroke=\"#000000\" d=\"M353.5,-544C353.5,-544 259.5,-544 259.5,-544 253.5,-544 247.5,-538 247.5,-532 247.5,-532 247.5,-473 247.5,-473 247.5,-467 253.5,-461 259.5,-461 259.5,-461 353.5,-461 353.5,-461 359.5,-461 365.5,-467 365.5,-473 365.5,-473 365.5,-532 365.5,-532 365.5,-538 359.5,-544 353.5,-544\"/>\n",
       "<text text-anchor=\"middle\" x=\"306.5\" y=\"-528.8\" font-family=\"Helvetica,sans-Serif\" font-size=\"14.00\" fill=\"#000000\">exang &lt;= 0.5</text>\n",
       "<text text-anchor=\"middle\" x=\"306.5\" y=\"-513.8\" font-family=\"Helvetica,sans-Serif\" font-size=\"14.00\" fill=\"#000000\">entropy = 0.991</text>\n",
       "<text text-anchor=\"middle\" x=\"306.5\" y=\"-498.8\" font-family=\"Helvetica,sans-Serif\" font-size=\"14.00\" fill=\"#000000\">samples = 9</text>\n",
       "<text text-anchor=\"middle\" x=\"306.5\" y=\"-483.8\" font-family=\"Helvetica,sans-Serif\" font-size=\"14.00\" fill=\"#000000\">value = [4, 5]</text>\n",
       "<text text-anchor=\"middle\" x=\"306.5\" y=\"-468.8\" font-family=\"Helvetica,sans-Serif\" font-size=\"14.00\" fill=\"#000000\">class = 1</text>\n",
       "</g>\n",
       "<!-- 5&#45;&gt;6 -->\n",
       "<g id=\"edge6\" class=\"edge\">\n",
       "<title>5&#45;&gt;6</title>\n",
       "<path fill=\"none\" stroke=\"#000000\" d=\"M443.4277,-585.6347C421.7351,-572.4642 397.0039,-557.4488 374.5834,-543.8363\"/>\n",
       "<polygon fill=\"#000000\" stroke=\"#000000\" points=\"376.1538,-540.6953 365.7895,-538.4972 372.5209,-546.6788 376.1538,-540.6953\"/>\n",
       "</g>\n",
       "<!-- 13 -->\n",
       "<g id=\"node14\" class=\"node\">\n",
       "<title>13</title>\n",
       "<path fill=\"#47a4e7\" stroke=\"#000000\" d=\"M549.5,-544C549.5,-544 455.5,-544 455.5,-544 449.5,-544 443.5,-538 443.5,-532 443.5,-532 443.5,-473 443.5,-473 443.5,-467 449.5,-461 455.5,-461 455.5,-461 549.5,-461 549.5,-461 555.5,-461 561.5,-467 561.5,-473 561.5,-473 561.5,-532 561.5,-532 561.5,-538 555.5,-544 549.5,-544\"/>\n",
       "<text text-anchor=\"middle\" x=\"502.5\" y=\"-528.8\" font-family=\"Helvetica,sans-Serif\" font-size=\"14.00\" fill=\"#000000\">chol &lt;= 327.5</text>\n",
       "<text text-anchor=\"middle\" x=\"502.5\" y=\"-513.8\" font-family=\"Helvetica,sans-Serif\" font-size=\"14.00\" fill=\"#000000\">entropy = 0.353</text>\n",
       "<text text-anchor=\"middle\" x=\"502.5\" y=\"-498.8\" font-family=\"Helvetica,sans-Serif\" font-size=\"14.00\" fill=\"#000000\">samples = 15</text>\n",
       "<text text-anchor=\"middle\" x=\"502.5\" y=\"-483.8\" font-family=\"Helvetica,sans-Serif\" font-size=\"14.00\" fill=\"#000000\">value = [1, 14]</text>\n",
       "<text text-anchor=\"middle\" x=\"502.5\" y=\"-468.8\" font-family=\"Helvetica,sans-Serif\" font-size=\"14.00\" fill=\"#000000\">class = 1</text>\n",
       "</g>\n",
       "<!-- 5&#45;&gt;13 -->\n",
       "<g id=\"edge13\" class=\"edge\">\n",
       "<title>5&#45;&gt;13</title>\n",
       "<path fill=\"none\" stroke=\"#000000\" d=\"M502.5,-579.8796C502.5,-571.6838 502.5,-562.9891 502.5,-554.5013\"/>\n",
       "<polygon fill=\"#000000\" stroke=\"#000000\" points=\"506.0001,-554.298 502.5,-544.2981 499.0001,-554.2981 506.0001,-554.298\"/>\n",
       "</g>\n",
       "<!-- 7 -->\n",
       "<g id=\"node8\" class=\"node\">\n",
       "<title>7</title>\n",
       "<path fill=\"#6ab6ec\" stroke=\"#000000\" d=\"M214,-425C214,-425 113,-425 113,-425 107,-425 101,-419 101,-413 101,-413 101,-354 101,-354 101,-348 107,-342 113,-342 113,-342 214,-342 214,-342 220,-342 226,-348 226,-354 226,-354 226,-413 226,-413 226,-419 220,-425 214,-425\"/>\n",
       "<text text-anchor=\"middle\" x=\"163.5\" y=\"-409.8\" font-family=\"Helvetica,sans-Serif\" font-size=\"14.00\" fill=\"#000000\">thalach &lt;= 163.5</text>\n",
       "<text text-anchor=\"middle\" x=\"163.5\" y=\"-394.8\" font-family=\"Helvetica,sans-Serif\" font-size=\"14.00\" fill=\"#000000\">entropy = 0.722</text>\n",
       "<text text-anchor=\"middle\" x=\"163.5\" y=\"-379.8\" font-family=\"Helvetica,sans-Serif\" font-size=\"14.00\" fill=\"#000000\">samples = 5</text>\n",
       "<text text-anchor=\"middle\" x=\"163.5\" y=\"-364.8\" font-family=\"Helvetica,sans-Serif\" font-size=\"14.00\" fill=\"#000000\">value = [1, 4]</text>\n",
       "<text text-anchor=\"middle\" x=\"163.5\" y=\"-349.8\" font-family=\"Helvetica,sans-Serif\" font-size=\"14.00\" fill=\"#000000\">class = 1</text>\n",
       "</g>\n",
       "<!-- 6&#45;&gt;7 -->\n",
       "<g id=\"edge7\" class=\"edge\">\n",
       "<title>6&#45;&gt;7</title>\n",
       "<path fill=\"none\" stroke=\"#000000\" d=\"M256.4855,-460.8796C245.2299,-451.513 233.1912,-441.4948 221.6354,-431.8784\"/>\n",
       "<polygon fill=\"#000000\" stroke=\"#000000\" points=\"223.6534,-429.0043 213.7279,-425.2981 219.1758,-434.385 223.6534,-429.0043\"/>\n",
       "</g>\n",
       "<!-- 10 -->\n",
       "<g id=\"node11\" class=\"node\">\n",
       "<title>10</title>\n",
       "<path fill=\"#eeab7b\" stroke=\"#000000\" d=\"M357,-425C357,-425 256,-425 256,-425 250,-425 244,-419 244,-413 244,-413 244,-354 244,-354 244,-348 250,-342 256,-342 256,-342 357,-342 357,-342 363,-342 369,-348 369,-354 369,-354 369,-413 369,-413 369,-419 363,-425 357,-425\"/>\n",
       "<text text-anchor=\"middle\" x=\"306.5\" y=\"-409.8\" font-family=\"Helvetica,sans-Serif\" font-size=\"14.00\" fill=\"#000000\">thalach &lt;= 147.5</text>\n",
       "<text text-anchor=\"middle\" x=\"306.5\" y=\"-394.8\" font-family=\"Helvetica,sans-Serif\" font-size=\"14.00\" fill=\"#000000\">entropy = 0.811</text>\n",
       "<text text-anchor=\"middle\" x=\"306.5\" y=\"-379.8\" font-family=\"Helvetica,sans-Serif\" font-size=\"14.00\" fill=\"#000000\">samples = 4</text>\n",
       "<text text-anchor=\"middle\" x=\"306.5\" y=\"-364.8\" font-family=\"Helvetica,sans-Serif\" font-size=\"14.00\" fill=\"#000000\">value = [3, 1]</text>\n",
       "<text text-anchor=\"middle\" x=\"306.5\" y=\"-349.8\" font-family=\"Helvetica,sans-Serif\" font-size=\"14.00\" fill=\"#000000\">class = 0</text>\n",
       "</g>\n",
       "<!-- 6&#45;&gt;10 -->\n",
       "<g id=\"edge10\" class=\"edge\">\n",
       "<title>6&#45;&gt;10</title>\n",
       "<path fill=\"none\" stroke=\"#000000\" d=\"M306.5,-460.8796C306.5,-452.6838 306.5,-443.9891 306.5,-435.5013\"/>\n",
       "<polygon fill=\"#000000\" stroke=\"#000000\" points=\"310.0001,-435.298 306.5,-425.2981 303.0001,-435.2981 310.0001,-435.298\"/>\n",
       "</g>\n",
       "<!-- 8 -->\n",
       "<g id=\"node9\" class=\"node\">\n",
       "<title>8</title>\n",
       "<path fill=\"#399de5\" stroke=\"#000000\" d=\"M89,-298.5C89,-298.5 12,-298.5 12,-298.5 6,-298.5 0,-292.5 0,-286.5 0,-286.5 0,-242.5 0,-242.5 0,-236.5 6,-230.5 12,-230.5 12,-230.5 89,-230.5 89,-230.5 95,-230.5 101,-236.5 101,-242.5 101,-242.5 101,-286.5 101,-286.5 101,-292.5 95,-298.5 89,-298.5\"/>\n",
       "<text text-anchor=\"middle\" x=\"50.5\" y=\"-283.3\" font-family=\"Helvetica,sans-Serif\" font-size=\"14.00\" fill=\"#000000\">entropy = 0.0</text>\n",
       "<text text-anchor=\"middle\" x=\"50.5\" y=\"-268.3\" font-family=\"Helvetica,sans-Serif\" font-size=\"14.00\" fill=\"#000000\">samples = 4</text>\n",
       "<text text-anchor=\"middle\" x=\"50.5\" y=\"-253.3\" font-family=\"Helvetica,sans-Serif\" font-size=\"14.00\" fill=\"#000000\">value = [0, 4]</text>\n",
       "<text text-anchor=\"middle\" x=\"50.5\" y=\"-238.3\" font-family=\"Helvetica,sans-Serif\" font-size=\"14.00\" fill=\"#000000\">class = 1</text>\n",
       "</g>\n",
       "<!-- 7&#45;&gt;8 -->\n",
       "<g id=\"edge8\" class=\"edge\">\n",
       "<title>7&#45;&gt;8</title>\n",
       "<path fill=\"none\" stroke=\"#000000\" d=\"M123.9781,-341.8796C113.0143,-330.3337 101.1103,-317.7976 90.1399,-306.2446\"/>\n",
       "<polygon fill=\"#000000\" stroke=\"#000000\" points=\"92.5087,-303.6564 83.0848,-298.8149 87.4327,-308.4766 92.5087,-303.6564\"/>\n",
       "</g>\n",
       "<!-- 9 -->\n",
       "<g id=\"node10\" class=\"node\">\n",
       "<title>9</title>\n",
       "<path fill=\"#e58139\" stroke=\"#000000\" d=\"M208,-298.5C208,-298.5 131,-298.5 131,-298.5 125,-298.5 119,-292.5 119,-286.5 119,-286.5 119,-242.5 119,-242.5 119,-236.5 125,-230.5 131,-230.5 131,-230.5 208,-230.5 208,-230.5 214,-230.5 220,-236.5 220,-242.5 220,-242.5 220,-286.5 220,-286.5 220,-292.5 214,-298.5 208,-298.5\"/>\n",
       "<text text-anchor=\"middle\" x=\"169.5\" y=\"-283.3\" font-family=\"Helvetica,sans-Serif\" font-size=\"14.00\" fill=\"#000000\">entropy = 0.0</text>\n",
       "<text text-anchor=\"middle\" x=\"169.5\" y=\"-268.3\" font-family=\"Helvetica,sans-Serif\" font-size=\"14.00\" fill=\"#000000\">samples = 1</text>\n",
       "<text text-anchor=\"middle\" x=\"169.5\" y=\"-253.3\" font-family=\"Helvetica,sans-Serif\" font-size=\"14.00\" fill=\"#000000\">value = [1, 0]</text>\n",
       "<text text-anchor=\"middle\" x=\"169.5\" y=\"-238.3\" font-family=\"Helvetica,sans-Serif\" font-size=\"14.00\" fill=\"#000000\">class = 0</text>\n",
       "</g>\n",
       "<!-- 7&#45;&gt;9 -->\n",
       "<g id=\"edge9\" class=\"edge\">\n",
       "<title>7&#45;&gt;9</title>\n",
       "<path fill=\"none\" stroke=\"#000000\" d=\"M165.5985,-341.8796C166.1363,-331.2134 166.7167,-319.7021 167.2613,-308.9015\"/>\n",
       "<polygon fill=\"#000000\" stroke=\"#000000\" points=\"170.7617,-308.9785 167.7698,-298.8149 163.7706,-308.626 170.7617,-308.9785\"/>\n",
       "</g>\n",
       "<!-- 11 -->\n",
       "<g id=\"node12\" class=\"node\">\n",
       "<title>11</title>\n",
       "<path fill=\"#e58139\" stroke=\"#000000\" d=\"M339,-298.5C339,-298.5 262,-298.5 262,-298.5 256,-298.5 250,-292.5 250,-286.5 250,-286.5 250,-242.5 250,-242.5 250,-236.5 256,-230.5 262,-230.5 262,-230.5 339,-230.5 339,-230.5 345,-230.5 351,-236.5 351,-242.5 351,-242.5 351,-286.5 351,-286.5 351,-292.5 345,-298.5 339,-298.5\"/>\n",
       "<text text-anchor=\"middle\" x=\"300.5\" y=\"-283.3\" font-family=\"Helvetica,sans-Serif\" font-size=\"14.00\" fill=\"#000000\">entropy = 0.0</text>\n",
       "<text text-anchor=\"middle\" x=\"300.5\" y=\"-268.3\" font-family=\"Helvetica,sans-Serif\" font-size=\"14.00\" fill=\"#000000\">samples = 3</text>\n",
       "<text text-anchor=\"middle\" x=\"300.5\" y=\"-253.3\" font-family=\"Helvetica,sans-Serif\" font-size=\"14.00\" fill=\"#000000\">value = [3, 0]</text>\n",
       "<text text-anchor=\"middle\" x=\"300.5\" y=\"-238.3\" font-family=\"Helvetica,sans-Serif\" font-size=\"14.00\" fill=\"#000000\">class = 0</text>\n",
       "</g>\n",
       "<!-- 10&#45;&gt;11 -->\n",
       "<g id=\"edge11\" class=\"edge\">\n",
       "<title>10&#45;&gt;11</title>\n",
       "<path fill=\"none\" stroke=\"#000000\" d=\"M304.4015,-341.8796C303.8637,-331.2134 303.2833,-319.7021 302.7387,-308.9015\"/>\n",
       "<polygon fill=\"#000000\" stroke=\"#000000\" points=\"306.2294,-308.626 302.2302,-298.8149 299.2383,-308.9785 306.2294,-308.626\"/>\n",
       "</g>\n",
       "<!-- 12 -->\n",
       "<g id=\"node13\" class=\"node\">\n",
       "<title>12</title>\n",
       "<path fill=\"#399de5\" stroke=\"#000000\" d=\"M458,-298.5C458,-298.5 381,-298.5 381,-298.5 375,-298.5 369,-292.5 369,-286.5 369,-286.5 369,-242.5 369,-242.5 369,-236.5 375,-230.5 381,-230.5 381,-230.5 458,-230.5 458,-230.5 464,-230.5 470,-236.5 470,-242.5 470,-242.5 470,-286.5 470,-286.5 470,-292.5 464,-298.5 458,-298.5\"/>\n",
       "<text text-anchor=\"middle\" x=\"419.5\" y=\"-283.3\" font-family=\"Helvetica,sans-Serif\" font-size=\"14.00\" fill=\"#000000\">entropy = 0.0</text>\n",
       "<text text-anchor=\"middle\" x=\"419.5\" y=\"-268.3\" font-family=\"Helvetica,sans-Serif\" font-size=\"14.00\" fill=\"#000000\">samples = 1</text>\n",
       "<text text-anchor=\"middle\" x=\"419.5\" y=\"-253.3\" font-family=\"Helvetica,sans-Serif\" font-size=\"14.00\" fill=\"#000000\">value = [0, 1]</text>\n",
       "<text text-anchor=\"middle\" x=\"419.5\" y=\"-238.3\" font-family=\"Helvetica,sans-Serif\" font-size=\"14.00\" fill=\"#000000\">class = 1</text>\n",
       "</g>\n",
       "<!-- 10&#45;&gt;12 -->\n",
       "<g id=\"edge12\" class=\"edge\">\n",
       "<title>10&#45;&gt;12</title>\n",
       "<path fill=\"none\" stroke=\"#000000\" d=\"M346.0219,-341.8796C356.9857,-330.3337 368.8897,-317.7976 379.8601,-306.2446\"/>\n",
       "<polygon fill=\"#000000\" stroke=\"#000000\" points=\"382.5673,-308.4766 386.9152,-298.8149 377.4913,-303.6564 382.5673,-308.4766\"/>\n",
       "</g>\n",
       "<!-- 14 -->\n",
       "<g id=\"node15\" class=\"node\">\n",
       "<title>14</title>\n",
       "<path fill=\"#399de5\" stroke=\"#000000\" d=\"M482,-417.5C482,-417.5 399,-417.5 399,-417.5 393,-417.5 387,-411.5 387,-405.5 387,-405.5 387,-361.5 387,-361.5 387,-355.5 393,-349.5 399,-349.5 399,-349.5 482,-349.5 482,-349.5 488,-349.5 494,-355.5 494,-361.5 494,-361.5 494,-405.5 494,-405.5 494,-411.5 488,-417.5 482,-417.5\"/>\n",
       "<text text-anchor=\"middle\" x=\"440.5\" y=\"-402.3\" font-family=\"Helvetica,sans-Serif\" font-size=\"14.00\" fill=\"#000000\">entropy = 0.0</text>\n",
       "<text text-anchor=\"middle\" x=\"440.5\" y=\"-387.3\" font-family=\"Helvetica,sans-Serif\" font-size=\"14.00\" fill=\"#000000\">samples = 14</text>\n",
       "<text text-anchor=\"middle\" x=\"440.5\" y=\"-372.3\" font-family=\"Helvetica,sans-Serif\" font-size=\"14.00\" fill=\"#000000\">value = [0, 14]</text>\n",
       "<text text-anchor=\"middle\" x=\"440.5\" y=\"-357.3\" font-family=\"Helvetica,sans-Serif\" font-size=\"14.00\" fill=\"#000000\">class = 1</text>\n",
       "</g>\n",
       "<!-- 13&#45;&gt;14 -->\n",
       "<g id=\"edge14\" class=\"edge\">\n",
       "<title>13&#45;&gt;14</title>\n",
       "<path fill=\"none\" stroke=\"#000000\" d=\"M480.8154,-460.8796C475.0864,-449.8835 468.8894,-437.9893 463.1126,-426.9015\"/>\n",
       "<polygon fill=\"#000000\" stroke=\"#000000\" points=\"466.103,-425.0662 458.3784,-417.8149 459.895,-428.3007 466.103,-425.0662\"/>\n",
       "</g>\n",
       "<!-- 15 -->\n",
       "<g id=\"node16\" class=\"node\">\n",
       "<title>15</title>\n",
       "<path fill=\"#e58139\" stroke=\"#000000\" d=\"M601,-417.5C601,-417.5 524,-417.5 524,-417.5 518,-417.5 512,-411.5 512,-405.5 512,-405.5 512,-361.5 512,-361.5 512,-355.5 518,-349.5 524,-349.5 524,-349.5 601,-349.5 601,-349.5 607,-349.5 613,-355.5 613,-361.5 613,-361.5 613,-405.5 613,-405.5 613,-411.5 607,-417.5 601,-417.5\"/>\n",
       "<text text-anchor=\"middle\" x=\"562.5\" y=\"-402.3\" font-family=\"Helvetica,sans-Serif\" font-size=\"14.00\" fill=\"#000000\">entropy = 0.0</text>\n",
       "<text text-anchor=\"middle\" x=\"562.5\" y=\"-387.3\" font-family=\"Helvetica,sans-Serif\" font-size=\"14.00\" fill=\"#000000\">samples = 1</text>\n",
       "<text text-anchor=\"middle\" x=\"562.5\" y=\"-372.3\" font-family=\"Helvetica,sans-Serif\" font-size=\"14.00\" fill=\"#000000\">value = [1, 0]</text>\n",
       "<text text-anchor=\"middle\" x=\"562.5\" y=\"-357.3\" font-family=\"Helvetica,sans-Serif\" font-size=\"14.00\" fill=\"#000000\">class = 0</text>\n",
       "</g>\n",
       "<!-- 13&#45;&gt;15 -->\n",
       "<g id=\"edge15\" class=\"edge\">\n",
       "<title>13&#45;&gt;15</title>\n",
       "<path fill=\"none\" stroke=\"#000000\" d=\"M523.4851,-460.8796C529.0293,-449.8835 535.0264,-437.9893 540.6169,-426.9015\"/>\n",
       "<polygon fill=\"#000000\" stroke=\"#000000\" points=\"543.8214,-428.3199 545.1984,-417.8149 537.5709,-425.1684 543.8214,-428.3199\"/>\n",
       "</g>\n",
       "<!-- 17 -->\n",
       "<g id=\"node18\" class=\"node\">\n",
       "<title>17</title>\n",
       "<path fill=\"#399de5\" stroke=\"#000000\" d=\"M707,-655.5C707,-655.5 630,-655.5 630,-655.5 624,-655.5 618,-649.5 618,-643.5 618,-643.5 618,-599.5 618,-599.5 618,-593.5 624,-587.5 630,-587.5 630,-587.5 707,-587.5 707,-587.5 713,-587.5 719,-593.5 719,-599.5 719,-599.5 719,-643.5 719,-643.5 719,-649.5 713,-655.5 707,-655.5\"/>\n",
       "<text text-anchor=\"middle\" x=\"668.5\" y=\"-640.3\" font-family=\"Helvetica,sans-Serif\" font-size=\"14.00\" fill=\"#000000\">entropy = 0.0</text>\n",
       "<text text-anchor=\"middle\" x=\"668.5\" y=\"-625.3\" font-family=\"Helvetica,sans-Serif\" font-size=\"14.00\" fill=\"#000000\">samples = 2</text>\n",
       "<text text-anchor=\"middle\" x=\"668.5\" y=\"-610.3\" font-family=\"Helvetica,sans-Serif\" font-size=\"14.00\" fill=\"#000000\">value = [0, 2]</text>\n",
       "<text text-anchor=\"middle\" x=\"668.5\" y=\"-595.3\" font-family=\"Helvetica,sans-Serif\" font-size=\"14.00\" fill=\"#000000\">class = 1</text>\n",
       "</g>\n",
       "<!-- 16&#45;&gt;17 -->\n",
       "<g id=\"edge17\" class=\"edge\">\n",
       "<title>16&#45;&gt;17</title>\n",
       "<path fill=\"none\" stroke=\"#000000\" d=\"M711.4164,-698.8796C705.2567,-687.7735 698.5889,-675.7513 692.3871,-664.5691\"/>\n",
       "<polygon fill=\"#000000\" stroke=\"#000000\" points=\"695.4428,-662.8624 687.5318,-655.8149 689.3213,-666.2576 695.4428,-662.8624\"/>\n",
       "</g>\n",
       "<!-- 18 -->\n",
       "<g id=\"node19\" class=\"node\">\n",
       "<title>18</title>\n",
       "<path fill=\"#e9965a\" stroke=\"#000000\" d=\"M850,-663C850,-663 749,-663 749,-663 743,-663 737,-657 737,-651 737,-651 737,-592 737,-592 737,-586 743,-580 749,-580 749,-580 850,-580 850,-580 856,-580 862,-586 862,-592 862,-592 862,-651 862,-651 862,-657 856,-663 850,-663\"/>\n",
       "<text text-anchor=\"middle\" x=\"799.5\" y=\"-647.8\" font-family=\"Helvetica,sans-Serif\" font-size=\"14.00\" fill=\"#000000\">thalach &lt;= 148.5</text>\n",
       "<text text-anchor=\"middle\" x=\"799.5\" y=\"-632.8\" font-family=\"Helvetica,sans-Serif\" font-size=\"14.00\" fill=\"#000000\">entropy = 0.592</text>\n",
       "<text text-anchor=\"middle\" x=\"799.5\" y=\"-617.8\" font-family=\"Helvetica,sans-Serif\" font-size=\"14.00\" fill=\"#000000\">samples = 14</text>\n",
       "<text text-anchor=\"middle\" x=\"799.5\" y=\"-602.8\" font-family=\"Helvetica,sans-Serif\" font-size=\"14.00\" fill=\"#000000\">value = [12, 2]</text>\n",
       "<text text-anchor=\"middle\" x=\"799.5\" y=\"-587.8\" font-family=\"Helvetica,sans-Serif\" font-size=\"14.00\" fill=\"#000000\">class = 0</text>\n",
       "</g>\n",
       "<!-- 16&#45;&gt;18 -->\n",
       "<g id=\"edge18\" class=\"edge\">\n",
       "<title>16&#45;&gt;18</title>\n",
       "<path fill=\"none\" stroke=\"#000000\" d=\"M757.2338,-698.8796C761.9565,-690.2335 766.9824,-681.0322 771.859,-672.1042\"/>\n",
       "<polygon fill=\"#000000\" stroke=\"#000000\" points=\"774.947,-673.752 776.6691,-663.2981 768.8037,-670.3964 774.947,-673.752\"/>\n",
       "</g>\n",
       "<!-- 19 -->\n",
       "<g id=\"node20\" class=\"node\">\n",
       "<title>19</title>\n",
       "<path fill=\"#f6d5bd\" stroke=\"#000000\" d=\"M755.5,-544C755.5,-544 661.5,-544 661.5,-544 655.5,-544 649.5,-538 649.5,-532 649.5,-532 649.5,-473 649.5,-473 649.5,-467 655.5,-461 661.5,-461 661.5,-461 755.5,-461 755.5,-461 761.5,-461 767.5,-467 767.5,-473 767.5,-473 767.5,-532 767.5,-532 767.5,-538 761.5,-544 755.5,-544\"/>\n",
       "<text text-anchor=\"middle\" x=\"708.5\" y=\"-528.8\" font-family=\"Helvetica,sans-Serif\" font-size=\"14.00\" fill=\"#000000\">restecg &lt;= 0.5</text>\n",
       "<text text-anchor=\"middle\" x=\"708.5\" y=\"-513.8\" font-family=\"Helvetica,sans-Serif\" font-size=\"14.00\" fill=\"#000000\">entropy = 0.971</text>\n",
       "<text text-anchor=\"middle\" x=\"708.5\" y=\"-498.8\" font-family=\"Helvetica,sans-Serif\" font-size=\"14.00\" fill=\"#000000\">samples = 5</text>\n",
       "<text text-anchor=\"middle\" x=\"708.5\" y=\"-483.8\" font-family=\"Helvetica,sans-Serif\" font-size=\"14.00\" fill=\"#000000\">value = [3, 2]</text>\n",
       "<text text-anchor=\"middle\" x=\"708.5\" y=\"-468.8\" font-family=\"Helvetica,sans-Serif\" font-size=\"14.00\" fill=\"#000000\">class = 0</text>\n",
       "</g>\n",
       "<!-- 18&#45;&gt;19 -->\n",
       "<g id=\"edge19\" class=\"edge\">\n",
       "<title>18&#45;&gt;19</title>\n",
       "<path fill=\"none\" stroke=\"#000000\" d=\"M767.6726,-579.8796C760.8543,-570.9633 753.5844,-561.4565 746.5579,-552.268\"/>\n",
       "<polygon fill=\"#000000\" stroke=\"#000000\" points=\"749.318,-550.1156 740.4632,-544.2981 743.7575,-554.3678 749.318,-550.1156\"/>\n",
       "</g>\n",
       "<!-- 22 -->\n",
       "<g id=\"node23\" class=\"node\">\n",
       "<title>22</title>\n",
       "<path fill=\"#e58139\" stroke=\"#000000\" d=\"M875,-536.5C875,-536.5 798,-536.5 798,-536.5 792,-536.5 786,-530.5 786,-524.5 786,-524.5 786,-480.5 786,-480.5 786,-474.5 792,-468.5 798,-468.5 798,-468.5 875,-468.5 875,-468.5 881,-468.5 887,-474.5 887,-480.5 887,-480.5 887,-524.5 887,-524.5 887,-530.5 881,-536.5 875,-536.5\"/>\n",
       "<text text-anchor=\"middle\" x=\"836.5\" y=\"-521.3\" font-family=\"Helvetica,sans-Serif\" font-size=\"14.00\" fill=\"#000000\">entropy = 0.0</text>\n",
       "<text text-anchor=\"middle\" x=\"836.5\" y=\"-506.3\" font-family=\"Helvetica,sans-Serif\" font-size=\"14.00\" fill=\"#000000\">samples = 9</text>\n",
       "<text text-anchor=\"middle\" x=\"836.5\" y=\"-491.3\" font-family=\"Helvetica,sans-Serif\" font-size=\"14.00\" fill=\"#000000\">value = [9, 0]</text>\n",
       "<text text-anchor=\"middle\" x=\"836.5\" y=\"-476.3\" font-family=\"Helvetica,sans-Serif\" font-size=\"14.00\" fill=\"#000000\">class = 0</text>\n",
       "</g>\n",
       "<!-- 18&#45;&gt;22 -->\n",
       "<g id=\"edge22\" class=\"edge\">\n",
       "<title>18&#45;&gt;22</title>\n",
       "<path fill=\"none\" stroke=\"#000000\" d=\"M812.4408,-579.8796C815.7914,-569.1034 819.4101,-557.4647 822.7983,-546.5677\"/>\n",
       "<polygon fill=\"#000000\" stroke=\"#000000\" points=\"826.2037,-547.4032 825.8307,-536.8149 819.5194,-545.3248 826.2037,-547.4032\"/>\n",
       "</g>\n",
       "<!-- 20 -->\n",
       "<g id=\"node21\" class=\"node\">\n",
       "<title>20</title>\n",
       "<path fill=\"#e58139\" stroke=\"#000000\" d=\"M720,-417.5C720,-417.5 643,-417.5 643,-417.5 637,-417.5 631,-411.5 631,-405.5 631,-405.5 631,-361.5 631,-361.5 631,-355.5 637,-349.5 643,-349.5 643,-349.5 720,-349.5 720,-349.5 726,-349.5 732,-355.5 732,-361.5 732,-361.5 732,-405.5 732,-405.5 732,-411.5 726,-417.5 720,-417.5\"/>\n",
       "<text text-anchor=\"middle\" x=\"681.5\" y=\"-402.3\" font-family=\"Helvetica,sans-Serif\" font-size=\"14.00\" fill=\"#000000\">entropy = 0.0</text>\n",
       "<text text-anchor=\"middle\" x=\"681.5\" y=\"-387.3\" font-family=\"Helvetica,sans-Serif\" font-size=\"14.00\" fill=\"#000000\">samples = 3</text>\n",
       "<text text-anchor=\"middle\" x=\"681.5\" y=\"-372.3\" font-family=\"Helvetica,sans-Serif\" font-size=\"14.00\" fill=\"#000000\">value = [3, 0]</text>\n",
       "<text text-anchor=\"middle\" x=\"681.5\" y=\"-357.3\" font-family=\"Helvetica,sans-Serif\" font-size=\"14.00\" fill=\"#000000\">class = 0</text>\n",
       "</g>\n",
       "<!-- 19&#45;&gt;20 -->\n",
       "<g id=\"edge20\" class=\"edge\">\n",
       "<title>19&#45;&gt;20</title>\n",
       "<path fill=\"none\" stroke=\"#000000\" d=\"M699.0567,-460.8796C696.6117,-450.1034 693.971,-438.4647 691.4986,-427.5677\"/>\n",
       "<polygon fill=\"#000000\" stroke=\"#000000\" points=\"694.9117,-426.7926 689.2857,-417.8149 688.0852,-428.3415 694.9117,-426.7926\"/>\n",
       "</g>\n",
       "<!-- 21 -->\n",
       "<g id=\"node22\" class=\"node\">\n",
       "<title>21</title>\n",
       "<path fill=\"#399de5\" stroke=\"#000000\" d=\"M839,-417.5C839,-417.5 762,-417.5 762,-417.5 756,-417.5 750,-411.5 750,-405.5 750,-405.5 750,-361.5 750,-361.5 750,-355.5 756,-349.5 762,-349.5 762,-349.5 839,-349.5 839,-349.5 845,-349.5 851,-355.5 851,-361.5 851,-361.5 851,-405.5 851,-405.5 851,-411.5 845,-417.5 839,-417.5\"/>\n",
       "<text text-anchor=\"middle\" x=\"800.5\" y=\"-402.3\" font-family=\"Helvetica,sans-Serif\" font-size=\"14.00\" fill=\"#000000\">entropy = 0.0</text>\n",
       "<text text-anchor=\"middle\" x=\"800.5\" y=\"-387.3\" font-family=\"Helvetica,sans-Serif\" font-size=\"14.00\" fill=\"#000000\">samples = 2</text>\n",
       "<text text-anchor=\"middle\" x=\"800.5\" y=\"-372.3\" font-family=\"Helvetica,sans-Serif\" font-size=\"14.00\" fill=\"#000000\">value = [0, 2]</text>\n",
       "<text text-anchor=\"middle\" x=\"800.5\" y=\"-357.3\" font-family=\"Helvetica,sans-Serif\" font-size=\"14.00\" fill=\"#000000\">class = 1</text>\n",
       "</g>\n",
       "<!-- 19&#45;&gt;21 -->\n",
       "<g id=\"edge21\" class=\"edge\">\n",
       "<title>19&#45;&gt;21</title>\n",
       "<path fill=\"none\" stroke=\"#000000\" d=\"M740.6771,-460.8796C749.4333,-449.5536 758.9262,-437.2748 767.7156,-425.9058\"/>\n",
       "<polygon fill=\"#000000\" stroke=\"#000000\" points=\"770.6234,-427.8671 773.9708,-417.8149 765.0854,-423.5856 770.6234,-427.8671\"/>\n",
       "</g>\n",
       "<!-- 24 -->\n",
       "<g id=\"node25\" class=\"node\">\n",
       "<title>24</title>\n",
       "<path fill=\"#f0b890\" stroke=\"#000000\" d=\"M1129.5,-782C1129.5,-782 1035.5,-782 1035.5,-782 1029.5,-782 1023.5,-776 1023.5,-770 1023.5,-770 1023.5,-711 1023.5,-711 1023.5,-705 1029.5,-699 1035.5,-699 1035.5,-699 1129.5,-699 1129.5,-699 1135.5,-699 1141.5,-705 1141.5,-711 1141.5,-711 1141.5,-770 1141.5,-770 1141.5,-776 1135.5,-782 1129.5,-782\"/>\n",
       "<text text-anchor=\"middle\" x=\"1082.5\" y=\"-766.8\" font-family=\"Helvetica,sans-Serif\" font-size=\"14.00\" fill=\"#000000\">slope &lt;= 1.5</text>\n",
       "<text text-anchor=\"middle\" x=\"1082.5\" y=\"-751.8\" font-family=\"Helvetica,sans-Serif\" font-size=\"14.00\" fill=\"#000000\">entropy = 0.887</text>\n",
       "<text text-anchor=\"middle\" x=\"1082.5\" y=\"-736.8\" font-family=\"Helvetica,sans-Serif\" font-size=\"14.00\" fill=\"#000000\">samples = 23</text>\n",
       "<text text-anchor=\"middle\" x=\"1082.5\" y=\"-721.8\" font-family=\"Helvetica,sans-Serif\" font-size=\"14.00\" fill=\"#000000\">value = [16, 7]</text>\n",
       "<text text-anchor=\"middle\" x=\"1082.5\" y=\"-706.8\" font-family=\"Helvetica,sans-Serif\" font-size=\"14.00\" fill=\"#000000\">class = 0</text>\n",
       "</g>\n",
       "<!-- 23&#45;&gt;24 -->\n",
       "<g id=\"edge24\" class=\"edge\">\n",
       "<title>23&#45;&gt;24</title>\n",
       "<path fill=\"none\" stroke=\"#000000\" d=\"M1124.7662,-817.8796C1120.0435,-809.2335 1115.0176,-800.0322 1110.141,-791.1042\"/>\n",
       "<polygon fill=\"#000000\" stroke=\"#000000\" points=\"1113.1963,-789.3964 1105.3309,-782.2981 1107.053,-792.752 1113.1963,-789.3964\"/>\n",
       "</g>\n",
       "<!-- 39 -->\n",
       "<g id=\"node40\" class=\"node\">\n",
       "<title>39</title>\n",
       "<path fill=\"#e58139\" stroke=\"#000000\" d=\"M1255,-774.5C1255,-774.5 1172,-774.5 1172,-774.5 1166,-774.5 1160,-768.5 1160,-762.5 1160,-762.5 1160,-718.5 1160,-718.5 1160,-712.5 1166,-706.5 1172,-706.5 1172,-706.5 1255,-706.5 1255,-706.5 1261,-706.5 1267,-712.5 1267,-718.5 1267,-718.5 1267,-762.5 1267,-762.5 1267,-768.5 1261,-774.5 1255,-774.5\"/>\n",
       "<text text-anchor=\"middle\" x=\"1213.5\" y=\"-759.3\" font-family=\"Helvetica,sans-Serif\" font-size=\"14.00\" fill=\"#000000\">entropy = 0.0</text>\n",
       "<text text-anchor=\"middle\" x=\"1213.5\" y=\"-744.3\" font-family=\"Helvetica,sans-Serif\" font-size=\"14.00\" fill=\"#000000\">samples = 50</text>\n",
       "<text text-anchor=\"middle\" x=\"1213.5\" y=\"-729.3\" font-family=\"Helvetica,sans-Serif\" font-size=\"14.00\" fill=\"#000000\">value = [50, 0]</text>\n",
       "<text text-anchor=\"middle\" x=\"1213.5\" y=\"-714.3\" font-family=\"Helvetica,sans-Serif\" font-size=\"14.00\" fill=\"#000000\">class = 0</text>\n",
       "</g>\n",
       "<!-- 23&#45;&gt;39 -->\n",
       "<g id=\"edge39\" class=\"edge\">\n",
       "<title>23&#45;&gt;39</title>\n",
       "<path fill=\"none\" stroke=\"#000000\" d=\"M1170.5836,-817.8796C1176.7433,-806.7735 1183.4111,-794.7513 1189.6129,-783.5691\"/>\n",
       "<polygon fill=\"#000000\" stroke=\"#000000\" points=\"1192.6787,-785.2576 1194.4682,-774.8149 1186.5572,-781.8624 1192.6787,-785.2576\"/>\n",
       "</g>\n",
       "<!-- 25 -->\n",
       "<g id=\"node26\" class=\"node\">\n",
       "<title>25</title>\n",
       "<path fill=\"#eca06a\" stroke=\"#000000\" d=\"M1073.5,-663C1073.5,-663 979.5,-663 979.5,-663 973.5,-663 967.5,-657 967.5,-651 967.5,-651 967.5,-592 967.5,-592 967.5,-586 973.5,-580 979.5,-580 979.5,-580 1073.5,-580 1073.5,-580 1079.5,-580 1085.5,-586 1085.5,-592 1085.5,-592 1085.5,-651 1085.5,-651 1085.5,-657 1079.5,-663 1073.5,-663\"/>\n",
       "<text text-anchor=\"middle\" x=\"1026.5\" y=\"-647.8\" font-family=\"Helvetica,sans-Serif\" font-size=\"14.00\" fill=\"#000000\">chol &lt;= 360.5</text>\n",
       "<text text-anchor=\"middle\" x=\"1026.5\" y=\"-632.8\" font-family=\"Helvetica,sans-Serif\" font-size=\"14.00\" fill=\"#000000\">entropy = 0.722</text>\n",
       "<text text-anchor=\"middle\" x=\"1026.5\" y=\"-617.8\" font-family=\"Helvetica,sans-Serif\" font-size=\"14.00\" fill=\"#000000\">samples = 20</text>\n",
       "<text text-anchor=\"middle\" x=\"1026.5\" y=\"-602.8\" font-family=\"Helvetica,sans-Serif\" font-size=\"14.00\" fill=\"#000000\">value = [16, 4]</text>\n",
       "<text text-anchor=\"middle\" x=\"1026.5\" y=\"-587.8\" font-family=\"Helvetica,sans-Serif\" font-size=\"14.00\" fill=\"#000000\">class = 0</text>\n",
       "</g>\n",
       "<!-- 24&#45;&gt;25 -->\n",
       "<g id=\"edge25\" class=\"edge\">\n",
       "<title>24&#45;&gt;25</title>\n",
       "<path fill=\"none\" stroke=\"#000000\" d=\"M1062.9139,-698.8796C1058.8876,-690.3236 1054.6053,-681.2238 1050.4451,-672.3833\"/>\n",
       "<polygon fill=\"#000000\" stroke=\"#000000\" points=\"1053.5946,-670.856 1046.1697,-663.2981 1047.2608,-673.8366 1053.5946,-670.856\"/>\n",
       "</g>\n",
       "<!-- 38 -->\n",
       "<g id=\"node39\" class=\"node\">\n",
       "<title>38</title>\n",
       "<path fill=\"#399de5\" stroke=\"#000000\" d=\"M1193,-655.5C1193,-655.5 1116,-655.5 1116,-655.5 1110,-655.5 1104,-649.5 1104,-643.5 1104,-643.5 1104,-599.5 1104,-599.5 1104,-593.5 1110,-587.5 1116,-587.5 1116,-587.5 1193,-587.5 1193,-587.5 1199,-587.5 1205,-593.5 1205,-599.5 1205,-599.5 1205,-643.5 1205,-643.5 1205,-649.5 1199,-655.5 1193,-655.5\"/>\n",
       "<text text-anchor=\"middle\" x=\"1154.5\" y=\"-640.3\" font-family=\"Helvetica,sans-Serif\" font-size=\"14.00\" fill=\"#000000\">entropy = 0.0</text>\n",
       "<text text-anchor=\"middle\" x=\"1154.5\" y=\"-625.3\" font-family=\"Helvetica,sans-Serif\" font-size=\"14.00\" fill=\"#000000\">samples = 3</text>\n",
       "<text text-anchor=\"middle\" x=\"1154.5\" y=\"-610.3\" font-family=\"Helvetica,sans-Serif\" font-size=\"14.00\" fill=\"#000000\">value = [0, 3]</text>\n",
       "<text text-anchor=\"middle\" x=\"1154.5\" y=\"-595.3\" font-family=\"Helvetica,sans-Serif\" font-size=\"14.00\" fill=\"#000000\">class = 1</text>\n",
       "</g>\n",
       "<!-- 24&#45;&gt;38 -->\n",
       "<g id=\"edge38\" class=\"edge\">\n",
       "<title>24&#45;&gt;38</title>\n",
       "<path fill=\"none\" stroke=\"#000000\" d=\"M1107.6821,-698.8796C1114.4017,-687.7735 1121.6757,-675.7513 1128.4414,-664.5691\"/>\n",
       "<polygon fill=\"#000000\" stroke=\"#000000\" points=\"1131.5559,-666.1826 1133.738,-655.8149 1125.5668,-662.5589 1131.5559,-666.1826\"/>\n",
       "</g>\n",
       "<!-- 26 -->\n",
       "<g id=\"node27\" class=\"node\">\n",
       "<title>26</title>\n",
       "<path fill=\"#ea995e\" stroke=\"#000000\" d=\"M1061,-544C1061,-544 956,-544 956,-544 950,-544 944,-538 944,-532 944,-532 944,-473 944,-473 944,-467 950,-461 956,-461 956,-461 1061,-461 1061,-461 1067,-461 1073,-467 1073,-473 1073,-473 1073,-532 1073,-532 1073,-538 1067,-544 1061,-544\"/>\n",
       "<text text-anchor=\"middle\" x=\"1008.5\" y=\"-528.8\" font-family=\"Helvetica,sans-Serif\" font-size=\"14.00\" fill=\"#000000\">trestbps &lt;= 131.0</text>\n",
       "<text text-anchor=\"middle\" x=\"1008.5\" y=\"-513.8\" font-family=\"Helvetica,sans-Serif\" font-size=\"14.00\" fill=\"#000000\">entropy = 0.629</text>\n",
       "<text text-anchor=\"middle\" x=\"1008.5\" y=\"-498.8\" font-family=\"Helvetica,sans-Serif\" font-size=\"14.00\" fill=\"#000000\">samples = 19</text>\n",
       "<text text-anchor=\"middle\" x=\"1008.5\" y=\"-483.8\" font-family=\"Helvetica,sans-Serif\" font-size=\"14.00\" fill=\"#000000\">value = [16, 3]</text>\n",
       "<text text-anchor=\"middle\" x=\"1008.5\" y=\"-468.8\" font-family=\"Helvetica,sans-Serif\" font-size=\"14.00\" fill=\"#000000\">class = 0</text>\n",
       "</g>\n",
       "<!-- 25&#45;&gt;26 -->\n",
       "<g id=\"edge26\" class=\"edge\">\n",
       "<title>25&#45;&gt;26</title>\n",
       "<path fill=\"none\" stroke=\"#000000\" d=\"M1020.2045,-579.8796C1018.9512,-571.5938 1017.6207,-562.798 1016.3234,-554.2216\"/>\n",
       "<polygon fill=\"#000000\" stroke=\"#000000\" points=\"1019.7787,-553.6621 1014.8224,-544.2981 1012.8574,-554.7091 1019.7787,-553.6621\"/>\n",
       "</g>\n",
       "<!-- 37 -->\n",
       "<g id=\"node38\" class=\"node\">\n",
       "<title>37</title>\n",
       "<path fill=\"#399de5\" stroke=\"#000000\" d=\"M1180,-536.5C1180,-536.5 1103,-536.5 1103,-536.5 1097,-536.5 1091,-530.5 1091,-524.5 1091,-524.5 1091,-480.5 1091,-480.5 1091,-474.5 1097,-468.5 1103,-468.5 1103,-468.5 1180,-468.5 1180,-468.5 1186,-468.5 1192,-474.5 1192,-480.5 1192,-480.5 1192,-524.5 1192,-524.5 1192,-530.5 1186,-536.5 1180,-536.5\"/>\n",
       "<text text-anchor=\"middle\" x=\"1141.5\" y=\"-521.3\" font-family=\"Helvetica,sans-Serif\" font-size=\"14.00\" fill=\"#000000\">entropy = 0.0</text>\n",
       "<text text-anchor=\"middle\" x=\"1141.5\" y=\"-506.3\" font-family=\"Helvetica,sans-Serif\" font-size=\"14.00\" fill=\"#000000\">samples = 1</text>\n",
       "<text text-anchor=\"middle\" x=\"1141.5\" y=\"-491.3\" font-family=\"Helvetica,sans-Serif\" font-size=\"14.00\" fill=\"#000000\">value = [0, 1]</text>\n",
       "<text text-anchor=\"middle\" x=\"1141.5\" y=\"-476.3\" font-family=\"Helvetica,sans-Serif\" font-size=\"14.00\" fill=\"#000000\">class = 1</text>\n",
       "</g>\n",
       "<!-- 25&#45;&gt;37 -->\n",
       "<g id=\"edge37\" class=\"edge\">\n",
       "<title>25&#45;&gt;37</title>\n",
       "<path fill=\"none\" stroke=\"#000000\" d=\"M1066.7214,-579.8796C1077.8792,-568.3337 1089.9939,-555.7976 1101.1586,-544.2446\"/>\n",
       "<polygon fill=\"#000000\" stroke=\"#000000\" points=\"1103.9061,-546.4381 1108.3385,-536.8149 1098.8725,-541.5736 1103.9061,-546.4381\"/>\n",
       "</g>\n",
       "<!-- 27 -->\n",
       "<g id=\"node28\" class=\"node\">\n",
       "<title>27</title>\n",
       "<path fill=\"#efb083\" stroke=\"#000000\" d=\"M975.5,-425C975.5,-425 881.5,-425 881.5,-425 875.5,-425 869.5,-419 869.5,-413 869.5,-413 869.5,-354 869.5,-354 869.5,-348 875.5,-342 881.5,-342 881.5,-342 975.5,-342 975.5,-342 981.5,-342 987.5,-348 987.5,-354 987.5,-354 987.5,-413 987.5,-413 987.5,-419 981.5,-425 975.5,-425\"/>\n",
       "<text text-anchor=\"middle\" x=\"928.5\" y=\"-409.8\" font-family=\"Helvetica,sans-Serif\" font-size=\"14.00\" fill=\"#000000\">chol &lt;= 227.0</text>\n",
       "<text text-anchor=\"middle\" x=\"928.5\" y=\"-394.8\" font-family=\"Helvetica,sans-Serif\" font-size=\"14.00\" fill=\"#000000\">entropy = 0.845</text>\n",
       "<text text-anchor=\"middle\" x=\"928.5\" y=\"-379.8\" font-family=\"Helvetica,sans-Serif\" font-size=\"14.00\" fill=\"#000000\">samples = 11</text>\n",
       "<text text-anchor=\"middle\" x=\"928.5\" y=\"-364.8\" font-family=\"Helvetica,sans-Serif\" font-size=\"14.00\" fill=\"#000000\">value = [8, 3]</text>\n",
       "<text text-anchor=\"middle\" x=\"928.5\" y=\"-349.8\" font-family=\"Helvetica,sans-Serif\" font-size=\"14.00\" fill=\"#000000\">class = 0</text>\n",
       "</g>\n",
       "<!-- 26&#45;&gt;27 -->\n",
       "<g id=\"edge27\" class=\"edge\">\n",
       "<title>26&#45;&gt;27</title>\n",
       "<path fill=\"none\" stroke=\"#000000\" d=\"M980.5199,-460.8796C974.6469,-452.1434 968.3927,-442.8404 962.3321,-433.8253\"/>\n",
       "<polygon fill=\"#000000\" stroke=\"#000000\" points=\"965.0834,-431.6444 956.5995,-425.2981 959.2741,-435.5498 965.0834,-431.6444\"/>\n",
       "</g>\n",
       "<!-- 36 -->\n",
       "<g id=\"node37\" class=\"node\">\n",
       "<title>36</title>\n",
       "<path fill=\"#e58139\" stroke=\"#000000\" d=\"M1095,-417.5C1095,-417.5 1018,-417.5 1018,-417.5 1012,-417.5 1006,-411.5 1006,-405.5 1006,-405.5 1006,-361.5 1006,-361.5 1006,-355.5 1012,-349.5 1018,-349.5 1018,-349.5 1095,-349.5 1095,-349.5 1101,-349.5 1107,-355.5 1107,-361.5 1107,-361.5 1107,-405.5 1107,-405.5 1107,-411.5 1101,-417.5 1095,-417.5\"/>\n",
       "<text text-anchor=\"middle\" x=\"1056.5\" y=\"-402.3\" font-family=\"Helvetica,sans-Serif\" font-size=\"14.00\" fill=\"#000000\">entropy = 0.0</text>\n",
       "<text text-anchor=\"middle\" x=\"1056.5\" y=\"-387.3\" font-family=\"Helvetica,sans-Serif\" font-size=\"14.00\" fill=\"#000000\">samples = 8</text>\n",
       "<text text-anchor=\"middle\" x=\"1056.5\" y=\"-372.3\" font-family=\"Helvetica,sans-Serif\" font-size=\"14.00\" fill=\"#000000\">value = [8, 0]</text>\n",
       "<text text-anchor=\"middle\" x=\"1056.5\" y=\"-357.3\" font-family=\"Helvetica,sans-Serif\" font-size=\"14.00\" fill=\"#000000\">class = 0</text>\n",
       "</g>\n",
       "<!-- 26&#45;&gt;36 -->\n",
       "<g id=\"edge36\" class=\"edge\">\n",
       "<title>26&#45;&gt;36</title>\n",
       "<path fill=\"none\" stroke=\"#000000\" d=\"M1025.2881,-460.8796C1029.6791,-449.9935 1034.4252,-438.227 1038.8592,-427.2344\"/>\n",
       "<polygon fill=\"#000000\" stroke=\"#000000\" points=\"1042.1638,-428.3982 1042.6587,-417.8149 1035.672,-425.7796 1042.1638,-428.3982\"/>\n",
       "</g>\n",
       "<!-- 28 -->\n",
       "<g id=\"node29\" class=\"node\">\n",
       "<title>28</title>\n",
       "<path fill=\"#9ccef2\" stroke=\"#000000\" d=\"M910,-306C910,-306 805,-306 805,-306 799,-306 793,-300 793,-294 793,-294 793,-235 793,-235 793,-229 799,-223 805,-223 805,-223 910,-223 910,-223 916,-223 922,-229 922,-235 922,-235 922,-294 922,-294 922,-300 916,-306 910,-306\"/>\n",
       "<text text-anchor=\"middle\" x=\"857.5\" y=\"-290.8\" font-family=\"Helvetica,sans-Serif\" font-size=\"14.00\" fill=\"#000000\">trestbps &lt;= 115.0</text>\n",
       "<text text-anchor=\"middle\" x=\"857.5\" y=\"-275.8\" font-family=\"Helvetica,sans-Serif\" font-size=\"14.00\" fill=\"#000000\">entropy = 0.918</text>\n",
       "<text text-anchor=\"middle\" x=\"857.5\" y=\"-260.8\" font-family=\"Helvetica,sans-Serif\" font-size=\"14.00\" fill=\"#000000\">samples = 3</text>\n",
       "<text text-anchor=\"middle\" x=\"857.5\" y=\"-245.8\" font-family=\"Helvetica,sans-Serif\" font-size=\"14.00\" fill=\"#000000\">value = [1, 2]</text>\n",
       "<text text-anchor=\"middle\" x=\"857.5\" y=\"-230.8\" font-family=\"Helvetica,sans-Serif\" font-size=\"14.00\" fill=\"#000000\">class = 1</text>\n",
       "</g>\n",
       "<!-- 27&#45;&gt;28 -->\n",
       "<g id=\"edge28\" class=\"edge\">\n",
       "<title>27&#45;&gt;28</title>\n",
       "<path fill=\"none\" stroke=\"#000000\" d=\"M903.6676,-341.8796C898.5091,-333.2335 893.0192,-324.0322 887.6924,-315.1042\"/>\n",
       "<polygon fill=\"#000000\" stroke=\"#000000\" points=\"890.5678,-313.0924 882.4383,-306.2981 884.5564,-316.679 890.5678,-313.0924\"/>\n",
       "</g>\n",
       "<!-- 31 -->\n",
       "<g id=\"node32\" class=\"node\">\n",
       "<title>31</title>\n",
       "<path fill=\"#e99355\" stroke=\"#000000\" d=\"M1046.5,-306C1046.5,-306 952.5,-306 952.5,-306 946.5,-306 940.5,-300 940.5,-294 940.5,-294 940.5,-235 940.5,-235 940.5,-229 946.5,-223 952.5,-223 952.5,-223 1046.5,-223 1046.5,-223 1052.5,-223 1058.5,-229 1058.5,-235 1058.5,-235 1058.5,-294 1058.5,-294 1058.5,-300 1052.5,-306 1046.5,-306\"/>\n",
       "<text text-anchor=\"middle\" x=\"999.5\" y=\"-290.8\" font-family=\"Helvetica,sans-Serif\" font-size=\"14.00\" fill=\"#000000\">sex &lt;= 0.5</text>\n",
       "<text text-anchor=\"middle\" x=\"999.5\" y=\"-275.8\" font-family=\"Helvetica,sans-Serif\" font-size=\"14.00\" fill=\"#000000\">entropy = 0.544</text>\n",
       "<text text-anchor=\"middle\" x=\"999.5\" y=\"-260.8\" font-family=\"Helvetica,sans-Serif\" font-size=\"14.00\" fill=\"#000000\">samples = 8</text>\n",
       "<text text-anchor=\"middle\" x=\"999.5\" y=\"-245.8\" font-family=\"Helvetica,sans-Serif\" font-size=\"14.00\" fill=\"#000000\">value = [7, 1]</text>\n",
       "<text text-anchor=\"middle\" x=\"999.5\" y=\"-230.8\" font-family=\"Helvetica,sans-Serif\" font-size=\"14.00\" fill=\"#000000\">class = 0</text>\n",
       "</g>\n",
       "<!-- 27&#45;&gt;31 -->\n",
       "<g id=\"edge31\" class=\"edge\">\n",
       "<title>27&#45;&gt;31</title>\n",
       "<path fill=\"none\" stroke=\"#000000\" d=\"M953.3324,-341.8796C958.4909,-333.2335 963.9808,-324.0322 969.3076,-315.1042\"/>\n",
       "<polygon fill=\"#000000\" stroke=\"#000000\" points=\"972.4436,-316.679 974.5617,-306.2981 966.4322,-313.0924 972.4436,-316.679\"/>\n",
       "</g>\n",
       "<!-- 29 -->\n",
       "<g id=\"node30\" class=\"node\">\n",
       "<title>29</title>\n",
       "<path fill=\"#399de5\" stroke=\"#000000\" d=\"M780,-179.5C780,-179.5 703,-179.5 703,-179.5 697,-179.5 691,-173.5 691,-167.5 691,-167.5 691,-123.5 691,-123.5 691,-117.5 697,-111.5 703,-111.5 703,-111.5 780,-111.5 780,-111.5 786,-111.5 792,-117.5 792,-123.5 792,-123.5 792,-167.5 792,-167.5 792,-173.5 786,-179.5 780,-179.5\"/>\n",
       "<text text-anchor=\"middle\" x=\"741.5\" y=\"-164.3\" font-family=\"Helvetica,sans-Serif\" font-size=\"14.00\" fill=\"#000000\">entropy = 0.0</text>\n",
       "<text text-anchor=\"middle\" x=\"741.5\" y=\"-149.3\" font-family=\"Helvetica,sans-Serif\" font-size=\"14.00\" fill=\"#000000\">samples = 2</text>\n",
       "<text text-anchor=\"middle\" x=\"741.5\" y=\"-134.3\" font-family=\"Helvetica,sans-Serif\" font-size=\"14.00\" fill=\"#000000\">value = [0, 2]</text>\n",
       "<text text-anchor=\"middle\" x=\"741.5\" y=\"-119.3\" font-family=\"Helvetica,sans-Serif\" font-size=\"14.00\" fill=\"#000000\">class = 1</text>\n",
       "</g>\n",
       "<!-- 28&#45;&gt;29 -->\n",
       "<g id=\"edge29\" class=\"edge\">\n",
       "<title>28&#45;&gt;29</title>\n",
       "<path fill=\"none\" stroke=\"#000000\" d=\"M816.9288,-222.8796C805.674,-211.3337 793.4539,-198.7976 782.1922,-187.2446\"/>\n",
       "<polygon fill=\"#000000\" stroke=\"#000000\" points=\"784.4364,-184.5326 774.9499,-179.8149 779.4238,-189.4188 784.4364,-184.5326\"/>\n",
       "</g>\n",
       "<!-- 30 -->\n",
       "<g id=\"node31\" class=\"node\">\n",
       "<title>30</title>\n",
       "<path fill=\"#e58139\" stroke=\"#000000\" d=\"M899,-179.5C899,-179.5 822,-179.5 822,-179.5 816,-179.5 810,-173.5 810,-167.5 810,-167.5 810,-123.5 810,-123.5 810,-117.5 816,-111.5 822,-111.5 822,-111.5 899,-111.5 899,-111.5 905,-111.5 911,-117.5 911,-123.5 911,-123.5 911,-167.5 911,-167.5 911,-173.5 905,-179.5 899,-179.5\"/>\n",
       "<text text-anchor=\"middle\" x=\"860.5\" y=\"-164.3\" font-family=\"Helvetica,sans-Serif\" font-size=\"14.00\" fill=\"#000000\">entropy = 0.0</text>\n",
       "<text text-anchor=\"middle\" x=\"860.5\" y=\"-149.3\" font-family=\"Helvetica,sans-Serif\" font-size=\"14.00\" fill=\"#000000\">samples = 1</text>\n",
       "<text text-anchor=\"middle\" x=\"860.5\" y=\"-134.3\" font-family=\"Helvetica,sans-Serif\" font-size=\"14.00\" fill=\"#000000\">value = [1, 0]</text>\n",
       "<text text-anchor=\"middle\" x=\"860.5\" y=\"-119.3\" font-family=\"Helvetica,sans-Serif\" font-size=\"14.00\" fill=\"#000000\">class = 0</text>\n",
       "</g>\n",
       "<!-- 28&#45;&gt;30 -->\n",
       "<g id=\"edge30\" class=\"edge\">\n",
       "<title>28&#45;&gt;30</title>\n",
       "<path fill=\"none\" stroke=\"#000000\" d=\"M858.5493,-222.8796C858.8182,-212.2134 859.1084,-200.7021 859.3806,-189.9015\"/>\n",
       "<polygon fill=\"#000000\" stroke=\"#000000\" points=\"862.8817,-189.9 859.6349,-179.8149 855.8839,-189.7235 862.8817,-189.9\"/>\n",
       "</g>\n",
       "<!-- 32 -->\n",
       "<g id=\"node33\" class=\"node\">\n",
       "<title>32</title>\n",
       "<path fill=\"#ffffff\" stroke=\"#000000\" d=\"M1045,-187C1045,-187 944,-187 944,-187 938,-187 932,-181 932,-175 932,-175 932,-116 932,-116 932,-110 938,-104 944,-104 944,-104 1045,-104 1045,-104 1051,-104 1057,-110 1057,-116 1057,-116 1057,-175 1057,-175 1057,-181 1051,-187 1045,-187\"/>\n",
       "<text text-anchor=\"middle\" x=\"994.5\" y=\"-171.8\" font-family=\"Helvetica,sans-Serif\" font-size=\"14.00\" fill=\"#000000\">thalach &lt;= 145.5</text>\n",
       "<text text-anchor=\"middle\" x=\"994.5\" y=\"-156.8\" font-family=\"Helvetica,sans-Serif\" font-size=\"14.00\" fill=\"#000000\">entropy = 1.0</text>\n",
       "<text text-anchor=\"middle\" x=\"994.5\" y=\"-141.8\" font-family=\"Helvetica,sans-Serif\" font-size=\"14.00\" fill=\"#000000\">samples = 2</text>\n",
       "<text text-anchor=\"middle\" x=\"994.5\" y=\"-126.8\" font-family=\"Helvetica,sans-Serif\" font-size=\"14.00\" fill=\"#000000\">value = [1, 1]</text>\n",
       "<text text-anchor=\"middle\" x=\"994.5\" y=\"-111.8\" font-family=\"Helvetica,sans-Serif\" font-size=\"14.00\" fill=\"#000000\">class = 0</text>\n",
       "</g>\n",
       "<!-- 31&#45;&gt;32 -->\n",
       "<g id=\"edge32\" class=\"edge\">\n",
       "<title>31&#45;&gt;32</title>\n",
       "<path fill=\"none\" stroke=\"#000000\" d=\"M997.7512,-222.8796C997.4069,-214.6838 997.0416,-205.9891 996.6849,-197.5013\"/>\n",
       "<polygon fill=\"#000000\" stroke=\"#000000\" points=\"1000.173,-197.1423 996.2562,-187.2981 993.1792,-197.4362 1000.173,-197.1423\"/>\n",
       "</g>\n",
       "<!-- 35 -->\n",
       "<g id=\"node36\" class=\"node\">\n",
       "<title>35</title>\n",
       "<path fill=\"#e58139\" stroke=\"#000000\" d=\"M1164,-179.5C1164,-179.5 1087,-179.5 1087,-179.5 1081,-179.5 1075,-173.5 1075,-167.5 1075,-167.5 1075,-123.5 1075,-123.5 1075,-117.5 1081,-111.5 1087,-111.5 1087,-111.5 1164,-111.5 1164,-111.5 1170,-111.5 1176,-117.5 1176,-123.5 1176,-123.5 1176,-167.5 1176,-167.5 1176,-173.5 1170,-179.5 1164,-179.5\"/>\n",
       "<text text-anchor=\"middle\" x=\"1125.5\" y=\"-164.3\" font-family=\"Helvetica,sans-Serif\" font-size=\"14.00\" fill=\"#000000\">entropy = 0.0</text>\n",
       "<text text-anchor=\"middle\" x=\"1125.5\" y=\"-149.3\" font-family=\"Helvetica,sans-Serif\" font-size=\"14.00\" fill=\"#000000\">samples = 6</text>\n",
       "<text text-anchor=\"middle\" x=\"1125.5\" y=\"-134.3\" font-family=\"Helvetica,sans-Serif\" font-size=\"14.00\" fill=\"#000000\">value = [6, 0]</text>\n",
       "<text text-anchor=\"middle\" x=\"1125.5\" y=\"-119.3\" font-family=\"Helvetica,sans-Serif\" font-size=\"14.00\" fill=\"#000000\">class = 0</text>\n",
       "</g>\n",
       "<!-- 31&#45;&gt;35 -->\n",
       "<g id=\"edge35\" class=\"edge\">\n",
       "<title>31&#45;&gt;35</title>\n",
       "<path fill=\"none\" stroke=\"#000000\" d=\"M1043.5687,-222.8796C1055.9102,-211.2237 1069.3202,-198.5587 1081.649,-186.9148\"/>\n",
       "<polygon fill=\"#000000\" stroke=\"#000000\" points=\"1084.2996,-189.2258 1089.1665,-179.8149 1079.4932,-184.1366 1084.2996,-189.2258\"/>\n",
       "</g>\n",
       "<!-- 33 -->\n",
       "<g id=\"node34\" class=\"node\">\n",
       "<title>33</title>\n",
       "<path fill=\"#399de5\" stroke=\"#000000\" d=\"M974,-68C974,-68 897,-68 897,-68 891,-68 885,-62 885,-56 885,-56 885,-12 885,-12 885,-6 891,0 897,0 897,0 974,0 974,0 980,0 986,-6 986,-12 986,-12 986,-56 986,-56 986,-62 980,-68 974,-68\"/>\n",
       "<text text-anchor=\"middle\" x=\"935.5\" y=\"-52.8\" font-family=\"Helvetica,sans-Serif\" font-size=\"14.00\" fill=\"#000000\">entropy = 0.0</text>\n",
       "<text text-anchor=\"middle\" x=\"935.5\" y=\"-37.8\" font-family=\"Helvetica,sans-Serif\" font-size=\"14.00\" fill=\"#000000\">samples = 1</text>\n",
       "<text text-anchor=\"middle\" x=\"935.5\" y=\"-22.8\" font-family=\"Helvetica,sans-Serif\" font-size=\"14.00\" fill=\"#000000\">value = [0, 1]</text>\n",
       "<text text-anchor=\"middle\" x=\"935.5\" y=\"-7.8\" font-family=\"Helvetica,sans-Serif\" font-size=\"14.00\" fill=\"#000000\">class = 1</text>\n",
       "</g>\n",
       "<!-- 32&#45;&gt;33 -->\n",
       "<g id=\"edge33\" class=\"edge\">\n",
       "<title>32&#45;&gt;33</title>\n",
       "<path fill=\"none\" stroke=\"#000000\" d=\"M972.5306,-103.9815C967.9105,-95.2504 963.0264,-86.0202 958.374,-77.2281\"/>\n",
       "<polygon fill=\"#000000\" stroke=\"#000000\" points=\"961.4013,-75.4655 953.6306,-68.2637 955.2141,-78.7395 961.4013,-75.4655\"/>\n",
       "</g>\n",
       "<!-- 34 -->\n",
       "<g id=\"node35\" class=\"node\">\n",
       "<title>34</title>\n",
       "<path fill=\"#e58139\" stroke=\"#000000\" d=\"M1093,-68C1093,-68 1016,-68 1016,-68 1010,-68 1004,-62 1004,-56 1004,-56 1004,-12 1004,-12 1004,-6 1010,0 1016,0 1016,0 1093,0 1093,0 1099,0 1105,-6 1105,-12 1105,-12 1105,-56 1105,-56 1105,-62 1099,-68 1093,-68\"/>\n",
       "<text text-anchor=\"middle\" x=\"1054.5\" y=\"-52.8\" font-family=\"Helvetica,sans-Serif\" font-size=\"14.00\" fill=\"#000000\">entropy = 0.0</text>\n",
       "<text text-anchor=\"middle\" x=\"1054.5\" y=\"-37.8\" font-family=\"Helvetica,sans-Serif\" font-size=\"14.00\" fill=\"#000000\">samples = 1</text>\n",
       "<text text-anchor=\"middle\" x=\"1054.5\" y=\"-22.8\" font-family=\"Helvetica,sans-Serif\" font-size=\"14.00\" fill=\"#000000\">value = [1, 0]</text>\n",
       "<text text-anchor=\"middle\" x=\"1054.5\" y=\"-7.8\" font-family=\"Helvetica,sans-Serif\" font-size=\"14.00\" fill=\"#000000\">class = 0</text>\n",
       "</g>\n",
       "<!-- 32&#45;&gt;34 -->\n",
       "<g id=\"edge34\" class=\"edge\">\n",
       "<title>32&#45;&gt;34</title>\n",
       "<path fill=\"none\" stroke=\"#000000\" d=\"M1016.8418,-103.9815C1021.5402,-95.2504 1026.5071,-86.0202 1031.2383,-77.2281\"/>\n",
       "<polygon fill=\"#000000\" stroke=\"#000000\" points=\"1034.4056,-78.7282 1036.0621,-68.2637 1028.2414,-75.4111 1034.4056,-78.7282\"/>\n",
       "</g>\n",
       "<!-- 41 -->\n",
       "<g id=\"node42\" class=\"node\">\n",
       "<title>41</title>\n",
       "<path fill=\"#53aae8\" stroke=\"#000000\" d=\"M1567.5,-901C1567.5,-901 1473.5,-901 1473.5,-901 1467.5,-901 1461.5,-895 1461.5,-889 1461.5,-889 1461.5,-830 1461.5,-830 1461.5,-824 1467.5,-818 1473.5,-818 1473.5,-818 1567.5,-818 1567.5,-818 1573.5,-818 1579.5,-824 1579.5,-830 1579.5,-830 1579.5,-889 1579.5,-889 1579.5,-895 1573.5,-901 1567.5,-901\"/>\n",
       "<text text-anchor=\"middle\" x=\"1520.5\" y=\"-885.8\" font-family=\"Helvetica,sans-Serif\" font-size=\"14.00\" fill=\"#000000\">age &lt;= 55.5</text>\n",
       "<text text-anchor=\"middle\" x=\"1520.5\" y=\"-870.8\" font-family=\"Helvetica,sans-Serif\" font-size=\"14.00\" fill=\"#000000\">entropy = 0.514</text>\n",
       "<text text-anchor=\"middle\" x=\"1520.5\" y=\"-855.8\" font-family=\"Helvetica,sans-Serif\" font-size=\"14.00\" fill=\"#000000\">samples = 96</text>\n",
       "<text text-anchor=\"middle\" x=\"1520.5\" y=\"-840.8\" font-family=\"Helvetica,sans-Serif\" font-size=\"14.00\" fill=\"#000000\">value = [11, 85]</text>\n",
       "<text text-anchor=\"middle\" x=\"1520.5\" y=\"-825.8\" font-family=\"Helvetica,sans-Serif\" font-size=\"14.00\" fill=\"#000000\">class = 1</text>\n",
       "</g>\n",
       "<!-- 40&#45;&gt;41 -->\n",
       "<g id=\"edge41\" class=\"edge\">\n",
       "<title>40&#45;&gt;41</title>\n",
       "<path fill=\"none\" stroke=\"#000000\" d=\"M1520.5,-936.8796C1520.5,-928.6838 1520.5,-919.9891 1520.5,-911.5013\"/>\n",
       "<polygon fill=\"#000000\" stroke=\"#000000\" points=\"1524.0001,-911.298 1520.5,-901.2981 1517.0001,-911.2981 1524.0001,-911.298\"/>\n",
       "</g>\n",
       "<!-- 62 -->\n",
       "<g id=\"node63\" class=\"node\">\n",
       "<title>62</title>\n",
       "<path fill=\"#dceefa\" stroke=\"#000000\" d=\"M1774,-901C1774,-901 1673,-901 1673,-901 1667,-901 1661,-895 1661,-889 1661,-889 1661,-830 1661,-830 1661,-824 1667,-818 1673,-818 1673,-818 1774,-818 1774,-818 1780,-818 1786,-824 1786,-830 1786,-830 1786,-889 1786,-889 1786,-895 1780,-901 1774,-901\"/>\n",
       "<text text-anchor=\"middle\" x=\"1723.5\" y=\"-885.8\" font-family=\"Helvetica,sans-Serif\" font-size=\"14.00\" fill=\"#000000\">thalach &lt;= 132.5</text>\n",
       "<text text-anchor=\"middle\" x=\"1723.5\" y=\"-870.8\" font-family=\"Helvetica,sans-Serif\" font-size=\"14.00\" fill=\"#000000\">entropy = 0.993</text>\n",
       "<text text-anchor=\"middle\" x=\"1723.5\" y=\"-855.8\" font-family=\"Helvetica,sans-Serif\" font-size=\"14.00\" fill=\"#000000\">samples = 31</text>\n",
       "<text text-anchor=\"middle\" x=\"1723.5\" y=\"-840.8\" font-family=\"Helvetica,sans-Serif\" font-size=\"14.00\" fill=\"#000000\">value = [14, 17]</text>\n",
       "<text text-anchor=\"middle\" x=\"1723.5\" y=\"-825.8\" font-family=\"Helvetica,sans-Serif\" font-size=\"14.00\" fill=\"#000000\">class = 1</text>\n",
       "</g>\n",
       "<!-- 40&#45;&gt;62 -->\n",
       "<g id=\"edge62\" class=\"edge\">\n",
       "<title>40&#45;&gt;62</title>\n",
       "<path fill=\"none\" stroke=\"#000000\" d=\"M1582.5097,-942.1495C1604.4349,-929.2968 1629.2725,-914.7368 1651.9261,-901.4571\"/>\n",
       "<polygon fill=\"#000000\" stroke=\"#000000\" points=\"1653.963,-904.3201 1660.82,-896.2434 1650.423,-898.2812 1653.963,-904.3201\"/>\n",
       "</g>\n",
       "<!-- 42 -->\n",
       "<g id=\"node43\" class=\"node\">\n",
       "<title>42</title>\n",
       "<path fill=\"#40a0e6\" stroke=\"#000000\" d=\"M1474,-782C1474,-782 1377,-782 1377,-782 1371,-782 1365,-776 1365,-770 1365,-770 1365,-711 1365,-711 1365,-705 1371,-699 1377,-699 1377,-699 1474,-699 1474,-699 1480,-699 1486,-705 1486,-711 1486,-711 1486,-770 1486,-770 1486,-776 1480,-782 1474,-782\"/>\n",
       "<text text-anchor=\"middle\" x=\"1425.5\" y=\"-766.8\" font-family=\"Helvetica,sans-Serif\" font-size=\"14.00\" fill=\"#000000\">oldpeak &lt;= 3.55</text>\n",
       "<text text-anchor=\"middle\" x=\"1425.5\" y=\"-751.8\" font-family=\"Helvetica,sans-Serif\" font-size=\"14.00\" fill=\"#000000\">entropy = 0.206</text>\n",
       "<text text-anchor=\"middle\" x=\"1425.5\" y=\"-736.8\" font-family=\"Helvetica,sans-Serif\" font-size=\"14.00\" fill=\"#000000\">samples = 62</text>\n",
       "<text text-anchor=\"middle\" x=\"1425.5\" y=\"-721.8\" font-family=\"Helvetica,sans-Serif\" font-size=\"14.00\" fill=\"#000000\">value = [2, 60]</text>\n",
       "<text text-anchor=\"middle\" x=\"1425.5\" y=\"-706.8\" font-family=\"Helvetica,sans-Serif\" font-size=\"14.00\" fill=\"#000000\">class = 1</text>\n",
       "</g>\n",
       "<!-- 41&#45;&gt;42 -->\n",
       "<g id=\"edge42\" class=\"edge\">\n",
       "<title>41&#45;&gt;42</title>\n",
       "<path fill=\"none\" stroke=\"#000000\" d=\"M1487.2736,-817.8796C1480.1556,-808.9633 1472.5661,-799.4565 1465.2308,-790.268\"/>\n",
       "<polygon fill=\"#000000\" stroke=\"#000000\" points=\"1467.8425,-787.9295 1458.8682,-782.2981 1462.3719,-792.2968 1467.8425,-787.9295\"/>\n",
       "</g>\n",
       "<!-- 49 -->\n",
       "<g id=\"node50\" class=\"node\">\n",
       "<title>49</title>\n",
       "<path fill=\"#80c0ee\" stroke=\"#000000\" d=\"M1610.5,-782C1610.5,-782 1516.5,-782 1516.5,-782 1510.5,-782 1504.5,-776 1504.5,-770 1504.5,-770 1504.5,-711 1504.5,-711 1504.5,-705 1510.5,-699 1516.5,-699 1516.5,-699 1610.5,-699 1610.5,-699 1616.5,-699 1622.5,-705 1622.5,-711 1622.5,-711 1622.5,-770 1622.5,-770 1622.5,-776 1616.5,-782 1610.5,-782\"/>\n",
       "<text text-anchor=\"middle\" x=\"1563.5\" y=\"-766.8\" font-family=\"Helvetica,sans-Serif\" font-size=\"14.00\" fill=\"#000000\">thal &lt;= 1.5</text>\n",
       "<text text-anchor=\"middle\" x=\"1563.5\" y=\"-751.8\" font-family=\"Helvetica,sans-Serif\" font-size=\"14.00\" fill=\"#000000\">entropy = 0.834</text>\n",
       "<text text-anchor=\"middle\" x=\"1563.5\" y=\"-736.8\" font-family=\"Helvetica,sans-Serif\" font-size=\"14.00\" fill=\"#000000\">samples = 34</text>\n",
       "<text text-anchor=\"middle\" x=\"1563.5\" y=\"-721.8\" font-family=\"Helvetica,sans-Serif\" font-size=\"14.00\" fill=\"#000000\">value = [9, 25]</text>\n",
       "<text text-anchor=\"middle\" x=\"1563.5\" y=\"-706.8\" font-family=\"Helvetica,sans-Serif\" font-size=\"14.00\" fill=\"#000000\">class = 1</text>\n",
       "</g>\n",
       "<!-- 41&#45;&gt;49 -->\n",
       "<g id=\"edge49\" class=\"edge\">\n",
       "<title>41&#45;&gt;49</title>\n",
       "<path fill=\"none\" stroke=\"#000000\" d=\"M1535.5393,-817.8796C1538.5659,-809.5037 1541.7808,-800.6067 1544.9117,-791.942\"/>\n",
       "<polygon fill=\"#000000\" stroke=\"#000000\" points=\"1548.2897,-792.8924 1548.3965,-782.2981 1541.7063,-790.5135 1548.2897,-792.8924\"/>\n",
       "</g>\n",
       "<!-- 43 -->\n",
       "<g id=\"node44\" class=\"node\">\n",
       "<title>43</title>\n",
       "<path fill=\"#3c9fe5\" stroke=\"#000000\" d=\"M1352,-663C1352,-663 1247,-663 1247,-663 1241,-663 1235,-657 1235,-651 1235,-651 1235,-592 1235,-592 1235,-586 1241,-580 1247,-580 1247,-580 1352,-580 1352,-580 1358,-580 1364,-586 1364,-592 1364,-592 1364,-651 1364,-651 1364,-657 1358,-663 1352,-663\"/>\n",
       "<text text-anchor=\"middle\" x=\"1299.5\" y=\"-647.8\" font-family=\"Helvetica,sans-Serif\" font-size=\"14.00\" fill=\"#000000\">trestbps &lt;= 109.0</text>\n",
       "<text text-anchor=\"middle\" x=\"1299.5\" y=\"-632.8\" font-family=\"Helvetica,sans-Serif\" font-size=\"14.00\" fill=\"#000000\">entropy = 0.121</text>\n",
       "<text text-anchor=\"middle\" x=\"1299.5\" y=\"-617.8\" font-family=\"Helvetica,sans-Serif\" font-size=\"14.00\" fill=\"#000000\">samples = 61</text>\n",
       "<text text-anchor=\"middle\" x=\"1299.5\" y=\"-602.8\" font-family=\"Helvetica,sans-Serif\" font-size=\"14.00\" fill=\"#000000\">value = [1, 60]</text>\n",
       "<text text-anchor=\"middle\" x=\"1299.5\" y=\"-587.8\" font-family=\"Helvetica,sans-Serif\" font-size=\"14.00\" fill=\"#000000\">class = 1</text>\n",
       "</g>\n",
       "<!-- 42&#45;&gt;43 -->\n",
       "<g id=\"edge43\" class=\"edge\">\n",
       "<title>42&#45;&gt;43</title>\n",
       "<path fill=\"none\" stroke=\"#000000\" d=\"M1381.4313,-698.8796C1371.7045,-689.6931 1361.3139,-679.8798 1351.3121,-670.4336\"/>\n",
       "<polygon fill=\"#000000\" stroke=\"#000000\" points=\"1353.4301,-667.6198 1343.7568,-663.2981 1348.6237,-672.7089 1353.4301,-667.6198\"/>\n",
       "</g>\n",
       "<!-- 48 -->\n",
       "<g id=\"node49\" class=\"node\">\n",
       "<title>48</title>\n",
       "<path fill=\"#e58139\" stroke=\"#000000\" d=\"M1471,-655.5C1471,-655.5 1394,-655.5 1394,-655.5 1388,-655.5 1382,-649.5 1382,-643.5 1382,-643.5 1382,-599.5 1382,-599.5 1382,-593.5 1388,-587.5 1394,-587.5 1394,-587.5 1471,-587.5 1471,-587.5 1477,-587.5 1483,-593.5 1483,-599.5 1483,-599.5 1483,-643.5 1483,-643.5 1483,-649.5 1477,-655.5 1471,-655.5\"/>\n",
       "<text text-anchor=\"middle\" x=\"1432.5\" y=\"-640.3\" font-family=\"Helvetica,sans-Serif\" font-size=\"14.00\" fill=\"#000000\">entropy = 0.0</text>\n",
       "<text text-anchor=\"middle\" x=\"1432.5\" y=\"-625.3\" font-family=\"Helvetica,sans-Serif\" font-size=\"14.00\" fill=\"#000000\">samples = 1</text>\n",
       "<text text-anchor=\"middle\" x=\"1432.5\" y=\"-610.3\" font-family=\"Helvetica,sans-Serif\" font-size=\"14.00\" fill=\"#000000\">value = [1, 0]</text>\n",
       "<text text-anchor=\"middle\" x=\"1432.5\" y=\"-595.3\" font-family=\"Helvetica,sans-Serif\" font-size=\"14.00\" fill=\"#000000\">class = 0</text>\n",
       "</g>\n",
       "<!-- 42&#45;&gt;48 -->\n",
       "<g id=\"edge48\" class=\"edge\">\n",
       "<title>42&#45;&gt;48</title>\n",
       "<path fill=\"none\" stroke=\"#000000\" d=\"M1427.9483,-698.8796C1428.5757,-688.2134 1429.2528,-676.7021 1429.8881,-665.9015\"/>\n",
       "<polygon fill=\"#000000\" stroke=\"#000000\" points=\"1433.3881,-666.0032 1430.4815,-655.8149 1426.4002,-665.5921 1433.3881,-666.0032\"/>\n",
       "</g>\n",
       "<!-- 44 -->\n",
       "<g id=\"node45\" class=\"node\">\n",
       "<title>44</title>\n",
       "<path fill=\"#61b1ea\" stroke=\"#000000\" d=\"M1327.5,-544C1327.5,-544 1241.5,-544 1241.5,-544 1235.5,-544 1229.5,-538 1229.5,-532 1229.5,-532 1229.5,-473 1229.5,-473 1229.5,-467 1235.5,-461 1241.5,-461 1241.5,-461 1327.5,-461 1327.5,-461 1333.5,-461 1339.5,-467 1339.5,-473 1339.5,-473 1339.5,-532 1339.5,-532 1339.5,-538 1333.5,-544 1327.5,-544\"/>\n",
       "<text text-anchor=\"middle\" x=\"1284.5\" y=\"-528.8\" font-family=\"Helvetica,sans-Serif\" font-size=\"14.00\" fill=\"#000000\">chol &lt;= 232.5</text>\n",
       "<text text-anchor=\"middle\" x=\"1284.5\" y=\"-513.8\" font-family=\"Helvetica,sans-Serif\" font-size=\"14.00\" fill=\"#000000\">entropy = 0.65</text>\n",
       "<text text-anchor=\"middle\" x=\"1284.5\" y=\"-498.8\" font-family=\"Helvetica,sans-Serif\" font-size=\"14.00\" fill=\"#000000\">samples = 6</text>\n",
       "<text text-anchor=\"middle\" x=\"1284.5\" y=\"-483.8\" font-family=\"Helvetica,sans-Serif\" font-size=\"14.00\" fill=\"#000000\">value = [1, 5]</text>\n",
       "<text text-anchor=\"middle\" x=\"1284.5\" y=\"-468.8\" font-family=\"Helvetica,sans-Serif\" font-size=\"14.00\" fill=\"#000000\">class = 1</text>\n",
       "</g>\n",
       "<!-- 43&#45;&gt;44 -->\n",
       "<g id=\"edge44\" class=\"edge\">\n",
       "<title>43&#45;&gt;44</title>\n",
       "<path fill=\"none\" stroke=\"#000000\" d=\"M1294.2537,-579.8796C1293.2093,-571.5938 1292.1006,-562.798 1291.0195,-554.2216\"/>\n",
       "<polygon fill=\"#000000\" stroke=\"#000000\" points=\"1294.4919,-553.7818 1289.7687,-544.2981 1287.5468,-554.6573 1294.4919,-553.7818\"/>\n",
       "</g>\n",
       "<!-- 47 -->\n",
       "<g id=\"node48\" class=\"node\">\n",
       "<title>47</title>\n",
       "<path fill=\"#399de5\" stroke=\"#000000\" d=\"M1453,-536.5C1453,-536.5 1370,-536.5 1370,-536.5 1364,-536.5 1358,-530.5 1358,-524.5 1358,-524.5 1358,-480.5 1358,-480.5 1358,-474.5 1364,-468.5 1370,-468.5 1370,-468.5 1453,-468.5 1453,-468.5 1459,-468.5 1465,-474.5 1465,-480.5 1465,-480.5 1465,-524.5 1465,-524.5 1465,-530.5 1459,-536.5 1453,-536.5\"/>\n",
       "<text text-anchor=\"middle\" x=\"1411.5\" y=\"-521.3\" font-family=\"Helvetica,sans-Serif\" font-size=\"14.00\" fill=\"#000000\">entropy = 0.0</text>\n",
       "<text text-anchor=\"middle\" x=\"1411.5\" y=\"-506.3\" font-family=\"Helvetica,sans-Serif\" font-size=\"14.00\" fill=\"#000000\">samples = 55</text>\n",
       "<text text-anchor=\"middle\" x=\"1411.5\" y=\"-491.3\" font-family=\"Helvetica,sans-Serif\" font-size=\"14.00\" fill=\"#000000\">value = [0, 55]</text>\n",
       "<text text-anchor=\"middle\" x=\"1411.5\" y=\"-476.3\" font-family=\"Helvetica,sans-Serif\" font-size=\"14.00\" fill=\"#000000\">class = 1</text>\n",
       "</g>\n",
       "<!-- 43&#45;&gt;47 -->\n",
       "<g id=\"edge47\" class=\"edge\">\n",
       "<title>43&#45;&gt;47</title>\n",
       "<path fill=\"none\" stroke=\"#000000\" d=\"M1338.6722,-579.8796C1349.5389,-568.3337 1361.3376,-555.7976 1372.2109,-544.2446\"/>\n",
       "<polygon fill=\"#000000\" stroke=\"#000000\" points=\"1374.8986,-546.4958 1379.2036,-536.8149 1369.8012,-541.6982 1374.8986,-546.4958\"/>\n",
       "</g>\n",
       "<!-- 45 -->\n",
       "<g id=\"node46\" class=\"node\">\n",
       "<title>45</title>\n",
       "<path fill=\"#399de5\" stroke=\"#000000\" d=\"M1214,-417.5C1214,-417.5 1137,-417.5 1137,-417.5 1131,-417.5 1125,-411.5 1125,-405.5 1125,-405.5 1125,-361.5 1125,-361.5 1125,-355.5 1131,-349.5 1137,-349.5 1137,-349.5 1214,-349.5 1214,-349.5 1220,-349.5 1226,-355.5 1226,-361.5 1226,-361.5 1226,-405.5 1226,-405.5 1226,-411.5 1220,-417.5 1214,-417.5\"/>\n",
       "<text text-anchor=\"middle\" x=\"1175.5\" y=\"-402.3\" font-family=\"Helvetica,sans-Serif\" font-size=\"14.00\" fill=\"#000000\">entropy = 0.0</text>\n",
       "<text text-anchor=\"middle\" x=\"1175.5\" y=\"-387.3\" font-family=\"Helvetica,sans-Serif\" font-size=\"14.00\" fill=\"#000000\">samples = 5</text>\n",
       "<text text-anchor=\"middle\" x=\"1175.5\" y=\"-372.3\" font-family=\"Helvetica,sans-Serif\" font-size=\"14.00\" fill=\"#000000\">value = [0, 5]</text>\n",
       "<text text-anchor=\"middle\" x=\"1175.5\" y=\"-357.3\" font-family=\"Helvetica,sans-Serif\" font-size=\"14.00\" fill=\"#000000\">class = 1</text>\n",
       "</g>\n",
       "<!-- 44&#45;&gt;45 -->\n",
       "<g id=\"edge45\" class=\"edge\">\n",
       "<title>44&#45;&gt;45</title>\n",
       "<path fill=\"none\" stroke=\"#000000\" d=\"M1246.3771,-460.8796C1235.8014,-449.3337 1224.3188,-436.7976 1213.7367,-425.2446\"/>\n",
       "<polygon fill=\"#000000\" stroke=\"#000000\" points=\"1216.2667,-422.825 1206.9313,-417.8149 1211.1049,-427.5531 1216.2667,-422.825\"/>\n",
       "</g>\n",
       "<!-- 46 -->\n",
       "<g id=\"node47\" class=\"node\">\n",
       "<title>46</title>\n",
       "<path fill=\"#e58139\" stroke=\"#000000\" d=\"M1333,-417.5C1333,-417.5 1256,-417.5 1256,-417.5 1250,-417.5 1244,-411.5 1244,-405.5 1244,-405.5 1244,-361.5 1244,-361.5 1244,-355.5 1250,-349.5 1256,-349.5 1256,-349.5 1333,-349.5 1333,-349.5 1339,-349.5 1345,-355.5 1345,-361.5 1345,-361.5 1345,-405.5 1345,-405.5 1345,-411.5 1339,-417.5 1333,-417.5\"/>\n",
       "<text text-anchor=\"middle\" x=\"1294.5\" y=\"-402.3\" font-family=\"Helvetica,sans-Serif\" font-size=\"14.00\" fill=\"#000000\">entropy = 0.0</text>\n",
       "<text text-anchor=\"middle\" x=\"1294.5\" y=\"-387.3\" font-family=\"Helvetica,sans-Serif\" font-size=\"14.00\" fill=\"#000000\">samples = 1</text>\n",
       "<text text-anchor=\"middle\" x=\"1294.5\" y=\"-372.3\" font-family=\"Helvetica,sans-Serif\" font-size=\"14.00\" fill=\"#000000\">value = [1, 0]</text>\n",
       "<text text-anchor=\"middle\" x=\"1294.5\" y=\"-357.3\" font-family=\"Helvetica,sans-Serif\" font-size=\"14.00\" fill=\"#000000\">class = 0</text>\n",
       "</g>\n",
       "<!-- 44&#45;&gt;46 -->\n",
       "<g id=\"edge46\" class=\"edge\">\n",
       "<title>44&#45;&gt;46</title>\n",
       "<path fill=\"none\" stroke=\"#000000\" d=\"M1287.9975,-460.8796C1288.8938,-450.2134 1289.8612,-438.7021 1290.7688,-427.9015\"/>\n",
       "<polygon fill=\"#000000\" stroke=\"#000000\" points=\"1294.2666,-428.0729 1291.6164,-417.8149 1287.2912,-427.4867 1294.2666,-428.0729\"/>\n",
       "</g>\n",
       "<!-- 50 -->\n",
       "<g id=\"node51\" class=\"node\">\n",
       "<title>50</title>\n",
       "<path fill=\"#e58139\" stroke=\"#000000\" d=\"M1595,-655.5C1595,-655.5 1518,-655.5 1518,-655.5 1512,-655.5 1506,-649.5 1506,-643.5 1506,-643.5 1506,-599.5 1506,-599.5 1506,-593.5 1512,-587.5 1518,-587.5 1518,-587.5 1595,-587.5 1595,-587.5 1601,-587.5 1607,-593.5 1607,-599.5 1607,-599.5 1607,-643.5 1607,-643.5 1607,-649.5 1601,-655.5 1595,-655.5\"/>\n",
       "<text text-anchor=\"middle\" x=\"1556.5\" y=\"-640.3\" font-family=\"Helvetica,sans-Serif\" font-size=\"14.00\" fill=\"#000000\">entropy = 0.0</text>\n",
       "<text text-anchor=\"middle\" x=\"1556.5\" y=\"-625.3\" font-family=\"Helvetica,sans-Serif\" font-size=\"14.00\" fill=\"#000000\">samples = 3</text>\n",
       "<text text-anchor=\"middle\" x=\"1556.5\" y=\"-610.3\" font-family=\"Helvetica,sans-Serif\" font-size=\"14.00\" fill=\"#000000\">value = [3, 0]</text>\n",
       "<text text-anchor=\"middle\" x=\"1556.5\" y=\"-595.3\" font-family=\"Helvetica,sans-Serif\" font-size=\"14.00\" fill=\"#000000\">class = 0</text>\n",
       "</g>\n",
       "<!-- 49&#45;&gt;50 -->\n",
       "<g id=\"edge50\" class=\"edge\">\n",
       "<title>49&#45;&gt;50</title>\n",
       "<path fill=\"none\" stroke=\"#000000\" d=\"M1561.0517,-698.8796C1560.4243,-688.2134 1559.7472,-676.7021 1559.1119,-665.9015\"/>\n",
       "<polygon fill=\"#000000\" stroke=\"#000000\" points=\"1562.5998,-665.5921 1558.5185,-655.8149 1555.6119,-666.0032 1562.5998,-665.5921\"/>\n",
       "</g>\n",
       "<!-- 51 -->\n",
       "<g id=\"node52\" class=\"node\">\n",
       "<title>51</title>\n",
       "<path fill=\"#69b5eb\" stroke=\"#000000\" d=\"M1731.5,-663C1731.5,-663 1637.5,-663 1637.5,-663 1631.5,-663 1625.5,-657 1625.5,-651 1625.5,-651 1625.5,-592 1625.5,-592 1625.5,-586 1631.5,-580 1637.5,-580 1637.5,-580 1731.5,-580 1731.5,-580 1737.5,-580 1743.5,-586 1743.5,-592 1743.5,-592 1743.5,-651 1743.5,-651 1743.5,-657 1737.5,-663 1731.5,-663\"/>\n",
       "<text text-anchor=\"middle\" x=\"1684.5\" y=\"-647.8\" font-family=\"Helvetica,sans-Serif\" font-size=\"14.00\" fill=\"#000000\">chol &lt;= 271.0</text>\n",
       "<text text-anchor=\"middle\" x=\"1684.5\" y=\"-632.8\" font-family=\"Helvetica,sans-Serif\" font-size=\"14.00\" fill=\"#000000\">entropy = 0.709</text>\n",
       "<text text-anchor=\"middle\" x=\"1684.5\" y=\"-617.8\" font-family=\"Helvetica,sans-Serif\" font-size=\"14.00\" fill=\"#000000\">samples = 31</text>\n",
       "<text text-anchor=\"middle\" x=\"1684.5\" y=\"-602.8\" font-family=\"Helvetica,sans-Serif\" font-size=\"14.00\" fill=\"#000000\">value = [6, 25]</text>\n",
       "<text text-anchor=\"middle\" x=\"1684.5\" y=\"-587.8\" font-family=\"Helvetica,sans-Serif\" font-size=\"14.00\" fill=\"#000000\">class = 1</text>\n",
       "</g>\n",
       "<!-- 49&#45;&gt;51 -->\n",
       "<g id=\"edge51\" class=\"edge\">\n",
       "<title>49&#45;&gt;51</title>\n",
       "<path fill=\"none\" stroke=\"#000000\" d=\"M1605.8199,-698.8796C1615.1608,-689.6931 1625.139,-679.8798 1634.744,-670.4336\"/>\n",
       "<polygon fill=\"#000000\" stroke=\"#000000\" points=\"1637.3238,-672.8054 1641.9994,-663.2981 1632.4155,-667.8146 1637.3238,-672.8054\"/>\n",
       "</g>\n",
       "<!-- 52 -->\n",
       "<g id=\"node53\" class=\"node\">\n",
       "<title>52</title>\n",
       "<path fill=\"#44a2e6\" stroke=\"#000000\" d=\"M1609.5,-544C1609.5,-544 1515.5,-544 1515.5,-544 1509.5,-544 1503.5,-538 1503.5,-532 1503.5,-532 1503.5,-473 1503.5,-473 1503.5,-467 1509.5,-461 1515.5,-461 1515.5,-461 1609.5,-461 1609.5,-461 1615.5,-461 1621.5,-467 1621.5,-473 1621.5,-473 1621.5,-532 1621.5,-532 1621.5,-538 1615.5,-544 1609.5,-544\"/>\n",
       "<text text-anchor=\"middle\" x=\"1562.5\" y=\"-528.8\" font-family=\"Helvetica,sans-Serif\" font-size=\"14.00\" fill=\"#000000\">age &lt;= 57.5</text>\n",
       "<text text-anchor=\"middle\" x=\"1562.5\" y=\"-513.8\" font-family=\"Helvetica,sans-Serif\" font-size=\"14.00\" fill=\"#000000\">entropy = 0.297</text>\n",
       "<text text-anchor=\"middle\" x=\"1562.5\" y=\"-498.8\" font-family=\"Helvetica,sans-Serif\" font-size=\"14.00\" fill=\"#000000\">samples = 19</text>\n",
       "<text text-anchor=\"middle\" x=\"1562.5\" y=\"-483.8\" font-family=\"Helvetica,sans-Serif\" font-size=\"14.00\" fill=\"#000000\">value = [1, 18]</text>\n",
       "<text text-anchor=\"middle\" x=\"1562.5\" y=\"-468.8\" font-family=\"Helvetica,sans-Serif\" font-size=\"14.00\" fill=\"#000000\">class = 1</text>\n",
       "</g>\n",
       "<!-- 51&#45;&gt;52 -->\n",
       "<g id=\"edge52\" class=\"edge\">\n",
       "<title>51&#45;&gt;52</title>\n",
       "<path fill=\"none\" stroke=\"#000000\" d=\"M1641.8303,-579.8796C1632.4123,-570.6931 1622.3516,-560.8798 1612.6672,-551.4336\"/>\n",
       "<polygon fill=\"#000000\" stroke=\"#000000\" points=\"1614.9543,-548.7751 1605.3518,-544.2981 1610.0665,-553.7861 1614.9543,-548.7751\"/>\n",
       "</g>\n",
       "<!-- 57 -->\n",
       "<g id=\"node58\" class=\"node\">\n",
       "<title>57</title>\n",
       "<path fill=\"#c6e3f8\" stroke=\"#000000\" d=\"M1737.5,-544C1737.5,-544 1651.5,-544 1651.5,-544 1645.5,-544 1639.5,-538 1639.5,-532 1639.5,-532 1639.5,-473 1639.5,-473 1639.5,-467 1645.5,-461 1651.5,-461 1651.5,-461 1737.5,-461 1737.5,-461 1743.5,-461 1749.5,-467 1749.5,-473 1749.5,-473 1749.5,-532 1749.5,-532 1749.5,-538 1743.5,-544 1737.5,-544\"/>\n",
       "<text text-anchor=\"middle\" x=\"1694.5\" y=\"-528.8\" font-family=\"Helvetica,sans-Serif\" font-size=\"14.00\" fill=\"#000000\">sex &lt;= 0.5</text>\n",
       "<text text-anchor=\"middle\" x=\"1694.5\" y=\"-513.8\" font-family=\"Helvetica,sans-Serif\" font-size=\"14.00\" fill=\"#000000\">entropy = 0.98</text>\n",
       "<text text-anchor=\"middle\" x=\"1694.5\" y=\"-498.8\" font-family=\"Helvetica,sans-Serif\" font-size=\"14.00\" fill=\"#000000\">samples = 12</text>\n",
       "<text text-anchor=\"middle\" x=\"1694.5\" y=\"-483.8\" font-family=\"Helvetica,sans-Serif\" font-size=\"14.00\" fill=\"#000000\">value = [5, 7]</text>\n",
       "<text text-anchor=\"middle\" x=\"1694.5\" y=\"-468.8\" font-family=\"Helvetica,sans-Serif\" font-size=\"14.00\" fill=\"#000000\">class = 1</text>\n",
       "</g>\n",
       "<!-- 51&#45;&gt;57 -->\n",
       "<g id=\"edge57\" class=\"edge\">\n",
       "<title>51&#45;&gt;57</title>\n",
       "<path fill=\"none\" stroke=\"#000000\" d=\"M1687.9975,-579.8796C1688.6862,-571.6838 1689.4169,-562.9891 1690.1301,-554.5013\"/>\n",
       "<polygon fill=\"#000000\" stroke=\"#000000\" points=\"1693.6378,-554.5561 1690.9876,-544.2981 1686.6624,-553.9698 1693.6378,-554.5561\"/>\n",
       "</g>\n",
       "<!-- 53 -->\n",
       "<g id=\"node54\" class=\"node\">\n",
       "<title>53</title>\n",
       "<path fill=\"#9ccef2\" stroke=\"#000000\" d=\"M1480,-425C1480,-425 1375,-425 1375,-425 1369,-425 1363,-419 1363,-413 1363,-413 1363,-354 1363,-354 1363,-348 1369,-342 1375,-342 1375,-342 1480,-342 1480,-342 1486,-342 1492,-348 1492,-354 1492,-354 1492,-413 1492,-413 1492,-419 1486,-425 1480,-425\"/>\n",
       "<text text-anchor=\"middle\" x=\"1427.5\" y=\"-409.8\" font-family=\"Helvetica,sans-Serif\" font-size=\"14.00\" fill=\"#000000\">trestbps &lt;= 152.0</text>\n",
       "<text text-anchor=\"middle\" x=\"1427.5\" y=\"-394.8\" font-family=\"Helvetica,sans-Serif\" font-size=\"14.00\" fill=\"#000000\">entropy = 0.918</text>\n",
       "<text text-anchor=\"middle\" x=\"1427.5\" y=\"-379.8\" font-family=\"Helvetica,sans-Serif\" font-size=\"14.00\" fill=\"#000000\">samples = 3</text>\n",
       "<text text-anchor=\"middle\" x=\"1427.5\" y=\"-364.8\" font-family=\"Helvetica,sans-Serif\" font-size=\"14.00\" fill=\"#000000\">value = [1, 2]</text>\n",
       "<text text-anchor=\"middle\" x=\"1427.5\" y=\"-349.8\" font-family=\"Helvetica,sans-Serif\" font-size=\"14.00\" fill=\"#000000\">class = 1</text>\n",
       "</g>\n",
       "<!-- 52&#45;&gt;53 -->\n",
       "<g id=\"edge53\" class=\"edge\">\n",
       "<title>52&#45;&gt;53</title>\n",
       "<path fill=\"none\" stroke=\"#000000\" d=\"M1515.2836,-460.8796C1504.7598,-451.6031 1493.5109,-441.6874 1482.6979,-432.1559\"/>\n",
       "<polygon fill=\"#000000\" stroke=\"#000000\" points=\"1484.734,-429.2851 1474.918,-425.2981 1480.1052,-434.5362 1484.734,-429.2851\"/>\n",
       "</g>\n",
       "<!-- 56 -->\n",
       "<g id=\"node57\" class=\"node\">\n",
       "<title>56</title>\n",
       "<path fill=\"#399de5\" stroke=\"#000000\" d=\"M1605,-417.5C1605,-417.5 1522,-417.5 1522,-417.5 1516,-417.5 1510,-411.5 1510,-405.5 1510,-405.5 1510,-361.5 1510,-361.5 1510,-355.5 1516,-349.5 1522,-349.5 1522,-349.5 1605,-349.5 1605,-349.5 1611,-349.5 1617,-355.5 1617,-361.5 1617,-361.5 1617,-405.5 1617,-405.5 1617,-411.5 1611,-417.5 1605,-417.5\"/>\n",
       "<text text-anchor=\"middle\" x=\"1563.5\" y=\"-402.3\" font-family=\"Helvetica,sans-Serif\" font-size=\"14.00\" fill=\"#000000\">entropy = 0.0</text>\n",
       "<text text-anchor=\"middle\" x=\"1563.5\" y=\"-387.3\" font-family=\"Helvetica,sans-Serif\" font-size=\"14.00\" fill=\"#000000\">samples = 16</text>\n",
       "<text text-anchor=\"middle\" x=\"1563.5\" y=\"-372.3\" font-family=\"Helvetica,sans-Serif\" font-size=\"14.00\" fill=\"#000000\">value = [0, 16]</text>\n",
       "<text text-anchor=\"middle\" x=\"1563.5\" y=\"-357.3\" font-family=\"Helvetica,sans-Serif\" font-size=\"14.00\" fill=\"#000000\">class = 1</text>\n",
       "</g>\n",
       "<!-- 52&#45;&gt;56 -->\n",
       "<g id=\"edge56\" class=\"edge\">\n",
       "<title>52&#45;&gt;56</title>\n",
       "<path fill=\"none\" stroke=\"#000000\" d=\"M1562.8498,-460.8796C1562.9394,-450.2134 1563.0361,-438.7021 1563.1269,-427.9015\"/>\n",
       "<polygon fill=\"#000000\" stroke=\"#000000\" points=\"1566.6274,-427.844 1563.2116,-417.8149 1559.6276,-427.7851 1566.6274,-427.844\"/>\n",
       "</g>\n",
       "<!-- 54 -->\n",
       "<g id=\"node55\" class=\"node\">\n",
       "<title>54</title>\n",
       "<path fill=\"#399de5\" stroke=\"#000000\" d=\"M1414,-298.5C1414,-298.5 1337,-298.5 1337,-298.5 1331,-298.5 1325,-292.5 1325,-286.5 1325,-286.5 1325,-242.5 1325,-242.5 1325,-236.5 1331,-230.5 1337,-230.5 1337,-230.5 1414,-230.5 1414,-230.5 1420,-230.5 1426,-236.5 1426,-242.5 1426,-242.5 1426,-286.5 1426,-286.5 1426,-292.5 1420,-298.5 1414,-298.5\"/>\n",
       "<text text-anchor=\"middle\" x=\"1375.5\" y=\"-283.3\" font-family=\"Helvetica,sans-Serif\" font-size=\"14.00\" fill=\"#000000\">entropy = 0.0</text>\n",
       "<text text-anchor=\"middle\" x=\"1375.5\" y=\"-268.3\" font-family=\"Helvetica,sans-Serif\" font-size=\"14.00\" fill=\"#000000\">samples = 2</text>\n",
       "<text text-anchor=\"middle\" x=\"1375.5\" y=\"-253.3\" font-family=\"Helvetica,sans-Serif\" font-size=\"14.00\" fill=\"#000000\">value = [0, 2]</text>\n",
       "<text text-anchor=\"middle\" x=\"1375.5\" y=\"-238.3\" font-family=\"Helvetica,sans-Serif\" font-size=\"14.00\" fill=\"#000000\">class = 1</text>\n",
       "</g>\n",
       "<!-- 53&#45;&gt;54 -->\n",
       "<g id=\"edge54\" class=\"edge\">\n",
       "<title>53&#45;&gt;54</title>\n",
       "<path fill=\"none\" stroke=\"#000000\" d=\"M1409.3129,-341.8796C1404.556,-330.9935 1399.4143,-319.227 1394.6108,-308.2344\"/>\n",
       "<polygon fill=\"#000000\" stroke=\"#000000\" points=\"1397.7061,-306.5768 1390.4948,-298.8149 1391.2918,-309.3798 1397.7061,-306.5768\"/>\n",
       "</g>\n",
       "<!-- 55 -->\n",
       "<g id=\"node56\" class=\"node\">\n",
       "<title>55</title>\n",
       "<path fill=\"#e58139\" stroke=\"#000000\" d=\"M1533,-298.5C1533,-298.5 1456,-298.5 1456,-298.5 1450,-298.5 1444,-292.5 1444,-286.5 1444,-286.5 1444,-242.5 1444,-242.5 1444,-236.5 1450,-230.5 1456,-230.5 1456,-230.5 1533,-230.5 1533,-230.5 1539,-230.5 1545,-236.5 1545,-242.5 1545,-242.5 1545,-286.5 1545,-286.5 1545,-292.5 1539,-298.5 1533,-298.5\"/>\n",
       "<text text-anchor=\"middle\" x=\"1494.5\" y=\"-283.3\" font-family=\"Helvetica,sans-Serif\" font-size=\"14.00\" fill=\"#000000\">entropy = 0.0</text>\n",
       "<text text-anchor=\"middle\" x=\"1494.5\" y=\"-268.3\" font-family=\"Helvetica,sans-Serif\" font-size=\"14.00\" fill=\"#000000\">samples = 1</text>\n",
       "<text text-anchor=\"middle\" x=\"1494.5\" y=\"-253.3\" font-family=\"Helvetica,sans-Serif\" font-size=\"14.00\" fill=\"#000000\">value = [1, 0]</text>\n",
       "<text text-anchor=\"middle\" x=\"1494.5\" y=\"-238.3\" font-family=\"Helvetica,sans-Serif\" font-size=\"14.00\" fill=\"#000000\">class = 0</text>\n",
       "</g>\n",
       "<!-- 53&#45;&gt;55 -->\n",
       "<g id=\"edge55\" class=\"edge\">\n",
       "<title>53&#45;&gt;55</title>\n",
       "<path fill=\"none\" stroke=\"#000000\" d=\"M1450.9333,-341.8796C1457.1863,-330.7735 1463.9552,-318.7513 1470.251,-307.5691\"/>\n",
       "<polygon fill=\"#000000\" stroke=\"#000000\" points=\"1473.3235,-309.2459 1475.1798,-298.8149 1467.2239,-305.8116 1473.3235,-309.2459\"/>\n",
       "</g>\n",
       "<!-- 58 -->\n",
       "<g id=\"node59\" class=\"node\">\n",
       "<title>58</title>\n",
       "<path fill=\"#55abe9\" stroke=\"#000000\" d=\"M1741.5,-425C1741.5,-425 1647.5,-425 1647.5,-425 1641.5,-425 1635.5,-419 1635.5,-413 1635.5,-413 1635.5,-354 1635.5,-354 1635.5,-348 1641.5,-342 1647.5,-342 1647.5,-342 1741.5,-342 1741.5,-342 1747.5,-342 1753.5,-348 1753.5,-354 1753.5,-354 1753.5,-413 1753.5,-413 1753.5,-419 1747.5,-425 1741.5,-425\"/>\n",
       "<text text-anchor=\"middle\" x=\"1694.5\" y=\"-409.8\" font-family=\"Helvetica,sans-Serif\" font-size=\"14.00\" fill=\"#000000\">fbs &lt;= 0.5</text>\n",
       "<text text-anchor=\"middle\" x=\"1694.5\" y=\"-394.8\" font-family=\"Helvetica,sans-Serif\" font-size=\"14.00\" fill=\"#000000\">entropy = 0.544</text>\n",
       "<text text-anchor=\"middle\" x=\"1694.5\" y=\"-379.8\" font-family=\"Helvetica,sans-Serif\" font-size=\"14.00\" fill=\"#000000\">samples = 8</text>\n",
       "<text text-anchor=\"middle\" x=\"1694.5\" y=\"-364.8\" font-family=\"Helvetica,sans-Serif\" font-size=\"14.00\" fill=\"#000000\">value = [1, 7]</text>\n",
       "<text text-anchor=\"middle\" x=\"1694.5\" y=\"-349.8\" font-family=\"Helvetica,sans-Serif\" font-size=\"14.00\" fill=\"#000000\">class = 1</text>\n",
       "</g>\n",
       "<!-- 57&#45;&gt;58 -->\n",
       "<g id=\"edge58\" class=\"edge\">\n",
       "<title>57&#45;&gt;58</title>\n",
       "<path fill=\"none\" stroke=\"#000000\" d=\"M1694.5,-460.8796C1694.5,-452.6838 1694.5,-443.9891 1694.5,-435.5013\"/>\n",
       "<polygon fill=\"#000000\" stroke=\"#000000\" points=\"1698.0001,-435.298 1694.5,-425.2981 1691.0001,-435.2981 1698.0001,-435.298\"/>\n",
       "</g>\n",
       "<!-- 61 -->\n",
       "<g id=\"node62\" class=\"node\">\n",
       "<title>61</title>\n",
       "<path fill=\"#e58139\" stroke=\"#000000\" d=\"M1861,-417.5C1861,-417.5 1784,-417.5 1784,-417.5 1778,-417.5 1772,-411.5 1772,-405.5 1772,-405.5 1772,-361.5 1772,-361.5 1772,-355.5 1778,-349.5 1784,-349.5 1784,-349.5 1861,-349.5 1861,-349.5 1867,-349.5 1873,-355.5 1873,-361.5 1873,-361.5 1873,-405.5 1873,-405.5 1873,-411.5 1867,-417.5 1861,-417.5\"/>\n",
       "<text text-anchor=\"middle\" x=\"1822.5\" y=\"-402.3\" font-family=\"Helvetica,sans-Serif\" font-size=\"14.00\" fill=\"#000000\">entropy = 0.0</text>\n",
       "<text text-anchor=\"middle\" x=\"1822.5\" y=\"-387.3\" font-family=\"Helvetica,sans-Serif\" font-size=\"14.00\" fill=\"#000000\">samples = 4</text>\n",
       "<text text-anchor=\"middle\" x=\"1822.5\" y=\"-372.3\" font-family=\"Helvetica,sans-Serif\" font-size=\"14.00\" fill=\"#000000\">value = [4, 0]</text>\n",
       "<text text-anchor=\"middle\" x=\"1822.5\" y=\"-357.3\" font-family=\"Helvetica,sans-Serif\" font-size=\"14.00\" fill=\"#000000\">class = 0</text>\n",
       "</g>\n",
       "<!-- 57&#45;&gt;61 -->\n",
       "<g id=\"edge61\" class=\"edge\">\n",
       "<title>57&#45;&gt;61</title>\n",
       "<path fill=\"none\" stroke=\"#000000\" d=\"M1739.2682,-460.8796C1751.8056,-449.2237 1765.4284,-436.5587 1777.953,-424.9148\"/>\n",
       "<polygon fill=\"#000000\" stroke=\"#000000\" points=\"1780.6491,-427.1872 1785.5898,-417.8149 1775.8828,-422.0605 1780.6491,-427.1872\"/>\n",
       "</g>\n",
       "<!-- 59 -->\n",
       "<g id=\"node60\" class=\"node\">\n",
       "<title>59</title>\n",
       "<path fill=\"#399de5\" stroke=\"#000000\" d=\"M1666,-298.5C1666,-298.5 1589,-298.5 1589,-298.5 1583,-298.5 1577,-292.5 1577,-286.5 1577,-286.5 1577,-242.5 1577,-242.5 1577,-236.5 1583,-230.5 1589,-230.5 1589,-230.5 1666,-230.5 1666,-230.5 1672,-230.5 1678,-236.5 1678,-242.5 1678,-242.5 1678,-286.5 1678,-286.5 1678,-292.5 1672,-298.5 1666,-298.5\"/>\n",
       "<text text-anchor=\"middle\" x=\"1627.5\" y=\"-283.3\" font-family=\"Helvetica,sans-Serif\" font-size=\"14.00\" fill=\"#000000\">entropy = 0.0</text>\n",
       "<text text-anchor=\"middle\" x=\"1627.5\" y=\"-268.3\" font-family=\"Helvetica,sans-Serif\" font-size=\"14.00\" fill=\"#000000\">samples = 7</text>\n",
       "<text text-anchor=\"middle\" x=\"1627.5\" y=\"-253.3\" font-family=\"Helvetica,sans-Serif\" font-size=\"14.00\" fill=\"#000000\">value = [0, 7]</text>\n",
       "<text text-anchor=\"middle\" x=\"1627.5\" y=\"-238.3\" font-family=\"Helvetica,sans-Serif\" font-size=\"14.00\" fill=\"#000000\">class = 1</text>\n",
       "</g>\n",
       "<!-- 58&#45;&gt;59 -->\n",
       "<g id=\"edge59\" class=\"edge\">\n",
       "<title>58&#45;&gt;59</title>\n",
       "<path fill=\"none\" stroke=\"#000000\" d=\"M1671.0667,-341.8796C1664.8137,-330.7735 1658.0448,-318.7513 1651.749,-307.5691\"/>\n",
       "<polygon fill=\"#000000\" stroke=\"#000000\" points=\"1654.7761,-305.8116 1646.8202,-298.8149 1648.6765,-309.2459 1654.7761,-305.8116\"/>\n",
       "</g>\n",
       "<!-- 60 -->\n",
       "<g id=\"node61\" class=\"node\">\n",
       "<title>60</title>\n",
       "<path fill=\"#e58139\" stroke=\"#000000\" d=\"M1785,-298.5C1785,-298.5 1708,-298.5 1708,-298.5 1702,-298.5 1696,-292.5 1696,-286.5 1696,-286.5 1696,-242.5 1696,-242.5 1696,-236.5 1702,-230.5 1708,-230.5 1708,-230.5 1785,-230.5 1785,-230.5 1791,-230.5 1797,-236.5 1797,-242.5 1797,-242.5 1797,-286.5 1797,-286.5 1797,-292.5 1791,-298.5 1785,-298.5\"/>\n",
       "<text text-anchor=\"middle\" x=\"1746.5\" y=\"-283.3\" font-family=\"Helvetica,sans-Serif\" font-size=\"14.00\" fill=\"#000000\">entropy = 0.0</text>\n",
       "<text text-anchor=\"middle\" x=\"1746.5\" y=\"-268.3\" font-family=\"Helvetica,sans-Serif\" font-size=\"14.00\" fill=\"#000000\">samples = 1</text>\n",
       "<text text-anchor=\"middle\" x=\"1746.5\" y=\"-253.3\" font-family=\"Helvetica,sans-Serif\" font-size=\"14.00\" fill=\"#000000\">value = [1, 0]</text>\n",
       "<text text-anchor=\"middle\" x=\"1746.5\" y=\"-238.3\" font-family=\"Helvetica,sans-Serif\" font-size=\"14.00\" fill=\"#000000\">class = 0</text>\n",
       "</g>\n",
       "<!-- 58&#45;&gt;60 -->\n",
       "<g id=\"edge60\" class=\"edge\">\n",
       "<title>58&#45;&gt;60</title>\n",
       "<path fill=\"none\" stroke=\"#000000\" d=\"M1712.6871,-341.8796C1717.444,-330.9935 1722.5857,-319.227 1727.3892,-308.2344\"/>\n",
       "<polygon fill=\"#000000\" stroke=\"#000000\" points=\"1730.7082,-309.3798 1731.5052,-298.8149 1724.2939,-306.5768 1730.7082,-309.3798\"/>\n",
       "</g>\n",
       "<!-- 63 -->\n",
       "<g id=\"node64\" class=\"node\">\n",
       "<title>63</title>\n",
       "<path fill=\"#e58139\" stroke=\"#000000\" d=\"M1762,-774.5C1762,-774.5 1685,-774.5 1685,-774.5 1679,-774.5 1673,-768.5 1673,-762.5 1673,-762.5 1673,-718.5 1673,-718.5 1673,-712.5 1679,-706.5 1685,-706.5 1685,-706.5 1762,-706.5 1762,-706.5 1768,-706.5 1774,-712.5 1774,-718.5 1774,-718.5 1774,-762.5 1774,-762.5 1774,-768.5 1768,-774.5 1762,-774.5\"/>\n",
       "<text text-anchor=\"middle\" x=\"1723.5\" y=\"-759.3\" font-family=\"Helvetica,sans-Serif\" font-size=\"14.00\" fill=\"#000000\">entropy = 0.0</text>\n",
       "<text text-anchor=\"middle\" x=\"1723.5\" y=\"-744.3\" font-family=\"Helvetica,sans-Serif\" font-size=\"14.00\" fill=\"#000000\">samples = 4</text>\n",
       "<text text-anchor=\"middle\" x=\"1723.5\" y=\"-729.3\" font-family=\"Helvetica,sans-Serif\" font-size=\"14.00\" fill=\"#000000\">value = [4, 0]</text>\n",
       "<text text-anchor=\"middle\" x=\"1723.5\" y=\"-714.3\" font-family=\"Helvetica,sans-Serif\" font-size=\"14.00\" fill=\"#000000\">class = 0</text>\n",
       "</g>\n",
       "<!-- 62&#45;&gt;63 -->\n",
       "<g id=\"edge63\" class=\"edge\">\n",
       "<title>62&#45;&gt;63</title>\n",
       "<path fill=\"none\" stroke=\"#000000\" d=\"M1723.5,-817.8796C1723.5,-807.2134 1723.5,-795.7021 1723.5,-784.9015\"/>\n",
       "<polygon fill=\"#000000\" stroke=\"#000000\" points=\"1727.0001,-784.8149 1723.5,-774.8149 1720.0001,-784.815 1727.0001,-784.8149\"/>\n",
       "</g>\n",
       "<!-- 64 -->\n",
       "<g id=\"node65\" class=\"node\">\n",
       "<title>64</title>\n",
       "<path fill=\"#add7f4\" stroke=\"#000000\" d=\"M1926,-782C1926,-782 1829,-782 1829,-782 1823,-782 1817,-776 1817,-770 1817,-770 1817,-711 1817,-711 1817,-705 1823,-699 1829,-699 1829,-699 1926,-699 1926,-699 1932,-699 1938,-705 1938,-711 1938,-711 1938,-770 1938,-770 1938,-776 1932,-782 1926,-782\"/>\n",
       "<text text-anchor=\"middle\" x=\"1877.5\" y=\"-766.8\" font-family=\"Helvetica,sans-Serif\" font-size=\"14.00\" fill=\"#000000\">oldpeak &lt;= 1.95</text>\n",
       "<text text-anchor=\"middle\" x=\"1877.5\" y=\"-751.8\" font-family=\"Helvetica,sans-Serif\" font-size=\"14.00\" fill=\"#000000\">entropy = 0.951</text>\n",
       "<text text-anchor=\"middle\" x=\"1877.5\" y=\"-736.8\" font-family=\"Helvetica,sans-Serif\" font-size=\"14.00\" fill=\"#000000\">samples = 27</text>\n",
       "<text text-anchor=\"middle\" x=\"1877.5\" y=\"-721.8\" font-family=\"Helvetica,sans-Serif\" font-size=\"14.00\" fill=\"#000000\">value = [10, 17]</text>\n",
       "<text text-anchor=\"middle\" x=\"1877.5\" y=\"-706.8\" font-family=\"Helvetica,sans-Serif\" font-size=\"14.00\" fill=\"#000000\">class = 1</text>\n",
       "</g>\n",
       "<!-- 62&#45;&gt;64 -->\n",
       "<g id=\"edge64\" class=\"edge\">\n",
       "<title>62&#45;&gt;64</title>\n",
       "<path fill=\"none\" stroke=\"#000000\" d=\"M1777.3617,-817.8796C1789.6709,-808.368 1802.8497,-798.1843 1815.4704,-788.432\"/>\n",
       "<polygon fill=\"#000000\" stroke=\"#000000\" points=\"1817.8959,-790.9809 1823.6687,-782.0969 1813.6157,-785.4419 1817.8959,-790.9809\"/>\n",
       "</g>\n",
       "<!-- 65 -->\n",
       "<g id=\"node66\" class=\"node\">\n",
       "<title>65</title>\n",
       "<path fill=\"#77bced\" stroke=\"#000000\" d=\"M1924.5,-663C1924.5,-663 1830.5,-663 1830.5,-663 1824.5,-663 1818.5,-657 1818.5,-651 1818.5,-651 1818.5,-592 1818.5,-592 1818.5,-586 1824.5,-580 1830.5,-580 1830.5,-580 1924.5,-580 1924.5,-580 1930.5,-580 1936.5,-586 1936.5,-592 1936.5,-592 1936.5,-651 1936.5,-651 1936.5,-657 1930.5,-663 1924.5,-663\"/>\n",
       "<text text-anchor=\"middle\" x=\"1877.5\" y=\"-647.8\" font-family=\"Helvetica,sans-Serif\" font-size=\"14.00\" fill=\"#000000\">chol &lt;= 228.0</text>\n",
       "<text text-anchor=\"middle\" x=\"1877.5\" y=\"-632.8\" font-family=\"Helvetica,sans-Serif\" font-size=\"14.00\" fill=\"#000000\">entropy = 0.792</text>\n",
       "<text text-anchor=\"middle\" x=\"1877.5\" y=\"-617.8\" font-family=\"Helvetica,sans-Serif\" font-size=\"14.00\" fill=\"#000000\">samples = 21</text>\n",
       "<text text-anchor=\"middle\" x=\"1877.5\" y=\"-602.8\" font-family=\"Helvetica,sans-Serif\" font-size=\"14.00\" fill=\"#000000\">value = [5, 16]</text>\n",
       "<text text-anchor=\"middle\" x=\"1877.5\" y=\"-587.8\" font-family=\"Helvetica,sans-Serif\" font-size=\"14.00\" fill=\"#000000\">class = 1</text>\n",
       "</g>\n",
       "<!-- 64&#45;&gt;65 -->\n",
       "<g id=\"edge65\" class=\"edge\">\n",
       "<title>64&#45;&gt;65</title>\n",
       "<path fill=\"none\" stroke=\"#000000\" d=\"M1877.5,-698.8796C1877.5,-690.6838 1877.5,-681.9891 1877.5,-673.5013\"/>\n",
       "<polygon fill=\"#000000\" stroke=\"#000000\" points=\"1881.0001,-673.298 1877.5,-663.2981 1874.0001,-673.2981 1881.0001,-673.298\"/>\n",
       "</g>\n",
       "<!-- 76 -->\n",
       "<g id=\"node77\" class=\"node\">\n",
       "<title>76</title>\n",
       "<path fill=\"#ea9a61\" stroke=\"#000000\" d=\"M2109.5,-663C2109.5,-663 2023.5,-663 2023.5,-663 2017.5,-663 2011.5,-657 2011.5,-651 2011.5,-651 2011.5,-592 2011.5,-592 2011.5,-586 2017.5,-580 2023.5,-580 2023.5,-580 2109.5,-580 2109.5,-580 2115.5,-580 2121.5,-586 2121.5,-592 2121.5,-592 2121.5,-651 2121.5,-651 2121.5,-657 2115.5,-663 2109.5,-663\"/>\n",
       "<text text-anchor=\"middle\" x=\"2066.5\" y=\"-647.8\" font-family=\"Helvetica,sans-Serif\" font-size=\"14.00\" fill=\"#000000\">slope &lt;= 0.5</text>\n",
       "<text text-anchor=\"middle\" x=\"2066.5\" y=\"-632.8\" font-family=\"Helvetica,sans-Serif\" font-size=\"14.00\" fill=\"#000000\">entropy = 0.65</text>\n",
       "<text text-anchor=\"middle\" x=\"2066.5\" y=\"-617.8\" font-family=\"Helvetica,sans-Serif\" font-size=\"14.00\" fill=\"#000000\">samples = 6</text>\n",
       "<text text-anchor=\"middle\" x=\"2066.5\" y=\"-602.8\" font-family=\"Helvetica,sans-Serif\" font-size=\"14.00\" fill=\"#000000\">value = [5, 1]</text>\n",
       "<text text-anchor=\"middle\" x=\"2066.5\" y=\"-587.8\" font-family=\"Helvetica,sans-Serif\" font-size=\"14.00\" fill=\"#000000\">class = 0</text>\n",
       "</g>\n",
       "<!-- 64&#45;&gt;76 -->\n",
       "<g id=\"edge76\" class=\"edge\">\n",
       "<title>64&#45;&gt;76</title>\n",
       "<path fill=\"none\" stroke=\"#000000\" d=\"M1938.0806,-702.3566C1958.7683,-689.3311 1981.9565,-674.7311 2002.8766,-661.5592\"/>\n",
       "<polygon fill=\"#000000\" stroke=\"#000000\" points=\"2004.7844,-664.494 2011.3819,-656.204 2001.0547,-658.5703 2004.7844,-664.494\"/>\n",
       "</g>\n",
       "<!-- 66 -->\n",
       "<g id=\"node67\" class=\"node\">\n",
       "<title>66</title>\n",
       "<path fill=\"#399de5\" stroke=\"#000000\" d=\"M1857,-536.5C1857,-536.5 1780,-536.5 1780,-536.5 1774,-536.5 1768,-530.5 1768,-524.5 1768,-524.5 1768,-480.5 1768,-480.5 1768,-474.5 1774,-468.5 1780,-468.5 1780,-468.5 1857,-468.5 1857,-468.5 1863,-468.5 1869,-474.5 1869,-480.5 1869,-480.5 1869,-524.5 1869,-524.5 1869,-530.5 1863,-536.5 1857,-536.5\"/>\n",
       "<text text-anchor=\"middle\" x=\"1818.5\" y=\"-521.3\" font-family=\"Helvetica,sans-Serif\" font-size=\"14.00\" fill=\"#000000\">entropy = 0.0</text>\n",
       "<text text-anchor=\"middle\" x=\"1818.5\" y=\"-506.3\" font-family=\"Helvetica,sans-Serif\" font-size=\"14.00\" fill=\"#000000\">samples = 9</text>\n",
       "<text text-anchor=\"middle\" x=\"1818.5\" y=\"-491.3\" font-family=\"Helvetica,sans-Serif\" font-size=\"14.00\" fill=\"#000000\">value = [0, 9]</text>\n",
       "<text text-anchor=\"middle\" x=\"1818.5\" y=\"-476.3\" font-family=\"Helvetica,sans-Serif\" font-size=\"14.00\" fill=\"#000000\">class = 1</text>\n",
       "</g>\n",
       "<!-- 65&#45;&gt;66 -->\n",
       "<g id=\"edge66\" class=\"edge\">\n",
       "<title>65&#45;&gt;66</title>\n",
       "<path fill=\"none\" stroke=\"#000000\" d=\"M1856.8647,-579.8796C1851.4128,-568.8835 1845.5157,-556.9893 1840.0184,-545.9015\"/>\n",
       "<polygon fill=\"#000000\" stroke=\"#000000\" points=\"1843.0911,-544.2195 1835.5133,-536.8149 1836.8196,-547.3289 1843.0911,-544.2195\"/>\n",
       "</g>\n",
       "<!-- 67 -->\n",
       "<g id=\"node68\" class=\"node\">\n",
       "<title>67</title>\n",
       "<path fill=\"#c6e3f8\" stroke=\"#000000\" d=\"M1985.5,-544C1985.5,-544 1899.5,-544 1899.5,-544 1893.5,-544 1887.5,-538 1887.5,-532 1887.5,-532 1887.5,-473 1887.5,-473 1887.5,-467 1893.5,-461 1899.5,-461 1899.5,-461 1985.5,-461 1985.5,-461 1991.5,-461 1997.5,-467 1997.5,-473 1997.5,-473 1997.5,-532 1997.5,-532 1997.5,-538 1991.5,-544 1985.5,-544\"/>\n",
       "<text text-anchor=\"middle\" x=\"1942.5\" y=\"-528.8\" font-family=\"Helvetica,sans-Serif\" font-size=\"14.00\" fill=\"#000000\">chol &lt;= 230.0</text>\n",
       "<text text-anchor=\"middle\" x=\"1942.5\" y=\"-513.8\" font-family=\"Helvetica,sans-Serif\" font-size=\"14.00\" fill=\"#000000\">entropy = 0.98</text>\n",
       "<text text-anchor=\"middle\" x=\"1942.5\" y=\"-498.8\" font-family=\"Helvetica,sans-Serif\" font-size=\"14.00\" fill=\"#000000\">samples = 12</text>\n",
       "<text text-anchor=\"middle\" x=\"1942.5\" y=\"-483.8\" font-family=\"Helvetica,sans-Serif\" font-size=\"14.00\" fill=\"#000000\">value = [5, 7]</text>\n",
       "<text text-anchor=\"middle\" x=\"1942.5\" y=\"-468.8\" font-family=\"Helvetica,sans-Serif\" font-size=\"14.00\" fill=\"#000000\">class = 1</text>\n",
       "</g>\n",
       "<!-- 65&#45;&gt;67 -->\n",
       "<g id=\"edge67\" class=\"edge\">\n",
       "<title>65&#45;&gt;67</title>\n",
       "<path fill=\"none\" stroke=\"#000000\" d=\"M1900.2338,-579.8796C1904.9565,-571.2335 1909.9824,-562.0322 1914.859,-553.1042\"/>\n",
       "<polygon fill=\"#000000\" stroke=\"#000000\" points=\"1917.947,-554.752 1919.6691,-544.2981 1911.8037,-551.3964 1917.947,-554.752\"/>\n",
       "</g>\n",
       "<!-- 68 -->\n",
       "<g id=\"node69\" class=\"node\">\n",
       "<title>68</title>\n",
       "<path fill=\"#e58139\" stroke=\"#000000\" d=\"M1980,-417.5C1980,-417.5 1903,-417.5 1903,-417.5 1897,-417.5 1891,-411.5 1891,-405.5 1891,-405.5 1891,-361.5 1891,-361.5 1891,-355.5 1897,-349.5 1903,-349.5 1903,-349.5 1980,-349.5 1980,-349.5 1986,-349.5 1992,-355.5 1992,-361.5 1992,-361.5 1992,-405.5 1992,-405.5 1992,-411.5 1986,-417.5 1980,-417.5\"/>\n",
       "<text text-anchor=\"middle\" x=\"1941.5\" y=\"-402.3\" font-family=\"Helvetica,sans-Serif\" font-size=\"14.00\" fill=\"#000000\">entropy = 0.0</text>\n",
       "<text text-anchor=\"middle\" x=\"1941.5\" y=\"-387.3\" font-family=\"Helvetica,sans-Serif\" font-size=\"14.00\" fill=\"#000000\">samples = 2</text>\n",
       "<text text-anchor=\"middle\" x=\"1941.5\" y=\"-372.3\" font-family=\"Helvetica,sans-Serif\" font-size=\"14.00\" fill=\"#000000\">value = [2, 0]</text>\n",
       "<text text-anchor=\"middle\" x=\"1941.5\" y=\"-357.3\" font-family=\"Helvetica,sans-Serif\" font-size=\"14.00\" fill=\"#000000\">class = 0</text>\n",
       "</g>\n",
       "<!-- 67&#45;&gt;68 -->\n",
       "<g id=\"edge68\" class=\"edge\">\n",
       "<title>67&#45;&gt;68</title>\n",
       "<path fill=\"none\" stroke=\"#000000\" d=\"M1942.1502,-460.8796C1942.0606,-450.2134 1941.9639,-438.7021 1941.8731,-427.9015\"/>\n",
       "<polygon fill=\"#000000\" stroke=\"#000000\" points=\"1945.3724,-427.7851 1941.7884,-417.8149 1938.3726,-427.844 1945.3724,-427.7851\"/>\n",
       "</g>\n",
       "<!-- 69 -->\n",
       "<g id=\"node70\" class=\"node\">\n",
       "<title>69</title>\n",
       "<path fill=\"#8ec7f0\" stroke=\"#000000\" d=\"M2127,-425C2127,-425 2022,-425 2022,-425 2016,-425 2010,-419 2010,-413 2010,-413 2010,-354 2010,-354 2010,-348 2016,-342 2022,-342 2022,-342 2127,-342 2127,-342 2133,-342 2139,-348 2139,-354 2139,-354 2139,-413 2139,-413 2139,-419 2133,-425 2127,-425\"/>\n",
       "<text text-anchor=\"middle\" x=\"2074.5\" y=\"-409.8\" font-family=\"Helvetica,sans-Serif\" font-size=\"14.00\" fill=\"#000000\">trestbps &lt;= 165.0</text>\n",
       "<text text-anchor=\"middle\" x=\"2074.5\" y=\"-394.8\" font-family=\"Helvetica,sans-Serif\" font-size=\"14.00\" fill=\"#000000\">entropy = 0.881</text>\n",
       "<text text-anchor=\"middle\" x=\"2074.5\" y=\"-379.8\" font-family=\"Helvetica,sans-Serif\" font-size=\"14.00\" fill=\"#000000\">samples = 10</text>\n",
       "<text text-anchor=\"middle\" x=\"2074.5\" y=\"-364.8\" font-family=\"Helvetica,sans-Serif\" font-size=\"14.00\" fill=\"#000000\">value = [3, 7]</text>\n",
       "<text text-anchor=\"middle\" x=\"2074.5\" y=\"-349.8\" font-family=\"Helvetica,sans-Serif\" font-size=\"14.00\" fill=\"#000000\">class = 1</text>\n",
       "</g>\n",
       "<!-- 67&#45;&gt;69 -->\n",
       "<g id=\"edge69\" class=\"edge\">\n",
       "<title>67&#45;&gt;69</title>\n",
       "<path fill=\"none\" stroke=\"#000000\" d=\"M1988.6672,-460.8796C1998.9571,-451.6031 2009.956,-441.6874 2020.5287,-432.1559\"/>\n",
       "<polygon fill=\"#000000\" stroke=\"#000000\" points=\"2023.0519,-434.5935 2028.1358,-425.2981 2018.3648,-429.3944 2023.0519,-434.5935\"/>\n",
       "</g>\n",
       "<!-- 70 -->\n",
       "<g id=\"node71\" class=\"node\">\n",
       "<title>70</title>\n",
       "<path fill=\"#55abe9\" stroke=\"#000000\" d=\"M2057.5,-306C2057.5,-306 1963.5,-306 1963.5,-306 1957.5,-306 1951.5,-300 1951.5,-294 1951.5,-294 1951.5,-235 1951.5,-235 1951.5,-229 1957.5,-223 1963.5,-223 1963.5,-223 2057.5,-223 2057.5,-223 2063.5,-223 2069.5,-229 2069.5,-235 2069.5,-235 2069.5,-294 2069.5,-294 2069.5,-300 2063.5,-306 2057.5,-306\"/>\n",
       "<text text-anchor=\"middle\" x=\"2010.5\" y=\"-290.8\" font-family=\"Helvetica,sans-Serif\" font-size=\"14.00\" fill=\"#000000\">cp &lt;= 1.5</text>\n",
       "<text text-anchor=\"middle\" x=\"2010.5\" y=\"-275.8\" font-family=\"Helvetica,sans-Serif\" font-size=\"14.00\" fill=\"#000000\">entropy = 0.544</text>\n",
       "<text text-anchor=\"middle\" x=\"2010.5\" y=\"-260.8\" font-family=\"Helvetica,sans-Serif\" font-size=\"14.00\" fill=\"#000000\">samples = 8</text>\n",
       "<text text-anchor=\"middle\" x=\"2010.5\" y=\"-245.8\" font-family=\"Helvetica,sans-Serif\" font-size=\"14.00\" fill=\"#000000\">value = [1, 7]</text>\n",
       "<text text-anchor=\"middle\" x=\"2010.5\" y=\"-230.8\" font-family=\"Helvetica,sans-Serif\" font-size=\"14.00\" fill=\"#000000\">class = 1</text>\n",
       "</g>\n",
       "<!-- 69&#45;&gt;70 -->\n",
       "<g id=\"edge70\" class=\"edge\">\n",
       "<title>69&#45;&gt;70</title>\n",
       "<path fill=\"none\" stroke=\"#000000\" d=\"M2052.1159,-341.8796C2047.5144,-333.3236 2042.6204,-324.2238 2037.8658,-315.3833\"/>\n",
       "<polygon fill=\"#000000\" stroke=\"#000000\" points=\"2040.7988,-313.4473 2032.9796,-306.2981 2034.6338,-316.763 2040.7988,-313.4473\"/>\n",
       "</g>\n",
       "<!-- 75 -->\n",
       "<g id=\"node76\" class=\"node\">\n",
       "<title>75</title>\n",
       "<path fill=\"#e58139\" stroke=\"#000000\" d=\"M2177,-298.5C2177,-298.5 2100,-298.5 2100,-298.5 2094,-298.5 2088,-292.5 2088,-286.5 2088,-286.5 2088,-242.5 2088,-242.5 2088,-236.5 2094,-230.5 2100,-230.5 2100,-230.5 2177,-230.5 2177,-230.5 2183,-230.5 2189,-236.5 2189,-242.5 2189,-242.5 2189,-286.5 2189,-286.5 2189,-292.5 2183,-298.5 2177,-298.5\"/>\n",
       "<text text-anchor=\"middle\" x=\"2138.5\" y=\"-283.3\" font-family=\"Helvetica,sans-Serif\" font-size=\"14.00\" fill=\"#000000\">entropy = 0.0</text>\n",
       "<text text-anchor=\"middle\" x=\"2138.5\" y=\"-268.3\" font-family=\"Helvetica,sans-Serif\" font-size=\"14.00\" fill=\"#000000\">samples = 2</text>\n",
       "<text text-anchor=\"middle\" x=\"2138.5\" y=\"-253.3\" font-family=\"Helvetica,sans-Serif\" font-size=\"14.00\" fill=\"#000000\">value = [2, 0]</text>\n",
       "<text text-anchor=\"middle\" x=\"2138.5\" y=\"-238.3\" font-family=\"Helvetica,sans-Serif\" font-size=\"14.00\" fill=\"#000000\">class = 0</text>\n",
       "</g>\n",
       "<!-- 69&#45;&gt;75 -->\n",
       "<g id=\"edge75\" class=\"edge\">\n",
       "<title>69&#45;&gt;75</title>\n",
       "<path fill=\"none\" stroke=\"#000000\" d=\"M2096.8841,-341.8796C2102.798,-330.8835 2109.1949,-318.9893 2115.158,-307.9015\"/>\n",
       "<polygon fill=\"#000000\" stroke=\"#000000\" points=\"2118.3908,-309.2799 2120.0449,-298.8149 2112.2258,-305.9642 2118.3908,-309.2799\"/>\n",
       "</g>\n",
       "<!-- 71 -->\n",
       "<g id=\"node72\" class=\"node\">\n",
       "<title>71</title>\n",
       "<path fill=\"#ffffff\" stroke=\"#000000\" d=\"M1996,-187C1996,-187 1891,-187 1891,-187 1885,-187 1879,-181 1879,-175 1879,-175 1879,-116 1879,-116 1879,-110 1885,-104 1891,-104 1891,-104 1996,-104 1996,-104 2002,-104 2008,-110 2008,-116 2008,-116 2008,-175 2008,-175 2008,-181 2002,-187 1996,-187\"/>\n",
       "<text text-anchor=\"middle\" x=\"1943.5\" y=\"-171.8\" font-family=\"Helvetica,sans-Serif\" font-size=\"14.00\" fill=\"#000000\">trestbps &lt;= 122.0</text>\n",
       "<text text-anchor=\"middle\" x=\"1943.5\" y=\"-156.8\" font-family=\"Helvetica,sans-Serif\" font-size=\"14.00\" fill=\"#000000\">entropy = 1.0</text>\n",
       "<text text-anchor=\"middle\" x=\"1943.5\" y=\"-141.8\" font-family=\"Helvetica,sans-Serif\" font-size=\"14.00\" fill=\"#000000\">samples = 2</text>\n",
       "<text text-anchor=\"middle\" x=\"1943.5\" y=\"-126.8\" font-family=\"Helvetica,sans-Serif\" font-size=\"14.00\" fill=\"#000000\">value = [1, 1]</text>\n",
       "<text text-anchor=\"middle\" x=\"1943.5\" y=\"-111.8\" font-family=\"Helvetica,sans-Serif\" font-size=\"14.00\" fill=\"#000000\">class = 0</text>\n",
       "</g>\n",
       "<!-- 70&#45;&gt;71 -->\n",
       "<g id=\"edge71\" class=\"edge\">\n",
       "<title>70&#45;&gt;71</title>\n",
       "<path fill=\"none\" stroke=\"#000000\" d=\"M1987.0667,-222.8796C1982.1987,-214.2335 1977.0181,-205.0322 1971.9914,-196.1042\"/>\n",
       "<polygon fill=\"#000000\" stroke=\"#000000\" points=\"1974.9893,-194.2947 1967.0334,-187.2981 1968.8897,-197.729 1974.9893,-194.2947\"/>\n",
       "</g>\n",
       "<!-- 74 -->\n",
       "<g id=\"node75\" class=\"node\">\n",
       "<title>74</title>\n",
       "<path fill=\"#399de5\" stroke=\"#000000\" d=\"M2115,-179.5C2115,-179.5 2038,-179.5 2038,-179.5 2032,-179.5 2026,-173.5 2026,-167.5 2026,-167.5 2026,-123.5 2026,-123.5 2026,-117.5 2032,-111.5 2038,-111.5 2038,-111.5 2115,-111.5 2115,-111.5 2121,-111.5 2127,-117.5 2127,-123.5 2127,-123.5 2127,-167.5 2127,-167.5 2127,-173.5 2121,-179.5 2115,-179.5\"/>\n",
       "<text text-anchor=\"middle\" x=\"2076.5\" y=\"-164.3\" font-family=\"Helvetica,sans-Serif\" font-size=\"14.00\" fill=\"#000000\">entropy = 0.0</text>\n",
       "<text text-anchor=\"middle\" x=\"2076.5\" y=\"-149.3\" font-family=\"Helvetica,sans-Serif\" font-size=\"14.00\" fill=\"#000000\">samples = 6</text>\n",
       "<text text-anchor=\"middle\" x=\"2076.5\" y=\"-134.3\" font-family=\"Helvetica,sans-Serif\" font-size=\"14.00\" fill=\"#000000\">value = [0, 6]</text>\n",
       "<text text-anchor=\"middle\" x=\"2076.5\" y=\"-119.3\" font-family=\"Helvetica,sans-Serif\" font-size=\"14.00\" fill=\"#000000\">class = 1</text>\n",
       "</g>\n",
       "<!-- 70&#45;&gt;74 -->\n",
       "<g id=\"edge74\" class=\"edge\">\n",
       "<title>70&#45;&gt;74</title>\n",
       "<path fill=\"none\" stroke=\"#000000\" d=\"M2033.5836,-222.8796C2039.7433,-211.7735 2046.4111,-199.7513 2052.6129,-188.5691\"/>\n",
       "<polygon fill=\"#000000\" stroke=\"#000000\" points=\"2055.6787,-190.2576 2057.4682,-179.8149 2049.5572,-186.8624 2055.6787,-190.2576\"/>\n",
       "</g>\n",
       "<!-- 72 -->\n",
       "<g id=\"node73\" class=\"node\">\n",
       "<title>72</title>\n",
       "<path fill=\"#399de5\" stroke=\"#000000\" d=\"M1922,-68C1922,-68 1845,-68 1845,-68 1839,-68 1833,-62 1833,-56 1833,-56 1833,-12 1833,-12 1833,-6 1839,0 1845,0 1845,0 1922,0 1922,0 1928,0 1934,-6 1934,-12 1934,-12 1934,-56 1934,-56 1934,-62 1928,-68 1922,-68\"/>\n",
       "<text text-anchor=\"middle\" x=\"1883.5\" y=\"-52.8\" font-family=\"Helvetica,sans-Serif\" font-size=\"14.00\" fill=\"#000000\">entropy = 0.0</text>\n",
       "<text text-anchor=\"middle\" x=\"1883.5\" y=\"-37.8\" font-family=\"Helvetica,sans-Serif\" font-size=\"14.00\" fill=\"#000000\">samples = 1</text>\n",
       "<text text-anchor=\"middle\" x=\"1883.5\" y=\"-22.8\" font-family=\"Helvetica,sans-Serif\" font-size=\"14.00\" fill=\"#000000\">value = [0, 1]</text>\n",
       "<text text-anchor=\"middle\" x=\"1883.5\" y=\"-7.8\" font-family=\"Helvetica,sans-Serif\" font-size=\"14.00\" fill=\"#000000\">class = 1</text>\n",
       "</g>\n",
       "<!-- 71&#45;&gt;72 -->\n",
       "<g id=\"edge72\" class=\"edge\">\n",
       "<title>71&#45;&gt;72</title>\n",
       "<path fill=\"none\" stroke=\"#000000\" d=\"M1921.1582,-103.9815C1916.4598,-95.2504 1911.4929,-86.0202 1906.7617,-77.2281\"/>\n",
       "<polygon fill=\"#000000\" stroke=\"#000000\" points=\"1909.7586,-75.4111 1901.9379,-68.2637 1903.5944,-78.7282 1909.7586,-75.4111\"/>\n",
       "</g>\n",
       "<!-- 73 -->\n",
       "<g id=\"node74\" class=\"node\">\n",
       "<title>73</title>\n",
       "<path fill=\"#e58139\" stroke=\"#000000\" d=\"M2041,-68C2041,-68 1964,-68 1964,-68 1958,-68 1952,-62 1952,-56 1952,-56 1952,-12 1952,-12 1952,-6 1958,0 1964,0 1964,0 2041,0 2041,0 2047,0 2053,-6 2053,-12 2053,-12 2053,-56 2053,-56 2053,-62 2047,-68 2041,-68\"/>\n",
       "<text text-anchor=\"middle\" x=\"2002.5\" y=\"-52.8\" font-family=\"Helvetica,sans-Serif\" font-size=\"14.00\" fill=\"#000000\">entropy = 0.0</text>\n",
       "<text text-anchor=\"middle\" x=\"2002.5\" y=\"-37.8\" font-family=\"Helvetica,sans-Serif\" font-size=\"14.00\" fill=\"#000000\">samples = 1</text>\n",
       "<text text-anchor=\"middle\" x=\"2002.5\" y=\"-22.8\" font-family=\"Helvetica,sans-Serif\" font-size=\"14.00\" fill=\"#000000\">value = [1, 0]</text>\n",
       "<text text-anchor=\"middle\" x=\"2002.5\" y=\"-7.8\" font-family=\"Helvetica,sans-Serif\" font-size=\"14.00\" fill=\"#000000\">class = 0</text>\n",
       "</g>\n",
       "<!-- 71&#45;&gt;73 -->\n",
       "<g id=\"edge73\" class=\"edge\">\n",
       "<title>71&#45;&gt;73</title>\n",
       "<path fill=\"none\" stroke=\"#000000\" d=\"M1965.4694,-103.9815C1970.0895,-95.2504 1974.9736,-86.0202 1979.626,-77.2281\"/>\n",
       "<polygon fill=\"#000000\" stroke=\"#000000\" points=\"1982.7859,-78.7395 1984.3694,-68.2637 1976.5987,-75.4655 1982.7859,-78.7395\"/>\n",
       "</g>\n",
       "<!-- 77 -->\n",
       "<g id=\"node78\" class=\"node\">\n",
       "<title>77</title>\n",
       "<path fill=\"#399de5\" stroke=\"#000000\" d=\"M2105,-536.5C2105,-536.5 2028,-536.5 2028,-536.5 2022,-536.5 2016,-530.5 2016,-524.5 2016,-524.5 2016,-480.5 2016,-480.5 2016,-474.5 2022,-468.5 2028,-468.5 2028,-468.5 2105,-468.5 2105,-468.5 2111,-468.5 2117,-474.5 2117,-480.5 2117,-480.5 2117,-524.5 2117,-524.5 2117,-530.5 2111,-536.5 2105,-536.5\"/>\n",
       "<text text-anchor=\"middle\" x=\"2066.5\" y=\"-521.3\" font-family=\"Helvetica,sans-Serif\" font-size=\"14.00\" fill=\"#000000\">entropy = 0.0</text>\n",
       "<text text-anchor=\"middle\" x=\"2066.5\" y=\"-506.3\" font-family=\"Helvetica,sans-Serif\" font-size=\"14.00\" fill=\"#000000\">samples = 1</text>\n",
       "<text text-anchor=\"middle\" x=\"2066.5\" y=\"-491.3\" font-family=\"Helvetica,sans-Serif\" font-size=\"14.00\" fill=\"#000000\">value = [0, 1]</text>\n",
       "<text text-anchor=\"middle\" x=\"2066.5\" y=\"-476.3\" font-family=\"Helvetica,sans-Serif\" font-size=\"14.00\" fill=\"#000000\">class = 1</text>\n",
       "</g>\n",
       "<!-- 76&#45;&gt;77 -->\n",
       "<g id=\"edge77\" class=\"edge\">\n",
       "<title>76&#45;&gt;77</title>\n",
       "<path fill=\"none\" stroke=\"#000000\" d=\"M2066.5,-579.8796C2066.5,-569.2134 2066.5,-557.7021 2066.5,-546.9015\"/>\n",
       "<polygon fill=\"#000000\" stroke=\"#000000\" points=\"2070.0001,-546.8149 2066.5,-536.8149 2063.0001,-546.815 2070.0001,-546.8149\"/>\n",
       "</g>\n",
       "<!-- 78 -->\n",
       "<g id=\"node79\" class=\"node\">\n",
       "<title>78</title>\n",
       "<path fill=\"#e58139\" stroke=\"#000000\" d=\"M2224,-536.5C2224,-536.5 2147,-536.5 2147,-536.5 2141,-536.5 2135,-530.5 2135,-524.5 2135,-524.5 2135,-480.5 2135,-480.5 2135,-474.5 2141,-468.5 2147,-468.5 2147,-468.5 2224,-468.5 2224,-468.5 2230,-468.5 2236,-474.5 2236,-480.5 2236,-480.5 2236,-524.5 2236,-524.5 2236,-530.5 2230,-536.5 2224,-536.5\"/>\n",
       "<text text-anchor=\"middle\" x=\"2185.5\" y=\"-521.3\" font-family=\"Helvetica,sans-Serif\" font-size=\"14.00\" fill=\"#000000\">entropy = 0.0</text>\n",
       "<text text-anchor=\"middle\" x=\"2185.5\" y=\"-506.3\" font-family=\"Helvetica,sans-Serif\" font-size=\"14.00\" fill=\"#000000\">samples = 5</text>\n",
       "<text text-anchor=\"middle\" x=\"2185.5\" y=\"-491.3\" font-family=\"Helvetica,sans-Serif\" font-size=\"14.00\" fill=\"#000000\">value = [5, 0]</text>\n",
       "<text text-anchor=\"middle\" x=\"2185.5\" y=\"-476.3\" font-family=\"Helvetica,sans-Serif\" font-size=\"14.00\" fill=\"#000000\">class = 0</text>\n",
       "</g>\n",
       "<!-- 76&#45;&gt;78 -->\n",
       "<g id=\"edge78\" class=\"edge\">\n",
       "<title>76&#45;&gt;78</title>\n",
       "<path fill=\"none\" stroke=\"#000000\" d=\"M2108.1204,-579.8796C2119.7763,-568.2237 2132.4413,-555.5587 2144.0852,-543.9148\"/>\n",
       "<polygon fill=\"#000000\" stroke=\"#000000\" points=\"2146.5889,-546.3609 2151.1851,-536.8149 2141.6391,-541.4111 2146.5889,-546.3609\"/>\n",
       "</g>\n",
       "</g>\n",
       "</svg>\n"
      ],
      "text/plain": [
       "<graphviz.files.Source at 0x7f27270afed0>"
      ]
     },
     "metadata": {},
     "output_type": "display_data"
    }
   ],
   "source": [
    "# 이제 export 된 결과물을 다시 불러와야 합니다.\n",
    "# graphviz 패키지와 os 패키지를 불러옵니다.\n",
    "\n",
    "import graphviz\n",
    "import os\n",
    "\n",
    "os.environ[\"PATH\"] += os.pathsep + 'C:/graphviz-2.38/release/bin'\n",
    "\n",
    "with open(\"heart_tree.dot\") as f:\n",
    "    dot_graph = f.read()\n",
    "    display(graphviz.Source(dot_graph))\n"
   ]
  },
  {
   "cell_type": "markdown",
   "metadata": {
    "id": "RnIaCivaxi9w"
   },
   "source": [
    "#### 1.4 결과 확인"
   ]
  },
  {
   "cell_type": "code",
   "execution_count": null,
   "metadata": {
    "colab": {
     "base_uri": "https://localhost:8080/"
    },
    "executionInfo": {
     "elapsed": 8,
     "status": "ok",
     "timestamp": 1643028985709,
     "user": {
      "displayName": "김상회",
      "photoUrl": "https://lh3.googleusercontent.com/a/default-user=s64",
      "userId": "17849189406907453051"
     },
     "user_tz": -540
    },
    "id": "sSyFjIR_xi9w",
    "outputId": "d42b3128-d1e0-4332-9c5b-01647e4877d8"
   },
   "outputs": [
    {
     "name": "stdout",
     "output_type": "stream",
     "text": [
      "※Prediction※\n",
      " \n",
      "[0 0 0 1 1 0 1 0 1 0 1 1 0 1 1 1 1 1 0 0 1 0 1 1 1 0 0 0 0 1 0 1 1 0 0 1 0\n",
      " 1 1 1 0 1 1 1 0 0 1 1 1 1 1 1 1 0 1 0 0 0 0 0 1]\n"
     ]
    }
   ],
   "source": [
    "# .predict_proba는 target의 각 class의 확률을 반환합니다. 우리의 경우 1, 0 두가지 경우의 수이니 [a,b] x n의 array 반환하겠네요\n",
    "# 이 부분은 궁금하시다면 직접 실행보시길 바랍니다.\n",
    "# .predict는 해당 관측치의 예측값이 1일지 0일지를 반환해줍니다. 우리는 주로 이 predict method를 사용합니다.\n",
    "\n",
    "g\n",
    "prediction = dt_clf.predict(X_val)\n",
    "print('※Prediction※', ' ', prediction, sep = '\\n')"
   ]
  },
  {
   "cell_type": "code",
   "execution_count": null,
   "metadata": {
    "colab": {
     "base_uri": "https://localhost:8080/"
    },
    "executionInfo": {
     "elapsed": 6,
     "status": "ok",
     "timestamp": 1643028985709,
     "user": {
      "displayName": "김상회",
      "photoUrl": "https://lh3.googleusercontent.com/a/default-user=s64",
      "userId": "17849189406907453051"
     },
     "user_tz": -540
    },
    "id": "qZ-qi0aHxi9w",
    "outputId": "4a625672-6e73-4d34-b04c-b98c7a4013f5"
   },
   "outputs": [
    {
     "data": {
      "text/plain": [
       "array([[21,  7],\n",
       "       [ 6, 27]])"
      ]
     },
     "execution_count": 17,
     "metadata": {},
     "output_type": "execute_result"
    }
   ],
   "source": [
    "# Confusion Matrix를 통해 분류 결과를 확인합시다.\n",
    "# 참고로, Decision Tree는 continous data에 대해 Heuristic하게 node 분할을 진행하기 때문에, 동일 데이터라도 학습마다 결과값이 바뀝니다.\n",
    "\n",
    "from sklearn.metrics import accuracy_score, f1_score, roc_auc_score, confusion_matrix, classification_report, plot_confusion_matrix\n",
    "import matplotlib.pyplot as plt\n",
    "\n",
    "matrix = confusion_matrix(y_val, prediction)\n",
    "matrix"
   ]
  },
  {
   "cell_type": "code",
   "execution_count": null,
   "metadata": {
    "colab": {
     "base_uri": "https://localhost:8080/"
    },
    "executionInfo": {
     "elapsed": 614,
     "status": "ok",
     "timestamp": 1643028986318,
     "user": {
      "displayName": "김상회",
      "photoUrl": "https://lh3.googleusercontent.com/a/default-user=s64",
      "userId": "17849189406907453051"
     },
     "user_tz": -540
    },
    "id": "fZSi33NGI9aP",
    "outputId": "fcac2175-58e2-4867-e41a-1712c01dd4b8"
   },
   "outputs": [
    {
     "data": {
      "text/plain": [
       "Text(0.5, 1.0, 'Confusion Matrix')"
      ]
     },
     "execution_count": 18,
     "metadata": {},
     "output_type": "execute_result"
    },
    {
     "data": {
      "image/png": "[encoded data removed]",
      "text/plain": [
       "<Figure size 432x288 with 2 Axes>"
      ]
     },
     "metadata": {
      "needs_background": "light"
     },
     "output_type": "display_data"
    }
   ],
   "source": [
    "label=['0', '1'] # 라벨 설정\n",
    "plot = plot_confusion_matrix(dt_clf, # 분류 모델\n",
    "                             X_val, y_val, # 예측 데이터와 예측값의 정답(y_true)\n",
    "                             display_labels=label, # 표에 표시할 labels\n",
    "                             normalize=None) # 'true', 'pred', 'all' 중에서 지정 가능. default=None\n",
    "plot.ax_.set_title('Confusion Matrix')"
   ]
  },
  {
   "cell_type": "code",
   "execution_count": null,
   "metadata": {
    "colab": {
     "base_uri": "https://localhost:8080/"
    },
    "executionInfo": {
     "elapsed": 12,
     "status": "ok",
     "timestamp": 1643028986319,
     "user": {
      "displayName": "김상회",
      "photoUrl": "https://lh3.googleusercontent.com/a/default-user=s64",
      "userId": "17849189406907453051"
     },
     "user_tz": -540
    },
    "id": "MlSFVG84xi9x",
    "outputId": "7ea97a60-4d3b-4fd0-f7bb-ae6209afac77"
   },
   "outputs": [
    {
     "name": "stdout",
     "output_type": "stream",
     "text": [
      "Accuracy:: 0.79\n",
      "F1_Score:: 0.81\n",
      "ROC_AUC_Score:: 0.78\n"
     ]
    }
   ],
   "source": [
    "print('Accuracy:: {:.2f}'.format(accuracy_score(y_val, prediction)),\n",
    "      'F1_Score:: {:.2f}'.format(f1_score(y_val, prediction)),\n",
    "      'ROC_AUC_Score:: {:.2f}'.format(roc_auc_score(y_val, prediction)), sep = '\\n')"
   ]
  },
  {
   "cell_type": "code",
   "execution_count": null,
   "metadata": {
    "colab": {
     "base_uri": "https://localhost:8080/"
    },
    "executionInfo": {
     "elapsed": 10,
     "status": "ok",
     "timestamp": 1643028986319,
     "user": {
      "displayName": "김상회",
      "photoUrl": "https://lh3.googleusercontent.com/a/default-user=s64",
      "userId": "17849189406907453051"
     },
     "user_tz": -540
    },
    "id": "ID2kKdU4xi9x",
    "outputId": "91f7e6bd-a502-40e1-b165-63afe72f56ec"
   },
   "outputs": [
    {
     "name": "stdout",
     "output_type": "stream",
     "text": [
      "              precision    recall  f1-score   support\n",
      "\n",
      "           0       0.78      0.75      0.76        28\n",
      "           1       0.79      0.82      0.81        33\n",
      "\n",
      "    accuracy                           0.79        61\n",
      "   macro avg       0.79      0.78      0.78        61\n",
      "weighted avg       0.79      0.79      0.79        61\n",
      "\n"
     ]
    }
   ],
   "source": [
    "print( classification_report(y_val, prediction) )"
   ]
  },
  {
   "cell_type": "markdown",
   "metadata": {
    "id": "Q5eCUWWWxi9x"
   },
   "source": [
    "#### 1.5 Pruned Tree & Grid Search"
   ]
  },
  {
   "cell_type": "code",
   "execution_count": null,
   "metadata": {
    "id": "7IPWbxD2xi9x"
   },
   "outputs": [],
   "source": [
    "#성능을 더 좋게 만들기 위해서, pruning을 해보도록 하겠습니다.\n",
    "#이번엔 entropy 대신 default 값인 gini를 사용하겠습니다.\n",
    "\n",
    "pruned_dt_dlf = DecisionTreeClassifier(criterion='gini', max_depth = 4, max_leaf_nodes = 24)"
   ]
  },
  {
   "cell_type": "code",
   "execution_count": null,
   "metadata": {
    "colab": {
     "base_uri": "https://localhost:8080/"
    },
    "executionInfo": {
     "elapsed": 8,
     "status": "ok",
     "timestamp": 1643028986319,
     "user": {
      "displayName": "김상회",
      "photoUrl": "https://lh3.googleusercontent.com/a/default-user=s64",
      "userId": "17849189406907453051"
     },
     "user_tz": -540
    },
    "id": "d3WwzvJxxi9x",
    "outputId": "4d8ab9e4-33f4-458c-d9e3-7aac7b78c9e7",
    "scrolled": true
   },
   "outputs": [
    {
     "data": {
      "text/plain": [
       "DecisionTreeClassifier(max_depth=4, max_leaf_nodes=24)"
      ]
     },
     "execution_count": 22,
     "metadata": {},
     "output_type": "execute_result"
    }
   ],
   "source": [
    "pruned_dt_dlf.fit(X_train, y_train)"
   ]
  },
  {
   "cell_type": "markdown",
   "metadata": {
    "id": "S_5K8zFYxi9y"
   },
   "source": [
    "--------------------"
   ]
  },
  {
   "cell_type": "markdown",
   "metadata": {
    "id": "SvQolAN1xi9y"
   },
   "source": [
    "<span style=\"color:red\"><b> graphviz 패키지가 설치되어 있지 않다면 이 부분의 코드를 실행하지 마세요!</b></span> <br>"
   ]
  },
  {
   "cell_type": "code",
   "execution_count": null,
   "metadata": {
    "colab": {
     "base_uri": "https://localhost:8080/",
     "height": 776
    },
    "executionInfo": {
     "elapsed": 8,
     "status": "ok",
     "timestamp": 1643028986320,
     "user": {
      "displayName": "김상회",
      "photoUrl": "https://lh3.googleusercontent.com/a/default-user=s64",
      "userId": "17849189406907453051"
     },
     "user_tz": -540
    },
    "id": "b2xaBHHUxi9y",
    "outputId": "602fde58-c375-459b-b4da-ef0cdf55647e"
   },
   "outputs": [
    {
     "data": {
      "image/svg+xml": [
       "<?xml version=\"1.0\" encoding=\"UTF-8\" standalone=\"no\"?>\n",
       "<!DOCTYPE svg PUBLIC \"-//W3C//DTD SVG 1.1//EN\"\n",
       " \"http://www.w3.org/Graphics/SVG/1.1/DTD/svg11.dtd\">\n",
       "<!-- Generated by graphviz version 2.40.1 (20161225.0304)\n",
       " -->\n",
       "<!-- Title: Tree Pages: 1 -->\n",
       "<svg width=\"1668pt\" height=\"552pt\"\n",
       " viewBox=\"0.00 0.00 1668.00 552.00\" xmlns=\"http://www.w3.org/2000/svg\" xmlns:xlink=\"http://www.w3.org/1999/xlink\">\n",
       "<g id=\"graph0\" class=\"graph\" transform=\"scale(1 1) rotate(0) translate(4 548)\">\n",
       "<title>Tree</title>\n",
       "<polygon fill=\"#ffffff\" stroke=\"transparent\" points=\"-4,4 -4,-548 1664,-548 1664,4 -4,4\"/>\n",
       "<!-- 0 -->\n",
       "<g id=\"node1\" class=\"node\">\n",
       "<title>0</title>\n",
       "<path fill=\"#deeffb\" stroke=\"#000000\" d=\"M833.5,-544C833.5,-544 725.5,-544 725.5,-544 719.5,-544 713.5,-538 713.5,-532 713.5,-532 713.5,-473 713.5,-473 713.5,-467 719.5,-461 725.5,-461 725.5,-461 833.5,-461 833.5,-461 839.5,-461 845.5,-467 845.5,-473 845.5,-473 845.5,-532 845.5,-532 845.5,-538 839.5,-544 833.5,-544\"/>\n",
       "<text text-anchor=\"middle\" x=\"779.5\" y=\"-528.8\" font-family=\"Helvetica,sans-Serif\" font-size=\"14.00\" fill=\"#000000\">cp &lt;= 0.5</text>\n",
       "<text text-anchor=\"middle\" x=\"779.5\" y=\"-513.8\" font-family=\"Helvetica,sans-Serif\" font-size=\"14.00\" fill=\"#000000\">gini = 0.496</text>\n",
       "<text text-anchor=\"middle\" x=\"779.5\" y=\"-498.8\" font-family=\"Helvetica,sans-Serif\" font-size=\"14.00\" fill=\"#000000\">samples = 242</text>\n",
       "<text text-anchor=\"middle\" x=\"779.5\" y=\"-483.8\" font-family=\"Helvetica,sans-Serif\" font-size=\"14.00\" fill=\"#000000\">value = [110, 132]</text>\n",
       "<text text-anchor=\"middle\" x=\"779.5\" y=\"-468.8\" font-family=\"Helvetica,sans-Serif\" font-size=\"14.00\" fill=\"#000000\">class = 1</text>\n",
       "</g>\n",
       "<!-- 1 -->\n",
       "<g id=\"node2\" class=\"node\">\n",
       "<title>1</title>\n",
       "<path fill=\"#eead7f\" stroke=\"#000000\" d=\"M702.5,-425C702.5,-425 610.5,-425 610.5,-425 604.5,-425 598.5,-419 598.5,-413 598.5,-413 598.5,-354 598.5,-354 598.5,-348 604.5,-342 610.5,-342 610.5,-342 702.5,-342 702.5,-342 708.5,-342 714.5,-348 714.5,-354 714.5,-354 714.5,-413 714.5,-413 714.5,-419 708.5,-425 702.5,-425\"/>\n",
       "<text text-anchor=\"middle\" x=\"656.5\" y=\"-409.8\" font-family=\"Helvetica,sans-Serif\" font-size=\"14.00\" fill=\"#000000\">oldpeak &lt;= 0.7</text>\n",
       "<text text-anchor=\"middle\" x=\"656.5\" y=\"-394.8\" font-family=\"Helvetica,sans-Serif\" font-size=\"14.00\" fill=\"#000000\">gini = 0.386</text>\n",
       "<text text-anchor=\"middle\" x=\"656.5\" y=\"-379.8\" font-family=\"Helvetica,sans-Serif\" font-size=\"14.00\" fill=\"#000000\">samples = 115</text>\n",
       "<text text-anchor=\"middle\" x=\"656.5\" y=\"-364.8\" font-family=\"Helvetica,sans-Serif\" font-size=\"14.00\" fill=\"#000000\">value = [85, 30]</text>\n",
       "<text text-anchor=\"middle\" x=\"656.5\" y=\"-349.8\" font-family=\"Helvetica,sans-Serif\" font-size=\"14.00\" fill=\"#000000\">class = 0</text>\n",
       "</g>\n",
       "<!-- 0&#45;&gt;1 -->\n",
       "<g id=\"edge1\" class=\"edge\">\n",
       "<title>0&#45;&gt;1</title>\n",
       "<path fill=\"none\" stroke=\"#000000\" d=\"M736.4806,-460.8796C726.9853,-451.6931 716.8422,-441.8798 707.0785,-432.4336\"/>\n",
       "<polygon fill=\"#000000\" stroke=\"#000000\" points=\"709.3237,-429.7359 699.703,-425.2981 704.4564,-434.7668 709.3237,-429.7359\"/>\n",
       "<text text-anchor=\"middle\" x=\"700.1162\" y=\"-446.5947\" font-family=\"Helvetica,sans-Serif\" font-size=\"14.00\" fill=\"#000000\">True</text>\n",
       "</g>\n",
       "<!-- 2 -->\n",
       "<g id=\"node15\" class=\"node\">\n",
       "<title>2</title>\n",
       "<path fill=\"#6ab5eb\" stroke=\"#000000\" d=\"M1002.5,-425C1002.5,-425 902.5,-425 902.5,-425 896.5,-425 890.5,-419 890.5,-413 890.5,-413 890.5,-354 890.5,-354 890.5,-348 896.5,-342 902.5,-342 902.5,-342 1002.5,-342 1002.5,-342 1008.5,-342 1014.5,-348 1014.5,-354 1014.5,-354 1014.5,-413 1014.5,-413 1014.5,-419 1008.5,-425 1002.5,-425\"/>\n",
       "<text text-anchor=\"middle\" x=\"952.5\" y=\"-409.8\" font-family=\"Helvetica,sans-Serif\" font-size=\"14.00\" fill=\"#000000\">thal &lt;= 2.5</text>\n",
       "<text text-anchor=\"middle\" x=\"952.5\" y=\"-394.8\" font-family=\"Helvetica,sans-Serif\" font-size=\"14.00\" fill=\"#000000\">gini = 0.316</text>\n",
       "<text text-anchor=\"middle\" x=\"952.5\" y=\"-379.8\" font-family=\"Helvetica,sans-Serif\" font-size=\"14.00\" fill=\"#000000\">samples = 127</text>\n",
       "<text text-anchor=\"middle\" x=\"952.5\" y=\"-364.8\" font-family=\"Helvetica,sans-Serif\" font-size=\"14.00\" fill=\"#000000\">value = [25, 102]</text>\n",
       "<text text-anchor=\"middle\" x=\"952.5\" y=\"-349.8\" font-family=\"Helvetica,sans-Serif\" font-size=\"14.00\" fill=\"#000000\">class = 1</text>\n",
       "</g>\n",
       "<!-- 0&#45;&gt;2 -->\n",
       "<g id=\"edge14\" class=\"edge\">\n",
       "<title>0&#45;&gt;2</title>\n",
       "<path fill=\"none\" stroke=\"#000000\" d=\"M840.007,-460.8796C854.0982,-451.1868 869.2039,-440.7961 883.6269,-430.8752\"/>\n",
       "<polygon fill=\"#000000\" stroke=\"#000000\" points=\"885.7717,-433.6479 892.0272,-425.0969 881.8045,-427.8806 885.7717,-433.6479\"/>\n",
       "<text text-anchor=\"middle\" x=\"887.481\" y=\"-445.9801\" font-family=\"Helvetica,sans-Serif\" font-size=\"14.00\" fill=\"#000000\">False</text>\n",
       "</g>\n",
       "<!-- 3 -->\n",
       "<g id=\"node3\" class=\"node\">\n",
       "<title>3</title>\n",
       "<path fill=\"#ddeefa\" stroke=\"#000000\" d=\"M400.5,-306C400.5,-306 308.5,-306 308.5,-306 302.5,-306 296.5,-300 296.5,-294 296.5,-294 296.5,-235 296.5,-235 296.5,-229 302.5,-223 308.5,-223 308.5,-223 400.5,-223 400.5,-223 406.5,-223 412.5,-229 412.5,-235 412.5,-235 412.5,-294 412.5,-294 412.5,-300 406.5,-306 400.5,-306\"/>\n",
       "<text text-anchor=\"middle\" x=\"354.5\" y=\"-290.8\" font-family=\"Helvetica,sans-Serif\" font-size=\"14.00\" fill=\"#000000\">ca &lt;= 0.5</text>\n",
       "<text text-anchor=\"middle\" x=\"354.5\" y=\"-275.8\" font-family=\"Helvetica,sans-Serif\" font-size=\"14.00\" fill=\"#000000\">gini = 0.495</text>\n",
       "<text text-anchor=\"middle\" x=\"354.5\" y=\"-260.8\" font-family=\"Helvetica,sans-Serif\" font-size=\"14.00\" fill=\"#000000\">samples = 42</text>\n",
       "<text text-anchor=\"middle\" x=\"354.5\" y=\"-245.8\" font-family=\"Helvetica,sans-Serif\" font-size=\"14.00\" fill=\"#000000\">value = [19, 23]</text>\n",
       "<text text-anchor=\"middle\" x=\"354.5\" y=\"-230.8\" font-family=\"Helvetica,sans-Serif\" font-size=\"14.00\" fill=\"#000000\">class = 1</text>\n",
       "</g>\n",
       "<!-- 1&#45;&gt;3 -->\n",
       "<g id=\"edge2\" class=\"edge\">\n",
       "<title>1&#45;&gt;3</title>\n",
       "<path fill=\"none\" stroke=\"#000000\" d=\"M598.2714,-360.5556C547.823,-340.6769 474.8185,-311.9103 421.8625,-291.0435\"/>\n",
       "<polygon fill=\"#000000\" stroke=\"#000000\" points=\"423.1368,-287.7838 412.5499,-287.374 420.5705,-294.2964 423.1368,-287.7838\"/>\n",
       "</g>\n",
       "<!-- 4 -->\n",
       "<g id=\"node10\" class=\"node\">\n",
       "<title>4</title>\n",
       "<path fill=\"#e88e4e\" stroke=\"#000000\" d=\"M698,-306C698,-306 615,-306 615,-306 609,-306 603,-300 603,-294 603,-294 603,-235 603,-235 603,-229 609,-223 615,-223 615,-223 698,-223 698,-223 704,-223 710,-229 710,-235 710,-235 710,-294 710,-294 710,-300 704,-306 698,-306\"/>\n",
       "<text text-anchor=\"middle\" x=\"656.5\" y=\"-290.8\" font-family=\"Helvetica,sans-Serif\" font-size=\"14.00\" fill=\"#000000\">thal &lt;= 2.5</text>\n",
       "<text text-anchor=\"middle\" x=\"656.5\" y=\"-275.8\" font-family=\"Helvetica,sans-Serif\" font-size=\"14.00\" fill=\"#000000\">gini = 0.173</text>\n",
       "<text text-anchor=\"middle\" x=\"656.5\" y=\"-260.8\" font-family=\"Helvetica,sans-Serif\" font-size=\"14.00\" fill=\"#000000\">samples = 73</text>\n",
       "<text text-anchor=\"middle\" x=\"656.5\" y=\"-245.8\" font-family=\"Helvetica,sans-Serif\" font-size=\"14.00\" fill=\"#000000\">value = [66, 7]</text>\n",
       "<text text-anchor=\"middle\" x=\"656.5\" y=\"-230.8\" font-family=\"Helvetica,sans-Serif\" font-size=\"14.00\" fill=\"#000000\">class = 0</text>\n",
       "</g>\n",
       "<!-- 1&#45;&gt;4 -->\n",
       "<g id=\"edge9\" class=\"edge\">\n",
       "<title>1&#45;&gt;4</title>\n",
       "<path fill=\"none\" stroke=\"#000000\" d=\"M656.5,-341.8796C656.5,-333.6838 656.5,-324.9891 656.5,-316.5013\"/>\n",
       "<polygon fill=\"#000000\" stroke=\"#000000\" points=\"660.0001,-316.298 656.5,-306.2981 653.0001,-316.2981 660.0001,-316.298\"/>\n",
       "</g>\n",
       "<!-- 7 -->\n",
       "<g id=\"node4\" class=\"node\">\n",
       "<title>7</title>\n",
       "<path fill=\"#82c1ef\" stroke=\"#000000\" d=\"M212,-187C212,-187 129,-187 129,-187 123,-187 117,-181 117,-175 117,-175 117,-116 117,-116 117,-110 123,-104 129,-104 129,-104 212,-104 212,-104 218,-104 224,-110 224,-116 224,-116 224,-175 224,-175 224,-181 218,-187 212,-187\"/>\n",
       "<text text-anchor=\"middle\" x=\"170.5\" y=\"-171.8\" font-family=\"Helvetica,sans-Serif\" font-size=\"14.00\" fill=\"#000000\">age &lt;= 41.5</text>\n",
       "<text text-anchor=\"middle\" x=\"170.5\" y=\"-156.8\" font-family=\"Helvetica,sans-Serif\" font-size=\"14.00\" fill=\"#000000\">gini = 0.393</text>\n",
       "<text text-anchor=\"middle\" x=\"170.5\" y=\"-141.8\" font-family=\"Helvetica,sans-Serif\" font-size=\"14.00\" fill=\"#000000\">samples = 26</text>\n",
       "<text text-anchor=\"middle\" x=\"170.5\" y=\"-126.8\" font-family=\"Helvetica,sans-Serif\" font-size=\"14.00\" fill=\"#000000\">value = [7, 19]</text>\n",
       "<text text-anchor=\"middle\" x=\"170.5\" y=\"-111.8\" font-family=\"Helvetica,sans-Serif\" font-size=\"14.00\" fill=\"#000000\">class = 1</text>\n",
       "</g>\n",
       "<!-- 3&#45;&gt;7 -->\n",
       "<g id=\"edge3\" class=\"edge\">\n",
       "<title>3&#45;&gt;7</title>\n",
       "<path fill=\"none\" stroke=\"#000000\" d=\"M296.2813,-226.8477C276.1059,-213.7995 253.4135,-199.1234 232.9143,-185.8658\"/>\n",
       "<polygon fill=\"#000000\" stroke=\"#000000\" points=\"234.5746,-182.7714 224.277,-180.2797 230.7732,-188.6493 234.5746,-182.7714\"/>\n",
       "</g>\n",
       "<!-- 8 -->\n",
       "<g id=\"node7\" class=\"node\">\n",
       "<title>8</title>\n",
       "<path fill=\"#eeab7b\" stroke=\"#000000\" d=\"M396,-187C396,-187 313,-187 313,-187 307,-187 301,-181 301,-175 301,-175 301,-116 301,-116 301,-110 307,-104 313,-104 313,-104 396,-104 396,-104 402,-104 408,-110 408,-116 408,-116 408,-175 408,-175 408,-181 402,-187 396,-187\"/>\n",
       "<text text-anchor=\"middle\" x=\"354.5\" y=\"-171.8\" font-family=\"Helvetica,sans-Serif\" font-size=\"14.00\" fill=\"#000000\">sex &lt;= 0.5</text>\n",
       "<text text-anchor=\"middle\" x=\"354.5\" y=\"-156.8\" font-family=\"Helvetica,sans-Serif\" font-size=\"14.00\" fill=\"#000000\">gini = 0.375</text>\n",
       "<text text-anchor=\"middle\" x=\"354.5\" y=\"-141.8\" font-family=\"Helvetica,sans-Serif\" font-size=\"14.00\" fill=\"#000000\">samples = 16</text>\n",
       "<text text-anchor=\"middle\" x=\"354.5\" y=\"-126.8\" font-family=\"Helvetica,sans-Serif\" font-size=\"14.00\" fill=\"#000000\">value = [12, 4]</text>\n",
       "<text text-anchor=\"middle\" x=\"354.5\" y=\"-111.8\" font-family=\"Helvetica,sans-Serif\" font-size=\"14.00\" fill=\"#000000\">class = 0</text>\n",
       "</g>\n",
       "<!-- 3&#45;&gt;8 -->\n",
       "<g id=\"edge6\" class=\"edge\">\n",
       "<title>3&#45;&gt;8</title>\n",
       "<path fill=\"none\" stroke=\"#000000\" d=\"M354.5,-222.8796C354.5,-214.6838 354.5,-205.9891 354.5,-197.5013\"/>\n",
       "<polygon fill=\"#000000\" stroke=\"#000000\" points=\"358.0001,-197.298 354.5,-187.2981 351.0001,-197.2981 358.0001,-197.298\"/>\n",
       "</g>\n",
       "<!-- 23 -->\n",
       "<g id=\"node5\" class=\"node\">\n",
       "<title>23</title>\n",
       "<path fill=\"#e58139\" stroke=\"#000000\" d=\"M87,-68C87,-68 12,-68 12,-68 6,-68 0,-62 0,-56 0,-56 0,-12 0,-12 0,-6 6,0 12,0 12,0 87,0 87,0 93,0 99,-6 99,-12 99,-12 99,-56 99,-56 99,-62 93,-68 87,-68\"/>\n",
       "<text text-anchor=\"middle\" x=\"49.5\" y=\"-52.8\" font-family=\"Helvetica,sans-Serif\" font-size=\"14.00\" fill=\"#000000\">gini = 0.0</text>\n",
       "<text text-anchor=\"middle\" x=\"49.5\" y=\"-37.8\" font-family=\"Helvetica,sans-Serif\" font-size=\"14.00\" fill=\"#000000\">samples = 2</text>\n",
       "<text text-anchor=\"middle\" x=\"49.5\" y=\"-22.8\" font-family=\"Helvetica,sans-Serif\" font-size=\"14.00\" fill=\"#000000\">value = [2, 0]</text>\n",
       "<text text-anchor=\"middle\" x=\"49.5\" y=\"-7.8\" font-family=\"Helvetica,sans-Serif\" font-size=\"14.00\" fill=\"#000000\">class = 0</text>\n",
       "</g>\n",
       "<!-- 7&#45;&gt;23 -->\n",
       "<g id=\"edge4\" class=\"edge\">\n",
       "<title>7&#45;&gt;23</title>\n",
       "<path fill=\"none\" stroke=\"#000000\" d=\"M125.4441,-103.9815C115.2709,-94.607 104.4733,-84.6572 94.3102,-75.2921\"/>\n",
       "<polygon fill=\"#000000\" stroke=\"#000000\" points=\"96.4087,-72.4663 86.683,-68.2637 91.6651,-77.6141 96.4087,-72.4663\"/>\n",
       "</g>\n",
       "<!-- 24 -->\n",
       "<g id=\"node6\" class=\"node\">\n",
       "<title>24</title>\n",
       "<path fill=\"#6db7ec\" stroke=\"#000000\" d=\"M212,-68C212,-68 129,-68 129,-68 123,-68 117,-62 117,-56 117,-56 117,-12 117,-12 117,-6 123,0 129,0 129,0 212,0 212,0 218,0 224,-6 224,-12 224,-12 224,-56 224,-56 224,-62 218,-68 212,-68\"/>\n",
       "<text text-anchor=\"middle\" x=\"170.5\" y=\"-52.8\" font-family=\"Helvetica,sans-Serif\" font-size=\"14.00\" fill=\"#000000\">gini = 0.33</text>\n",
       "<text text-anchor=\"middle\" x=\"170.5\" y=\"-37.8\" font-family=\"Helvetica,sans-Serif\" font-size=\"14.00\" fill=\"#000000\">samples = 24</text>\n",
       "<text text-anchor=\"middle\" x=\"170.5\" y=\"-22.8\" font-family=\"Helvetica,sans-Serif\" font-size=\"14.00\" fill=\"#000000\">value = [5, 19]</text>\n",
       "<text text-anchor=\"middle\" x=\"170.5\" y=\"-7.8\" font-family=\"Helvetica,sans-Serif\" font-size=\"14.00\" fill=\"#000000\">class = 1</text>\n",
       "</g>\n",
       "<!-- 7&#45;&gt;24 -->\n",
       "<g id=\"edge5\" class=\"edge\">\n",
       "<title>7&#45;&gt;24</title>\n",
       "<path fill=\"none\" stroke=\"#000000\" d=\"M170.5,-103.9815C170.5,-95.618 170.5,-86.7965 170.5,-78.3409\"/>\n",
       "<polygon fill=\"#000000\" stroke=\"#000000\" points=\"174.0001,-78.2636 170.5,-68.2637 167.0001,-78.2637 174.0001,-78.2636\"/>\n",
       "</g>\n",
       "<!-- 17 -->\n",
       "<g id=\"node8\" class=\"node\">\n",
       "<title>17</title>\n",
       "<path fill=\"#399de5\" stroke=\"#000000\" d=\"M329,-68C329,-68 254,-68 254,-68 248,-68 242,-62 242,-56 242,-56 242,-12 242,-12 242,-6 248,0 254,0 254,0 329,0 329,0 335,0 341,-6 341,-12 341,-12 341,-56 341,-56 341,-62 335,-68 329,-68\"/>\n",
       "<text text-anchor=\"middle\" x=\"291.5\" y=\"-52.8\" font-family=\"Helvetica,sans-Serif\" font-size=\"14.00\" fill=\"#000000\">gini = 0.0</text>\n",
       "<text text-anchor=\"middle\" x=\"291.5\" y=\"-37.8\" font-family=\"Helvetica,sans-Serif\" font-size=\"14.00\" fill=\"#000000\">samples = 2</text>\n",
       "<text text-anchor=\"middle\" x=\"291.5\" y=\"-22.8\" font-family=\"Helvetica,sans-Serif\" font-size=\"14.00\" fill=\"#000000\">value = [0, 2]</text>\n",
       "<text text-anchor=\"middle\" x=\"291.5\" y=\"-7.8\" font-family=\"Helvetica,sans-Serif\" font-size=\"14.00\" fill=\"#000000\">class = 1</text>\n",
       "</g>\n",
       "<!-- 8&#45;&gt;17 -->\n",
       "<g id=\"edge7\" class=\"edge\">\n",
       "<title>8&#45;&gt;17</title>\n",
       "<path fill=\"none\" stroke=\"#000000\" d=\"M331.0411,-103.9815C326.1078,-95.2504 320.8926,-86.0202 315.9248,-77.2281\"/>\n",
       "<polygon fill=\"#000000\" stroke=\"#000000\" points=\"318.8263,-75.2483 310.8597,-68.2637 312.7319,-78.6918 318.8263,-75.2483\"/>\n",
       "</g>\n",
       "<!-- 18 -->\n",
       "<g id=\"node9\" class=\"node\">\n",
       "<title>18</title>\n",
       "<path fill=\"#e9965a\" stroke=\"#000000\" d=\"M454,-68C454,-68 371,-68 371,-68 365,-68 359,-62 359,-56 359,-56 359,-12 359,-12 359,-6 365,0 371,0 371,0 454,0 454,0 460,0 466,-6 466,-12 466,-12 466,-56 466,-56 466,-62 460,-68 454,-68\"/>\n",
       "<text text-anchor=\"middle\" x=\"412.5\" y=\"-52.8\" font-family=\"Helvetica,sans-Serif\" font-size=\"14.00\" fill=\"#000000\">gini = 0.245</text>\n",
       "<text text-anchor=\"middle\" x=\"412.5\" y=\"-37.8\" font-family=\"Helvetica,sans-Serif\" font-size=\"14.00\" fill=\"#000000\">samples = 14</text>\n",
       "<text text-anchor=\"middle\" x=\"412.5\" y=\"-22.8\" font-family=\"Helvetica,sans-Serif\" font-size=\"14.00\" fill=\"#000000\">value = [12, 2]</text>\n",
       "<text text-anchor=\"middle\" x=\"412.5\" y=\"-7.8\" font-family=\"Helvetica,sans-Serif\" font-size=\"14.00\" fill=\"#000000\">class = 0</text>\n",
       "</g>\n",
       "<!-- 8&#45;&gt;18 -->\n",
       "<g id=\"edge8\" class=\"edge\">\n",
       "<title>8&#45;&gt;18</title>\n",
       "<path fill=\"none\" stroke=\"#000000\" d=\"M376.0971,-103.9815C380.6388,-95.2504 385.4402,-86.0202 390.0137,-77.2281\"/>\n",
       "<polygon fill=\"#000000\" stroke=\"#000000\" points=\"393.1669,-78.7504 394.6767,-68.2637 386.9569,-75.52 393.1669,-78.7504\"/>\n",
       "</g>\n",
       "<!-- 11 -->\n",
       "<g id=\"node11\" class=\"node\">\n",
       "<title>11</title>\n",
       "<path fill=\"#f0b890\" stroke=\"#000000\" d=\"M636,-187C636,-187 553,-187 553,-187 547,-187 541,-181 541,-175 541,-175 541,-116 541,-116 541,-110 547,-104 553,-104 553,-104 636,-104 636,-104 642,-104 648,-110 648,-116 648,-116 648,-175 648,-175 648,-181 642,-187 636,-187\"/>\n",
       "<text text-anchor=\"middle\" x=\"594.5\" y=\"-171.8\" font-family=\"Helvetica,sans-Serif\" font-size=\"14.00\" fill=\"#000000\">slope &lt;= 1.5</text>\n",
       "<text text-anchor=\"middle\" x=\"594.5\" y=\"-156.8\" font-family=\"Helvetica,sans-Serif\" font-size=\"14.00\" fill=\"#000000\">gini = 0.423</text>\n",
       "<text text-anchor=\"middle\" x=\"594.5\" y=\"-141.8\" font-family=\"Helvetica,sans-Serif\" font-size=\"14.00\" fill=\"#000000\">samples = 23</text>\n",
       "<text text-anchor=\"middle\" x=\"594.5\" y=\"-126.8\" font-family=\"Helvetica,sans-Serif\" font-size=\"14.00\" fill=\"#000000\">value = [16, 7]</text>\n",
       "<text text-anchor=\"middle\" x=\"594.5\" y=\"-111.8\" font-family=\"Helvetica,sans-Serif\" font-size=\"14.00\" fill=\"#000000\">class = 0</text>\n",
       "</g>\n",
       "<!-- 4&#45;&gt;11 -->\n",
       "<g id=\"edge10\" class=\"edge\">\n",
       "<title>4&#45;&gt;11</title>\n",
       "<path fill=\"none\" stroke=\"#000000\" d=\"M634.8154,-222.8796C630.3577,-214.3236 625.6166,-205.2238 621.0106,-196.3833\"/>\n",
       "<polygon fill=\"#000000\" stroke=\"#000000\" points=\"624.0017,-194.5494 616.2771,-187.2981 617.7938,-197.7838 624.0017,-194.5494\"/>\n",
       "</g>\n",
       "<!-- 12 -->\n",
       "<g id=\"node14\" class=\"node\">\n",
       "<title>12</title>\n",
       "<path fill=\"#e58139\" stroke=\"#000000\" d=\"M761,-179.5C761,-179.5 678,-179.5 678,-179.5 672,-179.5 666,-173.5 666,-167.5 666,-167.5 666,-123.5 666,-123.5 666,-117.5 672,-111.5 678,-111.5 678,-111.5 761,-111.5 761,-111.5 767,-111.5 773,-117.5 773,-123.5 773,-123.5 773,-167.5 773,-167.5 773,-173.5 767,-179.5 761,-179.5\"/>\n",
       "<text text-anchor=\"middle\" x=\"719.5\" y=\"-164.3\" font-family=\"Helvetica,sans-Serif\" font-size=\"14.00\" fill=\"#000000\">gini = 0.0</text>\n",
       "<text text-anchor=\"middle\" x=\"719.5\" y=\"-149.3\" font-family=\"Helvetica,sans-Serif\" font-size=\"14.00\" fill=\"#000000\">samples = 50</text>\n",
       "<text text-anchor=\"middle\" x=\"719.5\" y=\"-134.3\" font-family=\"Helvetica,sans-Serif\" font-size=\"14.00\" fill=\"#000000\">value = [50, 0]</text>\n",
       "<text text-anchor=\"middle\" x=\"719.5\" y=\"-119.3\" font-family=\"Helvetica,sans-Serif\" font-size=\"14.00\" fill=\"#000000\">class = 0</text>\n",
       "</g>\n",
       "<!-- 4&#45;&gt;12 -->\n",
       "<g id=\"edge13\" class=\"edge\">\n",
       "<title>4&#45;&gt;12</title>\n",
       "<path fill=\"none\" stroke=\"#000000\" d=\"M678.5343,-222.8796C684.3558,-211.8835 690.6527,-199.9893 696.5227,-188.9015\"/>\n",
       "<polygon fill=\"#000000\" stroke=\"#000000\" points=\"699.7476,-190.2905 701.3333,-179.8149 693.5611,-187.0152 699.7476,-190.2905\"/>\n",
       "</g>\n",
       "<!-- 13 -->\n",
       "<g id=\"node12\" class=\"node\">\n",
       "<title>13</title>\n",
       "<path fill=\"#eca06a\" stroke=\"#000000\" d=\"M579,-68C579,-68 496,-68 496,-68 490,-68 484,-62 484,-56 484,-56 484,-12 484,-12 484,-6 490,0 496,0 496,0 579,0 579,0 585,0 591,-6 591,-12 591,-12 591,-56 591,-56 591,-62 585,-68 579,-68\"/>\n",
       "<text text-anchor=\"middle\" x=\"537.5\" y=\"-52.8\" font-family=\"Helvetica,sans-Serif\" font-size=\"14.00\" fill=\"#000000\">gini = 0.32</text>\n",
       "<text text-anchor=\"middle\" x=\"537.5\" y=\"-37.8\" font-family=\"Helvetica,sans-Serif\" font-size=\"14.00\" fill=\"#000000\">samples = 20</text>\n",
       "<text text-anchor=\"middle\" x=\"537.5\" y=\"-22.8\" font-family=\"Helvetica,sans-Serif\" font-size=\"14.00\" fill=\"#000000\">value = [16, 4]</text>\n",
       "<text text-anchor=\"middle\" x=\"537.5\" y=\"-7.8\" font-family=\"Helvetica,sans-Serif\" font-size=\"14.00\" fill=\"#000000\">class = 0</text>\n",
       "</g>\n",
       "<!-- 11&#45;&gt;13 -->\n",
       "<g id=\"edge11\" class=\"edge\">\n",
       "<title>11&#45;&gt;13</title>\n",
       "<path fill=\"none\" stroke=\"#000000\" d=\"M573.2753,-103.9815C568.8119,-95.2504 564.0933,-86.0202 559.5987,-77.2281\"/>\n",
       "<polygon fill=\"#000000\" stroke=\"#000000\" points=\"562.6842,-75.5745 555.016,-68.2637 556.4514,-78.7608 562.6842,-75.5745\"/>\n",
       "</g>\n",
       "<!-- 14 -->\n",
       "<g id=\"node13\" class=\"node\">\n",
       "<title>14</title>\n",
       "<path fill=\"#399de5\" stroke=\"#000000\" d=\"M696,-68C696,-68 621,-68 621,-68 615,-68 609,-62 609,-56 609,-56 609,-12 609,-12 609,-6 615,0 621,0 621,0 696,0 696,0 702,0 708,-6 708,-12 708,-12 708,-56 708,-56 708,-62 702,-68 696,-68\"/>\n",
       "<text text-anchor=\"middle\" x=\"658.5\" y=\"-52.8\" font-family=\"Helvetica,sans-Serif\" font-size=\"14.00\" fill=\"#000000\">gini = 0.0</text>\n",
       "<text text-anchor=\"middle\" x=\"658.5\" y=\"-37.8\" font-family=\"Helvetica,sans-Serif\" font-size=\"14.00\" fill=\"#000000\">samples = 3</text>\n",
       "<text text-anchor=\"middle\" x=\"658.5\" y=\"-22.8\" font-family=\"Helvetica,sans-Serif\" font-size=\"14.00\" fill=\"#000000\">value = [0, 3]</text>\n",
       "<text text-anchor=\"middle\" x=\"658.5\" y=\"-7.8\" font-family=\"Helvetica,sans-Serif\" font-size=\"14.00\" fill=\"#000000\">class = 1</text>\n",
       "</g>\n",
       "<!-- 11&#45;&gt;14 -->\n",
       "<g id=\"edge12\" class=\"edge\">\n",
       "<title>11&#45;&gt;14</title>\n",
       "<path fill=\"none\" stroke=\"#000000\" d=\"M618.3312,-103.9815C623.3956,-95.1585 628.7525,-85.8258 633.8468,-76.9506\"/>\n",
       "<polygon fill=\"#000000\" stroke=\"#000000\" points=\"636.8903,-78.6789 638.833,-68.2637 630.8193,-75.1942 636.8903,-78.6789\"/>\n",
       "</g>\n",
       "<!-- 5 -->\n",
       "<g id=\"node16\" class=\"node\">\n",
       "<title>5</title>\n",
       "<path fill=\"#53aae8\" stroke=\"#000000\" d=\"M998.5,-306C998.5,-306 906.5,-306 906.5,-306 900.5,-306 894.5,-300 894.5,-294 894.5,-294 894.5,-235 894.5,-235 894.5,-229 900.5,-223 906.5,-223 906.5,-223 998.5,-223 998.5,-223 1004.5,-223 1010.5,-229 1010.5,-235 1010.5,-235 1010.5,-294 1010.5,-294 1010.5,-300 1004.5,-306 998.5,-306\"/>\n",
       "<text text-anchor=\"middle\" x=\"952.5\" y=\"-290.8\" font-family=\"Helvetica,sans-Serif\" font-size=\"14.00\" fill=\"#000000\">thal &lt;= 1.5</text>\n",
       "<text text-anchor=\"middle\" x=\"952.5\" y=\"-275.8\" font-family=\"Helvetica,sans-Serif\" font-size=\"14.00\" fill=\"#000000\">gini = 0.203</text>\n",
       "<text text-anchor=\"middle\" x=\"952.5\" y=\"-260.8\" font-family=\"Helvetica,sans-Serif\" font-size=\"14.00\" fill=\"#000000\">samples = 96</text>\n",
       "<text text-anchor=\"middle\" x=\"952.5\" y=\"-245.8\" font-family=\"Helvetica,sans-Serif\" font-size=\"14.00\" fill=\"#000000\">value = [11, 85]</text>\n",
       "<text text-anchor=\"middle\" x=\"952.5\" y=\"-230.8\" font-family=\"Helvetica,sans-Serif\" font-size=\"14.00\" fill=\"#000000\">class = 1</text>\n",
       "</g>\n",
       "<!-- 2&#45;&gt;5 -->\n",
       "<g id=\"edge15\" class=\"edge\">\n",
       "<title>2&#45;&gt;5</title>\n",
       "<path fill=\"none\" stroke=\"#000000\" d=\"M952.5,-341.8796C952.5,-333.6838 952.5,-324.9891 952.5,-316.5013\"/>\n",
       "<polygon fill=\"#000000\" stroke=\"#000000\" points=\"956.0001,-316.298 952.5,-306.2981 949.0001,-316.2981 956.0001,-316.298\"/>\n",
       "</g>\n",
       "<!-- 6 -->\n",
       "<g id=\"node23\" class=\"node\">\n",
       "<title>6</title>\n",
       "<path fill=\"#dceefa\" stroke=\"#000000\" d=\"M1355,-306C1355,-306 1254,-306 1254,-306 1248,-306 1242,-300 1242,-294 1242,-294 1242,-235 1242,-235 1242,-229 1248,-223 1254,-223 1254,-223 1355,-223 1355,-223 1361,-223 1367,-229 1367,-235 1367,-235 1367,-294 1367,-294 1367,-300 1361,-306 1355,-306\"/>\n",
       "<text text-anchor=\"middle\" x=\"1304.5\" y=\"-290.8\" font-family=\"Helvetica,sans-Serif\" font-size=\"14.00\" fill=\"#000000\">thalach &lt;= 142.5</text>\n",
       "<text text-anchor=\"middle\" x=\"1304.5\" y=\"-275.8\" font-family=\"Helvetica,sans-Serif\" font-size=\"14.00\" fill=\"#000000\">gini = 0.495</text>\n",
       "<text text-anchor=\"middle\" x=\"1304.5\" y=\"-260.8\" font-family=\"Helvetica,sans-Serif\" font-size=\"14.00\" fill=\"#000000\">samples = 31</text>\n",
       "<text text-anchor=\"middle\" x=\"1304.5\" y=\"-245.8\" font-family=\"Helvetica,sans-Serif\" font-size=\"14.00\" fill=\"#000000\">value = [14, 17]</text>\n",
       "<text text-anchor=\"middle\" x=\"1304.5\" y=\"-230.8\" font-family=\"Helvetica,sans-Serif\" font-size=\"14.00\" fill=\"#000000\">class = 1</text>\n",
       "</g>\n",
       "<!-- 2&#45;&gt;6 -->\n",
       "<g id=\"edge22\" class=\"edge\">\n",
       "<title>2&#45;&gt;6</title>\n",
       "<path fill=\"none\" stroke=\"#000000\" d=\"M1014.6203,-362.4991C1075.445,-341.9362 1168.0706,-310.6224 1232.1776,-288.9499\"/>\n",
       "<polygon fill=\"#000000\" stroke=\"#000000\" points=\"1233.4644,-292.2096 1241.8167,-285.6912 1231.2225,-285.5782 1233.4644,-292.2096\"/>\n",
       "</g>\n",
       "<!-- 19 -->\n",
       "<g id=\"node17\" class=\"node\">\n",
       "<title>19</title>\n",
       "<path fill=\"#f6d5bd\" stroke=\"#000000\" d=\"M926,-187C926,-187 851,-187 851,-187 845,-187 839,-181 839,-175 839,-175 839,-116 839,-116 839,-110 845,-104 851,-104 851,-104 926,-104 926,-104 932,-104 938,-110 938,-116 938,-116 938,-175 938,-175 938,-181 932,-187 926,-187\"/>\n",
       "<text text-anchor=\"middle\" x=\"888.5\" y=\"-171.8\" font-family=\"Helvetica,sans-Serif\" font-size=\"14.00\" fill=\"#000000\">age &lt;= 54.5</text>\n",
       "<text text-anchor=\"middle\" x=\"888.5\" y=\"-156.8\" font-family=\"Helvetica,sans-Serif\" font-size=\"14.00\" fill=\"#000000\">gini = 0.48</text>\n",
       "<text text-anchor=\"middle\" x=\"888.5\" y=\"-141.8\" font-family=\"Helvetica,sans-Serif\" font-size=\"14.00\" fill=\"#000000\">samples = 5</text>\n",
       "<text text-anchor=\"middle\" x=\"888.5\" y=\"-126.8\" font-family=\"Helvetica,sans-Serif\" font-size=\"14.00\" fill=\"#000000\">value = [3, 2]</text>\n",
       "<text text-anchor=\"middle\" x=\"888.5\" y=\"-111.8\" font-family=\"Helvetica,sans-Serif\" font-size=\"14.00\" fill=\"#000000\">class = 0</text>\n",
       "</g>\n",
       "<!-- 5&#45;&gt;19 -->\n",
       "<g id=\"edge16\" class=\"edge\">\n",
       "<title>5&#45;&gt;19</title>\n",
       "<path fill=\"none\" stroke=\"#000000\" d=\"M930.1159,-222.8796C925.5144,-214.3236 920.6204,-205.2238 915.8658,-196.3833\"/>\n",
       "<polygon fill=\"#000000\" stroke=\"#000000\" points=\"918.7988,-194.4473 910.9796,-187.2981 912.6338,-197.763 918.7988,-194.4473\"/>\n",
       "</g>\n",
       "<!-- 20 -->\n",
       "<g id=\"node20\" class=\"node\">\n",
       "<title>20</title>\n",
       "<path fill=\"#4ca6e8\" stroke=\"#000000\" d=\"M1065,-187C1065,-187 968,-187 968,-187 962,-187 956,-181 956,-175 956,-175 956,-116 956,-116 956,-110 962,-104 968,-104 968,-104 1065,-104 1065,-104 1071,-104 1077,-110 1077,-116 1077,-116 1077,-175 1077,-175 1077,-181 1071,-187 1065,-187\"/>\n",
       "<text text-anchor=\"middle\" x=\"1016.5\" y=\"-171.8\" font-family=\"Helvetica,sans-Serif\" font-size=\"14.00\" fill=\"#000000\">oldpeak &lt;= 3.55</text>\n",
       "<text text-anchor=\"middle\" x=\"1016.5\" y=\"-156.8\" font-family=\"Helvetica,sans-Serif\" font-size=\"14.00\" fill=\"#000000\">gini = 0.16</text>\n",
       "<text text-anchor=\"middle\" x=\"1016.5\" y=\"-141.8\" font-family=\"Helvetica,sans-Serif\" font-size=\"14.00\" fill=\"#000000\">samples = 91</text>\n",
       "<text text-anchor=\"middle\" x=\"1016.5\" y=\"-126.8\" font-family=\"Helvetica,sans-Serif\" font-size=\"14.00\" fill=\"#000000\">value = [8, 83]</text>\n",
       "<text text-anchor=\"middle\" x=\"1016.5\" y=\"-111.8\" font-family=\"Helvetica,sans-Serif\" font-size=\"14.00\" fill=\"#000000\">class = 1</text>\n",
       "</g>\n",
       "<!-- 5&#45;&gt;20 -->\n",
       "<g id=\"edge19\" class=\"edge\">\n",
       "<title>5&#45;&gt;20</title>\n",
       "<path fill=\"none\" stroke=\"#000000\" d=\"M974.8841,-222.8796C979.4856,-214.3236 984.3796,-205.2238 989.1342,-196.3833\"/>\n",
       "<polygon fill=\"#000000\" stroke=\"#000000\" points=\"992.3662,-197.763 994.0204,-187.2981 986.2012,-194.4473 992.3662,-197.763\"/>\n",
       "</g>\n",
       "<!-- 21 -->\n",
       "<g id=\"node18\" class=\"node\">\n",
       "<title>21</title>\n",
       "<path fill=\"#399de5\" stroke=\"#000000\" d=\"M813,-68C813,-68 738,-68 738,-68 732,-68 726,-62 726,-56 726,-56 726,-12 726,-12 726,-6 732,0 738,0 738,0 813,0 813,0 819,0 825,-6 825,-12 825,-12 825,-56 825,-56 825,-62 819,-68 813,-68\"/>\n",
       "<text text-anchor=\"middle\" x=\"775.5\" y=\"-52.8\" font-family=\"Helvetica,sans-Serif\" font-size=\"14.00\" fill=\"#000000\">gini = 0.0</text>\n",
       "<text text-anchor=\"middle\" x=\"775.5\" y=\"-37.8\" font-family=\"Helvetica,sans-Serif\" font-size=\"14.00\" fill=\"#000000\">samples = 2</text>\n",
       "<text text-anchor=\"middle\" x=\"775.5\" y=\"-22.8\" font-family=\"Helvetica,sans-Serif\" font-size=\"14.00\" fill=\"#000000\">value = [0, 2]</text>\n",
       "<text text-anchor=\"middle\" x=\"775.5\" y=\"-7.8\" font-family=\"Helvetica,sans-Serif\" font-size=\"14.00\" fill=\"#000000\">class = 1</text>\n",
       "</g>\n",
       "<!-- 19&#45;&gt;21 -->\n",
       "<g id=\"edge17\" class=\"edge\">\n",
       "<title>19&#45;&gt;21</title>\n",
       "<path fill=\"none\" stroke=\"#000000\" d=\"M846.423,-103.9815C836.9224,-94.607 826.8387,-84.6572 817.3476,-75.2921\"/>\n",
       "<polygon fill=\"#000000\" stroke=\"#000000\" points=\"819.8011,-72.796 810.2246,-68.2637 814.8845,-77.7787 819.8011,-72.796\"/>\n",
       "</g>\n",
       "<!-- 22 -->\n",
       "<g id=\"node19\" class=\"node\">\n",
       "<title>22</title>\n",
       "<path fill=\"#e58139\" stroke=\"#000000\" d=\"M930,-68C930,-68 855,-68 855,-68 849,-68 843,-62 843,-56 843,-56 843,-12 843,-12 843,-6 849,0 855,0 855,0 930,0 930,0 936,0 942,-6 942,-12 942,-12 942,-56 942,-56 942,-62 936,-68 930,-68\"/>\n",
       "<text text-anchor=\"middle\" x=\"892.5\" y=\"-52.8\" font-family=\"Helvetica,sans-Serif\" font-size=\"14.00\" fill=\"#000000\">gini = 0.0</text>\n",
       "<text text-anchor=\"middle\" x=\"892.5\" y=\"-37.8\" font-family=\"Helvetica,sans-Serif\" font-size=\"14.00\" fill=\"#000000\">samples = 3</text>\n",
       "<text text-anchor=\"middle\" x=\"892.5\" y=\"-22.8\" font-family=\"Helvetica,sans-Serif\" font-size=\"14.00\" fill=\"#000000\">value = [3, 0]</text>\n",
       "<text text-anchor=\"middle\" x=\"892.5\" y=\"-7.8\" font-family=\"Helvetica,sans-Serif\" font-size=\"14.00\" fill=\"#000000\">class = 0</text>\n",
       "</g>\n",
       "<!-- 19&#45;&gt;22 -->\n",
       "<g id=\"edge18\" class=\"edge\">\n",
       "<title>19&#45;&gt;22</title>\n",
       "<path fill=\"none\" stroke=\"#000000\" d=\"M889.9895,-103.9815C890.2895,-95.618 890.606,-86.7965 890.9093,-78.3409\"/>\n",
       "<polygon fill=\"#000000\" stroke=\"#000000\" points=\"894.41,-78.3828 891.2708,-68.2637 887.4145,-78.1317 894.41,-78.3828\"/>\n",
       "</g>\n",
       "<!-- 27 -->\n",
       "<g id=\"node21\" class=\"node\">\n",
       "<title>27</title>\n",
       "<path fill=\"#4aa5e7\" stroke=\"#000000\" d=\"M1055,-68C1055,-68 972,-68 972,-68 966,-68 960,-62 960,-56 960,-56 960,-12 960,-12 960,-6 966,0 972,0 972,0 1055,0 1055,0 1061,0 1067,-6 1067,-12 1067,-12 1067,-56 1067,-56 1067,-62 1061,-68 1055,-68\"/>\n",
       "<text text-anchor=\"middle\" x=\"1013.5\" y=\"-52.8\" font-family=\"Helvetica,sans-Serif\" font-size=\"14.00\" fill=\"#000000\">gini = 0.143</text>\n",
       "<text text-anchor=\"middle\" x=\"1013.5\" y=\"-37.8\" font-family=\"Helvetica,sans-Serif\" font-size=\"14.00\" fill=\"#000000\">samples = 90</text>\n",
       "<text text-anchor=\"middle\" x=\"1013.5\" y=\"-22.8\" font-family=\"Helvetica,sans-Serif\" font-size=\"14.00\" fill=\"#000000\">value = [7, 83]</text>\n",
       "<text text-anchor=\"middle\" x=\"1013.5\" y=\"-7.8\" font-family=\"Helvetica,sans-Serif\" font-size=\"14.00\" fill=\"#000000\">class = 1</text>\n",
       "</g>\n",
       "<!-- 20&#45;&gt;27 -->\n",
       "<g id=\"edge20\" class=\"edge\">\n",
       "<title>20&#45;&gt;27</title>\n",
       "<path fill=\"none\" stroke=\"#000000\" d=\"M1015.3829,-103.9815C1015.1579,-95.618 1014.9205,-86.7965 1014.693,-78.3409\"/>\n",
       "<polygon fill=\"#000000\" stroke=\"#000000\" points=\"1018.1897,-78.1659 1014.4219,-68.2637 1011.1922,-78.3542 1018.1897,-78.1659\"/>\n",
       "</g>\n",
       "<!-- 28 -->\n",
       "<g id=\"node22\" class=\"node\">\n",
       "<title>28</title>\n",
       "<path fill=\"#e58139\" stroke=\"#000000\" d=\"M1172,-68C1172,-68 1097,-68 1097,-68 1091,-68 1085,-62 1085,-56 1085,-56 1085,-12 1085,-12 1085,-6 1091,0 1097,0 1097,0 1172,0 1172,0 1178,0 1184,-6 1184,-12 1184,-12 1184,-56 1184,-56 1184,-62 1178,-68 1172,-68\"/>\n",
       "<text text-anchor=\"middle\" x=\"1134.5\" y=\"-52.8\" font-family=\"Helvetica,sans-Serif\" font-size=\"14.00\" fill=\"#000000\">gini = 0.0</text>\n",
       "<text text-anchor=\"middle\" x=\"1134.5\" y=\"-37.8\" font-family=\"Helvetica,sans-Serif\" font-size=\"14.00\" fill=\"#000000\">samples = 1</text>\n",
       "<text text-anchor=\"middle\" x=\"1134.5\" y=\"-22.8\" font-family=\"Helvetica,sans-Serif\" font-size=\"14.00\" fill=\"#000000\">value = [1, 0]</text>\n",
       "<text text-anchor=\"middle\" x=\"1134.5\" y=\"-7.8\" font-family=\"Helvetica,sans-Serif\" font-size=\"14.00\" fill=\"#000000\">class = 0</text>\n",
       "</g>\n",
       "<!-- 20&#45;&gt;28 -->\n",
       "<g id=\"edge21\" class=\"edge\">\n",
       "<title>20&#45;&gt;28</title>\n",
       "<path fill=\"none\" stroke=\"#000000\" d=\"M1060.4388,-103.9815C1070.3598,-94.607 1080.8897,-84.6572 1090.8008,-75.2921\"/>\n",
       "<polygon fill=\"#000000\" stroke=\"#000000\" points=\"1093.3743,-77.6757 1098.2389,-68.2637 1088.5666,-72.5878 1093.3743,-77.6757\"/>\n",
       "</g>\n",
       "<!-- 9 -->\n",
       "<g id=\"node24\" class=\"node\">\n",
       "<title>9</title>\n",
       "<path fill=\"#e9965a\" stroke=\"#000000\" d=\"M1344.5,-187C1344.5,-187 1264.5,-187 1264.5,-187 1258.5,-187 1252.5,-181 1252.5,-175 1252.5,-175 1252.5,-116 1252.5,-116 1252.5,-110 1258.5,-104 1264.5,-104 1264.5,-104 1344.5,-104 1344.5,-104 1350.5,-104 1356.5,-110 1356.5,-116 1356.5,-116 1356.5,-175 1356.5,-175 1356.5,-181 1350.5,-187 1344.5,-187\"/>\n",
       "<text text-anchor=\"middle\" x=\"1304.5\" y=\"-171.8\" font-family=\"Helvetica,sans-Serif\" font-size=\"14.00\" fill=\"#000000\">chol &lt;= 311.0</text>\n",
       "<text text-anchor=\"middle\" x=\"1304.5\" y=\"-156.8\" font-family=\"Helvetica,sans-Serif\" font-size=\"14.00\" fill=\"#000000\">gini = 0.245</text>\n",
       "<text text-anchor=\"middle\" x=\"1304.5\" y=\"-141.8\" font-family=\"Helvetica,sans-Serif\" font-size=\"14.00\" fill=\"#000000\">samples = 7</text>\n",
       "<text text-anchor=\"middle\" x=\"1304.5\" y=\"-126.8\" font-family=\"Helvetica,sans-Serif\" font-size=\"14.00\" fill=\"#000000\">value = [6, 1]</text>\n",
       "<text text-anchor=\"middle\" x=\"1304.5\" y=\"-111.8\" font-family=\"Helvetica,sans-Serif\" font-size=\"14.00\" fill=\"#000000\">class = 0</text>\n",
       "</g>\n",
       "<!-- 6&#45;&gt;9 -->\n",
       "<g id=\"edge23\" class=\"edge\">\n",
       "<title>6&#45;&gt;9</title>\n",
       "<path fill=\"none\" stroke=\"#000000\" d=\"M1304.5,-222.8796C1304.5,-214.6838 1304.5,-205.9891 1304.5,-197.5013\"/>\n",
       "<polygon fill=\"#000000\" stroke=\"#000000\" points=\"1308.0001,-197.298 1304.5,-187.2981 1301.0001,-197.2981 1308.0001,-197.298\"/>\n",
       "</g>\n",
       "<!-- 10 -->\n",
       "<g id=\"node27\" class=\"node\">\n",
       "<title>10</title>\n",
       "<path fill=\"#9ccef2\" stroke=\"#000000\" d=\"M1538,-187C1538,-187 1441,-187 1441,-187 1435,-187 1429,-181 1429,-175 1429,-175 1429,-116 1429,-116 1429,-110 1435,-104 1441,-104 1441,-104 1538,-104 1538,-104 1544,-104 1550,-110 1550,-116 1550,-116 1550,-175 1550,-175 1550,-181 1544,-187 1538,-187\"/>\n",
       "<text text-anchor=\"middle\" x=\"1489.5\" y=\"-171.8\" font-family=\"Helvetica,sans-Serif\" font-size=\"14.00\" fill=\"#000000\">oldpeak &lt;= 1.95</text>\n",
       "<text text-anchor=\"middle\" x=\"1489.5\" y=\"-156.8\" font-family=\"Helvetica,sans-Serif\" font-size=\"14.00\" fill=\"#000000\">gini = 0.444</text>\n",
       "<text text-anchor=\"middle\" x=\"1489.5\" y=\"-141.8\" font-family=\"Helvetica,sans-Serif\" font-size=\"14.00\" fill=\"#000000\">samples = 24</text>\n",
       "<text text-anchor=\"middle\" x=\"1489.5\" y=\"-126.8\" font-family=\"Helvetica,sans-Serif\" font-size=\"14.00\" fill=\"#000000\">value = [8, 16]</text>\n",
       "<text text-anchor=\"middle\" x=\"1489.5\" y=\"-111.8\" font-family=\"Helvetica,sans-Serif\" font-size=\"14.00\" fill=\"#000000\">class = 1</text>\n",
       "</g>\n",
       "<!-- 6&#45;&gt;10 -->\n",
       "<g id=\"edge26\" class=\"edge\">\n",
       "<title>6&#45;&gt;10</title>\n",
       "<path fill=\"none\" stroke=\"#000000\" d=\"M1367.1326,-224.212C1384.2484,-213.2024 1402.8925,-201.2097 1420.3495,-189.9806\"/>\n",
       "<polygon fill=\"#000000\" stroke=\"#000000\" points=\"1422.2952,-192.8907 1428.812,-184.5371 1418.5082,-187.0034 1422.2952,-192.8907\"/>\n",
       "</g>\n",
       "<!-- 25 -->\n",
       "<g id=\"node25\" class=\"node\">\n",
       "<title>25</title>\n",
       "<path fill=\"#e58139\" stroke=\"#000000\" d=\"M1289,-68C1289,-68 1214,-68 1214,-68 1208,-68 1202,-62 1202,-56 1202,-56 1202,-12 1202,-12 1202,-6 1208,0 1214,0 1214,0 1289,0 1289,0 1295,0 1301,-6 1301,-12 1301,-12 1301,-56 1301,-56 1301,-62 1295,-68 1289,-68\"/>\n",
       "<text text-anchor=\"middle\" x=\"1251.5\" y=\"-52.8\" font-family=\"Helvetica,sans-Serif\" font-size=\"14.00\" fill=\"#000000\">gini = 0.0</text>\n",
       "<text text-anchor=\"middle\" x=\"1251.5\" y=\"-37.8\" font-family=\"Helvetica,sans-Serif\" font-size=\"14.00\" fill=\"#000000\">samples = 6</text>\n",
       "<text text-anchor=\"middle\" x=\"1251.5\" y=\"-22.8\" font-family=\"Helvetica,sans-Serif\" font-size=\"14.00\" fill=\"#000000\">value = [6, 0]</text>\n",
       "<text text-anchor=\"middle\" x=\"1251.5\" y=\"-7.8\" font-family=\"Helvetica,sans-Serif\" font-size=\"14.00\" fill=\"#000000\">class = 0</text>\n",
       "</g>\n",
       "<!-- 9&#45;&gt;25 -->\n",
       "<g id=\"edge24\" class=\"edge\">\n",
       "<title>9&#45;&gt;25</title>\n",
       "<path fill=\"none\" stroke=\"#000000\" d=\"M1284.7648,-103.9815C1280.6582,-95.3423 1276.3194,-86.2144 1272.1799,-77.5059\"/>\n",
       "<polygon fill=\"#000000\" stroke=\"#000000\" points=\"1275.2409,-75.7927 1267.7868,-68.2637 1268.9188,-78.7979 1275.2409,-75.7927\"/>\n",
       "</g>\n",
       "<!-- 26 -->\n",
       "<g id=\"node26\" class=\"node\">\n",
       "<title>26</title>\n",
       "<path fill=\"#399de5\" stroke=\"#000000\" d=\"M1406,-68C1406,-68 1331,-68 1331,-68 1325,-68 1319,-62 1319,-56 1319,-56 1319,-12 1319,-12 1319,-6 1325,0 1331,0 1331,0 1406,0 1406,0 1412,0 1418,-6 1418,-12 1418,-12 1418,-56 1418,-56 1418,-62 1412,-68 1406,-68\"/>\n",
       "<text text-anchor=\"middle\" x=\"1368.5\" y=\"-52.8\" font-family=\"Helvetica,sans-Serif\" font-size=\"14.00\" fill=\"#000000\">gini = 0.0</text>\n",
       "<text text-anchor=\"middle\" x=\"1368.5\" y=\"-37.8\" font-family=\"Helvetica,sans-Serif\" font-size=\"14.00\" fill=\"#000000\">samples = 1</text>\n",
       "<text text-anchor=\"middle\" x=\"1368.5\" y=\"-22.8\" font-family=\"Helvetica,sans-Serif\" font-size=\"14.00\" fill=\"#000000\">value = [0, 1]</text>\n",
       "<text text-anchor=\"middle\" x=\"1368.5\" y=\"-7.8\" font-family=\"Helvetica,sans-Serif\" font-size=\"14.00\" fill=\"#000000\">class = 1</text>\n",
       "</g>\n",
       "<!-- 9&#45;&gt;26 -->\n",
       "<g id=\"edge25\" class=\"edge\">\n",
       "<title>9&#45;&gt;26</title>\n",
       "<path fill=\"none\" stroke=\"#000000\" d=\"M1328.3312,-103.9815C1333.3956,-95.1585 1338.7525,-85.8258 1343.8468,-76.9506\"/>\n",
       "<polygon fill=\"#000000\" stroke=\"#000000\" points=\"1346.8903,-78.6789 1348.833,-68.2637 1340.8193,-75.1942 1346.8903,-78.6789\"/>\n",
       "</g>\n",
       "<!-- 15 -->\n",
       "<g id=\"node28\" class=\"node\">\n",
       "<title>15</title>\n",
       "<path fill=\"#6eb7ec\" stroke=\"#000000\" d=\"M1531,-68C1531,-68 1448,-68 1448,-68 1442,-68 1436,-62 1436,-56 1436,-56 1436,-12 1436,-12 1436,-6 1442,0 1448,0 1448,0 1531,0 1531,0 1537,0 1543,-6 1543,-12 1543,-12 1543,-56 1543,-56 1543,-62 1537,-68 1531,-68\"/>\n",
       "<text text-anchor=\"middle\" x=\"1489.5\" y=\"-52.8\" font-family=\"Helvetica,sans-Serif\" font-size=\"14.00\" fill=\"#000000\">gini = 0.332</text>\n",
       "<text text-anchor=\"middle\" x=\"1489.5\" y=\"-37.8\" font-family=\"Helvetica,sans-Serif\" font-size=\"14.00\" fill=\"#000000\">samples = 19</text>\n",
       "<text text-anchor=\"middle\" x=\"1489.5\" y=\"-22.8\" font-family=\"Helvetica,sans-Serif\" font-size=\"14.00\" fill=\"#000000\">value = [4, 15]</text>\n",
       "<text text-anchor=\"middle\" x=\"1489.5\" y=\"-7.8\" font-family=\"Helvetica,sans-Serif\" font-size=\"14.00\" fill=\"#000000\">class = 1</text>\n",
       "</g>\n",
       "<!-- 10&#45;&gt;15 -->\n",
       "<g id=\"edge27\" class=\"edge\">\n",
       "<title>10&#45;&gt;15</title>\n",
       "<path fill=\"none\" stroke=\"#000000\" d=\"M1489.5,-103.9815C1489.5,-95.618 1489.5,-86.7965 1489.5,-78.3409\"/>\n",
       "<polygon fill=\"#000000\" stroke=\"#000000\" points=\"1493.0001,-78.2636 1489.5,-68.2637 1486.0001,-78.2637 1493.0001,-78.2636\"/>\n",
       "</g>\n",
       "<!-- 16 -->\n",
       "<g id=\"node29\" class=\"node\">\n",
       "<title>16</title>\n",
       "<path fill=\"#eca06a\" stroke=\"#000000\" d=\"M1648,-68C1648,-68 1573,-68 1573,-68 1567,-68 1561,-62 1561,-56 1561,-56 1561,-12 1561,-12 1561,-6 1567,0 1573,0 1573,0 1648,0 1648,0 1654,0 1660,-6 1660,-12 1660,-12 1660,-56 1660,-56 1660,-62 1654,-68 1648,-68\"/>\n",
       "<text text-anchor=\"middle\" x=\"1610.5\" y=\"-52.8\" font-family=\"Helvetica,sans-Serif\" font-size=\"14.00\" fill=\"#000000\">gini = 0.32</text>\n",
       "<text text-anchor=\"middle\" x=\"1610.5\" y=\"-37.8\" font-family=\"Helvetica,sans-Serif\" font-size=\"14.00\" fill=\"#000000\">samples = 5</text>\n",
       "<text text-anchor=\"middle\" x=\"1610.5\" y=\"-22.8\" font-family=\"Helvetica,sans-Serif\" font-size=\"14.00\" fill=\"#000000\">value = [4, 1]</text>\n",
       "<text text-anchor=\"middle\" x=\"1610.5\" y=\"-7.8\" font-family=\"Helvetica,sans-Serif\" font-size=\"14.00\" fill=\"#000000\">class = 0</text>\n",
       "</g>\n",
       "<!-- 10&#45;&gt;16 -->\n",
       "<g id=\"edge28\" class=\"edge\">\n",
       "<title>10&#45;&gt;16</title>\n",
       "<path fill=\"none\" stroke=\"#000000\" d=\"M1534.5559,-103.9815C1544.7291,-94.607 1555.5267,-84.6572 1565.6898,-75.2921\"/>\n",
       "<polygon fill=\"#000000\" stroke=\"#000000\" points=\"1568.3349,-77.6141 1573.317,-68.2637 1563.5913,-72.4663 1568.3349,-77.6141\"/>\n",
       "</g>\n",
       "</g>\n",
       "</svg>\n"
      ],
      "text/plain": [
       "<graphviz.files.Source at 0x7f2711eca950>"
      ]
     },
     "metadata": {},
     "output_type": "display_data"
    }
   ],
   "source": [
    "export_graphviz(pruned_dt_dlf,\n",
    "                out_file=(\"pruned_heart.dot\"),\n",
    "                feature_names=X_train.columns,\n",
    "                class_names=['0','1'],\n",
    "                rounded=True,\n",
    "                filled=True)\n",
    "\n",
    "os.environ[\"PATH\"] += os.pathsep + 'C:/graphviz-2.38/release/bin'\n",
    "\n",
    "with open(\"pruned_heart.dot\") as f:\n",
    "    dot_graph = f.read()\n",
    "    display(graphviz.Source(dot_graph))"
   ]
  },
  {
   "cell_type": "markdown",
   "metadata": {
    "id": "A3LEMnw6xi9y"
   },
   "source": [
    "-----------------"
   ]
  },
  {
   "cell_type": "code",
   "execution_count": null,
   "metadata": {
    "colab": {
     "base_uri": "https://localhost:8080/"
    },
    "executionInfo": {
     "elapsed": 8,
     "status": "ok",
     "timestamp": 1643028986320,
     "user": {
      "displayName": "김상회",
      "photoUrl": "https://lh3.googleusercontent.com/a/default-user=s64",
      "userId": "17849189406907453051"
     },
     "user_tz": -540
    },
    "id": "EAeP8UQaxi9y",
    "outputId": "0ddcaa30-f1ee-473e-a3a2-b58acaa2f4b4"
   },
   "outputs": [
    {
     "name": "stdout",
     "output_type": "stream",
     "text": [
      "              precision    recall  f1-score   support\n",
      "\n",
      "           0       0.83      0.71      0.77        28\n",
      "           1       0.78      0.88      0.83        33\n",
      "\n",
      "    accuracy                           0.80        61\n",
      "   macro avg       0.81      0.80      0.80        61\n",
      "weighted avg       0.81      0.80      0.80        61\n",
      "\n"
     ]
    }
   ],
   "source": [
    "pruned_predicton = pruned_dt_dlf.predict(X_val)\n",
    "print( classification_report(y_val, pruned_predicton) )"
   ]
  },
  {
   "cell_type": "code",
   "execution_count": null,
   "metadata": {
    "colab": {
     "base_uri": "https://localhost:8080/"
    },
    "executionInfo": {
     "elapsed": 6,
     "status": "ok",
     "timestamp": 1643028986320,
     "user": {
      "displayName": "김상회",
      "photoUrl": "https://lh3.googleusercontent.com/a/default-user=s64",
      "userId": "17849189406907453051"
     },
     "user_tz": -540
    },
    "id": "tqJ1QGQ5JinE",
    "outputId": "14543a27-6b6c-410c-b4b2-ea06e266f678"
   },
   "outputs": [
    {
     "name": "stdout",
     "output_type": "stream",
     "text": [
      "Accuracy:: 0.80\n",
      "F1_Score:: 0.83\n",
      "ROC_AUC_Score:: 0.80\n"
     ]
    }
   ],
   "source": [
    "print('Accuracy:: {:.2f}'.format(accuracy_score(y_val, pruned_predicton)),\n",
    "      'F1_Score:: {:.2f}'.format(f1_score(y_val, pruned_predicton)),\n",
    "      'ROC_AUC_Score:: {:.2f}'.format(roc_auc_score(y_val, pruned_predicton)), sep = '\\n')"
   ]
  },
  {
   "cell_type": "markdown",
   "metadata": {
    "id": "f-JU9EyKxi9z"
   },
   "source": [
    "이렇게 parameter를 조정해주면 더 좋은 성능을 내는 모델을 만들어 낼 수도 있습니다.\n",
    "하지만 매번 parameter를 일일히 실험해보면서 수정할 수는 없는 노릇입니다.\n",
    "그래서 이를 효율적으로 해결해주는 것이 바로 GridSearch입니다."
   ]
  },
  {
   "cell_type": "code",
   "execution_count": null,
   "metadata": {
    "id": "3hzflJVIxi9z"
   },
   "outputs": [],
   "source": [
    "# GridSearch는 모델 학습시에 최적의 parameter 값을 찾도록 도와주는 도구입니다. 반복 작업을 효율적으로 진행할 수 있습니다.\n",
    "# 꼭 Decision Tree가 아니더라도, sklearn에서 지원하는 대부분의 알고리즘에 적용할 수 있습니다.\n",
    "# GridSearch를 불러와주고, 새로운 tree 객체를 만듭시다\n",
    "\n",
    "from sklearn.model_selection import GridSearchCV\n",
    "grid_dt = DecisionTreeClassifier()\n",
    "\n",
    "# 테스트 하고 싶은 parameter 값들을 parameter 별로 sequence 구조의 데이터(list, numpy array, etc...)에 넣어줍니다.\n",
    "# 이 때 변수 이름은 꼭 모델 parameter 이름과 동일할 필요는 없습니다.\n",
    "\n",
    "criterion = ['gini', 'entropy'] \n",
    "max_depth = [3,4,5,6]\n",
    "max_leaf = [16,20,24,28]\n",
    "\n",
    "#위의 세 parameter를 하나로 묶기 위해서 다음과 같은 Dictionary 형태로 만들어줍니다.\n",
    "#여기서 key 값은 str 형태로, 정확하게 모델 parameter 이름과 동일해야 합니다.\n",
    "\n",
    "parameter_grid = {'criterion': criterion,\n",
    "                    'max_depth': max_depth,\n",
    "                    'max_leaf_nodes': max_leaf}"
   ]
  },
  {
   "cell_type": "code",
   "execution_count": null,
   "metadata": {
    "colab": {
     "base_uri": "https://localhost:8080/"
    },
    "executionInfo": {
     "elapsed": 1264,
     "status": "ok",
     "timestamp": 1643028987579,
     "user": {
      "displayName": "김상회",
      "photoUrl": "https://lh3.googleusercontent.com/a/default-user=s64",
      "userId": "17849189406907453051"
     },
     "user_tz": -540
    },
    "id": "Nq8jjjkexi9z",
    "outputId": "e038fae8-31e0-4cb6-f85a-d474d8b4b20d"
   },
   "outputs": [
    {
     "data": {
      "text/plain": [
       "GridSearchCV(estimator=DecisionTreeClassifier(),\n",
       "             param_grid={'criterion': ['gini', 'entropy'],\n",
       "                         'max_depth': [3, 4, 5, 6],\n",
       "                         'max_leaf_nodes': [16, 20, 24, 28]},\n",
       "             scoring='f1')"
      ]
     },
     "execution_count": 27,
     "metadata": {},
     "output_type": "execute_result"
    }
   ],
   "source": [
    "gs = GridSearchCV(estimator= grid_dt, param_grid= parameter_grid, scoring= 'f1') \n",
    "# estimator는 우리가 사용하고자 하는 알고리즘 객체입니다. 위에서 grid_dt를 이미 할당해 놓았죠.\n",
    "# scoring에는 str 형태의 인자가 들어갑니다. 'f1', 'roc_auc' ,'accuracy' 등을 사용할 수 있습니다.\n",
    "\n",
    "gs.fit(X_train, y_train)"
   ]
  },
  {
   "cell_type": "code",
   "execution_count": null,
   "metadata": {
    "colab": {
     "base_uri": "https://localhost:8080/"
    },
    "executionInfo": {
     "elapsed": 7,
     "status": "ok",
     "timestamp": 1643028987579,
     "user": {
      "displayName": "김상회",
      "photoUrl": "https://lh3.googleusercontent.com/a/default-user=s64",
      "userId": "17849189406907453051"
     },
     "user_tz": -540
    },
    "id": "OFT-XW6-xi9z",
    "outputId": "80d3df71-330d-45ed-d7e6-09cea20c5338"
   },
   "outputs": [
    {
     "name": "stdout",
     "output_type": "stream",
     "text": [
      "GridSearch 최적 parameter: {'criterion': 'entropy', 'max_depth': 3, 'max_leaf_nodes': 16}\n",
      "GridSearch 최고 Validation Score: 0.817\n"
     ]
    }
   ],
   "source": [
    "# gridsearch의 method중 .best_params, .best_score_가 있습니다. 각각 최적 parameter 조합과 해당 조합의 최고 성능을 나타냅니다\n",
    "\n",
    "print('GridSearch 최적 parameter: {}'.format(gs.best_params_),\n",
    "      'GridSearch 최고 Validation Score: {:.3f}'.format(gs.best_score_), sep = '\\n')"
   ]
  },
  {
   "cell_type": "markdown",
   "metadata": {
    "id": "2oS7jHqcxi90"
   },
   "source": [
    "여기서 Validation Score란, 아까 세션에서 언급했던 Validation data를 이용한 결과입니다. GridSearch에서는 자체적으로 입력한 Training set을 자동적으로 분할하여 Validation Set에서 가장 높은 점수를 보인 parameter 조합을 선택하여 모델로 선택합니다."
   ]
  },
  {
   "cell_type": "markdown",
   "metadata": {
    "id": "BxzLtPZaKrLc"
   },
   "source": [
    "### +) 다양한 모델과 비교"
   ]
  },
  {
   "cell_type": "code",
   "execution_count": null,
   "metadata": {
    "colab": {
     "base_uri": "https://localhost:8080/"
    },
    "executionInfo": {
     "elapsed": 5,
     "status": "ok",
     "timestamp": 1643028987579,
     "user": {
      "displayName": "김상회",
      "photoUrl": "https://lh3.googleusercontent.com/a/default-user=s64",
      "userId": "17849189406907453051"
     },
     "user_tz": -540
    },
    "id": "dVnIANL8Kp4k",
    "outputId": "259e9768-b843-4432-dafd-ca0bb6b9efb2"
   },
   "outputs": [
    {
     "name": "stdout",
     "output_type": "stream",
     "text": [
      "--Vanilla Decision Tree--\n",
      "\n",
      "Accuracy:: 0.70\n",
      "F1_Score:: 0.74\n",
      "ROC_AUC_Score:: 0.70\n"
     ]
    }
   ],
   "source": [
    "# 모델 선택\n",
    "dt_clf = DecisionTreeClassifier() \n",
    "#학습 진행\n",
    "dt_clf.fit(X_train, y_train) \n",
    "# Validation 예측\n",
    "prediction = dt_clf.predict(X_val)\n",
    "# Validation 정답과 비교\n",
    "print(\"--Vanilla Decision Tree--\")\n",
    "print(\"\")\n",
    "print('Accuracy:: {:.2f}'.format(accuracy_score(y_val, prediction)),\n",
    "      'F1_Score:: {:.2f}'.format(f1_score(y_val, prediction)),\n",
    "      'ROC_AUC_Score:: {:.2f}'.format(roc_auc_score(y_val, prediction)), sep = '\\n')"
   ]
  },
  {
   "cell_type": "code",
   "execution_count": null,
   "metadata": {
    "colab": {
     "base_uri": "https://localhost:8080/"
    },
    "executionInfo": {
     "elapsed": 4,
     "status": "ok",
     "timestamp": 1643028987580,
     "user": {
      "displayName": "김상회",
      "photoUrl": "https://lh3.googleusercontent.com/a/default-user=s64",
      "userId": "17849189406907453051"
     },
     "user_tz": -540
    },
    "id": "1PKI-6PHMvPe",
    "outputId": "73f69e1a-b782-4f49-de8e-c0dd13ddc042"
   },
   "outputs": [
    {
     "name": "stdout",
     "output_type": "stream",
     "text": [
      "--Vanilla Logistic Regression--\n",
      "\n",
      "Accuracy:: 0.80\n",
      "F1_Score:: 0.83\n",
      "ROC_AUC_Score:: 0.79\n"
     ]
    }
   ],
   "source": [
    "from sklearn.linear_model import LogisticRegression\n",
    "\n",
    "# 모델 선택\n",
    "logistic_clf = LogisticRegression() \n",
    "#학습 진행\n",
    "logistic_clf.fit(X_train, y_train) \n",
    "# Validation 예측\n",
    "prediction = logistic_clf.predict(X_val)\n",
    "# Validation 정답과 비교\n",
    "print(\"--Vanilla Logistic Regression--\")\n",
    "print(\"\")\n",
    "print('Accuracy:: {:.2f}'.format(accuracy_score(y_val, prediction)),\n",
    "      'F1_Score:: {:.2f}'.format(f1_score(y_val, prediction)),\n",
    "      'ROC_AUC_Score:: {:.2f}'.format(roc_auc_score(y_val, prediction)), sep = '\\n')"
   ]
  },
  {
   "cell_type": "code",
   "execution_count": null,
   "metadata": {
    "colab": {
     "base_uri": "https://localhost:8080/"
    },
    "executionInfo": {
     "elapsed": 4,
     "status": "ok",
     "timestamp": 1643028987580,
     "user": {
      "displayName": "김상회",
      "photoUrl": "https://lh3.googleusercontent.com/a/default-user=s64",
      "userId": "17849189406907453051"
     },
     "user_tz": -540
    },
    "id": "_VtXojCYL4bS",
    "outputId": "7fe8b270-f4b0-425c-9aae-8e6524a497fb"
   },
   "outputs": [
    {
     "name": "stdout",
     "output_type": "stream",
     "text": [
      "--Vanilla SVM--\n",
      "\n",
      "Accuracy:: 0.66\n",
      "F1_Score:: 0.71\n",
      "ROC_AUC_Score:: 0.64\n"
     ]
    }
   ],
   "source": [
    "from sklearn import svm\n",
    "\n",
    "# 모델 선택\n",
    "svm_clf = svm.SVC() \n",
    "#학습 진행\n",
    "svm_clf.fit(X_train, y_train) \n",
    "# Validation 예측\n",
    "prediction = svm_clf.predict(X_val)\n",
    "# Validation 정답과 비교\n",
    "print(\"--Vanilla SVM--\")\n",
    "print(\"\")\n",
    "print('Accuracy:: {:.2f}'.format(accuracy_score(y_val, prediction)),\n",
    "      'F1_Score:: {:.2f}'.format(f1_score(y_val, prediction)),\n",
    "      'ROC_AUC_Score:: {:.2f}'.format(roc_auc_score(y_val, prediction)), sep = '\\n')"
   ]
  },
  {
   "cell_type": "code",
   "execution_count": null,
   "metadata": {
    "colab": {
     "base_uri": "https://localhost:8080/"
    },
    "executionInfo": {
     "elapsed": 557,
     "status": "ok",
     "timestamp": 1643028988134,
     "user": {
      "displayName": "김상회",
      "photoUrl": "https://lh3.googleusercontent.com/a/default-user=s64",
      "userId": "17849189406907453051"
     },
     "user_tz": -540
    },
    "id": "NRjHzAYyMNvH",
    "outputId": "03400274-d8cb-4d7f-e8b5-e60842ec7bd0"
   },
   "outputs": [
    {
     "name": "stdout",
     "output_type": "stream",
     "text": [
      "--Linear Kernel SVM--\n",
      "\n",
      "Accuracy:: 0.80\n",
      "F1_Score:: 0.84\n",
      "ROC_AUC_Score:: 0.79\n"
     ]
    }
   ],
   "source": [
    "from sklearn import svm\n",
    "\n",
    "# 모델 선택\n",
    "svm_clf = svm.SVC(kernel='linear') # SVM은 커널을 다양하게 사용할 수 있다\n",
    "#학습 진행\n",
    "svm_clf.fit(X_train, y_train) \n",
    "# Validation 예측\n",
    "prediction = svm_clf.predict(X_val)\n",
    "# Validation 정답과 비교\n",
    "print(\"--Linear Kernel SVM--\")\n",
    "print(\"\")\n",
    "print('Accuracy:: {:.2f}'.format(accuracy_score(y_val, prediction)),\n",
    "      'F1_Score:: {:.2f}'.format(f1_score(y_val, prediction)),\n",
    "      'ROC_AUC_Score:: {:.2f}'.format(roc_auc_score(y_val, prediction)), sep = '\\n')"
   ]
  },
  {
   "cell_type": "code",
   "execution_count": null,
   "metadata": {
    "colab": {
     "base_uri": "https://localhost:8080/"
    },
    "executionInfo": {
     "elapsed": 4,
     "status": "ok",
     "timestamp": 1643028988134,
     "user": {
      "displayName": "김상회",
      "photoUrl": "https://lh3.googleusercontent.com/a/default-user=s64",
      "userId": "17849189406907453051"
     },
     "user_tz": -540
    },
    "id": "Oz0nGu9NKptM",
    "outputId": "2f400046-e43c-4e95-fe7e-35140c4eafee"
   },
   "outputs": [
    {
     "name": "stdout",
     "output_type": "stream",
     "text": [
      "--Vanilla XGB--\n",
      "\n",
      "Accuracy:: 0.80\n",
      "F1_Score:: 0.83\n",
      "ROC_AUC_Score:: 0.79\n"
     ]
    }
   ],
   "source": [
    "from xgboost import XGBClassifier\n",
    "\n",
    "# 모델 선택\n",
    "xgb_clf = XGBClassifier() \n",
    "#학습 진행\n",
    "xgb_clf.fit(X_train, y_train) \n",
    "# Validation 예측\n",
    "prediction = xgb_clf.predict(X_val)\n",
    "# Validation 정답과 비교\n",
    "print(\"--Vanilla XGB--\")\n",
    "print(\"\")\n",
    "print('Accuracy:: {:.2f}'.format(accuracy_score(y_val, prediction)),\n",
    "      'F1_Score:: {:.2f}'.format(f1_score(y_val, prediction)),\n",
    "      'ROC_AUC_Score:: {:.2f}'.format(roc_auc_score(y_val, prediction)), sep = '\\n')"
   ]
  },
  {
   "cell_type": "markdown",
   "metadata": {
    "id": "GJIEpkYNxi90"
   },
   "source": [
    "### 2. Decision Tree - Regression\n",
    "Decision Tree는 Regression도 진행 가능합니다. 회귀 세션 실습에서 사용했던 BostonHousingData를 사용하겠습니다."
   ]
  },
  {
   "cell_type": "code",
   "execution_count": null,
   "metadata": {
    "colab": {
     "base_uri": "https://localhost:8080/",
     "height": 206
    },
    "executionInfo": {
     "elapsed": 358,
     "status": "ok",
     "timestamp": 1643028988489,
     "user": {
      "displayName": "김상회",
      "photoUrl": "https://lh3.googleusercontent.com/a/default-user=s64",
      "userId": "17849189406907453051"
     },
     "user_tz": -540
    },
    "id": "Uqgpinm4xi90",
    "outputId": "403628c8-1fd3-45f5-ef57-b198d358e2bb"
   },
   "outputs": [
    {
     "data": {
      "text/html": [
       "\n",
       "  <div id=\"df-ae6c6774-43ea-46b6-8a6b-e257935e32ea\">\n",
       "    <div class=\"colab-df-container\">\n",
       "      <div>\n",
       "<style scoped>\n",
       "    .dataframe tbody tr th:only-of-type {\n",
       "        vertical-align: middle;\n",
       "    }\n",
       "\n",
       "    .dataframe tbody tr th {\n",
       "        vertical-align: top;\n",
       "    }\n",
       "\n",
       "    .dataframe thead th {\n",
       "        text-align: right;\n",
       "    }\n",
       "</style>\n",
       "<table border=\"1\" class=\"dataframe\">\n",
       "  <thead>\n",
       "    <tr style=\"text-align: right;\">\n",
       "      <th></th>\n",
       "      <th>CRIM</th>\n",
       "      <th>ZN</th>\n",
       "      <th>INDUS</th>\n",
       "      <th>CHAS</th>\n",
       "      <th>NOX</th>\n",
       "      <th>RM</th>\n",
       "      <th>AGE</th>\n",
       "      <th>DIS</th>\n",
       "      <th>RAD</th>\n",
       "      <th>TAX</th>\n",
       "      <th>PTRATIO</th>\n",
       "      <th>B</th>\n",
       "      <th>LSTAT</th>\n",
       "      <th>MEDV</th>\n",
       "    </tr>\n",
       "  </thead>\n",
       "  <tbody>\n",
       "    <tr>\n",
       "      <th>0</th>\n",
       "      <td>0.00632</td>\n",
       "      <td>18.0</td>\n",
       "      <td>2.31</td>\n",
       "      <td>No</td>\n",
       "      <td>0.538</td>\n",
       "      <td>6.575</td>\n",
       "      <td>65.2</td>\n",
       "      <td>4.0900</td>\n",
       "      <td>1</td>\n",
       "      <td>296</td>\n",
       "      <td>15.3</td>\n",
       "      <td>396.90</td>\n",
       "      <td>4.98</td>\n",
       "      <td>24.0</td>\n",
       "    </tr>\n",
       "    <tr>\n",
       "      <th>1</th>\n",
       "      <td>0.02731</td>\n",
       "      <td>0.0</td>\n",
       "      <td>7.07</td>\n",
       "      <td>No</td>\n",
       "      <td>0.469</td>\n",
       "      <td>6.421</td>\n",
       "      <td>78.9</td>\n",
       "      <td>4.9671</td>\n",
       "      <td>2</td>\n",
       "      <td>242</td>\n",
       "      <td>17.8</td>\n",
       "      <td>396.90</td>\n",
       "      <td>9.14</td>\n",
       "      <td>21.6</td>\n",
       "    </tr>\n",
       "    <tr>\n",
       "      <th>2</th>\n",
       "      <td>0.02729</td>\n",
       "      <td>0.0</td>\n",
       "      <td>7.07</td>\n",
       "      <td>No</td>\n",
       "      <td>0.469</td>\n",
       "      <td>7.185</td>\n",
       "      <td>61.1</td>\n",
       "      <td>4.9671</td>\n",
       "      <td>2</td>\n",
       "      <td>242</td>\n",
       "      <td>17.8</td>\n",
       "      <td>392.83</td>\n",
       "      <td>4.03</td>\n",
       "      <td>34.7</td>\n",
       "    </tr>\n",
       "    <tr>\n",
       "      <th>3</th>\n",
       "      <td>0.03237</td>\n",
       "      <td>0.0</td>\n",
       "      <td>2.18</td>\n",
       "      <td>No</td>\n",
       "      <td>0.458</td>\n",
       "      <td>6.998</td>\n",
       "      <td>45.8</td>\n",
       "      <td>6.0622</td>\n",
       "      <td>3</td>\n",
       "      <td>222</td>\n",
       "      <td>18.7</td>\n",
       "      <td>394.63</td>\n",
       "      <td>2.94</td>\n",
       "      <td>33.4</td>\n",
       "    </tr>\n",
       "    <tr>\n",
       "      <th>4</th>\n",
       "      <td>0.06905</td>\n",
       "      <td>0.0</td>\n",
       "      <td>2.18</td>\n",
       "      <td>No</td>\n",
       "      <td>0.458</td>\n",
       "      <td>7.147</td>\n",
       "      <td>54.2</td>\n",
       "      <td>6.0622</td>\n",
       "      <td>3</td>\n",
       "      <td>222</td>\n",
       "      <td>18.7</td>\n",
       "      <td>396.90</td>\n",
       "      <td>NaN</td>\n",
       "      <td>36.2</td>\n",
       "    </tr>\n",
       "  </tbody>\n",
       "</table>\n",
       "</div>\n",
       "      <button class=\"colab-df-convert\" onclick=\"convertToInteractive('df-ae6c6774-43ea-46b6-8a6b-e257935e32ea')\"\n",
       "              title=\"Convert this dataframe to an interactive table.\"\n",
       "              style=\"display:none;\">\n",
       "        \n",
       "  <svg xmlns=\"http://www.w3.org/2000/svg\" height=\"24px\"viewBox=\"0 0 24 24\"\n",
       "       width=\"24px\">\n",
       "    <path d=\"M0 0h24v24H0V0z\" fill=\"none\"/>\n",
       "    <path d=\"M18.56 5.44l.94 2.06.94-2.06 2.06-.94-2.06-.94-.94-2.06-.94 2.06-2.06.94zm-11 1L8.5 8.5l.94-2.06 2.06-.94-2.06-.94L8.5 2.5l-.94 2.06-2.06.94zm10 10l.94 2.06.94-2.06 2.06-.94-2.06-.94-.94-2.06-.94 2.06-2.06.94z\"/><path d=\"M17.41 7.96l-1.37-1.37c-.4-.4-.92-.59-1.43-.59-.52 0-1.04.2-1.43.59L10.3 9.45l-7.72 7.72c-.78.78-.78 2.05 0 2.83L4 21.41c.39.39.9.59 1.41.59.51 0 1.02-.2 1.41-.59l7.78-7.78 2.81-2.81c.8-.78.8-2.07 0-2.86zM5.41 20L4 18.59l7.72-7.72 1.47 1.35L5.41 20z\"/>\n",
       "  </svg>\n",
       "      </button>\n",
       "      \n",
       "  <style>\n",
       "    .colab-df-container {\n",
       "      display:flex;\n",
       "      flex-wrap:wrap;\n",
       "      gap: 12px;\n",
       "    }\n",
       "\n",
       "    .colab-df-convert {\n",
       "      background-color: #E8F0FE;\n",
       "      border: none;\n",
       "      border-radius: 50%;\n",
       "      cursor: pointer;\n",
       "      display: none;\n",
       "      fill: #1967D2;\n",
       "      height: 32px;\n",
       "      padding: 0 0 0 0;\n",
       "      width: 32px;\n",
       "    }\n",
       "\n",
       "    .colab-df-convert:hover {\n",
       "      background-color: #E2EBFA;\n",
       "      box-shadow: 0px 1px 2px rgba(60, 64, 67, 0.3), 0px 1px 3px 1px rgba(60, 64, 67, 0.15);\n",
       "      fill: #174EA6;\n",
       "    }\n",
       "\n",
       "    [theme=dark] .colab-df-convert {\n",
       "      background-color: #3B4455;\n",
       "      fill: #D2E3FC;\n",
       "    }\n",
       "\n",
       "    [theme=dark] .colab-df-convert:hover {\n",
       "      background-color: #434B5C;\n",
       "      box-shadow: 0px 1px 3px 1px rgba(0, 0, 0, 0.15);\n",
       "      filter: drop-shadow(0px 1px 2px rgba(0, 0, 0, 0.3));\n",
       "      fill: #FFFFFF;\n",
       "    }\n",
       "  </style>\n",
       "\n",
       "      <script>\n",
       "        const buttonEl =\n",
       "          document.querySelector('#df-ae6c6774-43ea-46b6-8a6b-e257935e32ea button.colab-df-convert');\n",
       "        buttonEl.style.display =\n",
       "          google.colab.kernel.accessAllowed ? 'block' : 'none';\n",
       "\n",
       "        async function convertToInteractive(key) {\n",
       "          const element = document.querySelector('#df-ae6c6774-43ea-46b6-8a6b-e257935e32ea');\n",
       "          const dataTable =\n",
       "            await google.colab.kernel.invokeFunction('convertToInteractive',\n",
       "                                                     [key], {});\n",
       "          if (!dataTable) return;\n",
       "\n",
       "          const docLinkHtml = 'Like what you see? Visit the ' +\n",
       "            '<a target=\"_blank\" href=https://colab.research.google.com/notebooks/data_table.ipynb>data table notebook</a>'\n",
       "            + ' to learn more about interactive tables.';\n",
       "          element.innerHTML = '';\n",
       "          dataTable['output_type'] = 'display_data';\n",
       "          await google.colab.output.renderOutput(dataTable, element);\n",
       "          const docLink = document.createElement('div');\n",
       "          docLink.innerHTML = docLinkHtml;\n",
       "          element.appendChild(docLink);\n",
       "        }\n",
       "      </script>\n",
       "    </div>\n",
       "  </div>\n",
       "  "
      ],
      "text/plain": [
       "      CRIM    ZN  INDUS CHAS    NOX  ...  TAX  PTRATIO       B  LSTAT  MEDV\n",
       "0  0.00632  18.0   2.31   No  0.538  ...  296     15.3  396.90   4.98  24.0\n",
       "1  0.02731   0.0   7.07   No  0.469  ...  242     17.8  396.90   9.14  21.6\n",
       "2  0.02729   0.0   7.07   No  0.469  ...  242     17.8  392.83   4.03  34.7\n",
       "3  0.03237   0.0   2.18   No  0.458  ...  222     18.7  394.63   2.94  33.4\n",
       "4  0.06905   0.0   2.18   No  0.458  ...  222     18.7  396.90    NaN  36.2\n",
       "\n",
       "[5 rows x 14 columns]"
      ]
     },
     "execution_count": 34,
     "metadata": {},
     "output_type": "execute_result"
    }
   ],
   "source": [
    "boston_regression = pd.read_csv(\"/content/gdrive/MyDrive/2022-1 교육세션/0125 ML [DS]/세션자료/실습/BostonHousingData.csv\")\n",
    "boston_regression.head()"
   ]
  },
  {
   "cell_type": "code",
   "execution_count": null,
   "metadata": {
    "id": "kHge7TIxxi91"
   },
   "outputs": [],
   "source": [
    "# nan 값들은 제거해줍니다.\n",
    "boston_regression = boston_regression.dropna(axis = 0)"
   ]
  },
  {
   "cell_type": "code",
   "execution_count": null,
   "metadata": {
    "colab": {
     "base_uri": "https://localhost:8080/"
    },
    "executionInfo": {
     "elapsed": 13,
     "status": "ok",
     "timestamp": 1643028988491,
     "user": {
      "displayName": "김상회",
      "photoUrl": "https://lh3.googleusercontent.com/a/default-user=s64",
      "userId": "17849189406907453051"
     },
     "user_tz": -540
    },
    "id": "nmWJ-NX2xi91",
    "outputId": "6f63d44b-c3b2-4c8d-8288-8c3d1e496893"
   },
   "outputs": [
    {
     "name": "stdout",
     "output_type": "stream",
     "text": [
      "<class 'pandas.core.frame.DataFrame'>\n",
      "Int64Index: 394 entries, 0 to 504\n",
      "Data columns (total 14 columns):\n",
      " #   Column   Non-Null Count  Dtype  \n",
      "---  ------   --------------  -----  \n",
      " 0   CRIM     394 non-null    float64\n",
      " 1   ZN       394 non-null    float64\n",
      " 2   INDUS    394 non-null    float64\n",
      " 3   CHAS     394 non-null    object \n",
      " 4   NOX      394 non-null    float64\n",
      " 5   RM       394 non-null    float64\n",
      " 6   AGE      394 non-null    float64\n",
      " 7   DIS      394 non-null    float64\n",
      " 8   RAD      394 non-null    int64  \n",
      " 9   TAX      394 non-null    int64  \n",
      " 10  PTRATIO  394 non-null    float64\n",
      " 11  B        394 non-null    float64\n",
      " 12  LSTAT    394 non-null    float64\n",
      " 13  MEDV     394 non-null    float64\n",
      "dtypes: float64(11), int64(2), object(1)\n",
      "memory usage: 46.2+ KB\n"
     ]
    }
   ],
   "source": [
    "boston_regression.info(null_counts = True)"
   ]
  },
  {
   "cell_type": "code",
   "execution_count": null,
   "metadata": {
    "colab": {
     "base_uri": "https://localhost:8080/"
    },
    "executionInfo": {
     "elapsed": 11,
     "status": "ok",
     "timestamp": 1643028988491,
     "user": {
      "displayName": "김상회",
      "photoUrl": "https://lh3.googleusercontent.com/a/default-user=s64",
      "userId": "17849189406907453051"
     },
     "user_tz": -540
    },
    "id": "_ePg1YbMJ5yF",
    "outputId": "ed60d14c-2cf0-4eb1-b4e7-55f6aa9609e0"
   },
   "outputs": [
    {
     "data": {
      "text/plain": [
       "0    No\n",
       "1    No\n",
       "2    No\n",
       "3    No\n",
       "5    No\n",
       "Name: CHAS, dtype: object"
      ]
     },
     "execution_count": 37,
     "metadata": {},
     "output_type": "execute_result"
    }
   ],
   "source": [
    "boston_regression.CHAS.head()"
   ]
  },
  {
   "cell_type": "code",
   "execution_count": null,
   "metadata": {
    "id": "f0FBK9icxi91"
   },
   "outputs": [],
   "source": [
    "# CHAS를 보시면 float64가 아니라 object 타입입니다. LabelEncoder 사용해서 문자열을 정수형으로 mapping 해주겠습니다.\n",
    "\n",
    "from sklearn.preprocessing import LabelEncoder\n",
    "label_encoder = LabelEncoder()"
   ]
  },
  {
   "cell_type": "code",
   "execution_count": null,
   "metadata": {
    "colab": {
     "base_uri": "https://localhost:8080/",
     "height": 206
    },
    "executionInfo": {
     "elapsed": 9,
     "status": "ok",
     "timestamp": 1643028988491,
     "user": {
      "displayName": "김상회",
      "photoUrl": "https://lh3.googleusercontent.com/a/default-user=s64",
      "userId": "17849189406907453051"
     },
     "user_tz": -540
    },
    "id": "2p1uxpkJxi92",
    "outputId": "12df3531-a6fa-4dcc-819d-0c919895c5bf"
   },
   "outputs": [
    {
     "data": {
      "text/html": [
       "\n",
       "  <div id=\"df-d4139174-568f-4bb5-be70-a8a1ba3af74b\">\n",
       "    <div class=\"colab-df-container\">\n",
       "      <div>\n",
       "<style scoped>\n",
       "    .dataframe tbody tr th:only-of-type {\n",
       "        vertical-align: middle;\n",
       "    }\n",
       "\n",
       "    .dataframe tbody tr th {\n",
       "        vertical-align: top;\n",
       "    }\n",
       "\n",
       "    .dataframe thead th {\n",
       "        text-align: right;\n",
       "    }\n",
       "</style>\n",
       "<table border=\"1\" class=\"dataframe\">\n",
       "  <thead>\n",
       "    <tr style=\"text-align: right;\">\n",
       "      <th></th>\n",
       "      <th>CRIM</th>\n",
       "      <th>ZN</th>\n",
       "      <th>INDUS</th>\n",
       "      <th>CHAS</th>\n",
       "      <th>NOX</th>\n",
       "      <th>RM</th>\n",
       "      <th>AGE</th>\n",
       "      <th>DIS</th>\n",
       "      <th>RAD</th>\n",
       "      <th>TAX</th>\n",
       "      <th>PTRATIO</th>\n",
       "      <th>B</th>\n",
       "      <th>LSTAT</th>\n",
       "      <th>MEDV</th>\n",
       "    </tr>\n",
       "  </thead>\n",
       "  <tbody>\n",
       "    <tr>\n",
       "      <th>0</th>\n",
       "      <td>0.00632</td>\n",
       "      <td>18.0</td>\n",
       "      <td>2.31</td>\n",
       "      <td>0</td>\n",
       "      <td>0.538</td>\n",
       "      <td>6.575</td>\n",
       "      <td>65.2</td>\n",
       "      <td>4.0900</td>\n",
       "      <td>1</td>\n",
       "      <td>296</td>\n",
       "      <td>15.3</td>\n",
       "      <td>396.90</td>\n",
       "      <td>4.98</td>\n",
       "      <td>24.0</td>\n",
       "    </tr>\n",
       "    <tr>\n",
       "      <th>1</th>\n",
       "      <td>0.02731</td>\n",
       "      <td>0.0</td>\n",
       "      <td>7.07</td>\n",
       "      <td>0</td>\n",
       "      <td>0.469</td>\n",
       "      <td>6.421</td>\n",
       "      <td>78.9</td>\n",
       "      <td>4.9671</td>\n",
       "      <td>2</td>\n",
       "      <td>242</td>\n",
       "      <td>17.8</td>\n",
       "      <td>396.90</td>\n",
       "      <td>9.14</td>\n",
       "      <td>21.6</td>\n",
       "    </tr>\n",
       "    <tr>\n",
       "      <th>2</th>\n",
       "      <td>0.02729</td>\n",
       "      <td>0.0</td>\n",
       "      <td>7.07</td>\n",
       "      <td>0</td>\n",
       "      <td>0.469</td>\n",
       "      <td>7.185</td>\n",
       "      <td>61.1</td>\n",
       "      <td>4.9671</td>\n",
       "      <td>2</td>\n",
       "      <td>242</td>\n",
       "      <td>17.8</td>\n",
       "      <td>392.83</td>\n",
       "      <td>4.03</td>\n",
       "      <td>34.7</td>\n",
       "    </tr>\n",
       "    <tr>\n",
       "      <th>3</th>\n",
       "      <td>0.03237</td>\n",
       "      <td>0.0</td>\n",
       "      <td>2.18</td>\n",
       "      <td>0</td>\n",
       "      <td>0.458</td>\n",
       "      <td>6.998</td>\n",
       "      <td>45.8</td>\n",
       "      <td>6.0622</td>\n",
       "      <td>3</td>\n",
       "      <td>222</td>\n",
       "      <td>18.7</td>\n",
       "      <td>394.63</td>\n",
       "      <td>2.94</td>\n",
       "      <td>33.4</td>\n",
       "    </tr>\n",
       "    <tr>\n",
       "      <th>5</th>\n",
       "      <td>0.02985</td>\n",
       "      <td>0.0</td>\n",
       "      <td>2.18</td>\n",
       "      <td>0</td>\n",
       "      <td>0.458</td>\n",
       "      <td>6.430</td>\n",
       "      <td>58.7</td>\n",
       "      <td>6.0622</td>\n",
       "      <td>3</td>\n",
       "      <td>222</td>\n",
       "      <td>18.7</td>\n",
       "      <td>394.12</td>\n",
       "      <td>5.21</td>\n",
       "      <td>28.7</td>\n",
       "    </tr>\n",
       "  </tbody>\n",
       "</table>\n",
       "</div>\n",
       "      <button class=\"colab-df-convert\" onclick=\"convertToInteractive('df-d4139174-568f-4bb5-be70-a8a1ba3af74b')\"\n",
       "              title=\"Convert this dataframe to an interactive table.\"\n",
       "              style=\"display:none;\">\n",
       "        \n",
       "  <svg xmlns=\"http://www.w3.org/2000/svg\" height=\"24px\"viewBox=\"0 0 24 24\"\n",
       "       width=\"24px\">\n",
       "    <path d=\"M0 0h24v24H0V0z\" fill=\"none\"/>\n",
       "    <path d=\"M18.56 5.44l.94 2.06.94-2.06 2.06-.94-2.06-.94-.94-2.06-.94 2.06-2.06.94zm-11 1L8.5 8.5l.94-2.06 2.06-.94-2.06-.94L8.5 2.5l-.94 2.06-2.06.94zm10 10l.94 2.06.94-2.06 2.06-.94-2.06-.94-.94-2.06-.94 2.06-2.06.94z\"/><path d=\"M17.41 7.96l-1.37-1.37c-.4-.4-.92-.59-1.43-.59-.52 0-1.04.2-1.43.59L10.3 9.45l-7.72 7.72c-.78.78-.78 2.05 0 2.83L4 21.41c.39.39.9.59 1.41.59.51 0 1.02-.2 1.41-.59l7.78-7.78 2.81-2.81c.8-.78.8-2.07 0-2.86zM5.41 20L4 18.59l7.72-7.72 1.47 1.35L5.41 20z\"/>\n",
       "  </svg>\n",
       "      </button>\n",
       "      \n",
       "  <style>\n",
       "    .colab-df-container {\n",
       "      display:flex;\n",
       "      flex-wrap:wrap;\n",
       "      gap: 12px;\n",
       "    }\n",
       "\n",
       "    .colab-df-convert {\n",
       "      background-color: #E8F0FE;\n",
       "      border: none;\n",
       "      border-radius: 50%;\n",
       "      cursor: pointer;\n",
       "      display: none;\n",
       "      fill: #1967D2;\n",
       "      height: 32px;\n",
       "      padding: 0 0 0 0;\n",
       "      width: 32px;\n",
       "    }\n",
       "\n",
       "    .colab-df-convert:hover {\n",
       "      background-color: #E2EBFA;\n",
       "      box-shadow: 0px 1px 2px rgba(60, 64, 67, 0.3), 0px 1px 3px 1px rgba(60, 64, 67, 0.15);\n",
       "      fill: #174EA6;\n",
       "    }\n",
       "\n",
       "    [theme=dark] .colab-df-convert {\n",
       "      background-color: #3B4455;\n",
       "      fill: #D2E3FC;\n",
       "    }\n",
       "\n",
       "    [theme=dark] .colab-df-convert:hover {\n",
       "      background-color: #434B5C;\n",
       "      box-shadow: 0px 1px 3px 1px rgba(0, 0, 0, 0.15);\n",
       "      filter: drop-shadow(0px 1px 2px rgba(0, 0, 0, 0.3));\n",
       "      fill: #FFFFFF;\n",
       "    }\n",
       "  </style>\n",
       "\n",
       "      <script>\n",
       "        const buttonEl =\n",
       "          document.querySelector('#df-d4139174-568f-4bb5-be70-a8a1ba3af74b button.colab-df-convert');\n",
       "        buttonEl.style.display =\n",
       "          google.colab.kernel.accessAllowed ? 'block' : 'none';\n",
       "\n",
       "        async function convertToInteractive(key) {\n",
       "          const element = document.querySelector('#df-d4139174-568f-4bb5-be70-a8a1ba3af74b');\n",
       "          const dataTable =\n",
       "            await google.colab.kernel.invokeFunction('convertToInteractive',\n",
       "                                                     [key], {});\n",
       "          if (!dataTable) return;\n",
       "\n",
       "          const docLinkHtml = 'Like what you see? Visit the ' +\n",
       "            '<a target=\"_blank\" href=https://colab.research.google.com/notebooks/data_table.ipynb>data table notebook</a>'\n",
       "            + ' to learn more about interactive tables.';\n",
       "          element.innerHTML = '';\n",
       "          dataTable['output_type'] = 'display_data';\n",
       "          await google.colab.output.renderOutput(dataTable, element);\n",
       "          const docLink = document.createElement('div');\n",
       "          docLink.innerHTML = docLinkHtml;\n",
       "          element.appendChild(docLink);\n",
       "        }\n",
       "      </script>\n",
       "    </div>\n",
       "  </div>\n",
       "  "
      ],
      "text/plain": [
       "      CRIM    ZN  INDUS  CHAS    NOX  ...  TAX  PTRATIO       B  LSTAT  MEDV\n",
       "0  0.00632  18.0   2.31     0  0.538  ...  296     15.3  396.90   4.98  24.0\n",
       "1  0.02731   0.0   7.07     0  0.469  ...  242     17.8  396.90   9.14  21.6\n",
       "2  0.02729   0.0   7.07     0  0.469  ...  242     17.8  392.83   4.03  34.7\n",
       "3  0.03237   0.0   2.18     0  0.458  ...  222     18.7  394.63   2.94  33.4\n",
       "5  0.02985   0.0   2.18     0  0.458  ...  222     18.7  394.12   5.21  28.7\n",
       "\n",
       "[5 rows x 14 columns]"
      ]
     },
     "execution_count": 39,
     "metadata": {},
     "output_type": "execute_result"
    }
   ],
   "source": [
    "# .fit()으로 encoding할 column을 넣어줍니다.\n",
    "label_encoder.fit(boston_regression.CHAS)\n",
    "\n",
    "# .transform() 메소드로는 encoding완료된 column을 받아올 수 있습니다.\n",
    "CHAS_encoded = label_encoder.transform(boston_regression.CHAS)\n",
    "\n",
    "boston_regression.CHAS = CHAS_encoded\n",
    "boston_regression.head()"
   ]
  },
  {
   "cell_type": "code",
   "execution_count": null,
   "metadata": {
    "colab": {
     "base_uri": "https://localhost:8080/"
    },
    "executionInfo": {
     "elapsed": 10,
     "status": "ok",
     "timestamp": 1643028988492,
     "user": {
      "displayName": "김상회",
      "photoUrl": "https://lh3.googleusercontent.com/a/default-user=s64",
      "userId": "17849189406907453051"
     },
     "user_tz": -540
    },
    "id": "EWToBpigxi92",
    "outputId": "73ea9336-53ca-4de8-c50e-835b3d379d55"
   },
   "outputs": [
    {
     "name": "stdout",
     "output_type": "stream",
     "text": [
      "['No' 'Yes'] => [0 1]\n"
     ]
    }
   ],
   "source": [
    "# LabelEncoder는 어떤 값이 어떤 숫자로 mapping 되었는지 바로 알려주지 않아서, 이렇게 임의로 확인해줘야 합니다.\n",
    "\n",
    "print(label_encoder.classes_, \"=>\", label_encoder.transform(label_encoder.classes_))"
   ]
  },
  {
   "cell_type": "code",
   "execution_count": null,
   "metadata": {
    "id": "-o6X4xXUxi92"
   },
   "outputs": [],
   "source": [
    "# 아까 했던 것처럼 train과 validation를 분리해줍니다.\n",
    "X = boston_regression.drop('MEDV', axis = 1)\n",
    "y = boston_regression.MEDV\n",
    "\n",
    "X_train, X_val, y_train, y_val = train_test_split(X, y, test_size = 0.2, random_state = 616)"
   ]
  },
  {
   "cell_type": "code",
   "execution_count": null,
   "metadata": {
    "id": "iGiVBJjpxi92"
   },
   "outputs": [],
   "source": [
    "# DecisionTree에서 regression 버전인 DecisionTreeRegressor를 불러옵니다.\n",
    "from sklearn.tree import DecisionTreeRegressor\n",
    "dt_reg = DecisionTreeRegressor(max_depth= 5, max_leaf_nodes= 24)\n",
    "\n",
    "dt_reg.fit(X_train, y_train)\n",
    "reg_prediction = dt_reg.predict(X_val)"
   ]
  },
  {
   "cell_type": "code",
   "execution_count": null,
   "metadata": {
    "colab": {
     "base_uri": "https://localhost:8080/"
    },
    "executionInfo": {
     "elapsed": 8,
     "status": "ok",
     "timestamp": 1643028988492,
     "user": {
      "displayName": "김상회",
      "photoUrl": "https://lh3.googleusercontent.com/a/default-user=s64",
      "userId": "17849189406907453051"
     },
     "user_tz": -540
    },
    "id": "zKq2qPeJxi92",
    "outputId": "7c74af03-d5be-426f-9196-0c90ce258a6c"
   },
   "outputs": [
    {
     "name": "stdout",
     "output_type": "stream",
     "text": [
      "0.535\n"
     ]
    }
   ],
   "source": [
    "# 연속형 변수의 대표적인 평가지표는 R^2 입니다.\n",
    "\n",
    "from sklearn.metrics import r2_score\n",
    "\n",
    "print('{:.3f}'.format(r2_score(y_val, reg_prediction) ) )"
   ]
  },
  {
   "cell_type": "code",
   "execution_count": null,
   "metadata": {
    "colab": {
     "base_uri": "https://localhost:8080/"
    },
    "executionInfo": {
     "elapsed": 7,
     "status": "ok",
     "timestamp": 1643028988492,
     "user": {
      "displayName": "김상회",
      "photoUrl": "https://lh3.googleusercontent.com/a/default-user=s64",
      "userId": "17849189406907453051"
     },
     "user_tz": -540
    },
    "id": "Apejbbc7xi93",
    "outputId": "6de140c0-025a-4030-9ee3-abdc7c099d4b"
   },
   "outputs": [
    {
     "name": "stdout",
     "output_type": "stream",
     "text": [
      "※결과 비교※\n",
      "Regression Tree:: 0.535\n",
      "Linear Regression:: 0.703\n"
     ]
    }
   ],
   "source": [
    "# Linear Regression의 R^2 결과값과 비교해 봅시다.\n",
    "# Categorical Data는 One-hot Encoding을 진행해 주도록 하죠.\n",
    "\n",
    "from sklearn.linear_model import LinearRegression\n",
    "linear = LinearRegression()\n",
    "\n",
    "#Categorical Data는 우선 버려줍니다. One-Hot Encoding을 진행해 주셔도 무방합니다.\n",
    "reg_X_train = X_train.drop(['CHAS'], axis = 1)\n",
    "reg_X_test = X_val.drop(['CHAS'], axis =1)\n",
    "# pd.get_dummies(X_train, columns = ['CHAS'])\n",
    "# pd.get_dummies(X_test, columns = ['CHAS'])\n",
    "\n",
    "linear.fit(reg_X_train, y_train)\n",
    "linear_prediction = linear.predict(reg_X_test)\n",
    "\n",
    "print(\"※결과 비교※\",\n",
    "      \"Regression Tree:: {:.3f}\".format(r2_score(y_val, reg_prediction)),\n",
    "      \"Linear Regression:: {:.3f}\".format(r2_score(y_val, linear_prediction)), sep = '\\n' )"
   ]
  },
  {
   "cell_type": "code",
   "execution_count": null,
   "metadata": {
    "id": "nLyJDJdoNhj5"
   },
   "outputs": [],
   "source": []
  }
 ],
 "metadata": {
  "colab": {
   "collapsed_sections": [],
   "name": "2022-1_ML_실습.ipynb",
   "provenance": []
  },
  "kernelspec": {
   "display_name": "Python 3 (ipykernel)",
   "language": "python",
   "name": "python3"
  },
  "language_info": {
   "codemirror_mode": {
    "name": "ipython",
    "version": 3
   },
   "file_extension": ".py",
   "mimetype": "text/x-python",
   "name": "python",
   "nbconvert_exporter": "python",
   "pygments_lexer": "ipython3",
   "version": "3.9.7"
  }
 },
 "nbformat": 4,
 "nbformat_minor": 1
}

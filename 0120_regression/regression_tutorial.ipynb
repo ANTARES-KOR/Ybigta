{
 "cells": [
  {
   "cell_type": "markdown",
   "metadata": {
    "id": "QJLSCFejOK_Q"
   },
   "source": [
    "# 회귀분석 실습\n",
    "- 출처 18기 DS 신혜연님"
   ]
  },
  {
   "cell_type": "markdown",
   "metadata": {
    "id": "lI_Syv8WPOY-"
   },
   "source": [
    "# 구글 드라이브 mount **(Colab을 사용하는 경우에만 해당)**\n",
    "Jupyter Notebook을 사용하시는 경우 이 부분은 무시하고 진행하시면 됩니다."
   ]
  },
  {
   "cell_type": "code",
   "execution_count": null,
   "metadata": {
    "colab": {
     "base_uri": "https://localhost:8080/"
    },
    "id": "B9EBLKXCtpjH",
    "outputId": "cd1d6ea2-3740-4f46-e719-a258d6dcf088"
   },
   "outputs": [
    {
     "name": "stdout",
     "output_type": "stream",
     "text": [
      "Mounted at /content/gdrive\n"
     ]
    }
   ],
   "source": [
    "from google.colab import drive\n",
    "drive.mount('/content/gdrive')"
   ]
  },
  {
   "cell_type": "markdown",
   "metadata": {
    "id": "mqmtwNEACsHS"
   },
   "source": [
    "# 0. 필요한 라이브러리 불러오기"
   ]
  },
  {
   "cell_type": "code",
   "execution_count": 12,
   "metadata": {
    "id": "gVCPLqD4OK_e"
   },
   "outputs": [],
   "source": [
    "# numpy, pandas, seaborn, matplotlib, sklearn, statsmodels 설치하기\n",
    "import numpy as np\n",
    "import pandas as pd\n",
    "import seaborn as sns\n",
    "import matplotlib.pyplot as plt\n",
    "%matplotlib inline"
   ]
  },
  {
   "cell_type": "code",
   "execution_count": 13,
   "metadata": {
    "id": "lRmWwp56OK_f"
   },
   "outputs": [],
   "source": [
    "# 경고 무시\n",
    "import warnings\n",
    "warnings.filterwarnings(action='ignore')"
   ]
  },
  {
   "cell_type": "markdown",
   "metadata": {
    "id": "WHjmzRbMOK_g"
   },
   "source": [
    "# 1. 데이터 로드 및 확인\n",
    "\n",
    "## 1-1. 데이터 로드\n",
    "\n",
    "### Boston Housing Prices(보스턴 주택 가격 데이터)\n",
    "\n",
    "1978년 보스턴 시의 주택 가격에 대한 데이터입니다. 주택의 여러가지 요인들과 주택의 가격 정보가 포함되어 있습니다.\n",
    "\n",
    "+ 종속변수\n",
    "    +  MEDV: 주택 가격 중앙값 ($1000)\n",
    "+ 설명변수\n",
    "     + CRIM: 1인당 범죄율\n",
    "     + ZN: 25,000 평방피트 초과 거주지역 비율\n",
    "     + INDUS: 비소매상업지역 면적 비율\n",
    "     + CHAS: 찰스강 근접 여부\n",
    "     + NOX: 10ppm당 일산화질소 농도\n",
    "     + RM: 주택당 평균 방 개수\n",
    "     + AGE: 1940년 이전에 건축된 주택의 비율\n",
    "     + DIS: 보스턴 직업센터까지의 접근성 지수\n",
    "     + RAD: 방사형 도로까지의 접근성 지수\n",
    "     + TAX: 10,000 달러당 재산세율\n",
    "     + PTRATIO: 학생/교사 비율\n",
    "     + B: 인구 중 흑인 비율\n",
    "     + LSTAT: 인구 중 하위계층의 비율\n",
    "\n",
    "데이터 출처: https://www.kaggle.com/altavish/boston-housing-dataset"
   ]
  },
  {
   "cell_type": "code",
   "execution_count": 15,
   "metadata": {
    "colab": {
     "base_uri": "https://localhost:8080/",
     "height": 376
    },
    "id": "znaNznGXOK_m",
    "outputId": "83ee2a2a-4ae7-4e93-f3b5-e7f7fb940467",
    "scrolled": true
   },
   "outputs": [
    {
     "name": "stdout",
     "output_type": "stream",
     "text": [
      "data size: (506, 14)\n"
     ]
    },
    {
     "data": {
      "text/html": [
       "<div>\n",
       "<style scoped>\n",
       "    .dataframe tbody tr th:only-of-type {\n",
       "        vertical-align: middle;\n",
       "    }\n",
       "\n",
       "    .dataframe tbody tr th {\n",
       "        vertical-align: top;\n",
       "    }\n",
       "\n",
       "    .dataframe thead th {\n",
       "        text-align: right;\n",
       "    }\n",
       "</style>\n",
       "<table border=\"1\" class=\"dataframe\">\n",
       "  <thead>\n",
       "    <tr style=\"text-align: right;\">\n",
       "      <th></th>\n",
       "      <th>CRIM</th>\n",
       "      <th>ZN</th>\n",
       "      <th>INDUS</th>\n",
       "      <th>CHAS</th>\n",
       "      <th>NOX</th>\n",
       "      <th>RM</th>\n",
       "      <th>AGE</th>\n",
       "      <th>DIS</th>\n",
       "      <th>RAD</th>\n",
       "      <th>TAX</th>\n",
       "      <th>PTRATIO</th>\n",
       "      <th>B</th>\n",
       "      <th>LSTAT</th>\n",
       "      <th>MEDV</th>\n",
       "    </tr>\n",
       "  </thead>\n",
       "  <tbody>\n",
       "    <tr>\n",
       "      <th>0</th>\n",
       "      <td>0.00632</td>\n",
       "      <td>18.0</td>\n",
       "      <td>2.31</td>\n",
       "      <td>No</td>\n",
       "      <td>0.538</td>\n",
       "      <td>6.575</td>\n",
       "      <td>65.2</td>\n",
       "      <td>4.0900</td>\n",
       "      <td>1</td>\n",
       "      <td>296</td>\n",
       "      <td>15.3</td>\n",
       "      <td>396.90</td>\n",
       "      <td>4.98</td>\n",
       "      <td>24.0</td>\n",
       "    </tr>\n",
       "    <tr>\n",
       "      <th>1</th>\n",
       "      <td>0.02731</td>\n",
       "      <td>0.0</td>\n",
       "      <td>7.07</td>\n",
       "      <td>No</td>\n",
       "      <td>0.469</td>\n",
       "      <td>6.421</td>\n",
       "      <td>78.9</td>\n",
       "      <td>4.9671</td>\n",
       "      <td>2</td>\n",
       "      <td>242</td>\n",
       "      <td>17.8</td>\n",
       "      <td>396.90</td>\n",
       "      <td>9.14</td>\n",
       "      <td>21.6</td>\n",
       "    </tr>\n",
       "    <tr>\n",
       "      <th>2</th>\n",
       "      <td>0.02729</td>\n",
       "      <td>0.0</td>\n",
       "      <td>7.07</td>\n",
       "      <td>No</td>\n",
       "      <td>0.469</td>\n",
       "      <td>7.185</td>\n",
       "      <td>61.1</td>\n",
       "      <td>4.9671</td>\n",
       "      <td>2</td>\n",
       "      <td>242</td>\n",
       "      <td>17.8</td>\n",
       "      <td>392.83</td>\n",
       "      <td>4.03</td>\n",
       "      <td>34.7</td>\n",
       "    </tr>\n",
       "    <tr>\n",
       "      <th>3</th>\n",
       "      <td>0.03237</td>\n",
       "      <td>0.0</td>\n",
       "      <td>2.18</td>\n",
       "      <td>No</td>\n",
       "      <td>0.458</td>\n",
       "      <td>6.998</td>\n",
       "      <td>45.8</td>\n",
       "      <td>6.0622</td>\n",
       "      <td>3</td>\n",
       "      <td>222</td>\n",
       "      <td>18.7</td>\n",
       "      <td>394.63</td>\n",
       "      <td>2.94</td>\n",
       "      <td>33.4</td>\n",
       "    </tr>\n",
       "    <tr>\n",
       "      <th>4</th>\n",
       "      <td>0.06905</td>\n",
       "      <td>0.0</td>\n",
       "      <td>2.18</td>\n",
       "      <td>No</td>\n",
       "      <td>0.458</td>\n",
       "      <td>7.147</td>\n",
       "      <td>54.2</td>\n",
       "      <td>6.0622</td>\n",
       "      <td>3</td>\n",
       "      <td>222</td>\n",
       "      <td>18.7</td>\n",
       "      <td>396.90</td>\n",
       "      <td>NaN</td>\n",
       "      <td>36.2</td>\n",
       "    </tr>\n",
       "    <tr>\n",
       "      <th>5</th>\n",
       "      <td>0.02985</td>\n",
       "      <td>0.0</td>\n",
       "      <td>2.18</td>\n",
       "      <td>No</td>\n",
       "      <td>0.458</td>\n",
       "      <td>6.430</td>\n",
       "      <td>58.7</td>\n",
       "      <td>6.0622</td>\n",
       "      <td>3</td>\n",
       "      <td>222</td>\n",
       "      <td>18.7</td>\n",
       "      <td>394.12</td>\n",
       "      <td>5.21</td>\n",
       "      <td>28.7</td>\n",
       "    </tr>\n",
       "    <tr>\n",
       "      <th>6</th>\n",
       "      <td>0.08829</td>\n",
       "      <td>12.5</td>\n",
       "      <td>7.87</td>\n",
       "      <td>NaN</td>\n",
       "      <td>0.524</td>\n",
       "      <td>6.012</td>\n",
       "      <td>66.6</td>\n",
       "      <td>5.5605</td>\n",
       "      <td>5</td>\n",
       "      <td>311</td>\n",
       "      <td>15.2</td>\n",
       "      <td>395.60</td>\n",
       "      <td>12.43</td>\n",
       "      <td>22.9</td>\n",
       "    </tr>\n",
       "    <tr>\n",
       "      <th>7</th>\n",
       "      <td>0.14455</td>\n",
       "      <td>12.5</td>\n",
       "      <td>7.87</td>\n",
       "      <td>No</td>\n",
       "      <td>0.524</td>\n",
       "      <td>6.172</td>\n",
       "      <td>96.1</td>\n",
       "      <td>5.9505</td>\n",
       "      <td>5</td>\n",
       "      <td>311</td>\n",
       "      <td>15.2</td>\n",
       "      <td>396.90</td>\n",
       "      <td>19.15</td>\n",
       "      <td>27.1</td>\n",
       "    </tr>\n",
       "    <tr>\n",
       "      <th>8</th>\n",
       "      <td>0.21124</td>\n",
       "      <td>12.5</td>\n",
       "      <td>7.87</td>\n",
       "      <td>No</td>\n",
       "      <td>0.524</td>\n",
       "      <td>5.631</td>\n",
       "      <td>100.0</td>\n",
       "      <td>6.0821</td>\n",
       "      <td>5</td>\n",
       "      <td>311</td>\n",
       "      <td>15.2</td>\n",
       "      <td>386.63</td>\n",
       "      <td>29.93</td>\n",
       "      <td>16.5</td>\n",
       "    </tr>\n",
       "    <tr>\n",
       "      <th>9</th>\n",
       "      <td>0.17004</td>\n",
       "      <td>12.5</td>\n",
       "      <td>7.87</td>\n",
       "      <td>NaN</td>\n",
       "      <td>0.524</td>\n",
       "      <td>6.004</td>\n",
       "      <td>85.9</td>\n",
       "      <td>6.5921</td>\n",
       "      <td>5</td>\n",
       "      <td>311</td>\n",
       "      <td>15.2</td>\n",
       "      <td>386.71</td>\n",
       "      <td>17.10</td>\n",
       "      <td>18.9</td>\n",
       "    </tr>\n",
       "  </tbody>\n",
       "</table>\n",
       "</div>"
      ],
      "text/plain": [
       "      CRIM    ZN  INDUS CHAS    NOX     RM    AGE     DIS  RAD  TAX  PTRATIO  \\\n",
       "0  0.00632  18.0   2.31   No  0.538  6.575   65.2  4.0900    1  296     15.3   \n",
       "1  0.02731   0.0   7.07   No  0.469  6.421   78.9  4.9671    2  242     17.8   \n",
       "2  0.02729   0.0   7.07   No  0.469  7.185   61.1  4.9671    2  242     17.8   \n",
       "3  0.03237   0.0   2.18   No  0.458  6.998   45.8  6.0622    3  222     18.7   \n",
       "4  0.06905   0.0   2.18   No  0.458  7.147   54.2  6.0622    3  222     18.7   \n",
       "5  0.02985   0.0   2.18   No  0.458  6.430   58.7  6.0622    3  222     18.7   \n",
       "6  0.08829  12.5   7.87  NaN  0.524  6.012   66.6  5.5605    5  311     15.2   \n",
       "7  0.14455  12.5   7.87   No  0.524  6.172   96.1  5.9505    5  311     15.2   \n",
       "8  0.21124  12.5   7.87   No  0.524  5.631  100.0  6.0821    5  311     15.2   \n",
       "9  0.17004  12.5   7.87  NaN  0.524  6.004   85.9  6.5921    5  311     15.2   \n",
       "\n",
       "        B  LSTAT  MEDV  \n",
       "0  396.90   4.98  24.0  \n",
       "1  396.90   9.14  21.6  \n",
       "2  392.83   4.03  34.7  \n",
       "3  394.63   2.94  33.4  \n",
       "4  396.90    NaN  36.2  \n",
       "5  394.12   5.21  28.7  \n",
       "6  395.60  12.43  22.9  \n",
       "7  396.90  19.15  27.1  \n",
       "8  386.63  29.93  16.5  \n",
       "9  386.71  17.10  18.9  "
      ]
     },
     "execution_count": 15,
     "metadata": {},
     "output_type": "execute_result"
    }
   ],
   "source": [
    "# 데이터 로드\n",
    "df = pd.read_csv(\"./BostonHousingData.csv\")\n",
    "\n",
    "# 데이터 크기 확인\n",
    "print(\"data size:\", df.shape)\n",
    "\n",
    "# 데이터 훑어보기\n",
    "df.head(10)"
   ]
  },
  {
   "cell_type": "markdown",
   "metadata": {
    "id": "qe6uFiMvOK_n"
   },
   "source": [
    "## 1-2. 결측치 확인"
   ]
  },
  {
   "cell_type": "code",
   "execution_count": 16,
   "metadata": {
    "colab": {
     "base_uri": "https://localhost:8080/"
    },
    "id": "pTaOo46jOK_o",
    "outputId": "75b5e8fe-5f8b-4782-c9ca-f6a309ef8615"
   },
   "outputs": [
    {
     "data": {
      "text/plain": [
       "CRIM       3.952569\n",
       "ZN         3.952569\n",
       "INDUS      3.952569\n",
       "CHAS       3.952569\n",
       "AGE        3.952569\n",
       "LSTAT      3.952569\n",
       "NOX        0.000000\n",
       "RM         0.000000\n",
       "DIS        0.000000\n",
       "RAD        0.000000\n",
       "TAX        0.000000\n",
       "PTRATIO    0.000000\n",
       "B          0.000000\n",
       "MEDV       0.000000\n",
       "dtype: float64"
      ]
     },
     "execution_count": 16,
     "metadata": {},
     "output_type": "execute_result"
    }
   ],
   "source": [
    "(df.isnull().sum()/len(df)*100).sort_values(ascending=False)"
   ]
  },
  {
   "cell_type": "markdown",
   "metadata": {
    "id": "myj-3cCVOK_t"
   },
   "source": [
    "결측치를 다루는 다양한 방법은 지난 FE 교육세션에서 배우셨을 겁니다.  \n",
    "원래 결측치는 주의깊게 다루어야 하지만 본 실습에서는 편의상 결측치가 존재하는 행 자체를 지워버리겠습니다."
   ]
  },
  {
   "cell_type": "code",
   "execution_count": 17,
   "metadata": {
    "colab": {
     "base_uri": "https://localhost:8080/"
    },
    "id": "8Q4RPAJNOK_y",
    "outputId": "02dd44cf-f384-48ea-8831-1d87b1b53c49"
   },
   "outputs": [
    {
     "data": {
      "text/plain": [
       "(394, 14)"
      ]
     },
     "execution_count": 17,
     "metadata": {},
     "output_type": "execute_result"
    }
   ],
   "source": [
    "df = df.dropna() \n",
    "df.shape"
   ]
  },
  {
   "cell_type": "markdown",
   "metadata": {
    "id": "GoUoWHLvOK_y"
   },
   "source": [
    "## 1-3. 데이터 자료 형태 확인"
   ]
  },
  {
   "cell_type": "code",
   "execution_count": null,
   "metadata": {
    "colab": {
     "base_uri": "https://localhost:8080/"
    },
    "id": "nQUNS2o0OK_z",
    "outputId": "453fc025-30de-48f8-f20e-6859104656b8",
    "scrolled": true
   },
   "outputs": [
    {
     "data": {
      "text/plain": [
       "CRIM       float64\n",
       "ZN         float64\n",
       "INDUS      float64\n",
       "CHAS        object\n",
       "NOX        float64\n",
       "RM         float64\n",
       "AGE        float64\n",
       "DIS        float64\n",
       "RAD          int64\n",
       "TAX          int64\n",
       "PTRATIO    float64\n",
       "B          float64\n",
       "LSTAT      float64\n",
       "MEDV       float64\n",
       "dtype: object"
      ]
     },
     "execution_count": 8,
     "metadata": {
      "tags": []
     },
     "output_type": "execute_result"
    }
   ],
   "source": [
    "# 범주형 자료가 있는지를 확인해봅시다.\n",
    "df.dtypes"
   ]
  },
  {
   "cell_type": "markdown",
   "metadata": {
    "id": "fgMT-7MNOK_4"
   },
   "source": [
    "'CHAS'가 범주형 자료이고 나머지 변수들은 모두 숫자형 자료입니다. 회귀분석을 진행하기 위해서 'CHAS'를 더미변수로 만들어줍시다."
   ]
  },
  {
   "cell_type": "code",
   "execution_count": 18,
   "metadata": {
    "colab": {
     "base_uri": "https://localhost:8080/",
     "height": 204
    },
    "id": "7aCw_7s-OK_4",
    "outputId": "34a8308a-969a-49b7-dfae-8afed21945f3"
   },
   "outputs": [
    {
     "data": {
      "text/html": [
       "<div>\n",
       "<style scoped>\n",
       "    .dataframe tbody tr th:only-of-type {\n",
       "        vertical-align: middle;\n",
       "    }\n",
       "\n",
       "    .dataframe tbody tr th {\n",
       "        vertical-align: top;\n",
       "    }\n",
       "\n",
       "    .dataframe thead th {\n",
       "        text-align: right;\n",
       "    }\n",
       "</style>\n",
       "<table border=\"1\" class=\"dataframe\">\n",
       "  <thead>\n",
       "    <tr style=\"text-align: right;\">\n",
       "      <th></th>\n",
       "      <th>CRIM</th>\n",
       "      <th>ZN</th>\n",
       "      <th>INDUS</th>\n",
       "      <th>NOX</th>\n",
       "      <th>RM</th>\n",
       "      <th>AGE</th>\n",
       "      <th>DIS</th>\n",
       "      <th>RAD</th>\n",
       "      <th>TAX</th>\n",
       "      <th>PTRATIO</th>\n",
       "      <th>B</th>\n",
       "      <th>LSTAT</th>\n",
       "      <th>MEDV</th>\n",
       "      <th>CHAS_No</th>\n",
       "      <th>CHAS_Yes</th>\n",
       "    </tr>\n",
       "  </thead>\n",
       "  <tbody>\n",
       "    <tr>\n",
       "      <th>0</th>\n",
       "      <td>0.00632</td>\n",
       "      <td>18.0</td>\n",
       "      <td>2.31</td>\n",
       "      <td>0.538</td>\n",
       "      <td>6.575</td>\n",
       "      <td>65.2</td>\n",
       "      <td>4.0900</td>\n",
       "      <td>1</td>\n",
       "      <td>296</td>\n",
       "      <td>15.3</td>\n",
       "      <td>396.90</td>\n",
       "      <td>4.98</td>\n",
       "      <td>24.0</td>\n",
       "      <td>1</td>\n",
       "      <td>0</td>\n",
       "    </tr>\n",
       "    <tr>\n",
       "      <th>1</th>\n",
       "      <td>0.02731</td>\n",
       "      <td>0.0</td>\n",
       "      <td>7.07</td>\n",
       "      <td>0.469</td>\n",
       "      <td>6.421</td>\n",
       "      <td>78.9</td>\n",
       "      <td>4.9671</td>\n",
       "      <td>2</td>\n",
       "      <td>242</td>\n",
       "      <td>17.8</td>\n",
       "      <td>396.90</td>\n",
       "      <td>9.14</td>\n",
       "      <td>21.6</td>\n",
       "      <td>1</td>\n",
       "      <td>0</td>\n",
       "    </tr>\n",
       "    <tr>\n",
       "      <th>2</th>\n",
       "      <td>0.02729</td>\n",
       "      <td>0.0</td>\n",
       "      <td>7.07</td>\n",
       "      <td>0.469</td>\n",
       "      <td>7.185</td>\n",
       "      <td>61.1</td>\n",
       "      <td>4.9671</td>\n",
       "      <td>2</td>\n",
       "      <td>242</td>\n",
       "      <td>17.8</td>\n",
       "      <td>392.83</td>\n",
       "      <td>4.03</td>\n",
       "      <td>34.7</td>\n",
       "      <td>1</td>\n",
       "      <td>0</td>\n",
       "    </tr>\n",
       "    <tr>\n",
       "      <th>3</th>\n",
       "      <td>0.03237</td>\n",
       "      <td>0.0</td>\n",
       "      <td>2.18</td>\n",
       "      <td>0.458</td>\n",
       "      <td>6.998</td>\n",
       "      <td>45.8</td>\n",
       "      <td>6.0622</td>\n",
       "      <td>3</td>\n",
       "      <td>222</td>\n",
       "      <td>18.7</td>\n",
       "      <td>394.63</td>\n",
       "      <td>2.94</td>\n",
       "      <td>33.4</td>\n",
       "      <td>1</td>\n",
       "      <td>0</td>\n",
       "    </tr>\n",
       "    <tr>\n",
       "      <th>5</th>\n",
       "      <td>0.02985</td>\n",
       "      <td>0.0</td>\n",
       "      <td>2.18</td>\n",
       "      <td>0.458</td>\n",
       "      <td>6.430</td>\n",
       "      <td>58.7</td>\n",
       "      <td>6.0622</td>\n",
       "      <td>3</td>\n",
       "      <td>222</td>\n",
       "      <td>18.7</td>\n",
       "      <td>394.12</td>\n",
       "      <td>5.21</td>\n",
       "      <td>28.7</td>\n",
       "      <td>1</td>\n",
       "      <td>0</td>\n",
       "    </tr>\n",
       "  </tbody>\n",
       "</table>\n",
       "</div>"
      ],
      "text/plain": [
       "      CRIM    ZN  INDUS    NOX     RM   AGE     DIS  RAD  TAX  PTRATIO  \\\n",
       "0  0.00632  18.0   2.31  0.538  6.575  65.2  4.0900    1  296     15.3   \n",
       "1  0.02731   0.0   7.07  0.469  6.421  78.9  4.9671    2  242     17.8   \n",
       "2  0.02729   0.0   7.07  0.469  7.185  61.1  4.9671    2  242     17.8   \n",
       "3  0.03237   0.0   2.18  0.458  6.998  45.8  6.0622    3  222     18.7   \n",
       "5  0.02985   0.0   2.18  0.458  6.430  58.7  6.0622    3  222     18.7   \n",
       "\n",
       "        B  LSTAT  MEDV  CHAS_No  CHAS_Yes  \n",
       "0  396.90   4.98  24.0        1         0  \n",
       "1  396.90   9.14  21.6        1         0  \n",
       "2  392.83   4.03  34.7        1         0  \n",
       "3  394.63   2.94  33.4        1         0  \n",
       "5  394.12   5.21  28.7        1         0  "
      ]
     },
     "execution_count": 18,
     "metadata": {},
     "output_type": "execute_result"
    }
   ],
   "source": [
    "df_dum = pd.get_dummies(df)\n",
    "df_dum.head()"
   ]
  },
  {
   "cell_type": "markdown",
   "metadata": {
    "id": "sB6fELjwOK_4"
   },
   "source": [
    "## 1-4. 상관관계 분석\n",
    "\n",
    "변수 간 상관관계를 살펴봅시다. 숫자형 자료에 대해서만 상관관계 분석이 가능하기 때문에 범주형 자료인 'CHAS'는 제외합니다."
   ]
  },
  {
   "cell_type": "code",
   "execution_count": 19,
   "metadata": {
    "colab": {
     "base_uri": "https://localhost:8080/",
     "height": 472
    },
    "id": "V5f-TySYOK_5",
    "outputId": "89e11ff4-6fcb-49a7-be55-6caaf1d7358e"
   },
   "outputs": [
    {
     "data": {
      "text/html": [
       "<div>\n",
       "<style scoped>\n",
       "    .dataframe tbody tr th:only-of-type {\n",
       "        vertical-align: middle;\n",
       "    }\n",
       "\n",
       "    .dataframe tbody tr th {\n",
       "        vertical-align: top;\n",
       "    }\n",
       "\n",
       "    .dataframe thead th {\n",
       "        text-align: right;\n",
       "    }\n",
       "</style>\n",
       "<table border=\"1\" class=\"dataframe\">\n",
       "  <thead>\n",
       "    <tr style=\"text-align: right;\">\n",
       "      <th></th>\n",
       "      <th>CRIM</th>\n",
       "      <th>ZN</th>\n",
       "      <th>INDUS</th>\n",
       "      <th>NOX</th>\n",
       "      <th>RM</th>\n",
       "      <th>AGE</th>\n",
       "      <th>DIS</th>\n",
       "      <th>RAD</th>\n",
       "      <th>TAX</th>\n",
       "      <th>PTRATIO</th>\n",
       "      <th>B</th>\n",
       "      <th>LSTAT</th>\n",
       "      <th>MEDV</th>\n",
       "    </tr>\n",
       "  </thead>\n",
       "  <tbody>\n",
       "    <tr>\n",
       "      <th>CRIM</th>\n",
       "      <td>1.000000</td>\n",
       "      <td>-0.188075</td>\n",
       "      <td>0.391552</td>\n",
       "      <td>0.416160</td>\n",
       "      <td>-0.227170</td>\n",
       "      <td>0.341311</td>\n",
       "      <td>-0.365052</td>\n",
       "      <td>0.608667</td>\n",
       "      <td>0.560841</td>\n",
       "      <td>0.265428</td>\n",
       "      <td>-0.386254</td>\n",
       "      <td>0.461906</td>\n",
       "      <td>-0.397230</td>\n",
       "    </tr>\n",
       "    <tr>\n",
       "      <th>ZN</th>\n",
       "      <td>-0.188075</td>\n",
       "      <td>1.000000</td>\n",
       "      <td>-0.521256</td>\n",
       "      <td>-0.515660</td>\n",
       "      <td>0.343210</td>\n",
       "      <td>-0.568174</td>\n",
       "      <td>0.645359</td>\n",
       "      <td>-0.298773</td>\n",
       "      <td>-0.305768</td>\n",
       "      <td>-0.422164</td>\n",
       "      <td>0.169894</td>\n",
       "      <td>-0.415041</td>\n",
       "      <td>0.406822</td>\n",
       "    </tr>\n",
       "    <tr>\n",
       "      <th>INDUS</th>\n",
       "      <td>0.391552</td>\n",
       "      <td>-0.521256</td>\n",
       "      <td>1.000000</td>\n",
       "      <td>0.762737</td>\n",
       "      <td>-0.403068</td>\n",
       "      <td>0.642387</td>\n",
       "      <td>-0.696569</td>\n",
       "      <td>0.591944</td>\n",
       "      <td>0.734204</td>\n",
       "      <td>0.395691</td>\n",
       "      <td>-0.344788</td>\n",
       "      <td>0.598156</td>\n",
       "      <td>-0.510829</td>\n",
       "    </tr>\n",
       "    <tr>\n",
       "      <th>NOX</th>\n",
       "      <td>0.416160</td>\n",
       "      <td>-0.515660</td>\n",
       "      <td>0.762737</td>\n",
       "      <td>1.000000</td>\n",
       "      <td>-0.316563</td>\n",
       "      <td>0.732540</td>\n",
       "      <td>-0.768137</td>\n",
       "      <td>0.628170</td>\n",
       "      <td>0.679824</td>\n",
       "      <td>0.210216</td>\n",
       "      <td>-0.384257</td>\n",
       "      <td>0.593655</td>\n",
       "      <td>-0.459054</td>\n",
       "    </tr>\n",
       "    <tr>\n",
       "      <th>RM</th>\n",
       "      <td>-0.227170</td>\n",
       "      <td>0.343210</td>\n",
       "      <td>-0.403068</td>\n",
       "      <td>-0.316563</td>\n",
       "      <td>1.000000</td>\n",
       "      <td>-0.248670</td>\n",
       "      <td>0.218713</td>\n",
       "      <td>-0.236057</td>\n",
       "      <td>-0.320561</td>\n",
       "      <td>-0.390686</td>\n",
       "      <td>0.123320</td>\n",
       "      <td>-0.636226</td>\n",
       "      <td>0.723951</td>\n",
       "    </tr>\n",
       "    <tr>\n",
       "      <th>AGE</th>\n",
       "      <td>0.341311</td>\n",
       "      <td>-0.568174</td>\n",
       "      <td>0.642387</td>\n",
       "      <td>0.732540</td>\n",
       "      <td>-0.248670</td>\n",
       "      <td>1.000000</td>\n",
       "      <td>-0.753547</td>\n",
       "      <td>0.443585</td>\n",
       "      <td>0.504472</td>\n",
       "      <td>0.264968</td>\n",
       "      <td>-0.281990</td>\n",
       "      <td>0.601137</td>\n",
       "      <td>-0.407470</td>\n",
       "    </tr>\n",
       "    <tr>\n",
       "      <th>DIS</th>\n",
       "      <td>-0.365052</td>\n",
       "      <td>0.645359</td>\n",
       "      <td>-0.696569</td>\n",
       "      <td>-0.768137</td>\n",
       "      <td>0.218713</td>\n",
       "      <td>-0.753547</td>\n",
       "      <td>1.000000</td>\n",
       "      <td>-0.477075</td>\n",
       "      <td>-0.529603</td>\n",
       "      <td>-0.228840</td>\n",
       "      <td>0.285168</td>\n",
       "      <td>-0.505036</td>\n",
       "      <td>0.279547</td>\n",
       "    </tr>\n",
       "    <tr>\n",
       "      <th>RAD</th>\n",
       "      <td>0.608667</td>\n",
       "      <td>-0.298773</td>\n",
       "      <td>0.591944</td>\n",
       "      <td>0.628170</td>\n",
       "      <td>-0.236057</td>\n",
       "      <td>0.443585</td>\n",
       "      <td>-0.477075</td>\n",
       "      <td>1.000000</td>\n",
       "      <td>0.900000</td>\n",
       "      <td>0.441949</td>\n",
       "      <td>-0.444135</td>\n",
       "      <td>0.510868</td>\n",
       "      <td>-0.416638</td>\n",
       "    </tr>\n",
       "    <tr>\n",
       "      <th>TAX</th>\n",
       "      <td>0.560841</td>\n",
       "      <td>-0.305768</td>\n",
       "      <td>0.734204</td>\n",
       "      <td>0.679824</td>\n",
       "      <td>-0.320561</td>\n",
       "      <td>0.504472</td>\n",
       "      <td>-0.529603</td>\n",
       "      <td>0.900000</td>\n",
       "      <td>1.000000</td>\n",
       "      <td>0.446961</td>\n",
       "      <td>-0.435457</td>\n",
       "      <td>0.572218</td>\n",
       "      <td>-0.508864</td>\n",
       "    </tr>\n",
       "    <tr>\n",
       "      <th>PTRATIO</th>\n",
       "      <td>0.265428</td>\n",
       "      <td>-0.422164</td>\n",
       "      <td>0.395691</td>\n",
       "      <td>0.210216</td>\n",
       "      <td>-0.390686</td>\n",
       "      <td>0.264968</td>\n",
       "      <td>-0.228840</td>\n",
       "      <td>0.441949</td>\n",
       "      <td>0.446961</td>\n",
       "      <td>1.000000</td>\n",
       "      <td>-0.179816</td>\n",
       "      <td>0.395006</td>\n",
       "      <td>-0.543809</td>\n",
       "    </tr>\n",
       "    <tr>\n",
       "      <th>B</th>\n",
       "      <td>-0.386254</td>\n",
       "      <td>0.169894</td>\n",
       "      <td>-0.344788</td>\n",
       "      <td>-0.384257</td>\n",
       "      <td>0.123320</td>\n",
       "      <td>-0.281990</td>\n",
       "      <td>0.285168</td>\n",
       "      <td>-0.444135</td>\n",
       "      <td>-0.435457</td>\n",
       "      <td>-0.179816</td>\n",
       "      <td>1.000000</td>\n",
       "      <td>-0.383783</td>\n",
       "      <td>0.347256</td>\n",
       "    </tr>\n",
       "    <tr>\n",
       "      <th>LSTAT</th>\n",
       "      <td>0.461906</td>\n",
       "      <td>-0.415041</td>\n",
       "      <td>0.598156</td>\n",
       "      <td>0.593655</td>\n",
       "      <td>-0.636226</td>\n",
       "      <td>0.601137</td>\n",
       "      <td>-0.505036</td>\n",
       "      <td>0.510868</td>\n",
       "      <td>0.572218</td>\n",
       "      <td>0.395006</td>\n",
       "      <td>-0.383783</td>\n",
       "      <td>1.000000</td>\n",
       "      <td>-0.743450</td>\n",
       "    </tr>\n",
       "    <tr>\n",
       "      <th>MEDV</th>\n",
       "      <td>-0.397230</td>\n",
       "      <td>0.406822</td>\n",
       "      <td>-0.510829</td>\n",
       "      <td>-0.459054</td>\n",
       "      <td>0.723951</td>\n",
       "      <td>-0.407470</td>\n",
       "      <td>0.279547</td>\n",
       "      <td>-0.416638</td>\n",
       "      <td>-0.508864</td>\n",
       "      <td>-0.543809</td>\n",
       "      <td>0.347256</td>\n",
       "      <td>-0.743450</td>\n",
       "      <td>1.000000</td>\n",
       "    </tr>\n",
       "  </tbody>\n",
       "</table>\n",
       "</div>"
      ],
      "text/plain": [
       "             CRIM        ZN     INDUS       NOX        RM       AGE       DIS  \\\n",
       "CRIM     1.000000 -0.188075  0.391552  0.416160 -0.227170  0.341311 -0.365052   \n",
       "ZN      -0.188075  1.000000 -0.521256 -0.515660  0.343210 -0.568174  0.645359   \n",
       "INDUS    0.391552 -0.521256  1.000000  0.762737 -0.403068  0.642387 -0.696569   \n",
       "NOX      0.416160 -0.515660  0.762737  1.000000 -0.316563  0.732540 -0.768137   \n",
       "RM      -0.227170  0.343210 -0.403068 -0.316563  1.000000 -0.248670  0.218713   \n",
       "AGE      0.341311 -0.568174  0.642387  0.732540 -0.248670  1.000000 -0.753547   \n",
       "DIS     -0.365052  0.645359 -0.696569 -0.768137  0.218713 -0.753547  1.000000   \n",
       "RAD      0.608667 -0.298773  0.591944  0.628170 -0.236057  0.443585 -0.477075   \n",
       "TAX      0.560841 -0.305768  0.734204  0.679824 -0.320561  0.504472 -0.529603   \n",
       "PTRATIO  0.265428 -0.422164  0.395691  0.210216 -0.390686  0.264968 -0.228840   \n",
       "B       -0.386254  0.169894 -0.344788 -0.384257  0.123320 -0.281990  0.285168   \n",
       "LSTAT    0.461906 -0.415041  0.598156  0.593655 -0.636226  0.601137 -0.505036   \n",
       "MEDV    -0.397230  0.406822 -0.510829 -0.459054  0.723951 -0.407470  0.279547   \n",
       "\n",
       "              RAD       TAX   PTRATIO         B     LSTAT      MEDV  \n",
       "CRIM     0.608667  0.560841  0.265428 -0.386254  0.461906 -0.397230  \n",
       "ZN      -0.298773 -0.305768 -0.422164  0.169894 -0.415041  0.406822  \n",
       "INDUS    0.591944  0.734204  0.395691 -0.344788  0.598156 -0.510829  \n",
       "NOX      0.628170  0.679824  0.210216 -0.384257  0.593655 -0.459054  \n",
       "RM      -0.236057 -0.320561 -0.390686  0.123320 -0.636226  0.723951  \n",
       "AGE      0.443585  0.504472  0.264968 -0.281990  0.601137 -0.407470  \n",
       "DIS     -0.477075 -0.529603 -0.228840  0.285168 -0.505036  0.279547  \n",
       "RAD      1.000000  0.900000  0.441949 -0.444135  0.510868 -0.416638  \n",
       "TAX      0.900000  1.000000  0.446961 -0.435457  0.572218 -0.508864  \n",
       "PTRATIO  0.441949  0.446961  1.000000 -0.179816  0.395006 -0.543809  \n",
       "B       -0.444135 -0.435457 -0.179816  1.000000 -0.383783  0.347256  \n",
       "LSTAT    0.510868  0.572218  0.395006 -0.383783  1.000000 -0.743450  \n",
       "MEDV    -0.416638 -0.508864 -0.543809  0.347256 -0.743450  1.000000  "
      ]
     },
     "execution_count": 19,
     "metadata": {},
     "output_type": "execute_result"
    }
   ],
   "source": [
    "# 'CHAS' 변수를 제거합니다.\n",
    "df_cor = df.drop(\"CHAS\", axis=1)\n",
    "\n",
    "# corr을 통해 간단히 변수 간 피어슨 상관계수를 구할 수 있습니다.\n",
    "df_cor.corr()"
   ]
  },
  {
   "cell_type": "code",
   "execution_count": 20,
   "metadata": {
    "colab": {
     "base_uri": "https://localhost:8080/",
     "height": 612
    },
    "id": "DNO3CotWOK_-",
    "outputId": "4e91a9e3-458a-41d5-bafb-eacb76be1369",
    "scrolled": false
   },
   "outputs": [
    {
     "data": {
      "text/plain": [
       "[]"
      ]
     },
     "execution_count": 20,
     "metadata": {},
     "output_type": "execute_result"
    },
    {
     "data": {
      "image/png": "[encoded data removed]",
      "text/plain": [
       "<Figure size 720x720 with 2 Axes>"
      ]
     },
     "metadata": {
      "needs_background": "light"
     },
     "output_type": "display_data"
    }
   ],
   "source": [
    "plt.figure(figsize=(10, 10))\n",
    "sns.heatmap(data=df_cor.corr(), annot=True, fmt=\".2f\", linewidths=.5, cmap=\"Blues\")\n",
    "plt.plot()"
   ]
  },
  {
   "cell_type": "markdown",
   "metadata": {
    "id": "JHT02-j_OK__"
   },
   "source": [
    "## 1-5. 데이터 시각화"
   ]
  },
  {
   "cell_type": "code",
   "execution_count": 22,
   "metadata": {
    "colab": {
     "base_uri": "https://localhost:8080/",
     "height": 296
    },
    "id": "4pXqsW9KOK__",
    "outputId": "60a354f5-77cc-4ff0-efb4-cc0e4389a42f",
    "scrolled": true
   },
   "outputs": [
    {
     "data": {
      "text/plain": [
       "[]"
      ]
     },
     "execution_count": 22,
     "metadata": {},
     "output_type": "execute_result"
    },
    {
     "data": {
      "image/png": "[encoded data removed]",
      "text/plain": [
       "<Figure size 432x288 with 1 Axes>"
      ]
     },
     "metadata": {
      "needs_background": "light"
     },
     "output_type": "display_data"
    }
   ],
   "source": [
    "sns.scatterplot(x=\"RM\", y=\"MEDV\", data=df)\n",
    "plt.plot()"
   ]
  },
  {
   "cell_type": "code",
   "execution_count": 23,
   "metadata": {
    "colab": {
     "base_uri": "https://localhost:8080/",
     "height": 296
    },
    "id": "ON7f1OzvOK__",
    "outputId": "354b10e8-5b02-4518-bcad-a9cdfdf362eb",
    "scrolled": true
   },
   "outputs": [
    {
     "data": {
      "text/plain": [
       "[]"
      ]
     },
     "execution_count": 23,
     "metadata": {},
     "output_type": "execute_result"
    },
    {
     "data": {
      "image/png": "[encoded data removed]",
      "text/plain": [
       "<Figure size 432x288 with 1 Axes>"
      ]
     },
     "metadata": {
      "needs_background": "light"
     },
     "output_type": "display_data"
    }
   ],
   "source": [
    "sns.boxplot(x=\"CHAS\", y=\"MEDV\", data=df)\n",
    "plt.plot()"
   ]
  },
  {
   "cell_type": "markdown",
   "metadata": {
    "id": "-VYzqJ6jOLAE"
   },
   "source": [
    "# 2. Linear Regression\n",
    "\n",
    "선형회귀분석으로 주택 가격을 예측해봅시다."
   ]
  },
  {
   "cell_type": "code",
   "execution_count": 24,
   "metadata": {
    "id": "ETnCc3xhOLAE"
   },
   "outputs": [],
   "source": [
    "# 먼저 종속변수와 설명변수를 지정해줍니다.\n",
    "X = df_dum.drop(\"MEDV\", axis=1)\n",
    "y = df_dum[\"MEDV\"]"
   ]
  },
  {
   "cell_type": "code",
   "execution_count": null,
   "metadata": {
    "id": "kBlQFntpOLAE"
   },
   "outputs": [],
   "source": [
    "# 종속변수와 설명변수를 train 세트와 test 세트로 분리해줍니다.\n",
    "from sklearn.model_selection import train_test_split\n",
    "X_train, X_test, y_train, y_test = train_test_split(X, y, test_size=0.2, random_state=1234)"
   ]
  },
  {
   "cell_type": "code",
   "execution_count": null,
   "metadata": {
    "colab": {
     "base_uri": "https://localhost:8080/"
    },
    "id": "dFPDtA-AOLAF",
    "outputId": "b969e89c-ece3-4656-cbdc-6fa1389b3d97",
    "scrolled": true
   },
   "outputs": [
    {
     "name": "stdout",
     "output_type": "stream",
     "text": [
      "training predictors size: (315, 14)\n",
      "training response size: (315,)\n",
      "test predictors size: (79, 14)\n",
      "test response size: (79,)\n"
     ]
    }
   ],
   "source": [
    "# 크기 확인\n",
    "print(\"training predictors size:\", X_train.shape)\n",
    "print(\"training response size:\", y_train.shape)\n",
    "print(\"test predictors size:\", X_test.shape)\n",
    "print(\"test response size:\", y_test.shape)"
   ]
  },
  {
   "cell_type": "code",
   "execution_count": null,
   "metadata": {
    "colab": {
     "base_uri": "https://localhost:8080/"
    },
    "id": "uStCsi1xOLAJ",
    "outputId": "22b5abe1-4f29-42f2-817b-2542598c87c8",
    "scrolled": true
   },
   "outputs": [
    {
     "name": "stdout",
     "output_type": "stream",
     "text": [
      "Training R^2: 0.76\n"
     ]
    }
   ],
   "source": [
    "from sklearn.linear_model import LinearRegression\n",
    "\n",
    "# 1. 먼저 모델을 만들어 줍니다.\n",
    "linear = LinearRegression()\n",
    "\n",
    "# 2. 모델을 적합시킵니다.\n",
    "linear.fit(X_train, y_train)\n",
    "\n",
    "# 3. train 세트에서의 성능을 확인합니다.\n",
    "print(\"Training R^2: %.2f\" % linear.score(X_train, y_train))"
   ]
  },
  {
   "cell_type": "code",
   "execution_count": null,
   "metadata": {
    "colab": {
     "base_uri": "https://localhost:8080/"
    },
    "id": "2VOjq90SOLAJ",
    "outputId": "37295c65-7e50-41bc-8dfd-78964650ca28"
   },
   "outputs": [
    {
     "name": "stdout",
     "output_type": "stream",
     "text": [
      "Test R^2: 0.77\n"
     ]
    }
   ],
   "source": [
    "# 학습된 모델로부터 종속변수를 예측하고 MSE와 R^2를 구해봅시다.\n",
    "from sklearn.metrics import mean_squared_error, r2_score\n",
    "\n",
    "y_pred = linear.predict(X_test)\n",
    "\n",
    "print(\"Test R^2: %.2f\" % r2_score(y_test, y_pred))"
   ]
  },
  {
   "cell_type": "code",
   "execution_count": null,
   "metadata": {
    "colab": {
     "base_uri": "https://localhost:8080/",
     "height": 500
    },
    "id": "UxJstkI4OLAK",
    "outputId": "d569d6d3-c421-4d15-acd0-870e8db3de10",
    "scrolled": false
   },
   "outputs": [
    {
     "name": "stdout",
     "output_type": "stream",
     "text": [
      "intercept: 35.43233779298082\n"
     ]
    },
    {
     "data": {
      "text/html": [
       "<div>\n",
       "<style scoped>\n",
       "    .dataframe tbody tr th:only-of-type {\n",
       "        vertical-align: middle;\n",
       "    }\n",
       "\n",
       "    .dataframe tbody tr th {\n",
       "        vertical-align: top;\n",
       "    }\n",
       "\n",
       "    .dataframe thead th {\n",
       "        text-align: right;\n",
       "    }\n",
       "</style>\n",
       "<table border=\"1\" class=\"dataframe\">\n",
       "  <thead>\n",
       "    <tr style=\"text-align: right;\">\n",
       "      <th></th>\n",
       "      <th>slope</th>\n",
       "    </tr>\n",
       "  </thead>\n",
       "  <tbody>\n",
       "    <tr>\n",
       "      <th>NOX</th>\n",
       "      <td>-18.967365</td>\n",
       "    </tr>\n",
       "    <tr>\n",
       "      <th>DIS</th>\n",
       "      <td>-1.527816</td>\n",
       "    </tr>\n",
       "    <tr>\n",
       "      <th>CHAS_No</th>\n",
       "      <td>-1.074498</td>\n",
       "    </tr>\n",
       "    <tr>\n",
       "      <th>PTRATIO</th>\n",
       "      <td>-0.969233</td>\n",
       "    </tr>\n",
       "    <tr>\n",
       "      <th>LSTAT</th>\n",
       "      <td>-0.445582</td>\n",
       "    </tr>\n",
       "    <tr>\n",
       "      <th>CRIM</th>\n",
       "      <td>-0.120960</td>\n",
       "    </tr>\n",
       "    <tr>\n",
       "      <th>AGE</th>\n",
       "      <td>-0.014254</td>\n",
       "    </tr>\n",
       "    <tr>\n",
       "      <th>TAX</th>\n",
       "      <td>-0.011536</td>\n",
       "    </tr>\n",
       "    <tr>\n",
       "      <th>B</th>\n",
       "      <td>0.009897</td>\n",
       "    </tr>\n",
       "    <tr>\n",
       "      <th>INDUS</th>\n",
       "      <td>0.053004</td>\n",
       "    </tr>\n",
       "    <tr>\n",
       "      <th>ZN</th>\n",
       "      <td>0.055010</td>\n",
       "    </tr>\n",
       "    <tr>\n",
       "      <th>RAD</th>\n",
       "      <td>0.289702</td>\n",
       "    </tr>\n",
       "    <tr>\n",
       "      <th>CHAS_Yes</th>\n",
       "      <td>1.074498</td>\n",
       "    </tr>\n",
       "    <tr>\n",
       "      <th>RM</th>\n",
       "      <td>4.249945</td>\n",
       "    </tr>\n",
       "  </tbody>\n",
       "</table>\n",
       "</div>"
      ],
      "text/plain": [
       "              slope\n",
       "NOX      -18.967365\n",
       "DIS       -1.527816\n",
       "CHAS_No   -1.074498\n",
       "PTRATIO   -0.969233\n",
       "LSTAT     -0.445582\n",
       "CRIM      -0.120960\n",
       "AGE       -0.014254\n",
       "TAX       -0.011536\n",
       "B          0.009897\n",
       "INDUS      0.053004\n",
       "ZN         0.055010\n",
       "RAD        0.289702\n",
       "CHAS_Yes   1.074498\n",
       "RM         4.249945"
      ]
     },
     "execution_count": 19,
     "metadata": {
      "tags": []
     },
     "output_type": "execute_result"
    }
   ],
   "source": [
    "# 모델의 회귀계수(intercept와 slope)를 확인해봅시다.\n",
    "print(\"intercept:\", linear.intercept_)\n",
    "beta = pd.DataFrame(linear.coef_, index=X.columns, columns=[\"slope\"])\n",
    "beta.sort_values(\"slope\")"
   ]
  },
  {
   "cell_type": "code",
   "execution_count": null,
   "metadata": {
    "colab": {
     "base_uri": "https://localhost:8080/",
     "height": 730
    },
    "id": "bU4GbxC9OLAO",
    "outputId": "f7089b88-38a7-4cec-821a-86962fc2e596",
    "scrolled": false
   },
   "outputs": [
    {
     "data": {
      "text/html": [
       "<table class=\"simpletable\">\n",
       "<caption>OLS Regression Results</caption>\n",
       "<tr>\n",
       "  <th>Dep. Variable:</th>          <td>MEDV</td>       <th>  R-squared:         </th> <td>   0.764</td>\n",
       "</tr>\n",
       "<tr>\n",
       "  <th>Model:</th>                   <td>OLS</td>       <th>  Adj. R-squared:    </th> <td>   0.754</td>\n",
       "</tr>\n",
       "<tr>\n",
       "  <th>Method:</th>             <td>Least Squares</td>  <th>  F-statistic:       </th> <td>   74.85</td>\n",
       "</tr>\n",
       "<tr>\n",
       "  <th>Date:</th>             <td>Tue, 20 Jul 2021</td> <th>  Prob (F-statistic):</th> <td>4.18e-86</td>\n",
       "</tr>\n",
       "<tr>\n",
       "  <th>Time:</th>                 <td>12:18:45</td>     <th>  Log-Likelihood:    </th> <td> -926.15</td>\n",
       "</tr>\n",
       "<tr>\n",
       "  <th>No. Observations:</th>      <td>   315</td>      <th>  AIC:               </th> <td>   1880.</td>\n",
       "</tr>\n",
       "<tr>\n",
       "  <th>Df Residuals:</th>          <td>   301</td>      <th>  BIC:               </th> <td>   1933.</td>\n",
       "</tr>\n",
       "<tr>\n",
       "  <th>Df Model:</th>              <td>    13</td>      <th>                     </th>     <td> </td>   \n",
       "</tr>\n",
       "<tr>\n",
       "  <th>Covariance Type:</th>      <td>nonrobust</td>    <th>                     </th>     <td> </td>   \n",
       "</tr>\n",
       "</table>\n",
       "<table class=\"simpletable\">\n",
       "<tr>\n",
       "      <td></td>        <th>coef</th>     <th>std err</th>      <th>t</th>      <th>P>|t|</th>  <th>[0.025</th>    <th>0.975]</th>  \n",
       "</tr>\n",
       "<tr>\n",
       "  <th>CRIM</th>     <td>   -0.1210</td> <td>    0.037</td> <td>   -3.311</td> <td> 0.001</td> <td>   -0.193</td> <td>   -0.049</td>\n",
       "</tr>\n",
       "<tr>\n",
       "  <th>ZN</th>       <td>    0.0550</td> <td>    0.018</td> <td>    3.110</td> <td> 0.002</td> <td>    0.020</td> <td>    0.090</td>\n",
       "</tr>\n",
       "<tr>\n",
       "  <th>INDUS</th>    <td>    0.0530</td> <td>    0.086</td> <td>    0.615</td> <td> 0.539</td> <td>   -0.117</td> <td>    0.223</td>\n",
       "</tr>\n",
       "<tr>\n",
       "  <th>NOX</th>      <td>  -18.9674</td> <td>    4.866</td> <td>   -3.898</td> <td> 0.000</td> <td>  -28.543</td> <td>   -9.392</td>\n",
       "</tr>\n",
       "<tr>\n",
       "  <th>RM</th>       <td>    4.2499</td> <td>    0.526</td> <td>    8.074</td> <td> 0.000</td> <td>    3.214</td> <td>    5.286</td>\n",
       "</tr>\n",
       "<tr>\n",
       "  <th>AGE</th>      <td>   -0.0143</td> <td>    0.017</td> <td>   -0.862</td> <td> 0.389</td> <td>   -0.047</td> <td>    0.018</td>\n",
       "</tr>\n",
       "<tr>\n",
       "  <th>DIS</th>      <td>   -1.5278</td> <td>    0.249</td> <td>   -6.138</td> <td> 0.000</td> <td>   -2.018</td> <td>   -1.038</td>\n",
       "</tr>\n",
       "<tr>\n",
       "  <th>RAD</th>      <td>    0.2897</td> <td>    0.082</td> <td>    3.536</td> <td> 0.000</td> <td>    0.128</td> <td>    0.451</td>\n",
       "</tr>\n",
       "<tr>\n",
       "  <th>TAX</th>      <td>   -0.0115</td> <td>    0.005</td> <td>   -2.287</td> <td> 0.023</td> <td>   -0.021</td> <td>   -0.002</td>\n",
       "</tr>\n",
       "<tr>\n",
       "  <th>PTRATIO</th>  <td>   -0.9692</td> <td>    0.167</td> <td>   -5.789</td> <td> 0.000</td> <td>   -1.299</td> <td>   -0.640</td>\n",
       "</tr>\n",
       "<tr>\n",
       "  <th>B</th>        <td>    0.0099</td> <td>    0.003</td> <td>    2.902</td> <td> 0.004</td> <td>    0.003</td> <td>    0.017</td>\n",
       "</tr>\n",
       "<tr>\n",
       "  <th>LSTAT</th>    <td>   -0.4456</td> <td>    0.063</td> <td>   -7.039</td> <td> 0.000</td> <td>   -0.570</td> <td>   -0.321</td>\n",
       "</tr>\n",
       "<tr>\n",
       "  <th>CHAS_No</th>  <td>   34.3578</td> <td>    6.621</td> <td>    5.190</td> <td> 0.000</td> <td>   21.329</td> <td>   47.386</td>\n",
       "</tr>\n",
       "<tr>\n",
       "  <th>CHAS_Yes</th> <td>   36.5068</td> <td>    6.707</td> <td>    5.443</td> <td> 0.000</td> <td>   23.308</td> <td>   49.706</td>\n",
       "</tr>\n",
       "</table>\n",
       "<table class=\"simpletable\">\n",
       "<tr>\n",
       "  <th>Omnibus:</th>       <td>129.612</td> <th>  Durbin-Watson:     </th> <td>   2.173</td> \n",
       "</tr>\n",
       "<tr>\n",
       "  <th>Prob(Omnibus):</th> <td> 0.000</td>  <th>  Jarque-Bera (JB):  </th> <td> 674.452</td> \n",
       "</tr>\n",
       "<tr>\n",
       "  <th>Skew:</th>          <td> 1.643</td>  <th>  Prob(JB):          </th> <td>3.50e-147</td>\n",
       "</tr>\n",
       "<tr>\n",
       "  <th>Kurtosis:</th>      <td> 9.371</td>  <th>  Cond. No.          </th> <td>2.11e+04</td> \n",
       "</tr>\n",
       "</table><br/><br/>Warnings:<br/>[1] Standard Errors assume that the covariance matrix of the errors is correctly specified.<br/>[2] The condition number is large, 2.11e+04. This might indicate that there are<br/>strong multicollinearity or other numerical problems."
      ],
      "text/plain": [
       "<class 'statsmodels.iolib.summary.Summary'>\n",
       "\"\"\"\n",
       "                            OLS Regression Results                            \n",
       "==============================================================================\n",
       "Dep. Variable:                   MEDV   R-squared:                       0.764\n",
       "Model:                            OLS   Adj. R-squared:                  0.754\n",
       "Method:                 Least Squares   F-statistic:                     74.85\n",
       "Date:                Tue, 20 Jul 2021   Prob (F-statistic):           4.18e-86\n",
       "Time:                        12:18:45   Log-Likelihood:                -926.15\n",
       "No. Observations:                 315   AIC:                             1880.\n",
       "Df Residuals:                     301   BIC:                             1933.\n",
       "Df Model:                          13                                         \n",
       "Covariance Type:            nonrobust                                         \n",
       "==============================================================================\n",
       "                 coef    std err          t      P>|t|      [0.025      0.975]\n",
       "------------------------------------------------------------------------------\n",
       "CRIM          -0.1210      0.037     -3.311      0.001      -0.193      -0.049\n",
       "ZN             0.0550      0.018      3.110      0.002       0.020       0.090\n",
       "INDUS          0.0530      0.086      0.615      0.539      -0.117       0.223\n",
       "NOX          -18.9674      4.866     -3.898      0.000     -28.543      -9.392\n",
       "RM             4.2499      0.526      8.074      0.000       3.214       5.286\n",
       "AGE           -0.0143      0.017     -0.862      0.389      -0.047       0.018\n",
       "DIS           -1.5278      0.249     -6.138      0.000      -2.018      -1.038\n",
       "RAD            0.2897      0.082      3.536      0.000       0.128       0.451\n",
       "TAX           -0.0115      0.005     -2.287      0.023      -0.021      -0.002\n",
       "PTRATIO       -0.9692      0.167     -5.789      0.000      -1.299      -0.640\n",
       "B              0.0099      0.003      2.902      0.004       0.003       0.017\n",
       "LSTAT         -0.4456      0.063     -7.039      0.000      -0.570      -0.321\n",
       "CHAS_No       34.3578      6.621      5.190      0.000      21.329      47.386\n",
       "CHAS_Yes      36.5068      6.707      5.443      0.000      23.308      49.706\n",
       "==============================================================================\n",
       "Omnibus:                      129.612   Durbin-Watson:                   2.173\n",
       "Prob(Omnibus):                  0.000   Jarque-Bera (JB):              674.452\n",
       "Skew:                           1.643   Prob(JB):                    3.50e-147\n",
       "Kurtosis:                       9.371   Cond. No.                     2.11e+04\n",
       "==============================================================================\n",
       "\n",
       "Warnings:\n",
       "[1] Standard Errors assume that the covariance matrix of the errors is correctly specified.\n",
       "[2] The condition number is large, 2.11e+04. This might indicate that there are\n",
       "strong multicollinearity or other numerical problems.\n",
       "\"\"\""
      ]
     },
     "execution_count": 20,
     "metadata": {
      "tags": []
     },
     "output_type": "execute_result"
    }
   ],
   "source": [
    "# statsmodels를 이용해서 회귀분석을 할 수도 있습니다.\n",
    "import statsmodels.api as sm\n",
    "model = sm.OLS(y_train, X_train)\n",
    "results = model.fit()\n",
    "results.summary()"
   ]
  },
  {
   "cell_type": "markdown",
   "metadata": {
    "id": "WE7cL98WOLAV"
   },
   "source": [
    "# 3. Ridge & Lasso Regression"
   ]
  },
  {
   "cell_type": "markdown",
   "metadata": {
    "id": "Pj10-au-OLAV"
   },
   "source": [
    "## 3-1. Ridge Regression"
   ]
  },
  {
   "cell_type": "code",
   "execution_count": null,
   "metadata": {
    "colab": {
     "base_uri": "https://localhost:8080/"
    },
    "id": "mN-TAjTvOLAW",
    "outputId": "b618e10e-552b-4df8-ea19-e1734b79c65e"
   },
   "outputs": [
    {
     "name": "stdout",
     "output_type": "stream",
     "text": [
      "Training R^2: 0.76\n"
     ]
    }
   ],
   "source": [
    "from sklearn.linear_model import Ridge\n",
    "\n",
    "# 1. 먼저 모델을 만들어 줍니다.\n",
    "ridge = Ridge(alpha=0.5)\n",
    "\n",
    "# 2. 모델을 적합시킵니다.\n",
    "ridge.fit(X_train, y_train)\n",
    "\n",
    "# 3. train 세트에서의 성능을 확인합니다.\n",
    "print(\"Training R^2: %.2f\" % ridge.score(X_train, y_train))"
   ]
  },
  {
   "cell_type": "code",
   "execution_count": null,
   "metadata": {
    "colab": {
     "base_uri": "https://localhost:8080/",
     "height": 500
    },
    "id": "fVp2yKjjOLAe",
    "outputId": "929b279e-2668-41f2-f3c3-ed03ebedb4ca",
    "scrolled": false
   },
   "outputs": [
    {
     "name": "stdout",
     "output_type": "stream",
     "text": [
      "intercept: 30.402415782078133\n"
     ]
    },
    {
     "data": {
      "text/html": [
       "<div>\n",
       "<style scoped>\n",
       "    .dataframe tbody tr th:only-of-type {\n",
       "        vertical-align: middle;\n",
       "    }\n",
       "\n",
       "    .dataframe tbody tr th {\n",
       "        vertical-align: top;\n",
       "    }\n",
       "\n",
       "    .dataframe thead th {\n",
       "        text-align: right;\n",
       "    }\n",
       "</style>\n",
       "<table border=\"1\" class=\"dataframe\">\n",
       "  <thead>\n",
       "    <tr style=\"text-align: right;\">\n",
       "      <th></th>\n",
       "      <th>slope</th>\n",
       "    </tr>\n",
       "  </thead>\n",
       "  <tbody>\n",
       "    <tr>\n",
       "      <th>NOX</th>\n",
       "      <td>-12.324547</td>\n",
       "    </tr>\n",
       "    <tr>\n",
       "      <th>DIS</th>\n",
       "      <td>-1.434818</td>\n",
       "    </tr>\n",
       "    <tr>\n",
       "      <th>CHAS_No</th>\n",
       "      <td>-1.054123</td>\n",
       "    </tr>\n",
       "    <tr>\n",
       "      <th>PTRATIO</th>\n",
       "      <td>-0.893936</td>\n",
       "    </tr>\n",
       "    <tr>\n",
       "      <th>LSTAT</th>\n",
       "      <td>-0.450136</td>\n",
       "    </tr>\n",
       "    <tr>\n",
       "      <th>CRIM</th>\n",
       "      <td>-0.118704</td>\n",
       "    </tr>\n",
       "    <tr>\n",
       "      <th>AGE</th>\n",
       "      <td>-0.019441</td>\n",
       "    </tr>\n",
       "    <tr>\n",
       "      <th>TAX</th>\n",
       "      <td>-0.011542</td>\n",
       "    </tr>\n",
       "    <tr>\n",
       "      <th>B</th>\n",
       "      <td>0.010495</td>\n",
       "    </tr>\n",
       "    <tr>\n",
       "      <th>INDUS</th>\n",
       "      <td>0.017585</td>\n",
       "    </tr>\n",
       "    <tr>\n",
       "      <th>ZN</th>\n",
       "      <td>0.056502</td>\n",
       "    </tr>\n",
       "    <tr>\n",
       "      <th>RAD</th>\n",
       "      <td>0.267355</td>\n",
       "    </tr>\n",
       "    <tr>\n",
       "      <th>CHAS_Yes</th>\n",
       "      <td>1.054123</td>\n",
       "    </tr>\n",
       "    <tr>\n",
       "      <th>RM</th>\n",
       "      <td>4.305850</td>\n",
       "    </tr>\n",
       "  </tbody>\n",
       "</table>\n",
       "</div>"
      ],
      "text/plain": [
       "              slope\n",
       "NOX      -12.324547\n",
       "DIS       -1.434818\n",
       "CHAS_No   -1.054123\n",
       "PTRATIO   -0.893936\n",
       "LSTAT     -0.450136\n",
       "CRIM      -0.118704\n",
       "AGE       -0.019441\n",
       "TAX       -0.011542\n",
       "B          0.010495\n",
       "INDUS      0.017585\n",
       "ZN         0.056502\n",
       "RAD        0.267355\n",
       "CHAS_Yes   1.054123\n",
       "RM         4.305850"
      ]
     },
     "execution_count": 22,
     "metadata": {
      "tags": []
     },
     "output_type": "execute_result"
    }
   ],
   "source": [
    "# 모델의 회귀계수(intercept와 slope)를 확인해봅시다.\n",
    "print(\"intercept:\", ridge.intercept_)\n",
    "beta = pd.DataFrame(ridge.coef_, index=X_train.columns, columns=[\"slope\"])\n",
    "beta.sort_values(\"slope\")"
   ]
  },
  {
   "cell_type": "code",
   "execution_count": null,
   "metadata": {
    "colab": {
     "base_uri": "https://localhost:8080/"
    },
    "id": "w8UsVjGUOLAe",
    "outputId": "7b1b4088-da13-4976-d158-a5277a25dbca"
   },
   "outputs": [
    {
     "name": "stdout",
     "output_type": "stream",
     "text": [
      "Test R^2 Score : 0.77\n"
     ]
    }
   ],
   "source": [
    "print(\"Test R^2 Score : %.2f\" % ridge.score(X_test, y_test))"
   ]
  },
  {
   "cell_type": "markdown",
   "metadata": {
    "id": "bBbLrVoQOLAf"
   },
   "source": [
    "## 3-2. Lasso Regression"
   ]
  },
  {
   "cell_type": "code",
   "execution_count": null,
   "metadata": {
    "colab": {
     "base_uri": "https://localhost:8080/"
    },
    "id": "XWfgeA12OLAf",
    "outputId": "5c87c38c-48e4-43bc-f45f-79bce4518d91"
   },
   "outputs": [
    {
     "name": "stdout",
     "output_type": "stream",
     "text": [
      "Training R^2: 0.74\n"
     ]
    }
   ],
   "source": [
    "from sklearn.linear_model import Lasso\n",
    "\n",
    "# 1. 먼저 모델을 만들어 줍니다.\n",
    "lasso = Lasso(alpha=0.5)\n",
    "\n",
    "# 2. 모델을 적합시킵니다.\n",
    "lasso.fit(X_train, y_train)\n",
    "\n",
    "# 3. train 세트에서의 성능을 확인합니다.\n",
    "print(\"Training R^2: %.2f\" % lasso.score(X_train, y_train))"
   ]
  },
  {
   "cell_type": "code",
   "execution_count": null,
   "metadata": {
    "colab": {
     "base_uri": "https://localhost:8080/",
     "height": 500
    },
    "id": "cdmJTlCLOLAk",
    "outputId": "de1d9db7-74db-40eb-8b9d-2b301134cff8",
    "scrolled": false
   },
   "outputs": [
    {
     "name": "stdout",
     "output_type": "stream",
     "text": [
      "intercept: 27.986883394424197\n"
     ]
    },
    {
     "data": {
      "text/html": [
       "<div>\n",
       "<style scoped>\n",
       "    .dataframe tbody tr th:only-of-type {\n",
       "        vertical-align: middle;\n",
       "    }\n",
       "\n",
       "    .dataframe tbody tr th {\n",
       "        vertical-align: top;\n",
       "    }\n",
       "\n",
       "    .dataframe thead th {\n",
       "        text-align: right;\n",
       "    }\n",
       "</style>\n",
       "<table border=\"1\" class=\"dataframe\">\n",
       "  <thead>\n",
       "    <tr style=\"text-align: right;\">\n",
       "      <th></th>\n",
       "      <th>slope</th>\n",
       "    </tr>\n",
       "  </thead>\n",
       "  <tbody>\n",
       "    <tr>\n",
       "      <th>DIS</th>\n",
       "      <td>-0.995561</td>\n",
       "    </tr>\n",
       "    <tr>\n",
       "      <th>PTRATIO</th>\n",
       "      <td>-0.727148</td>\n",
       "    </tr>\n",
       "    <tr>\n",
       "      <th>LSTAT</th>\n",
       "      <td>-0.567353</td>\n",
       "    </tr>\n",
       "    <tr>\n",
       "      <th>CRIM</th>\n",
       "      <td>-0.096730</td>\n",
       "    </tr>\n",
       "    <tr>\n",
       "      <th>TAX</th>\n",
       "      <td>-0.013589</td>\n",
       "    </tr>\n",
       "    <tr>\n",
       "      <th>AGE</th>\n",
       "      <td>-0.007530</td>\n",
       "    </tr>\n",
       "    <tr>\n",
       "      <th>INDUS</th>\n",
       "      <td>-0.002904</td>\n",
       "    </tr>\n",
       "    <tr>\n",
       "      <th>NOX</th>\n",
       "      <td>-0.000000</td>\n",
       "    </tr>\n",
       "    <tr>\n",
       "      <th>CHAS_No</th>\n",
       "      <td>-0.000000</td>\n",
       "    </tr>\n",
       "    <tr>\n",
       "      <th>CHAS_Yes</th>\n",
       "      <td>0.000000</td>\n",
       "    </tr>\n",
       "    <tr>\n",
       "      <th>B</th>\n",
       "      <td>0.010761</td>\n",
       "    </tr>\n",
       "    <tr>\n",
       "      <th>ZN</th>\n",
       "      <td>0.064440</td>\n",
       "    </tr>\n",
       "    <tr>\n",
       "      <th>RAD</th>\n",
       "      <td>0.237653</td>\n",
       "    </tr>\n",
       "    <tr>\n",
       "      <th>RM</th>\n",
       "      <td>2.978479</td>\n",
       "    </tr>\n",
       "  </tbody>\n",
       "</table>\n",
       "</div>"
      ],
      "text/plain": [
       "             slope\n",
       "DIS      -0.995561\n",
       "PTRATIO  -0.727148\n",
       "LSTAT    -0.567353\n",
       "CRIM     -0.096730\n",
       "TAX      -0.013589\n",
       "AGE      -0.007530\n",
       "INDUS    -0.002904\n",
       "NOX      -0.000000\n",
       "CHAS_No  -0.000000\n",
       "CHAS_Yes  0.000000\n",
       "B         0.010761\n",
       "ZN        0.064440\n",
       "RAD       0.237653\n",
       "RM        2.978479"
      ]
     },
     "execution_count": 25,
     "metadata": {
      "tags": []
     },
     "output_type": "execute_result"
    }
   ],
   "source": [
    "# 모델의 회귀계수(intercept와 slope)를 확인해봅시다.\n",
    "print(\"intercept:\", lasso.intercept_)\n",
    "beta = pd.DataFrame(lasso.coef_, index=X_train.columns, columns=[\"slope\"])\n",
    "beta.sort_values(\"slope\")"
   ]
  },
  {
   "cell_type": "code",
   "execution_count": null,
   "metadata": {
    "colab": {
     "base_uri": "https://localhost:8080/"
    },
    "id": "fbsvJxRnOLAl",
    "outputId": "6c86360d-d10e-4669-d9e9-815cc14fcafe"
   },
   "outputs": [
    {
     "name": "stdout",
     "output_type": "stream",
     "text": [
      "Test R^2 Score : 0.75\n"
     ]
    }
   ],
   "source": [
    "print(\"Test R^2 Score : %.2f\" % lasso.score(X_test, y_test))"
   ]
  }
 ],
 "metadata": {
  "colab": {
   "collapsed_sections": [],
   "name": "regression_tutorial.ipynb",
   "provenance": []
  },
  "kernelspec": {
   "display_name": "Python 3 (ipykernel)",
   "language": "python",
   "name": "python3"
  },
  "language_info": {
   "codemirror_mode": {
    "name": "ipython",
    "version": 3
   },
   "file_extension": ".py",
   "mimetype": "text/x-python",
   "name": "python",
   "nbconvert_exporter": "python",
   "pygments_lexer": "ipython3",
   "version": "3.9.7"
  }
 },
 "nbformat": 4,
 "nbformat_minor": 1
}

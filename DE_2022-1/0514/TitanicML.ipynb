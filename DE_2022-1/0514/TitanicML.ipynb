{
 "cells": [
  {
   "cell_type": "markdown",
   "id": "1abc400d-f0c1-4e0b-949d-662dcebce8e8",
   "metadata": {},
   "source": [
    "### Spark ML\n",
    "\n",
    "- ML 과정을 간소화하기 위해서 추정자, 변환자, 평가자라는 개념을 도입했음.\n",
    "- 객체를 결합시켜서 **파이프라인** 을 구성할 수 있고,각 객체에 필요한 ML parameter들을 일관되게 적용시킬 수 있다.\n",
    "- 입출력 데이터롤 **dateframe** 을 이용한다.\n",
    "- Dateframe API로 가공한 데이터를 그대로 ML용 파이프라인의 입력 데이터로 활용할 수 있다.\n",
    "\n",
    "#### Spark Pipeline\n",
    "- Transformer\n",
    "    - 한 데이터셋을 다른 데이터셋으로 변환한다.\n",
    "    - 스파크 ML 모델도 데이터셋에 예측 결과를 더함 (변환 작업) 그래서 변환자에 해당함.\n",
    "    - **transform** 이라는 핵심 메서드. Dataframe을 필수 인수로 받고, 선택 인수로 매개변수 집합을 받음.\n",
    "- Estimator\n",
    "    - 주어진 데이터셋을 학습해서 변환자를 생성한다.\n",
    "    - 추정자의 결과 -> 변환자 (회귀 모델)\n",
    "    - 핵심 메서드인 fit : Dataframe을 인수로 받고, 선택 인수로 매개변수 집합을 받음.\n",
    "- Evaluator\n",
    "    - 모델 성능의 평가자.\n",
    "    - RMSE, R^2 등이 있다."
   ]
  },
  {
   "cell_type": "code",
   "execution_count": null,
   "id": "4e5d0a7d-16e7-4c41-aea3-bbc4afcb9c98",
   "metadata": {},
   "outputs": [],
   "source": [
    "import pandas as pd\n",
    "import numpy as np\n",
    "import os\n",
    "import matplotlib.pyplot as plt\n",
    "import seaborn as sns\n",
    "\n",
    "plt.rc('font', family = 'AppleGothic')\n",
    "plt.rcParams['axes.unicode_minus'] = False"
   ]
  },
  {
   "cell_type": "code",
   "execution_count": 3,
   "id": "d65bc5c1-ae58-4639-98cd-de575520913f",
   "metadata": {},
   "outputs": [],
   "source": [
    "# Pyspark SQL.\n",
    "\n",
    "# Spark의 Dataset & Dataframe API 를 쓰기 위한 엔트리포인트.\n",
    "from pyspark.sql import SparkSession\n",
    "from pyspark.sql import SQLContext\n",
    "# Dataframe들에 대해서 수행할 수 있는 built-in function들의 집합.\n",
    "from pyspark.sql.functions import mean, col, split, regexp_extract, when, lit"
   ]
  },
  {
   "cell_type": "markdown",
   "id": "36e1e9e4-8a77-4fec-9c3f-2fba497e6e23",
   "metadata": {},
   "source": [
    "### Pipeline\n",
    "파이프라인 = Estimator & Transformer들의 집합.\n",
    "`Pipeline.fit()` 호출 시 각 stage들이 순서대로 실행된다.\n",
    "- 스테이지가 Estimator일 경우 : 입력 데이터셋에 대해서 `fit`을 하고, estimator의 결과로 나온 transformer가 입력 데이터셋을 transform 한다.\n",
    "- 스테이지가 Transformer일 경우 : `Transformer.transform()` 메서드를 통해서 다음 스테이지를 위한 데이터셋을 생성한다.\n",
    "\n",
    "`Pipeline`으로부터 나온 모델을 `PipelineModel` 이라고 한다."
   ]
  },
  {
   "cell_type": "markdown",
   "id": "10c3678e-0e9c-4c91-82d1-997603ac4123",
   "metadata": {},
   "source": [
    "*Pipeline은 모델을 도출하기 위한\n",
    "estimator이고, PipelineModel은 Pipeline의 결과로 얻어지는 Transformer(모델)* 이다"
   ]
  },
  {
   "cell_type": "code",
   "execution_count": 7,
   "id": "7d718640-fc6b-4825-8d2d-ca669f1ae6a9",
   "metadata": {},
   "outputs": [],
   "source": [
    "from pyspark.ml import Pipeline\n",
    "# VectorAssembler : 여러 column들을 vector column으로 모아주는 transformer\n",
    "# StringIndexer : 라벨들에 대한 string column들을 ML column으로 변환시켜줌.\n",
    "# QuantileDiscretizer : 연속적인 feature들을 가진 column을 가지고 범주화시켜줌.\n",
    "from pyspark.ml.feature import StringIndexer, VectorAssembler, QuantileDiscretizer\n",
    "\n",
    "# MultiClass Classification을 위한 Evaluator.\n",
    "from pyspark.ml.evaluation import MulticlassClassificationEvaluator"
   ]
  },
  {
   "cell_type": "code",
   "execution_count": 9,
   "id": "b73d36fe-7775-4b99-a531-a1ea0e9f820c",
   "metadata": {},
   "outputs": [],
   "source": [
    "spark = SparkSession.builder\\\n",
    "                    .appName(\"Play with Pyspark ML with Titanic Data!\")\\\n",
    "                    .getOrCreate()"
   ]
  },
  {
   "cell_type": "code",
   "execution_count": 10,
   "id": "34ba09cd-ac66-4fab-8352-835790fb2775",
   "metadata": {},
   "outputs": [
    {
     "data": {
      "text/html": [
       "<div>\n",
       "<style scoped>\n",
       "    .dataframe tbody tr th:only-of-type {\n",
       "        vertical-align: middle;\n",
       "    }\n",
       "\n",
       "    .dataframe tbody tr th {\n",
       "        vertical-align: top;\n",
       "    }\n",
       "\n",
       "    .dataframe thead th {\n",
       "        text-align: right;\n",
       "    }\n",
       "</style>\n",
       "<table border=\"1\" class=\"dataframe\">\n",
       "  <thead>\n",
       "    <tr style=\"text-align: right;\">\n",
       "      <th></th>\n",
       "      <th>PassengerId</th>\n",
       "      <th>Survived</th>\n",
       "      <th>Pclass</th>\n",
       "      <th>Name</th>\n",
       "      <th>Sex</th>\n",
       "      <th>Age</th>\n",
       "      <th>SibSp</th>\n",
       "      <th>Parch</th>\n",
       "      <th>Ticket</th>\n",
       "      <th>Fare</th>\n",
       "      <th>Cabin</th>\n",
       "      <th>Embarked</th>\n",
       "    </tr>\n",
       "  </thead>\n",
       "  <tbody>\n",
       "    <tr>\n",
       "      <th>0</th>\n",
       "      <td>1</td>\n",
       "      <td>0</td>\n",
       "      <td>3</td>\n",
       "      <td>Braund, Mr. Owen Harris</td>\n",
       "      <td>male</td>\n",
       "      <td>22.0</td>\n",
       "      <td>1</td>\n",
       "      <td>0</td>\n",
       "      <td>A/5 21171</td>\n",
       "      <td>7.2500</td>\n",
       "      <td>None</td>\n",
       "      <td>S</td>\n",
       "    </tr>\n",
       "    <tr>\n",
       "      <th>1</th>\n",
       "      <td>2</td>\n",
       "      <td>1</td>\n",
       "      <td>1</td>\n",
       "      <td>Cumings, Mrs. John Bradley (Florence Briggs Th...</td>\n",
       "      <td>female</td>\n",
       "      <td>38.0</td>\n",
       "      <td>1</td>\n",
       "      <td>0</td>\n",
       "      <td>PC 17599</td>\n",
       "      <td>71.2833</td>\n",
       "      <td>C85</td>\n",
       "      <td>C</td>\n",
       "    </tr>\n",
       "    <tr>\n",
       "      <th>2</th>\n",
       "      <td>3</td>\n",
       "      <td>1</td>\n",
       "      <td>3</td>\n",
       "      <td>Heikkinen, Miss. Laina</td>\n",
       "      <td>female</td>\n",
       "      <td>26.0</td>\n",
       "      <td>0</td>\n",
       "      <td>0</td>\n",
       "      <td>STON/O2. 3101282</td>\n",
       "      <td>7.9250</td>\n",
       "      <td>None</td>\n",
       "      <td>S</td>\n",
       "    </tr>\n",
       "  </tbody>\n",
       "</table>\n",
       "</div>"
      ],
      "text/plain": [
       "   PassengerId  Survived  Pclass  \\\n",
       "0            1         0       3   \n",
       "1            2         1       1   \n",
       "2            3         1       3   \n",
       "\n",
       "                                                Name     Sex   Age  SibSp  \\\n",
       "0                            Braund, Mr. Owen Harris    male  22.0      1   \n",
       "1  Cumings, Mrs. John Bradley (Florence Briggs Th...  female  38.0      1   \n",
       "2                             Heikkinen, Miss. Laina  female  26.0      0   \n",
       "\n",
       "   Parch            Ticket     Fare Cabin Embarked  \n",
       "0      0         A/5 21171   7.2500  None        S  \n",
       "1      0          PC 17599  71.2833   C85        C  \n",
       "2      0  STON/O2. 3101282   7.9250  None        S  "
      ]
     },
     "execution_count": 10,
     "metadata": {},
     "output_type": "execute_result"
    }
   ],
   "source": [
    "# spark.read : DataframeReader 객체를 반환.\n",
    "df = spark.read.csv('./titanic.csv', header = True, inferSchema = True)\n",
    "# limit : 결과를 해당 개수만큼만 제한.\n",
    "# Dataframe의 내용을 pandas.dataframe으로 반환.\n",
    "df.limit(3).toPandas()"
   ]
  },
  {
   "cell_type": "code",
   "execution_count": 11,
   "id": "7e3ab36e-87d7-4d37-b3f6-81fbc1a44ed1",
   "metadata": {},
   "outputs": [],
   "source": [
    "pandas_df = df.toPandas()"
   ]
  },
  {
   "cell_type": "code",
   "execution_count": 13,
   "id": "652242ca-4080-4056-8591-be214358a26d",
   "metadata": {},
   "outputs": [
    {
     "name": "stderr",
     "output_type": "stream",
     "text": [
      "/opt/conda/lib/python3.9/site-packages/seaborn/distributions.py:2619: FutureWarning: `distplot` is a deprecated function and will be removed in a future version. Please adapt your code to use either `displot` (a figure-level function with similar flexibility) or `histplot` (an axes-level function for histograms).\n",
      "  warnings.warn(msg, FutureWarning)\n",
      "findfont: Font family ['AppleGothic'] not found. Falling back to DejaVu Sans.\n",
      "/opt/conda/lib/python3.9/site-packages/IPython/core/pylabtools.py:151: UserWarning: Glyph 53440 (\\N{HANGUL SYLLABLE TA}) missing from current font.\n",
      "  fig.canvas.print_figure(bytes_io, **kw)\n",
      "/opt/conda/lib/python3.9/site-packages/IPython/core/pylabtools.py:151: UserWarning: Glyph 51060 (\\N{HANGUL SYLLABLE I}) missing from current font.\n",
      "  fig.canvas.print_figure(bytes_io, **kw)\n",
      "/opt/conda/lib/python3.9/site-packages/IPython/core/pylabtools.py:151: UserWarning: Glyph 45769 (\\N{HANGUL SYLLABLE NIG}) missing from current font.\n",
      "  fig.canvas.print_figure(bytes_io, **kw)\n",
      "/opt/conda/lib/python3.9/site-packages/IPython/core/pylabtools.py:151: UserWarning: Glyph 53457 (\\N{HANGUL SYLLABLE TAB}) missing from current font.\n",
      "  fig.canvas.print_figure(bytes_io, **kw)\n",
      "/opt/conda/lib/python3.9/site-packages/IPython/core/pylabtools.py:151: UserWarning: Glyph 49849 (\\N{HANGUL SYLLABLE SEUNG}) missing from current font.\n",
      "  fig.canvas.print_figure(bytes_io, **kw)\n",
      "/opt/conda/lib/python3.9/site-packages/IPython/core/pylabtools.py:151: UserWarning: Glyph 44061 (\\N{HANGUL SYLLABLE GAEG}) missing from current font.\n",
      "  fig.canvas.print_figure(bytes_io, **kw)\n",
      "/opt/conda/lib/python3.9/site-packages/IPython/core/pylabtools.py:151: UserWarning: Glyph 51032 (\\N{HANGUL SYLLABLE YI}) missing from current font.\n",
      "  fig.canvas.print_figure(bytes_io, **kw)\n",
      "/opt/conda/lib/python3.9/site-packages/IPython/core/pylabtools.py:151: UserWarning: Glyph 48516 (\\N{HANGUL SYLLABLE BUN}) missing from current font.\n",
      "  fig.canvas.print_figure(bytes_io, **kw)\n",
      "/opt/conda/lib/python3.9/site-packages/IPython/core/pylabtools.py:151: UserWarning: Glyph 54252 (\\N{HANGUL SYLLABLE PO}) missing from current font.\n",
      "  fig.canvas.print_figure(bytes_io, **kw)\n",
      "/opt/conda/lib/python3.9/site-packages/IPython/core/pylabtools.py:151: UserWarning: Glyph 47484 (\\N{HANGUL SYLLABLE REUL}) missing from current font.\n",
      "  fig.canvas.print_figure(bytes_io, **kw)\n",
      "/opt/conda/lib/python3.9/site-packages/IPython/core/pylabtools.py:151: UserWarning: Glyph 50508 (\\N{HANGUL SYLLABLE AL}) missing from current font.\n",
      "  fig.canvas.print_figure(bytes_io, **kw)\n",
      "/opt/conda/lib/python3.9/site-packages/IPython/core/pylabtools.py:151: UserWarning: Glyph 50500 (\\N{HANGUL SYLLABLE A}) missing from current font.\n",
      "  fig.canvas.print_figure(bytes_io, **kw)\n",
      "/opt/conda/lib/python3.9/site-packages/IPython/core/pylabtools.py:151: UserWarning: Glyph 48372 (\\N{HANGUL SYLLABLE BO}) missing from current font.\n",
      "  fig.canvas.print_figure(bytes_io, **kw)\n",
      "/opt/conda/lib/python3.9/site-packages/IPython/core/pylabtools.py:151: UserWarning: Glyph 51088 (\\N{HANGUL SYLLABLE JA}) missing from current font.\n",
      "  fig.canvas.print_figure(bytes_io, **kw)\n",
      "findfont: Font family ['AppleGothic'] not found. Falling back to DejaVu Sans.\n"
     ]
    },
    {
     "data": {
      "image/png": "[encoded data removed]",
      "text/plain": [
       "<Figure size 720x360 with 1 Axes>"
      ]
     },
     "metadata": {
      "needs_background": "light"
     },
     "output_type": "display_data"
    }
   ],
   "source": [
    "plt.figure(figsize  = (10, 5))\n",
    "plt.title(\"타이타닉 탑승객의 Age KDE 분포를 알아보자.\")\n",
    "sns.distplot(pandas_df['Age'])\n",
    "plt.show()"
   ]
  },
  {
   "cell_type": "markdown",
   "id": "c8dc3ecc-af8c-4939-8148-4f99489b2e38",
   "metadata": {},
   "source": [
    "### Pyspark로 결측치 체크하고, 파생변수 생성해보기"
   ]
  },
  {
   "cell_type": "code",
   "execution_count": 17,
   "id": "ffa1b2ea-2dfc-44d0-9a99-9afa2032bd85",
   "metadata": {},
   "outputs": [
    {
     "name": "stdout",
     "output_type": "stream",
     "text": [
      "+-----------+--------+------+----+---+---+-----+-----+------+----+-----+--------+\n",
      "|PassengerId|Survived|Pclass|Name|Sex|Age|SibSp|Parch|Ticket|Fare|Cabin|Embarked|\n",
      "+-----------+--------+------+----+---+---+-----+-----+------+----+-----+--------+\n",
      "|          0|       0|     0|   0|  0|177|    0|    0|     0|   0|  687|       2|\n",
      "+-----------+--------+------+----+---+---+-----+-----+------+----+-----+--------+\n",
      "\n"
     ]
    }
   ],
   "source": [
    "from pyspark.sql.functions import isnan, count\n",
    "\n",
    "# column에 대해서\n",
    "null_columns = [count(when(isnan(c) | col(c).isNull(), c)).alias(c) for c in df.columns]\n",
    "# df.select() => 주어진 column들? 을 이용해서 새로운 데이터프레임을 반환한다.\n",
    "df.select(null_columns).show()"
   ]
  },
  {
   "cell_type": "code",
   "execution_count": 20,
   "id": "ca5d08f4-bef5-42a6-9053-eb4a2f7b27c7",
   "metadata": {},
   "outputs": [
    {
     "name": "stdout",
     "output_type": "stream",
     "text": [
      "+-----------+--------+------+--------------------+------+----+-----+-----+----------------+-------+--------+-------+\n",
      "|PassengerId|Survived|Pclass|                Name|   Sex| Age|SibSp|Parch|          Ticket|   Fare|Embarked|Initial|\n",
      "+-----------+--------+------+--------------------+------+----+-----+-----+----------------+-------+--------+-------+\n",
      "|          1|       0|     3|Braund, Mr. Owen ...|  male|22.0|    1|    0|       A/5 21171|   7.25|       S|     Mr|\n",
      "|          2|       1|     1|Cumings, Mrs. Joh...|female|38.0|    1|    0|        PC 17599|71.2833|       C|    Mrs|\n",
      "|          3|       1|     3|Heikkinen, Miss. ...|female|26.0|    0|    0|STON/O2. 3101282|  7.925|       S|   Miss|\n",
      "+-----------+--------+------+--------------------+------+----+-----+-----+----------------+-------+--------+-------+\n",
      "\n"
     ]
    }
   ],
   "source": [
    "new_df = df.drop('Cabin')\n",
    "# withColumn : 매개변수로 넘긴 정보를 가지고 새로운 column을 만들어서 기존 df에 합체시킨 df를 반환.\n",
    "new_df = new_df.withColumn(\"Initial\", regexp_extract(col(\"Name\"), \"([A-Za-z]+)\\.\", 1))\n",
    "new_df.limit(3).show()"
   ]
  },
  {
   "cell_type": "code",
   "execution_count": 21,
   "id": "02897dad-02f5-498f-950f-5e7e04b9dc4d",
   "metadata": {},
   "outputs": [],
   "source": [
    "new_df = new_df.replace(['Mlle','Mme', 'Ms', 'Dr','Major','Lady','Countess','Jonkheer','Col','Rev','Capt','Sir','Don'],\n",
    "                ['Miss','Miss','Miss','Mr','Mr',  'Mrs',  'Mrs',  'Other',  'Other','Other','Mr','Mr','Mr'])"
   ]
  },
  {
   "cell_type": "code",
   "execution_count": 22,
   "id": "6e07b096-af0e-4154-8561-4dee6aa5626e",
   "metadata": {},
   "outputs": [
    {
     "data": {
      "text/plain": [
       "[Row(Initial='Miss', avg(Age)=21.86),\n",
       " Row(Initial='Other', avg(Age)=45.888888888888886),\n",
       " Row(Initial='Master', avg(Age)=4.574166666666667),\n",
       " Row(Initial='Mr', avg(Age)=32.73960880195599),\n",
       " Row(Initial='Mrs', avg(Age)=35.981818181818184)]"
      ]
     },
     "execution_count": 22,
     "metadata": {},
     "output_type": "execute_result"
    }
   ],
   "source": [
    "new_df.groupby(\"Initial\").avg('Age').collect()"
   ]
  },
  {
   "cell_type": "code",
   "execution_count": 24,
   "id": "c0c387ed-d1be-4cee-b1a0-9e60a798cf3e",
   "metadata": {},
   "outputs": [],
   "source": [
    "df = new_df"
   ]
  },
  {
   "cell_type": "code",
   "execution_count": 25,
   "id": "1ac13d77-9582-4384-886a-d58ca91d189c",
   "metadata": {},
   "outputs": [],
   "source": [
    "# 승객의 유형별로 나이 결측치를 대체하여 사용.\n",
    "df = df.withColumn('Age',\n",
    "                  when((df['Initial'] == 'Miss') & (df['Age'].isNull()),\n",
    "                      22).otherwise(df['Age']))\n",
    "df = df.withColumn('Age',\n",
    "                  when((df['Initial'] == 'Other') & (df['Age'].isNull()),\n",
    "                      46).otherwise(df['Age']))\n",
    "df = df.withColumn('Age',\n",
    "                  when((df['Initial'] == 'Master') & (df['Age'].isNull()),\n",
    "                      5).otherwise(df['Age']))\n",
    "df = df.withColumn('Age',\n",
    "                  when((df['Initial'] == 'Mr') & (df['Age'].isNull()),\n",
    "                      33).otherwise(df['Age']))\n",
    "df = df.withColumn('Age',\n",
    "                  when((df['Initial'] == 'Mrs') & (df['Age'].isNull()),\n",
    "                      36).otherwise(df['Age']))"
   ]
  },
  {
   "cell_type": "code",
   "execution_count": 26,
   "id": "f67e4f4d-c7d6-4a9b-b8bd-a619802aca1a",
   "metadata": {},
   "outputs": [
    {
     "name": "stdout",
     "output_type": "stream",
     "text": [
      "+--------+-----+\n",
      "|Embarked|count|\n",
      "+--------+-----+\n",
      "|       Q|   77|\n",
      "|    null|    2|\n",
      "|       C|  168|\n",
      "|       S|  644|\n",
      "+--------+-----+\n",
      "\n"
     ]
    }
   ],
   "source": [
    "df.groupBy('Embarked').count().show()"
   ]
  },
  {
   "cell_type": "code",
   "execution_count": 27,
   "id": "53fb35d6-e3f7-4aac-b872-4cb7ca4fa8f8",
   "metadata": {},
   "outputs": [
    {
     "name": "stdout",
     "output_type": "stream",
     "text": [
      "+--------+-----+\n",
      "|Embarked|count|\n",
      "+--------+-----+\n",
      "|       Q|   77|\n",
      "|       C|  168|\n",
      "|       S|  646|\n",
      "+--------+-----+\n",
      "\n"
     ]
    }
   ],
   "source": [
    "df = df.na.fill({\"Embarked\": \"S\"})\n",
    "df.groupBy('Embarked').count().show()"
   ]
  },
  {
   "cell_type": "markdown",
   "id": "6c77885b-17aa-4d2a-b890-e20d6999a9b9",
   "metadata": {},
   "source": [
    "### FEATURE ENGINEERING"
   ]
  },
  {
   "cell_type": "code",
   "execution_count": 28,
   "id": "8a20cc83-40c3-4199-bb02-195499f19e72",
   "metadata": {},
   "outputs": [],
   "source": [
    "df = df.withColumn(\"Family_Size\", col(\"SibSp\") + col(\"Parch\"))\n",
    "df = df.withColumn(\"Alone\", lit(0))\n",
    "df = df.withColumn(\"Alone\", when(col(\"Family_Size\") == 0, 1).otherwise(col(\"Alone\")) )"
   ]
  },
  {
   "cell_type": "code",
   "execution_count": 31,
   "id": "e53514c6-b91e-4ea7-80ee-88dc76c125dc",
   "metadata": {},
   "outputs": [],
   "source": [
    "# Label Enconding\n",
    "convert_cols = [\"Sex\", \"Embarked\", \"Initial\"]\n",
    "\n",
    "indexer = [StringIndexer(inputCol = col, outputCol = col + '_index').fit(df) for col in convert_cols]"
   ]
  },
  {
   "cell_type": "code",
   "execution_count": 33,
   "id": "60aa31e1-571e-4d89-8a63-85dc972b3997",
   "metadata": {},
   "outputs": [
    {
     "name": "stdout",
     "output_type": "stream",
     "text": [
      "StringIndexerModel: uid=StringIndexer_bb29f395e665, handleInvalid=error\n",
      "--------------------------------------------------------------------------------\n",
      "StringIndexerModel: uid=StringIndexer_d16e07aeebca, handleInvalid=error\n",
      "--------------------------------------------------------------------------------\n",
      "StringIndexerModel: uid=StringIndexer_ed30a1052b0d, handleInvalid=error\n",
      "--------------------------------------------------------------------------------\n"
     ]
    }
   ],
   "source": [
    "# 확인해보면 각 컬럼별로 고유의 index들이 생성되어 있는 것을 확인할 수 있다.\n",
    "for i in indexer :\n",
    "    print(i)\n",
    "    print('-' * 80)"
   ]
  },
  {
   "cell_type": "code",
   "execution_count": 35,
   "id": "ed9edb26-7fc3-4fbc-a508-693b721506b7",
   "metadata": {},
   "outputs": [],
   "source": [
    "# indexer를 이용해서 df를 변환시키는 파이프라인 생성.\n",
    "pipeline = Pipeline(stages = indexer)"
   ]
  },
  {
   "cell_type": "code",
   "execution_count": 36,
   "id": "1506f570-94c9-49b1-b9c5-def54d463403",
   "metadata": {},
   "outputs": [],
   "source": [
    "# df에 대해서 fit 연산을 수행해서 transformer를 생성하고,\n",
    "model = pipeline.fit(df)\n",
    "# 해당 transformer를 이용해서 라벨 엔코딩을 실행한다.\n",
    "df = model.transform(df)"
   ]
  },
  {
   "cell_type": "code",
   "execution_count": 37,
   "id": "a9add514-d166-41ca-a0ee-bfefe2b567ce",
   "metadata": {},
   "outputs": [
    {
     "name": "stdout",
     "output_type": "stream",
     "text": [
      "+-----------+--------+------+--------------------+------+----+-----+-----+----------------+-------+--------+-------+-----------+-----+---------+--------------+-------------+\n",
      "|PassengerId|Survived|Pclass|                Name|   Sex| Age|SibSp|Parch|          Ticket|   Fare|Embarked|Initial|Family_Size|Alone|Sex_index|Embarked_index|Initial_index|\n",
      "+-----------+--------+------+--------------------+------+----+-----+-----+----------------+-------+--------+-------+-----------+-----+---------+--------------+-------------+\n",
      "|          1|       0|     3|Braund, Mr. Owen ...|  male|22.0|    1|    0|       A/5 21171|   7.25|       S|     Mr|          1|    0|      0.0|           0.0|          0.0|\n",
      "|          2|       1|     1|Cumings, Mrs. Joh...|female|38.0|    1|    0|        PC 17599|71.2833|       C|    Mrs|          1|    0|      1.0|           1.0|          2.0|\n",
      "|          3|       1|     3|Heikkinen, Miss. ...|female|26.0|    0|    0|STON/O2. 3101282|  7.925|       S|   Miss|          0|    1|      1.0|           0.0|          1.0|\n",
      "+-----------+--------+------+--------------------+------+----+-----+-----+----------------+-------+--------+-------+-----------+-----+---------+--------------+-------------+\n",
      "\n"
     ]
    }
   ],
   "source": [
    "df.limit(3).show()"
   ]
  },
  {
   "cell_type": "code",
   "execution_count": 41,
   "id": "79c159bc-57ac-4410-bbd0-44a68e33663f",
   "metadata": {},
   "outputs": [],
   "source": [
    "df = df.drop(*['PassengerId', \"Name\", \"Ticket\", \"Cabin\", \"Embarked\", \"Sex\", \"Initial\"])"
   ]
  },
  {
   "cell_type": "code",
   "execution_count": 42,
   "id": "fd99ba1b-7c4e-44a0-b2a2-fe16a551c496",
   "metadata": {},
   "outputs": [
    {
     "name": "stdout",
     "output_type": "stream",
     "text": [
      "+--------+------+----+-----+-----+-------+-----------+-----+---------+--------------+-------------+\n",
      "|Survived|Pclass| Age|SibSp|Parch|   Fare|Family_Size|Alone|Sex_index|Embarked_index|Initial_index|\n",
      "+--------+------+----+-----+-----+-------+-----------+-----+---------+--------------+-------------+\n",
      "|       0|     3|22.0|    1|    0|   7.25|          1|    0|      0.0|           0.0|          0.0|\n",
      "|       1|     1|38.0|    1|    0|71.2833|          1|    0|      1.0|           1.0|          2.0|\n",
      "|       1|     3|26.0|    0|    0|  7.925|          0|    1|      1.0|           0.0|          1.0|\n",
      "+--------+------+----+-----+-----+-------+-----------+-----+---------+--------------+-------------+\n",
      "\n"
     ]
    }
   ],
   "source": [
    "df.limit(3).show()"
   ]
  },
  {
   "cell_type": "markdown",
   "id": "3636abfd-0d30-453c-a4a8-7a769ae14fc0",
   "metadata": {},
   "source": [
    "최종적으로 남은 Feature들을 Vector로 변환시켜서 모델에 입력시키기."
   ]
  },
  {
   "cell_type": "code",
   "execution_count": 43,
   "id": "152555c3-079a-411b-8db5-e4078923c1d6",
   "metadata": {},
   "outputs": [],
   "source": [
    "feature_assembler = VectorAssembler(inputCols = df.columns[1:], outputCol = 'features')\n",
    "feature_vector = feature_assembler.transform(df)"
   ]
  },
  {
   "cell_type": "code",
   "execution_count": 44,
   "id": "b2de9b72-df3c-4118-b70a-730477fe04ff",
   "metadata": {},
   "outputs": [
    {
     "data": {
      "text/html": [
       "<div>\n",
       "<style scoped>\n",
       "    .dataframe tbody tr th:only-of-type {\n",
       "        vertical-align: middle;\n",
       "    }\n",
       "\n",
       "    .dataframe tbody tr th {\n",
       "        vertical-align: top;\n",
       "    }\n",
       "\n",
       "    .dataframe thead th {\n",
       "        text-align: right;\n",
       "    }\n",
       "</style>\n",
       "<table border=\"1\" class=\"dataframe\">\n",
       "  <thead>\n",
       "    <tr style=\"text-align: right;\">\n",
       "      <th></th>\n",
       "      <th>Survived</th>\n",
       "      <th>Pclass</th>\n",
       "      <th>Age</th>\n",
       "      <th>SibSp</th>\n",
       "      <th>Parch</th>\n",
       "      <th>Fare</th>\n",
       "      <th>Family_Size</th>\n",
       "      <th>Alone</th>\n",
       "      <th>Sex_index</th>\n",
       "      <th>Embarked_index</th>\n",
       "      <th>Initial_index</th>\n",
       "      <th>features</th>\n",
       "    </tr>\n",
       "  </thead>\n",
       "  <tbody>\n",
       "    <tr>\n",
       "      <th>0</th>\n",
       "      <td>0</td>\n",
       "      <td>3</td>\n",
       "      <td>22.0</td>\n",
       "      <td>1</td>\n",
       "      <td>0</td>\n",
       "      <td>7.2500</td>\n",
       "      <td>1</td>\n",
       "      <td>0</td>\n",
       "      <td>0.0</td>\n",
       "      <td>0.0</td>\n",
       "      <td>0.0</td>\n",
       "      <td>(3.0, 22.0, 1.0, 0.0, 7.25, 1.0, 0.0, 0.0, 0.0...</td>\n",
       "    </tr>\n",
       "    <tr>\n",
       "      <th>1</th>\n",
       "      <td>1</td>\n",
       "      <td>1</td>\n",
       "      <td>38.0</td>\n",
       "      <td>1</td>\n",
       "      <td>0</td>\n",
       "      <td>71.2833</td>\n",
       "      <td>1</td>\n",
       "      <td>0</td>\n",
       "      <td>1.0</td>\n",
       "      <td>1.0</td>\n",
       "      <td>2.0</td>\n",
       "      <td>[1.0, 38.0, 1.0, 0.0, 71.2833, 1.0, 0.0, 1.0, ...</td>\n",
       "    </tr>\n",
       "    <tr>\n",
       "      <th>2</th>\n",
       "      <td>1</td>\n",
       "      <td>3</td>\n",
       "      <td>26.0</td>\n",
       "      <td>0</td>\n",
       "      <td>0</td>\n",
       "      <td>7.9250</td>\n",
       "      <td>0</td>\n",
       "      <td>1</td>\n",
       "      <td>1.0</td>\n",
       "      <td>0.0</td>\n",
       "      <td>1.0</td>\n",
       "      <td>[3.0, 26.0, 0.0, 0.0, 7.925, 0.0, 1.0, 1.0, 0....</td>\n",
       "    </tr>\n",
       "  </tbody>\n",
       "</table>\n",
       "</div>"
      ],
      "text/plain": [
       "   Survived  Pclass   Age  SibSp  Parch     Fare  Family_Size  Alone  \\\n",
       "0         0       3  22.0      1      0   7.2500            1      0   \n",
       "1         1       1  38.0      1      0  71.2833            1      0   \n",
       "2         1       3  26.0      0      0   7.9250            0      1   \n",
       "\n",
       "   Sex_index  Embarked_index  Initial_index  \\\n",
       "0        0.0             0.0            0.0   \n",
       "1        1.0             1.0            2.0   \n",
       "2        1.0             0.0            1.0   \n",
       "\n",
       "                                            features  \n",
       "0  (3.0, 22.0, 1.0, 0.0, 7.25, 1.0, 0.0, 0.0, 0.0...  \n",
       "1  [1.0, 38.0, 1.0, 0.0, 71.2833, 1.0, 0.0, 1.0, ...  \n",
       "2  [3.0, 26.0, 0.0, 0.0, 7.925, 0.0, 1.0, 1.0, 0....  "
      ]
     },
     "execution_count": 44,
     "metadata": {},
     "output_type": "execute_result"
    }
   ],
   "source": [
    "feature_vector.limit(3).toPandas()"
   ]
  },
  {
   "cell_type": "markdown",
   "id": "5fd6b97b-587b-4f68-9df1-38eab60a85a4",
   "metadata": {
    "tags": []
   },
   "source": [
    "## Train set, Test set 만들기."
   ]
  },
  {
   "cell_type": "code",
   "execution_count": 45,
   "id": "08a9dd3f-9c63-404c-8c43-8837b774491f",
   "metadata": {},
   "outputs": [],
   "source": [
    "titanic_df = feature_vector.select(['features', 'Survived'])"
   ]
  },
  {
   "cell_type": "code",
   "execution_count": 54,
   "id": "93d95c4c-22b9-4e0c-962d-e46b2adea3d8",
   "metadata": {},
   "outputs": [],
   "source": [
    "(train_df, test_df) = titanic_df.randomSplit([0.8, 0.2], seed = 11)"
   ]
  },
  {
   "cell_type": "markdown",
   "id": "6b2dbabb-0d5b-49a9-8dde-8f1820791f74",
   "metadata": {
    "tags": []
   },
   "source": [
    "### 학습시키기"
   ]
  },
  {
   "cell_type": "code",
   "execution_count": 55,
   "id": "4bd4f336-53da-4d6e-8dde-d4dadc668cf7",
   "metadata": {},
   "outputs": [],
   "source": [
    "from pyspark.ml.classification import LogisticRegression\n",
    "\n",
    "lr = LogisticRegression().setFeaturesCol(\"features\").setLabelCol(\"Survived\")\n",
    "lrModel = Pipeline(stages=[lr]).fit(train_df)"
   ]
  },
  {
   "cell_type": "markdown",
   "id": "7b5cfc9c-5e3c-4746-9169-40fda60fa604",
   "metadata": {},
   "source": [
    "### 결과 확인"
   ]
  },
  {
   "cell_type": "code",
   "execution_count": 56,
   "id": "167ea242-0e5c-4ea9-a161-2214a0509f76",
   "metadata": {},
   "outputs": [],
   "source": [
    "train_pred = lrModel.transform(train_df).toPandas()['prediction']\n",
    "train_label = train_df.toPandas()['Survived']\n",
    "test_pred = lrModel.transform(test_df).toPandas()['prediction']\n",
    "test_label = test_df.toPandas()['Survived']"
   ]
  },
  {
   "cell_type": "code",
   "execution_count": 57,
   "id": "f84e680e-9afe-4881-93d3-ff88a9f02d85",
   "metadata": {},
   "outputs": [
    {
     "name": "stdout",
     "output_type": "stream",
     "text": [
      "Train Score: 80.80%\n",
      "Test Score: 87.23%\n"
     ]
    }
   ],
   "source": [
    "from sklearn.metrics import accuracy_score\n",
    "\n",
    "print(f\"Train Score: {100 * accuracy_score(train_pred, train_label):.2f}%\")\n",
    "print(f\"Test Score: {100 * accuracy_score(test_pred, test_label):.2f}%\")"
   ]
  },
  {
   "cell_type": "code",
   "execution_count": null,
   "id": "5b897268-4c38-41b6-8398-e9950c1637bd",
   "metadata": {},
   "outputs": [],
   "source": []
  }
 ],
 "metadata": {
  "kernelspec": {
   "display_name": "Python 3 (ipykernel)",
   "language": "python",
   "name": "python3"
  },
  "language_info": {
   "codemirror_mode": {
    "name": "ipython",
    "version": 3
   },
   "file_extension": ".py",
   "mimetype": "text/x-python",
   "name": "python",
   "nbconvert_exporter": "python",
   "pygments_lexer": "ipython3",
   "version": "3.9.12"
  }
 },
 "nbformat": 4,
 "nbformat_minor": 5
}

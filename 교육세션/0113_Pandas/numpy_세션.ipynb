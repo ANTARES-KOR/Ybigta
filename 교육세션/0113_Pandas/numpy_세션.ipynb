{
 "cells": [
  {
   "cell_type": "markdown",
   "metadata": {
    "id": "akfpoc0ovZfn"
   },
   "source": [
    "# Numpy\n",
    "- 'Num'erical 'Py'thon\n",
    "- Python에서 벡터, 행렬 등 수치 연산을 수행하는 선형대수 라이브러리\n",
    "- 벡터 및 행렬 연산에 있어서 매우 편리한 기능을 제공\n",
    "- 데이터분석을 할 때 사용되는 라이브러리인 pandas와 matplotlib의 기반으로 사용\n",
    "- 기본적으로 array(행렬) 단위로 데이터를 관리하며 이에 대해 연산을 수행함"
   ]
  },
  {
   "cell_type": "code",
   "execution_count": null,
   "metadata": {
    "id": "XkcduFxavZfq",
    "scrolled": true
   },
   "outputs": [],
   "source": [
    "#!pip install numpy\n",
    "import numpy as np"
   ]
  },
  {
   "cell_type": "markdown",
   "metadata": {
    "id": "IlnXuv3IvZfw"
   },
   "source": [
    "---"
   ]
  },
  {
   "cell_type": "markdown",
   "metadata": {
    "id": "YucQ89k_xivo"
   },
   "source": []
  },
  {
   "cell_type": "markdown",
   "metadata": {
    "id": "r9rQICzYvZfx"
   },
   "source": [
    "## 1. Array 정의 및 사용"
   ]
  },
  {
   "cell_type": "code",
   "execution_count": null,
   "metadata": {
    "colab": {
     "base_uri": "https://localhost:8080/"
    },
    "executionInfo": {
     "elapsed": 69,
     "status": "ok",
     "timestamp": 1642070741909,
     "user": {
      "displayName": "장홍선",
      "photoUrl": "https://lh3.googleusercontent.com/a/default-user=s64",
      "userId": "15052134402298649734"
     },
     "user_tz": -540
    },
    "id": "5BIWwICYvZfx",
    "outputId": "410ffaa4-0db1-445c-a9a1-15f8b0a92f28"
   },
   "outputs": [
    {
     "data": {
      "text/plain": [
       "[1, 2, 3, 4, 5]"
      ]
     },
     "execution_count": 38,
     "metadata": {},
     "output_type": "execute_result"
    }
   ],
   "source": [
    "list1 = [1, 2, 3, 4, 5]\n",
    "list1"
   ]
  },
  {
   "cell_type": "code",
   "execution_count": null,
   "metadata": {
    "colab": {
     "base_uri": "https://localhost:8080/"
    },
    "executionInfo": {
     "elapsed": 59,
     "status": "ok",
     "timestamp": 1642070741909,
     "user": {
      "displayName": "장홍선",
      "photoUrl": "https://lh3.googleusercontent.com/a/default-user=s64",
      "userId": "15052134402298649734"
     },
     "user_tz": -540
    },
    "id": "5Adw93UuvZf1",
    "outputId": "57bcdc5b-c125-40fd-e4d2-71f633ca7818"
   },
   "outputs": [
    {
     "data": {
      "text/plain": [
       "[1, 2, 3.5, 4, 5]"
      ]
     },
     "execution_count": 39,
     "metadata": {},
     "output_type": "execute_result"
    }
   ],
   "source": [
    "list2 = [1, 2, 3.5, 4, 5]\n",
    "list2"
   ]
  },
  {
   "cell_type": "code",
   "execution_count": null,
   "metadata": {
    "colab": {
     "base_uri": "https://localhost:8080/"
    },
    "executionInfo": {
     "elapsed": 54,
     "status": "ok",
     "timestamp": 1642070741910,
     "user": {
      "displayName": "장홍선",
      "photoUrl": "https://lh3.googleusercontent.com/a/default-user=s64",
      "userId": "15052134402298649734"
     },
     "user_tz": -540
    },
    "id": "BTPPITfJvZf3",
    "outputId": "7be084da-f4d5-4036-a41d-0663f46701ce"
   },
   "outputs": [
    {
     "data": {
      "text/plain": [
       "array([1, 2, 3, 4, 5])"
      ]
     },
     "execution_count": 40,
     "metadata": {},
     "output_type": "execute_result"
    }
   ],
   "source": [
    "# 파이썬의 리스트를 np.array()를 이용하여 사용할 수 있음\n",
    "array1 = np.array(list1)\n",
    "array1"
   ]
  },
  {
   "cell_type": "code",
   "execution_count": null,
   "metadata": {
    "colab": {
     "base_uri": "https://localhost:8080/"
    },
    "executionInfo": {
     "elapsed": 50,
     "status": "ok",
     "timestamp": 1642070741910,
     "user": {
      "displayName": "장홍선",
      "photoUrl": "https://lh3.googleusercontent.com/a/default-user=s64",
      "userId": "15052134402298649734"
     },
     "user_tz": -540
    },
    "id": "AF1N5IXtvZf8",
    "outputId": "eb890278-59e1-47b8-f153-8b2e8974446d",
    "scrolled": true
   },
   "outputs": [
    {
     "data": {
      "text/plain": [
       "array([1. , 2. , 3.5, 4. , 5. ])"
      ]
     },
     "execution_count": 41,
     "metadata": {},
     "output_type": "execute_result"
    }
   ],
   "source": [
    "# 직접 리스트를 넣어서도 배열 생성 가능\n",
    "array2 = np.array([1, 2, 3.5, 4, 5])\n",
    "array2"
   ]
  },
  {
   "cell_type": "code",
   "execution_count": null,
   "metadata": {
    "colab": {
     "base_uri": "https://localhost:8080/"
    },
    "executionInfo": {
     "elapsed": 48,
     "status": "ok",
     "timestamp": 1642070741910,
     "user": {
      "displayName": "장홍선",
      "photoUrl": "https://lh3.googleusercontent.com/a/default-user=s64",
      "userId": "15052134402298649734"
     },
     "user_tz": -540
    },
    "id": "od8aDSipvZgS",
    "outputId": "0f2820ae-e47b-4e60-a251-0f15f9bc6b63"
   },
   "outputs": [
    {
     "data": {
      "text/plain": [
       "array([[ 1,  2,  3],\n",
       "       [ 4,  5,  6],\n",
       "       [ 7,  8,  9],\n",
       "       [10, 11, 12]])"
      ]
     },
     "execution_count": 42,
     "metadata": {},
     "output_type": "execute_result"
    }
   ],
   "source": [
    "#n차원 배열을 만들 수 있음\n",
    "array3 = np.array([[1, 2, 3],[4, 5, 6],[7, 8, 9],[10, 11, 12]])\n",
    "array3"
   ]
  },
  {
   "cell_type": "code",
   "execution_count": null,
   "metadata": {
    "colab": {
     "base_uri": "https://localhost:8080/"
    },
    "executionInfo": {
     "elapsed": 54,
     "status": "ok",
     "timestamp": 1642070741918,
     "user": {
      "displayName": "장홍선",
      "photoUrl": "https://lh3.googleusercontent.com/a/default-user=s64",
      "userId": "15052134402298649734"
     },
     "user_tz": -540
    },
    "id": "Tl7hyOb5-Gd8",
    "outputId": "6838c37c-611e-46a7-8226-f7a67d77f718"
   },
   "outputs": [
    {
     "data": {
      "text/plain": [
       "[[[1, 2], [3, 4], [5, 6]], [[5, 6], [7, 8], [9, 10]]]"
      ]
     },
     "execution_count": 43,
     "metadata": {},
     "output_type": "execute_result"
    }
   ],
   "source": [
    "list4 = [[[1,2],[3,4],[5,6]],[[5,6],[7,8],[9,10]]]\n",
    "list4"
   ]
  },
  {
   "cell_type": "code",
   "execution_count": null,
   "metadata": {
    "colab": {
     "base_uri": "https://localhost:8080/"
    },
    "executionInfo": {
     "elapsed": 53,
     "status": "ok",
     "timestamp": 1642070741918,
     "user": {
      "displayName": "장홍선",
      "photoUrl": "https://lh3.googleusercontent.com/a/default-user=s64",
      "userId": "15052134402298649734"
     },
     "user_tz": -540
    },
    "id": "ZeiCoTwU-Gd8",
    "outputId": "6f9d13e3-5a33-478e-e4be-c2294acffd40"
   },
   "outputs": [
    {
     "data": {
      "text/plain": [
       "array([[[ 1,  2],\n",
       "        [ 3,  4],\n",
       "        [ 5,  6]],\n",
       "\n",
       "       [[ 5,  6],\n",
       "        [ 7,  8],\n",
       "        [ 9, 10]]])"
      ]
     },
     "execution_count": 44,
     "metadata": {},
     "output_type": "execute_result"
    }
   ],
   "source": [
    "array4 = np.array(list4)\n",
    "array4"
   ]
  },
  {
   "cell_type": "markdown",
   "metadata": {
    "id": "EUsOZ4HFvZgD"
   },
   "source": [
    "#### shape/dim/size"
   ]
  },
  {
   "cell_type": "code",
   "execution_count": null,
   "metadata": {
    "colab": {
     "base_uri": "https://localhost:8080/"
    },
    "executionInfo": {
     "elapsed": 53,
     "status": "ok",
     "timestamp": 1642070741919,
     "user": {
      "displayName": "장홍선",
      "photoUrl": "https://lh3.googleusercontent.com/a/default-user=s64",
      "userId": "15052134402298649734"
     },
     "user_tz": -540
    },
    "id": "MyadgCbivZgE",
    "outputId": "c92473b6-6b75-47c1-a44f-d3fb3f6c0af5",
    "scrolled": true
   },
   "outputs": [
    {
     "name": "stdout",
     "output_type": "stream",
     "text": [
      "(5,)\n",
      "1\n",
      "5\n"
     ]
    }
   ],
   "source": [
    "# .dim를 통해 배열의 차원수 반환\n",
    "# .size를 통해 원소의 개수를 알 수 있음\n",
    "print(array1.shape)\n",
    "print(array1.ndim)\n",
    "print(array1.size)"
   ]
  },
  {
   "cell_type": "code",
   "execution_count": null,
   "metadata": {
    "colab": {
     "base_uri": "https://localhost:8080/"
    },
    "executionInfo": {
     "elapsed": 51,
     "status": "ok",
     "timestamp": 1642070741919,
     "user": {
      "displayName": "장홍선",
      "photoUrl": "https://lh3.googleusercontent.com/a/default-user=s64",
      "userId": "15052134402298649734"
     },
     "user_tz": -540
    },
    "id": "fh5kxIF6vZgb",
    "outputId": "fea58958-4df4-40bc-f931-980b97d8ecef",
    "scrolled": false
   },
   "outputs": [
    {
     "name": "stdout",
     "output_type": "stream",
     "text": [
      "(4, 3)\n",
      "2\n",
      "12\n"
     ]
    }
   ],
   "source": [
    "print(array3.shape)\n",
    "print(array3.ndim)\n",
    "print(array3.size)"
   ]
  },
  {
   "cell_type": "code",
   "execution_count": null,
   "metadata": {
    "colab": {
     "base_uri": "https://localhost:8080/"
    },
    "executionInfo": {
     "elapsed": 49,
     "status": "ok",
     "timestamp": 1642070741919,
     "user": {
      "displayName": "장홍선",
      "photoUrl": "https://lh3.googleusercontent.com/a/default-user=s64",
      "userId": "15052134402298649734"
     },
     "user_tz": -540
    },
    "id": "1TWCJG0s-Gd9",
    "outputId": "a809419f-0a0b-47bd-e70f-c01097d69091"
   },
   "outputs": [
    {
     "name": "stdout",
     "output_type": "stream",
     "text": [
      "(2, 3, 2)\n",
      "3\n",
      "12\n"
     ]
    }
   ],
   "source": [
    "print(array4.shape)\n",
    "print(array4.ndim)\n",
    "print(array4.size)"
   ]
  },
  {
   "cell_type": "markdown",
   "metadata": {
    "id": "8uosboPJvZgM"
   },
   "source": [
    "#### dtype"
   ]
  },
  {
   "cell_type": "code",
   "execution_count": null,
   "metadata": {
    "colab": {
     "base_uri": "https://localhost:8080/"
    },
    "executionInfo": {
     "elapsed": 48,
     "status": "ok",
     "timestamp": 1642070741919,
     "user": {
      "displayName": "장홍선",
      "photoUrl": "https://lh3.googleusercontent.com/a/default-user=s64",
      "userId": "15052134402298649734"
     },
     "user_tz": -540
    },
    "id": "vgQ5AlvCvZgN",
    "outputId": "44c7200f-2d06-4a4e-ff95-9f04c7582533"
   },
   "outputs": [
    {
     "name": "stdout",
     "output_type": "stream",
     "text": [
      "int64\n",
      "float64\n",
      "int64\n"
     ]
    }
   ],
   "source": [
    "# .dtype를 통해 자료형을 알 수 있음 \n",
    "# array는 모든 원소가 같은 자료형을 가짐\n",
    "print(array1.dtype)\n",
    "print(array2.dtype)\n",
    "print(array3.dtype)"
   ]
  },
  {
   "cell_type": "code",
   "execution_count": null,
   "metadata": {
    "colab": {
     "base_uri": "https://localhost:8080/"
    },
    "executionInfo": {
     "elapsed": 48,
     "status": "ok",
     "timestamp": 1642070741920,
     "user": {
      "displayName": "장홍선",
      "photoUrl": "https://lh3.googleusercontent.com/a/default-user=s64",
      "userId": "15052134402298649734"
     },
     "user_tz": -540
    },
    "id": "3XG-ZymH-Gd-",
    "outputId": "34ba6bd2-c028-4a48-c942-e72702ce65fb"
   },
   "outputs": [
    {
     "data": {
      "text/plain": [
       "array([[ 1.,  2.,  3.],\n",
       "       [ 4.,  5.,  6.],\n",
       "       [ 7.,  8.,  9.],\n",
       "       [10., 11., 12.]])"
      ]
     },
     "execution_count": 49,
     "metadata": {},
     "output_type": "execute_result"
    }
   ],
   "source": [
    "array3 = np.array([[1, 2, 3],[4, 5, 6],[7, 8, 9],[10, 11, 12]], dtype=\"float\")\n",
    "array3"
   ]
  },
  {
   "cell_type": "code",
   "execution_count": null,
   "metadata": {
    "colab": {
     "base_uri": "https://localhost:8080/"
    },
    "executionInfo": {
     "elapsed": 46,
     "status": "ok",
     "timestamp": 1642070741920,
     "user": {
      "displayName": "장홍선",
      "photoUrl": "https://lh3.googleusercontent.com/a/default-user=s64",
      "userId": "15052134402298649734"
     },
     "user_tz": -540
    },
    "id": "r6vEYd2o-Gd-",
    "outputId": "084b804d-c5f6-453c-d83a-1cd79ff126c3"
   },
   "outputs": [
    {
     "name": "stdout",
     "output_type": "stream",
     "text": [
      "float64\n"
     ]
    }
   ],
   "source": [
    "print(array3.dtype)"
   ]
  },
  {
   "cell_type": "code",
   "execution_count": null,
   "metadata": {
    "id": "eHFDIAG2-Gd-"
   },
   "outputs": [],
   "source": [
    "array3 = array3.astype(int)"
   ]
  },
  {
   "cell_type": "markdown",
   "metadata": {
    "id": "KV4IiNTPvZgY"
   },
   "source": [
    "### Q) array1과 array3의 차원 수는?\n",
    "\n",
    "- array1.shape : (5,)\n",
    "- array3.shape : (4, 3)<br>\n",
    "<p>넘파이에서는 각 차원을 '축(axis)', 축의 개수를 '랭크(rank)'라고 부름.<br>\n",
    "shape는 각 축(=차원)의 크기(또는 길이)를 의미.<br>\n",
    "즉, array3은 3x5의 행렬로, 두 개의 랭크를 갖고, 각 축의 shape(크기)는 3, 5가 되는 것!<p>"
   ]
  },
  {
   "cell_type": "markdown",
   "metadata": {
    "id": "52TfRL4bhZrq"
   },
   "source": [
    "### numpy에서 사용되는 자료형\n",
    "(자료형 뒤에 붙는 숫자는 몇 비트 크기인지를 의미)\n",
    "\n",
    "- 부호가 있는 정수 int(8, 16, 32, 64)\n",
    "- 부호가 없는 정수 uint(8 ,16, 32, 54)\n",
    "- 실수 float(16, 32, 64, 128)\n",
    "-  complex(64, 128, 256)\n",
    "- 불리언 bool\n",
    "- 문자열 string\n",
    "- 파이썬 오프젝트 object\n",
    "- 유니코드 unicode"
   ]
  },
  {
   "cell_type": "markdown",
   "metadata": {
    "id": "1iYOVSzUvZgm"
   },
   "source": [
    "#### zeros"
   ]
  },
  {
   "cell_type": "code",
   "execution_count": null,
   "metadata": {
    "colab": {
     "base_uri": "https://localhost:8080/"
    },
    "executionInfo": {
     "elapsed": 46,
     "status": "ok",
     "timestamp": 1642070741921,
     "user": {
      "displayName": "장홍선",
      "photoUrl": "https://lh3.googleusercontent.com/a/default-user=s64",
      "userId": "15052134402298649734"
     },
     "user_tz": -540
    },
    "id": "NsF3Bc20vZgn",
    "outputId": "54d4b654-f6ee-47d5-a9b4-a4150adea017"
   },
   "outputs": [
    {
     "data": {
      "text/plain": [
       "array([0., 0., 0., 0., 0., 0., 0., 0., 0., 0.])"
      ]
     },
     "execution_count": 52,
     "metadata": {},
     "output_type": "execute_result"
    }
   ],
   "source": [
    "# zeros는 입력받는 형태만큼 인자가 0으로 채워진 행렬을 만든다\n",
    "np.zeros(10)"
   ]
  },
  {
   "cell_type": "code",
   "execution_count": null,
   "metadata": {
    "colab": {
     "base_uri": "https://localhost:8080/"
    },
    "executionInfo": {
     "elapsed": 44,
     "status": "ok",
     "timestamp": 1642070741921,
     "user": {
      "displayName": "장홍선",
      "photoUrl": "https://lh3.googleusercontent.com/a/default-user=s64",
      "userId": "15052134402298649734"
     },
     "user_tz": -540
    },
    "id": "Izp0EGm2vZgt",
    "outputId": "7d77d1ed-1cb4-404a-f5f8-b44579314209",
    "scrolled": true
   },
   "outputs": [
    {
     "data": {
      "text/plain": [
       "array([[0., 0., 0., 0., 0.],\n",
       "       [0., 0., 0., 0., 0.],\n",
       "       [0., 0., 0., 0., 0.]])"
      ]
     },
     "execution_count": 53,
     "metadata": {},
     "output_type": "execute_result"
    }
   ],
   "source": [
    "np.zeros((3,5))"
   ]
  },
  {
   "cell_type": "markdown",
   "metadata": {
    "id": "ntGiaX_dvZgz"
   },
   "source": [
    "#### ones"
   ]
  },
  {
   "cell_type": "code",
   "execution_count": null,
   "metadata": {
    "colab": {
     "base_uri": "https://localhost:8080/"
    },
    "executionInfo": {
     "elapsed": 43,
     "status": "ok",
     "timestamp": 1642070741921,
     "user": {
      "displayName": "장홍선",
      "photoUrl": "https://lh3.googleusercontent.com/a/default-user=s64",
      "userId": "15052134402298649734"
     },
     "user_tz": -540
    },
    "id": "EYPs4nNIvZg0",
    "outputId": "a012323f-ec3c-484c-d6c5-68ce73fb8e07"
   },
   "outputs": [
    {
     "data": {
      "text/plain": [
       "array([1., 1., 1., 1., 1., 1., 1., 1., 1., 1.])"
      ]
     },
     "execution_count": 54,
     "metadata": {},
     "output_type": "execute_result"
    }
   ],
   "source": [
    "# ones는 입력받는 형태만큼 인자가 1으로 채워진 행렬을 만든다\n",
    "np.ones(10)"
   ]
  },
  {
   "cell_type": "code",
   "execution_count": null,
   "metadata": {
    "colab": {
     "base_uri": "https://localhost:8080/"
    },
    "executionInfo": {
     "elapsed": 42,
     "status": "ok",
     "timestamp": 1642070741922,
     "user": {
      "displayName": "장홍선",
      "photoUrl": "https://lh3.googleusercontent.com/a/default-user=s64",
      "userId": "15052134402298649734"
     },
     "user_tz": -540
    },
    "id": "HZzyVHncvZg3",
    "outputId": "a8e75531-ca3f-48f4-ec0b-f3ffb3f86076"
   },
   "outputs": [
    {
     "data": {
      "text/plain": [
       "array([[1., 1., 1., 1., 1.],\n",
       "       [1., 1., 1., 1., 1.],\n",
       "       [1., 1., 1., 1., 1.]])"
      ]
     },
     "execution_count": 55,
     "metadata": {},
     "output_type": "execute_result"
    }
   ],
   "source": [
    "np.ones((3,5))"
   ]
  },
  {
   "cell_type": "markdown",
   "metadata": {
    "id": "tDmRbHyfvZg6"
   },
   "source": [
    "#### arange"
   ]
  },
  {
   "cell_type": "code",
   "execution_count": null,
   "metadata": {
    "colab": {
     "base_uri": "https://localhost:8080/"
    },
    "executionInfo": {
     "elapsed": 41,
     "status": "ok",
     "timestamp": 1642070741922,
     "user": {
      "displayName": "장홍선",
      "photoUrl": "https://lh3.googleusercontent.com/a/default-user=s64",
      "userId": "15052134402298649734"
     },
     "user_tz": -540
    },
    "id": "JKsrIW3vvZg7",
    "outputId": "feadd7a2-e0c3-4eec-a928-571d87eab8bf"
   },
   "outputs": [
    {
     "data": {
      "text/plain": [
       "array([0, 1, 2, 3, 4, 5, 6, 7, 8, 9])"
      ]
     },
     "execution_count": 56,
     "metadata": {},
     "output_type": "execute_result"
    }
   ],
   "source": [
    "# arange는 파이썬 range와 비슷한 개념\n",
    "# 한자리수(n)만 입력하면 0부터 n-1까지 1씩 늘어남\n",
    "np.arange(10)"
   ]
  },
  {
   "cell_type": "code",
   "execution_count": null,
   "metadata": {
    "colab": {
     "base_uri": "https://localhost:8080/"
    },
    "executionInfo": {
     "elapsed": 39,
     "status": "ok",
     "timestamp": 1642070741922,
     "user": {
      "displayName": "장홍선",
      "photoUrl": "https://lh3.googleusercontent.com/a/default-user=s64",
      "userId": "15052134402298649734"
     },
     "user_tz": -540
    },
    "id": "TSM1us1tvZg-",
    "outputId": "11602e62-a42a-48a6-a925-7ec7206b3161"
   },
   "outputs": [
    {
     "data": {
      "text/plain": [
       "array([1, 2, 3, 4, 5, 6, 7, 8, 9])"
      ]
     },
     "execution_count": 57,
     "metadata": {},
     "output_type": "execute_result"
    }
   ],
   "source": [
    "# 두개의 숫자(first, end)를 입력하면 first부터 end-1까지 1씩 늘어남\n",
    "np.arange(1,10)"
   ]
  },
  {
   "cell_type": "code",
   "execution_count": null,
   "metadata": {
    "colab": {
     "base_uri": "https://localhost:8080/"
    },
    "executionInfo": {
     "elapsed": 38,
     "status": "ok",
     "timestamp": 1642070741923,
     "user": {
      "displayName": "장홍선",
      "photoUrl": "https://lh3.googleusercontent.com/a/default-user=s64",
      "userId": "15052134402298649734"
     },
     "user_tz": -540
    },
    "id": "BVBfBP-DvZhB",
    "outputId": "19d9efce-4e53-4d56-a7bb-46bf40096f18",
    "scrolled": true
   },
   "outputs": [
    {
     "data": {
      "text/plain": [
       "array([0, 2, 4, 6, 8])"
      ]
     },
     "execution_count": 58,
     "metadata": {},
     "output_type": "execute_result"
    }
   ],
   "source": [
    "# 3번째 자리에 늘어나는 간격을 설정하여 사용 가능\n",
    "np.arange(0,9,2)"
   ]
  },
  {
   "cell_type": "markdown",
   "metadata": {
    "id": "L1iZqFKnvZj8"
   },
   "source": [
    "#### reshape - 재배열\n",
    "\n",
    "reshape(행 수, 열 수)"
   ]
  },
  {
   "cell_type": "code",
   "execution_count": null,
   "metadata": {
    "colab": {
     "base_uri": "https://localhost:8080/"
    },
    "executionInfo": {
     "elapsed": 36,
     "status": "ok",
     "timestamp": 1642070741923,
     "user": {
      "displayName": "장홍선",
      "photoUrl": "https://lh3.googleusercontent.com/a/default-user=s64",
      "userId": "15052134402298649734"
     },
     "user_tz": -540
    },
    "id": "yG7dwRlB-Gd_",
    "outputId": "8c3c516f-4291-40d3-d6d2-ac0eb38cbb9a"
   },
   "outputs": [
    {
     "data": {
      "text/plain": [
       "array([0, 1, 2, 3, 4, 5, 6, 7])"
      ]
     },
     "execution_count": 59,
     "metadata": {},
     "output_type": "execute_result"
    }
   ],
   "source": [
    "array = np.arange(8)\n",
    "array"
   ]
  },
  {
   "cell_type": "code",
   "execution_count": null,
   "metadata": {
    "colab": {
     "base_uri": "https://localhost:8080/"
    },
    "executionInfo": {
     "elapsed": 34,
     "status": "ok",
     "timestamp": 1642070741923,
     "user": {
      "displayName": "장홍선",
      "photoUrl": "https://lh3.googleusercontent.com/a/default-user=s64",
      "userId": "15052134402298649734"
     },
     "user_tz": -540
    },
    "id": "UY6RPSVG-Gd_",
    "outputId": "02a8f599-db0a-4f6c-a5a8-20183307fb7a"
   },
   "outputs": [
    {
     "data": {
      "text/plain": [
       "array([[0, 1, 2, 3],\n",
       "       [4, 5, 6, 7]])"
      ]
     },
     "execution_count": 60,
     "metadata": {},
     "output_type": "execute_result"
    }
   ],
   "source": [
    "array_reshaped = array.reshape(2, 4)\n",
    "array_reshaped"
   ]
  },
  {
   "cell_type": "markdown",
   "metadata": {
    "id": "9q_FJ05Y-Gd_"
   },
   "source": [
    "#### reshape(-1) : 원래 배열의 길이와 남은 차원으로부터 추정"
   ]
  },
  {
   "cell_type": "code",
   "execution_count": null,
   "metadata": {
    "colab": {
     "base_uri": "https://localhost:8080/"
    },
    "executionInfo": {
     "elapsed": 32,
     "status": "ok",
     "timestamp": 1642070741923,
     "user": {
      "displayName": "장홍선",
      "photoUrl": "https://lh3.googleusercontent.com/a/default-user=s64",
      "userId": "15052134402298649734"
     },
     "user_tz": -540
    },
    "id": "w3FJJu_7-GeA",
    "outputId": "f48d1fa8-42b2-4992-ce3e-5246e4eb01fd"
   },
   "outputs": [
    {
     "data": {
      "text/plain": [
       "array([[0, 1],\n",
       "       [2, 3],\n",
       "       [4, 5],\n",
       "       [6, 7]])"
      ]
     },
     "execution_count": 61,
     "metadata": {},
     "output_type": "execute_result"
    }
   ],
   "source": [
    "array_reshaped2 = array.reshape(4, -1)\n",
    "array_reshaped2"
   ]
  },
  {
   "cell_type": "code",
   "execution_count": null,
   "metadata": {
    "colab": {
     "base_uri": "https://localhost:8080/"
    },
    "executionInfo": {
     "elapsed": 32,
     "status": "ok",
     "timestamp": 1642070741924,
     "user": {
      "displayName": "장홍선",
      "photoUrl": "https://lh3.googleusercontent.com/a/default-user=s64",
      "userId": "15052134402298649734"
     },
     "user_tz": -540
    },
    "id": "XCpVDdlS-GeA",
    "outputId": "2c17a634-98b5-4f46-f923-2e4019dc477b"
   },
   "outputs": [
    {
     "data": {
      "text/plain": [
       "array([[0, 1, 2, 3],\n",
       "       [4, 5, 6, 7]])"
      ]
     },
     "execution_count": 62,
     "metadata": {},
     "output_type": "execute_result"
    }
   ],
   "source": [
    "array_reshaped3 = array.reshape(-1,4)\n",
    "array_reshaped3"
   ]
  },
  {
   "cell_type": "code",
   "execution_count": null,
   "metadata": {
    "colab": {
     "base_uri": "https://localhost:8080/"
    },
    "executionInfo": {
     "elapsed": 31,
     "status": "ok",
     "timestamp": 1642070741924,
     "user": {
      "displayName": "장홍선",
      "photoUrl": "https://lh3.googleusercontent.com/a/default-user=s64",
      "userId": "15052134402298649734"
     },
     "user_tz": -540
    },
    "id": "7P_1_9HN-GeA",
    "outputId": "460366df-3c4a-4e58-f1c9-ee89e873be03"
   },
   "outputs": [
    {
     "data": {
      "text/plain": [
       "array([[[ 1,  2],\n",
       "        [ 3,  4],\n",
       "        [ 5,  6]],\n",
       "\n",
       "       [[ 5,  6],\n",
       "        [ 7,  8],\n",
       "        [ 9, 10]]])"
      ]
     },
     "execution_count": 63,
     "metadata": {},
     "output_type": "execute_result"
    }
   ],
   "source": [
    "array4"
   ]
  },
  {
   "cell_type": "code",
   "execution_count": null,
   "metadata": {
    "colab": {
     "base_uri": "https://localhost:8080/",
     "height": 167
    },
    "executionInfo": {
     "elapsed": 30,
     "status": "error",
     "timestamp": 1642070741925,
     "user": {
      "displayName": "장홍선",
      "photoUrl": "https://lh3.googleusercontent.com/a/default-user=s64",
      "userId": "15052134402298649734"
     },
     "user_tz": -540
    },
    "id": "RCxkid0J-GeA",
    "outputId": "c31b0e8f-ccda-40f0-c3d6-7c818b4122a7"
   },
   "outputs": [
    {
     "ename": "ValueError",
     "evalue": "ignored",
     "output_type": "error",
     "traceback": [
      "\u001b[0;31m---------------------------------------------------------------------------\u001b[0m",
      "\u001b[0;31mValueError\u001b[0m                                Traceback (most recent call last)",
      "\u001b[0;32m<ipython-input-64-45b6b1aee3e8>\u001b[0m in \u001b[0;36m<module>\u001b[0;34m()\u001b[0m\n\u001b[0;32m----> 1\u001b[0;31m \u001b[0marray4\u001b[0m\u001b[0;34m.\u001b[0m\u001b[0mreshape\u001b[0m\u001b[0;34m(\u001b[0m\u001b[0;36m2\u001b[0m\u001b[0;34m,\u001b[0m\u001b[0;34m-\u001b[0m\u001b[0;36m1\u001b[0m\u001b[0;34m,\u001b[0m\u001b[0;34m-\u001b[0m\u001b[0;36m1\u001b[0m\u001b[0;34m)\u001b[0m\u001b[0;34m\u001b[0m\u001b[0;34m\u001b[0m\u001b[0m\n\u001b[0m",
      "\u001b[0;31mValueError\u001b[0m: can only specify one unknown dimension"
     ]
    }
   ],
   "source": [
    "array4.reshape(2,-1,-1)"
   ]
  },
  {
   "cell_type": "code",
   "execution_count": null,
   "metadata": {
    "colab": {
     "base_uri": "https://localhost:8080/"
    },
    "executionInfo": {
     "elapsed": 7,
     "status": "ok",
     "timestamp": 1642070749335,
     "user": {
      "displayName": "장홍선",
      "photoUrl": "https://lh3.googleusercontent.com/a/default-user=s64",
      "userId": "15052134402298649734"
     },
     "user_tz": -540
    },
    "id": "wkwVBXPQ-GeA",
    "outputId": "c5398a87-3621-4a3a-840c-198350122724"
   },
   "outputs": [
    {
     "data": {
      "text/plain": [
       "array([[[ 1,  2,  3],\n",
       "        [ 4,  5,  6]],\n",
       "\n",
       "       [[ 5,  6,  7],\n",
       "        [ 8,  9, 10]]])"
      ]
     },
     "execution_count": 65,
     "metadata": {},
     "output_type": "execute_result"
    }
   ],
   "source": [
    "array4_reshaped = array4.reshape(2,2,-1)\n",
    "array4_reshaped"
   ]
  },
  {
   "cell_type": "markdown",
   "metadata": {
    "id": "5b8dxGJKvZhH"
   },
   "source": [
    "---"
   ]
  },
  {
   "cell_type": "markdown",
   "metadata": {
    "id": "lq5zp-QMvZhI"
   },
   "source": [
    "## 2. Array 연산"
   ]
  },
  {
   "cell_type": "markdown",
   "metadata": {
    "id": "VBNbaVu3vZhJ"
   },
   "source": [
    "#### !  원칙적으로 shape가 같아야 연산 가능 !\n",
    "\n",
    "각 array의 <font color=blue>같은 자리</font>에 있는 값들끼리 연산하기 때문이다."
   ]
  },
  {
   "cell_type": "code",
   "execution_count": null,
   "metadata": {
    "colab": {
     "base_uri": "https://localhost:8080/"
    },
    "executionInfo": {
     "elapsed": 3,
     "status": "ok",
     "timestamp": 1642070751132,
     "user": {
      "displayName": "장홍선",
      "photoUrl": "https://lh3.googleusercontent.com/a/default-user=s64",
      "userId": "15052134402298649734"
     },
     "user_tz": -540
    },
    "id": "yiZqkkVG-GeA",
    "outputId": "6b2c6d5c-a1ac-4709-a7ab-e1cc91998822"
   },
   "outputs": [
    {
     "name": "stdout",
     "output_type": "stream",
     "text": [
      "[1, 2, 3, 4, 5]\n",
      "[1, 2, 3.5, 4, 5]\n"
     ]
    }
   ],
   "source": [
    "print(list1)\n",
    "print(list2)"
   ]
  },
  {
   "cell_type": "code",
   "execution_count": null,
   "metadata": {
    "colab": {
     "base_uri": "https://localhost:8080/"
    },
    "executionInfo": {
     "elapsed": 6,
     "status": "ok",
     "timestamp": 1642070751565,
     "user": {
      "displayName": "장홍선",
      "photoUrl": "https://lh3.googleusercontent.com/a/default-user=s64",
      "userId": "15052134402298649734"
     },
     "user_tz": -540
    },
    "id": "45ZTQE1c-GeA",
    "outputId": "e0845401-f35e-4e8f-afdb-3dc7bec4e088"
   },
   "outputs": [
    {
     "data": {
      "text/plain": [
       "[1, 2, 3, 4, 5, 1, 2, 3, 4, 5]"
      ]
     },
     "execution_count": 67,
     "metadata": {},
     "output_type": "execute_result"
    }
   ],
   "source": [
    "list1*2"
   ]
  },
  {
   "cell_type": "code",
   "execution_count": null,
   "metadata": {
    "colab": {
     "base_uri": "https://localhost:8080/"
    },
    "executionInfo": {
     "elapsed": 5,
     "status": "ok",
     "timestamp": 1642070751565,
     "user": {
      "displayName": "장홍선",
      "photoUrl": "https://lh3.googleusercontent.com/a/default-user=s64",
      "userId": "15052134402298649734"
     },
     "user_tz": -540
    },
    "id": "TwM6IV85-GeA",
    "outputId": "7d0dfb74-4aa0-49cc-9e4b-e36e8d0d833d"
   },
   "outputs": [
    {
     "data": {
      "text/plain": [
       "array([ 2,  4,  6,  8, 10])"
      ]
     },
     "execution_count": 68,
     "metadata": {},
     "output_type": "execute_result"
    }
   ],
   "source": [
    "array1 *2"
   ]
  },
  {
   "cell_type": "code",
   "execution_count": null,
   "metadata": {
    "colab": {
     "base_uri": "https://localhost:8080/"
    },
    "executionInfo": {
     "elapsed": 4,
     "status": "ok",
     "timestamp": 1642070751565,
     "user": {
      "displayName": "장홍선",
      "photoUrl": "https://lh3.googleusercontent.com/a/default-user=s64",
      "userId": "15052134402298649734"
     },
     "user_tz": -540
    },
    "id": "Dn2vjhxqvZhK",
    "outputId": "39d9244a-dac7-433e-f248-e202b1958296"
   },
   "outputs": [
    {
     "data": {
      "text/plain": [
       "array([[1, 2, 3],\n",
       "       [4, 5, 6]])"
      ]
     },
     "execution_count": 69,
     "metadata": {},
     "output_type": "execute_result"
    }
   ],
   "source": [
    "array1_ = np.array([[1,2,3],[4,5,6]])\n",
    "array1_"
   ]
  },
  {
   "cell_type": "code",
   "execution_count": null,
   "metadata": {
    "colab": {
     "base_uri": "https://localhost:8080/"
    },
    "executionInfo": {
     "elapsed": 11,
     "status": "ok",
     "timestamp": 1642070751941,
     "user": {
      "displayName": "장홍선",
      "photoUrl": "https://lh3.googleusercontent.com/a/default-user=s64",
      "userId": "15052134402298649734"
     },
     "user_tz": -540
    },
    "id": "JK3Kg1d3vZhT",
    "outputId": "dbb9568e-2615-438d-b758-d1e69ef3169d"
   },
   "outputs": [
    {
     "data": {
      "text/plain": [
       "array([[10, 11, 12],\n",
       "       [13, 14, 15]])"
      ]
     },
     "execution_count": 70,
     "metadata": {},
     "output_type": "execute_result"
    }
   ],
   "source": [
    "array2_ = np.array([[10,11,12],[13,14,15]])\n",
    "array2_"
   ]
  },
  {
   "cell_type": "code",
   "execution_count": null,
   "metadata": {
    "colab": {
     "base_uri": "https://localhost:8080/"
    },
    "executionInfo": {
     "elapsed": 9,
     "status": "ok",
     "timestamp": 1642070751941,
     "user": {
      "displayName": "장홍선",
      "photoUrl": "https://lh3.googleusercontent.com/a/default-user=s64",
      "userId": "15052134402298649734"
     },
     "user_tz": -540
    },
    "id": "pjIlLNFdvZhX",
    "outputId": "d4b6840d-0357-49fa-840b-af9036310717"
   },
   "outputs": [
    {
     "name": "stdout",
     "output_type": "stream",
     "text": [
      "(2, 3)\n",
      "(2, 3)\n"
     ]
    }
   ],
   "source": [
    "print(array2_.shape)\n",
    "print(array2_.shape)"
   ]
  },
  {
   "cell_type": "markdown",
   "metadata": {
    "id": "aN9tun4u-GeA"
   },
   "source": [
    "#### 평균 구하기"
   ]
  },
  {
   "cell_type": "code",
   "execution_count": null,
   "metadata": {
    "colab": {
     "base_uri": "https://localhost:8080/"
    },
    "executionInfo": {
     "elapsed": 5,
     "status": "ok",
     "timestamp": 1642070751941,
     "user": {
      "displayName": "장홍선",
      "photoUrl": "https://lh3.googleusercontent.com/a/default-user=s64",
      "userId": "15052134402298649734"
     },
     "user_tz": -540
    },
    "id": "Jp_77EzH-GeA",
    "outputId": "f7d303fd-010d-4ce6-ec52-fe341f59dcd5"
   },
   "outputs": [
    {
     "data": {
      "text/plain": [
       "3.5"
      ]
     },
     "execution_count": 72,
     "metadata": {},
     "output_type": "execute_result"
    }
   ],
   "source": [
    "np.mean(array1_)"
   ]
  },
  {
   "cell_type": "markdown",
   "metadata": {
    "id": "rFdY3asRvZha"
   },
   "source": [
    "#### 덧셈"
   ]
  },
  {
   "cell_type": "code",
   "execution_count": null,
   "metadata": {
    "colab": {
     "base_uri": "https://localhost:8080/"
    },
    "executionInfo": {
     "elapsed": 3,
     "status": "ok",
     "timestamp": 1642070752260,
     "user": {
      "displayName": "장홍선",
      "photoUrl": "https://lh3.googleusercontent.com/a/default-user=s64",
      "userId": "15052134402298649734"
     },
     "user_tz": -540
    },
    "id": "3O7ALdcw-GeB",
    "outputId": "10a54397-4aa5-4241-c1c7-46a18ee3bd96"
   },
   "outputs": [
    {
     "data": {
      "text/plain": [
       "[1, 2, 3, 4, 5, 1, 2, 3.5, 4, 5]"
      ]
     },
     "execution_count": 73,
     "metadata": {},
     "output_type": "execute_result"
    }
   ],
   "source": [
    "list1 + list2"
   ]
  },
  {
   "cell_type": "code",
   "execution_count": null,
   "metadata": {
    "colab": {
     "base_uri": "https://localhost:8080/"
    },
    "executionInfo": {
     "elapsed": 653,
     "status": "ok",
     "timestamp": 1642070752912,
     "user": {
      "displayName": "장홍선",
      "photoUrl": "https://lh3.googleusercontent.com/a/default-user=s64",
      "userId": "15052134402298649734"
     },
     "user_tz": -540
    },
    "id": "xs0RXK0TvZha",
    "outputId": "dd49195f-6573-49ea-cc30-57994366933d"
   },
   "outputs": [
    {
     "data": {
      "text/plain": [
       "array([[11, 13, 15],\n",
       "       [17, 19, 21]])"
      ]
     },
     "execution_count": 74,
     "metadata": {},
     "output_type": "execute_result"
    }
   ],
   "source": [
    "array1_ + array2_"
   ]
  },
  {
   "cell_type": "code",
   "execution_count": null,
   "metadata": {
    "colab": {
     "base_uri": "https://localhost:8080/"
    },
    "executionInfo": {
     "elapsed": 4,
     "status": "ok",
     "timestamp": 1642070752912,
     "user": {
      "displayName": "장홍선",
      "photoUrl": "https://lh3.googleusercontent.com/a/default-user=s64",
      "userId": "15052134402298649734"
     },
     "user_tz": -540
    },
    "id": "ZWXGgY5f-GeB",
    "outputId": "8d9cad2f-cd79-4477-949c-43a5ba146838"
   },
   "outputs": [
    {
     "data": {
      "text/plain": [
       "array([[11, 13, 15],\n",
       "       [17, 19, 21]])"
      ]
     },
     "execution_count": 75,
     "metadata": {},
     "output_type": "execute_result"
    }
   ],
   "source": [
    "np.add(array1_ ,array2_)"
   ]
  },
  {
   "cell_type": "markdown",
   "metadata": {
    "id": "-NPg1y5LvZhd"
   },
   "source": [
    "#### 뺄셈"
   ]
  },
  {
   "cell_type": "code",
   "execution_count": null,
   "metadata": {
    "colab": {
     "base_uri": "https://localhost:8080/"
    },
    "executionInfo": {
     "elapsed": 3,
     "status": "ok",
     "timestamp": 1642070753686,
     "user": {
      "displayName": "장홍선",
      "photoUrl": "https://lh3.googleusercontent.com/a/default-user=s64",
      "userId": "15052134402298649734"
     },
     "user_tz": -540
    },
    "id": "yhXEHmuzvZhd",
    "outputId": "55750229-ae17-4fff-c1b7-1f3ac1af156f"
   },
   "outputs": [
    {
     "data": {
      "text/plain": [
       "array([[-9, -9, -9],\n",
       "       [-9, -9, -9]])"
      ]
     },
     "execution_count": 76,
     "metadata": {},
     "output_type": "execute_result"
    }
   ],
   "source": [
    "array1_ - array2_"
   ]
  },
  {
   "cell_type": "code",
   "execution_count": null,
   "metadata": {
    "colab": {
     "base_uri": "https://localhost:8080/"
    },
    "executionInfo": {
     "elapsed": 4,
     "status": "ok",
     "timestamp": 1642070754063,
     "user": {
      "displayName": "장홍선",
      "photoUrl": "https://lh3.googleusercontent.com/a/default-user=s64",
      "userId": "15052134402298649734"
     },
     "user_tz": -540
    },
    "id": "XLrDCxdO-GeB",
    "outputId": "6fd86387-baf6-4527-c1b0-4f23df6df601"
   },
   "outputs": [
    {
     "data": {
      "text/plain": [
       "array([[-9, -9, -9],\n",
       "       [-9, -9, -9]])"
      ]
     },
     "execution_count": 77,
     "metadata": {},
     "output_type": "execute_result"
    }
   ],
   "source": [
    "np.subtract(array1_, array2_)"
   ]
  },
  {
   "cell_type": "markdown",
   "metadata": {
    "id": "BSFTG3a6vZhi"
   },
   "source": [
    "#### 곱셈"
   ]
  },
  {
   "cell_type": "code",
   "execution_count": null,
   "metadata": {
    "colab": {
     "base_uri": "https://localhost:8080/"
    },
    "executionInfo": {
     "elapsed": 10,
     "status": "ok",
     "timestamp": 1642070755036,
     "user": {
      "displayName": "장홍선",
      "photoUrl": "https://lh3.googleusercontent.com/a/default-user=s64",
      "userId": "15052134402298649734"
     },
     "user_tz": -540
    },
    "id": "JmEORuZhvZhj",
    "outputId": "2a169bc2-bda6-4bae-c85a-eee0549d911d"
   },
   "outputs": [
    {
     "data": {
      "text/plain": [
       "array([[10, 22, 36],\n",
       "       [52, 70, 90]])"
      ]
     },
     "execution_count": 78,
     "metadata": {},
     "output_type": "execute_result"
    }
   ],
   "source": [
    "array1_ * array2_"
   ]
  },
  {
   "cell_type": "code",
   "execution_count": null,
   "metadata": {
    "colab": {
     "base_uri": "https://localhost:8080/"
    },
    "executionInfo": {
     "elapsed": 8,
     "status": "ok",
     "timestamp": 1642070755565,
     "user": {
      "displayName": "장홍선",
      "photoUrl": "https://lh3.googleusercontent.com/a/default-user=s64",
      "userId": "15052134402298649734"
     },
     "user_tz": -540
    },
    "id": "Qyg_RMj6-GeB",
    "outputId": "d2215111-f106-48a6-9646-0699f8c79ce4",
    "scrolled": true
   },
   "outputs": [
    {
     "data": {
      "text/plain": [
       "array([[10, 22, 36],\n",
       "       [52, 70, 90]])"
      ]
     },
     "execution_count": 79,
     "metadata": {},
     "output_type": "execute_result"
    }
   ],
   "source": [
    "np.multiply(array1_, array2_)"
   ]
  },
  {
   "cell_type": "markdown",
   "metadata": {
    "id": "CqFCS_tOvZhn"
   },
   "source": [
    "##### 참고 : 생각하고 계신 행렬의 곱(내적곱)을 하려면 .dot 이용\n",
    "- (2, 3) * (3, 4) : 가능 \n",
    "- (2, 3) * (2, 3) : 불가능 "
   ]
  },
  {
   "cell_type": "code",
   "execution_count": null,
   "metadata": {
    "colab": {
     "base_uri": "https://localhost:8080/"
    },
    "executionInfo": {
     "elapsed": 304,
     "status": "ok",
     "timestamp": 1642070758560,
     "user": {
      "displayName": "장홍선",
      "photoUrl": "https://lh3.googleusercontent.com/a/default-user=s64",
      "userId": "15052134402298649734"
     },
     "user_tz": -540
    },
    "id": "6ueMZAIgvZho",
    "outputId": "8b19027c-be7c-4e39-e511-ddb99d083e8a",
    "scrolled": true
   },
   "outputs": [
    {
     "name": "stdout",
     "output_type": "stream",
     "text": [
      "[ 11  24  39  56  75  96 119 144 171 200]\n",
      "935\n"
     ]
    }
   ],
   "source": [
    "a = np.arange(1, 11)\n",
    "b = np.arange(11, 21)\n",
    "print(a * b)\n",
    "print(a.dot(b))"
   ]
  },
  {
   "cell_type": "markdown",
   "metadata": {
    "id": "E1KEfVKyvZhu"
   },
   "source": [
    "#### 나눗셈"
   ]
  },
  {
   "cell_type": "code",
   "execution_count": null,
   "metadata": {
    "colab": {
     "base_uri": "https://localhost:8080/"
    },
    "executionInfo": {
     "elapsed": 3,
     "status": "ok",
     "timestamp": 1642070759679,
     "user": {
      "displayName": "장홍선",
      "photoUrl": "https://lh3.googleusercontent.com/a/default-user=s64",
      "userId": "15052134402298649734"
     },
     "user_tz": -540
    },
    "id": "2tA-VRYjvZhx",
    "outputId": "d1fab57e-bf36-46bb-eb99-be0961169801"
   },
   "outputs": [
    {
     "data": {
      "text/plain": [
       "array([[0.1       , 0.18181818, 0.25      ],\n",
       "       [0.30769231, 0.35714286, 0.4       ]])"
      ]
     },
     "execution_count": 81,
     "metadata": {},
     "output_type": "execute_result"
    }
   ],
   "source": [
    "array1_ / array2_"
   ]
  },
  {
   "cell_type": "code",
   "execution_count": null,
   "metadata": {
    "colab": {
     "base_uri": "https://localhost:8080/"
    },
    "executionInfo": {
     "elapsed": 7,
     "status": "ok",
     "timestamp": 1642070760026,
     "user": {
      "displayName": "장홍선",
      "photoUrl": "https://lh3.googleusercontent.com/a/default-user=s64",
      "userId": "15052134402298649734"
     },
     "user_tz": -540
    },
    "id": "kbtuwteD-GeB",
    "outputId": "7ec1672a-3d81-4f9e-e73b-0aac3baa675c"
   },
   "outputs": [
    {
     "data": {
      "text/plain": [
       "array([[0.1       , 0.18181818, 0.25      ],\n",
       "       [0.30769231, 0.35714286, 0.4       ]])"
      ]
     },
     "execution_count": 82,
     "metadata": {},
     "output_type": "execute_result"
    }
   ],
   "source": [
    "np.divide(array1_ , array2_)"
   ]
  },
  {
   "cell_type": "markdown",
   "metadata": {
    "id": "ram98X9D-GeB"
   },
   "source": [
    "---"
   ]
  },
  {
   "cell_type": "code",
   "execution_count": null,
   "metadata": {
    "colab": {
     "base_uri": "https://localhost:8080/"
    },
    "executionInfo": {
     "elapsed": 6,
     "status": "ok",
     "timestamp": 1642070764732,
     "user": {
      "displayName": "장홍선",
      "photoUrl": "https://lh3.googleusercontent.com/a/default-user=s64",
      "userId": "15052134402298649734"
     },
     "user_tz": -540
    },
    "id": "aLBbqeLP-GeB",
    "outputId": "b037f6df-afdc-4cfe-bb0e-9efd8b9dccbd"
   },
   "outputs": [
    {
     "data": {
      "text/plain": [
       "array([[10, 11, 12],\n",
       "       [13, 14, 15]])"
      ]
     },
     "execution_count": 83,
     "metadata": {},
     "output_type": "execute_result"
    }
   ],
   "source": [
    "np.maximum(array1_, array2_)"
   ]
  },
  {
   "cell_type": "markdown",
   "metadata": {
    "id": "5Plqwi_IvZh2"
   },
   "source": [
    "#### ! 원칙적으로 shape가 같아야 연산 가능하지만 브로드캐스팅이 가능하다!\n",
    "- 넘파이에서 브로드캐스팅이란 서로 크기가 다른 array가 연산이 가능하게 하는 것\n"
   ]
  },
  {
   "cell_type": "code",
   "execution_count": null,
   "metadata": {
    "colab": {
     "base_uri": "https://localhost:8080/"
    },
    "executionInfo": {
     "elapsed": 8,
     "status": "ok",
     "timestamp": 1642070766818,
     "user": {
      "displayName": "장홍선",
      "photoUrl": "https://lh3.googleusercontent.com/a/default-user=s64",
      "userId": "15052134402298649734"
     },
     "user_tz": -540
    },
    "id": "pfiX74zsvZh3",
    "outputId": "f9722929-6663-43dd-b814-3b46ff7630a5"
   },
   "outputs": [
    {
     "data": {
      "text/plain": [
       "array([[1, 2, 3],\n",
       "       [4, 5, 6]])"
      ]
     },
     "execution_count": 84,
     "metadata": {},
     "output_type": "execute_result"
    }
   ],
   "source": [
    "array1_"
   ]
  },
  {
   "cell_type": "code",
   "execution_count": null,
   "metadata": {
    "colab": {
     "base_uri": "https://localhost:8080/"
    },
    "executionInfo": {
     "elapsed": 430,
     "status": "ok",
     "timestamp": 1642070784807,
     "user": {
      "displayName": "장홍선",
      "photoUrl": "https://lh3.googleusercontent.com/a/default-user=s64",
      "userId": "15052134402298649734"
     },
     "user_tz": -540
    },
    "id": "xGzQluc3vZh6",
    "outputId": "ab7a669c-cdd2-4401-e110-a9697d979c27"
   },
   "outputs": [
    {
     "data": {
      "text/plain": [
       "(2, 3)"
      ]
     },
     "execution_count": 85,
     "metadata": {},
     "output_type": "execute_result"
    }
   ],
   "source": [
    "array1_.shape"
   ]
  },
  {
   "cell_type": "code",
   "execution_count": null,
   "metadata": {
    "colab": {
     "base_uri": "https://localhost:8080/"
    },
    "executionInfo": {
     "elapsed": 451,
     "status": "ok",
     "timestamp": 1642070820099,
     "user": {
      "displayName": "장홍선",
      "photoUrl": "https://lh3.googleusercontent.com/a/default-user=s64",
      "userId": "15052134402298649734"
     },
     "user_tz": -540
    },
    "id": "irGbms55vZh9",
    "outputId": "be6d8e7d-c5e5-4be0-a587-cffa4352987a"
   },
   "outputs": [
    {
     "data": {
      "text/plain": [
       "array([10, 11, 12])"
      ]
     },
     "execution_count": 88,
     "metadata": {},
     "output_type": "execute_result"
    }
   ],
   "source": [
    "array3_ = np.array([10, 11, 12])\n",
    "array3_"
   ]
  },
  {
   "cell_type": "code",
   "execution_count": null,
   "metadata": {
    "colab": {
     "base_uri": "https://localhost:8080/"
    },
    "executionInfo": {
     "elapsed": 8,
     "status": "ok",
     "timestamp": 1642070820437,
     "user": {
      "displayName": "장홍선",
      "photoUrl": "https://lh3.googleusercontent.com/a/default-user=s64",
      "userId": "15052134402298649734"
     },
     "user_tz": -540
    },
    "id": "sfBf_BeBvZiA",
    "outputId": "2f3cf30e-919a-4de2-eeca-d35d1499bcb0"
   },
   "outputs": [
    {
     "data": {
      "text/plain": [
       "(3,)"
      ]
     },
     "execution_count": 89,
     "metadata": {},
     "output_type": "execute_result"
    }
   ],
   "source": [
    "array3_.shape"
   ]
  },
  {
   "cell_type": "markdown",
   "metadata": {
    "id": "5WXEhk43mDTS"
   },
   "source": [
    "#### 연산"
   ]
  },
  {
   "cell_type": "code",
   "execution_count": null,
   "metadata": {
    "colab": {
     "base_uri": "https://localhost:8080/"
    },
    "executionInfo": {
     "elapsed": 7,
     "status": "ok",
     "timestamp": 1642070821077,
     "user": {
      "displayName": "장홍선",
      "photoUrl": "https://lh3.googleusercontent.com/a/default-user=s64",
      "userId": "15052134402298649734"
     },
     "user_tz": -540
    },
    "id": "ERobwzaPvZiD",
    "outputId": "7df4af83-0ba9-4aa4-9850-64754a96722e"
   },
   "outputs": [
    {
     "data": {
      "text/plain": [
       "array([[11, 13, 15],\n",
       "       [14, 16, 18]])"
      ]
     },
     "execution_count": 90,
     "metadata": {},
     "output_type": "execute_result"
    }
   ],
   "source": [
    "array1_ + array3_"
   ]
  },
  {
   "cell_type": "code",
   "execution_count": null,
   "metadata": {
    "colab": {
     "base_uri": "https://localhost:8080/"
    },
    "executionInfo": {
     "elapsed": 6,
     "status": "ok",
     "timestamp": 1642070822535,
     "user": {
      "displayName": "장홍선",
      "photoUrl": "https://lh3.googleusercontent.com/a/default-user=s64",
      "userId": "15052134402298649734"
     },
     "user_tz": -540
    },
    "id": "wmIVjnyivZiJ",
    "outputId": "b3ec7558-983d-47e8-bbea-3a4ebc6e35dc"
   },
   "outputs": [
    {
     "data": {
      "text/plain": [
       "array([[10, 22, 36],\n",
       "       [40, 55, 72]])"
      ]
     },
     "execution_count": 91,
     "metadata": {},
     "output_type": "execute_result"
    }
   ],
   "source": [
    "array1_ * array3_"
   ]
  },
  {
   "cell_type": "code",
   "execution_count": null,
   "metadata": {
    "colab": {
     "base_uri": "https://localhost:8080/"
    },
    "executionInfo": {
     "elapsed": 331,
     "status": "ok",
     "timestamp": 1642070829551,
     "user": {
      "displayName": "장홍선",
      "photoUrl": "https://lh3.googleusercontent.com/a/default-user=s64",
      "userId": "15052134402298649734"
     },
     "user_tz": -540
    },
    "id": "5vlguzK7vZiQ",
    "outputId": "8ea00d70-c5ca-47ff-e9bf-0e67bcd3af3c"
   },
   "outputs": [
    {
     "data": {
      "text/plain": [
       "array([[10, 20, 30],\n",
       "       [40, 50, 60]])"
      ]
     },
     "execution_count": 92,
     "metadata": {},
     "output_type": "execute_result"
    }
   ],
   "source": [
    "# 스칼라와도 가능\n",
    "array1_ * 10"
   ]
  },
  {
   "cell_type": "markdown",
   "metadata": {
    "id": "joZwbm5LvZiU"
   },
   "source": [
    "---"
   ]
  },
  {
   "cell_type": "markdown",
   "metadata": {
    "id": "ieXHOPjYvZiV"
   },
   "source": [
    "## 3. Array 인덱싱"
   ]
  },
  {
   "cell_type": "markdown",
   "metadata": {
    "id": "JTxzimeyvZiV"
   },
   "source": [
    "#### 1차원 데이터 인덱싱"
   ]
  },
  {
   "cell_type": "code",
   "execution_count": null,
   "metadata": {
    "colab": {
     "base_uri": "https://localhost:8080/"
    },
    "executionInfo": {
     "elapsed": 326,
     "status": "ok",
     "timestamp": 1642070834042,
     "user": {
      "displayName": "장홍선",
      "photoUrl": "https://lh3.googleusercontent.com/a/default-user=s64",
      "userId": "15052134402298649734"
     },
     "user_tz": -540
    },
    "id": "cDp2oaiavZiX",
    "outputId": "267e8192-4867-4191-f809-35d5e38e0b2e"
   },
   "outputs": [
    {
     "data": {
      "text/plain": [
       "array([0, 1, 2, 3, 4, 5, 6, 7, 8, 9])"
      ]
     },
     "execution_count": 93,
     "metadata": {},
     "output_type": "execute_result"
    }
   ],
   "source": [
    "arr1 = np.arange(10)\n",
    "arr1"
   ]
  },
  {
   "cell_type": "code",
   "execution_count": null,
   "metadata": {
    "colab": {
     "base_uri": "https://localhost:8080/"
    },
    "executionInfo": {
     "elapsed": 537,
     "status": "ok",
     "timestamp": 1642070836250,
     "user": {
      "displayName": "장홍선",
      "photoUrl": "https://lh3.googleusercontent.com/a/default-user=s64",
      "userId": "15052134402298649734"
     },
     "user_tz": -540
    },
    "id": "y8pgWiJ3vZid",
    "outputId": "f668fa37-61c7-4d3c-80db-2123434c601a"
   },
   "outputs": [
    {
     "data": {
      "text/plain": [
       "0"
      ]
     },
     "execution_count": 94,
     "metadata": {},
     "output_type": "execute_result"
    }
   ],
   "source": [
    "# 0번째 요소\n",
    "arr1[0]"
   ]
  },
  {
   "cell_type": "code",
   "execution_count": null,
   "metadata": {
    "colab": {
     "base_uri": "https://localhost:8080/"
    },
    "executionInfo": {
     "elapsed": 12,
     "status": "ok",
     "timestamp": 1642070837754,
     "user": {
      "displayName": "장홍선",
      "photoUrl": "https://lh3.googleusercontent.com/a/default-user=s64",
      "userId": "15052134402298649734"
     },
     "user_tz": -540
    },
    "id": "h0M4iHK2vZii",
    "outputId": "64776122-4637-4688-acf3-7a8f3a20ab57"
   },
   "outputs": [
    {
     "data": {
      "text/plain": [
       "3"
      ]
     },
     "execution_count": 95,
     "metadata": {},
     "output_type": "execute_result"
    }
   ],
   "source": [
    "# 3번째 요소\n",
    "arr1[3]"
   ]
  },
  {
   "cell_type": "code",
   "execution_count": null,
   "metadata": {
    "colab": {
     "base_uri": "https://localhost:8080/"
    },
    "executionInfo": {
     "elapsed": 3,
     "status": "ok",
     "timestamp": 1642070839798,
     "user": {
      "displayName": "장홍선",
      "photoUrl": "https://lh3.googleusercontent.com/a/default-user=s64",
      "userId": "15052134402298649734"
     },
     "user_tz": -540
    },
    "id": "XfpVGYXc-GeC",
    "outputId": "3372da71-2769-4f7b-d01b-54fbee30a33d"
   },
   "outputs": [
    {
     "name": "stdout",
     "output_type": "stream",
     "text": [
      "9\n",
      "9\n"
     ]
    }
   ],
   "source": [
    "#마지막 요소\n",
    "print(arr1[-1])\n",
    "print(arr1[len(arr1)-1])"
   ]
  },
  {
   "cell_type": "code",
   "execution_count": null,
   "metadata": {
    "colab": {
     "base_uri": "https://localhost:8080/"
    },
    "executionInfo": {
     "elapsed": 9,
     "status": "ok",
     "timestamp": 1642070842542,
     "user": {
      "displayName": "장홍선",
      "photoUrl": "https://lh3.googleusercontent.com/a/default-user=s64",
      "userId": "15052134402298649734"
     },
     "user_tz": -540
    },
    "id": "JsrC93tivZik",
    "outputId": "9be3d46c-9b8e-4995-e503-7ca1fd885eb0"
   },
   "outputs": [
    {
     "data": {
      "text/plain": [
       "array([3, 4, 5, 6, 7, 8])"
      ]
     },
     "execution_count": 97,
     "metadata": {},
     "output_type": "execute_result"
    }
   ],
   "source": [
    "# 3번째 요소부터 8번째 요소\n",
    "arr1[3:9]"
   ]
  },
  {
   "cell_type": "code",
   "execution_count": null,
   "metadata": {
    "colab": {
     "base_uri": "https://localhost:8080/"
    },
    "executionInfo": {
     "elapsed": 311,
     "status": "ok",
     "timestamp": 1642070844604,
     "user": {
      "displayName": "장홍선",
      "photoUrl": "https://lh3.googleusercontent.com/a/default-user=s64",
      "userId": "15052134402298649734"
     },
     "user_tz": -540
    },
    "id": "5Ofoq9yUvZin",
    "outputId": "515c78d0-e58d-48a7-c739-045c06e6f60a"
   },
   "outputs": [
    {
     "name": "stdout",
     "output_type": "stream",
     "text": [
      "[3 4 5 6 7 8 9]\n",
      "[0 1 2 3 4 5 6 7]\n",
      "[0 1 2 3 4 5 6 7 8 9]\n"
     ]
    }
   ],
   "source": [
    "print(arr1[3:])\n",
    "print(arr1[:-2])\n",
    "print(arr1[:])"
   ]
  },
  {
   "cell_type": "markdown",
   "metadata": {
    "id": "D96FIhXVvZit"
   },
   "source": [
    "#### 2차원 데이터 인덱싱"
   ]
  },
  {
   "cell_type": "code",
   "execution_count": null,
   "metadata": {
    "colab": {
     "base_uri": "https://localhost:8080/"
    },
    "executionInfo": {
     "elapsed": 346,
     "status": "ok",
     "timestamp": 1642070848496,
     "user": {
      "displayName": "장홍선",
      "photoUrl": "https://lh3.googleusercontent.com/a/default-user=s64",
      "userId": "15052134402298649734"
     },
     "user_tz": -540
    },
    "id": "vh0__ivOvZiu",
    "outputId": "04c41b41-33fb-4548-acfc-a80f6dc158d5"
   },
   "outputs": [
    {
     "data": {
      "text/plain": [
       "array([[ 1,  2,  3,  4],\n",
       "       [ 5,  6,  7,  8],\n",
       "       [ 9, 10, 11, 12]])"
      ]
     },
     "execution_count": 99,
     "metadata": {},
     "output_type": "execute_result"
    }
   ],
   "source": [
    "arr2 = np.array([[1,2,3,4],\n",
    "                 [5,6,7,8],\n",
    "                 [9,10,11,12]])\n",
    "arr2"
   ]
  },
  {
   "cell_type": "code",
   "execution_count": null,
   "metadata": {
    "colab": {
     "base_uri": "https://localhost:8080/"
    },
    "executionInfo": {
     "elapsed": 8,
     "status": "ok",
     "timestamp": 1642070848888,
     "user": {
      "displayName": "장홍선",
      "photoUrl": "https://lh3.googleusercontent.com/a/default-user=s64",
      "userId": "15052134402298649734"
     },
     "user_tz": -540
    },
    "id": "WU67-XfPvZi2",
    "outputId": "320281bb-3b5e-46db-fc60-72100c9007b3"
   },
   "outputs": [
    {
     "name": "stdout",
     "output_type": "stream",
     "text": [
      "1\n",
      "1\n"
     ]
    }
   ],
   "source": [
    "# 2차원의 array를 인덱싱을 하기 위해선 2개의 인자 입력\n",
    "# [행#, 열#]\n",
    "print(arr2[0,0])\n",
    "print(arr2[0][0])"
   ]
  },
  {
   "cell_type": "code",
   "execution_count": null,
   "metadata": {
    "colab": {
     "base_uri": "https://localhost:8080/"
    },
    "executionInfo": {
     "elapsed": 4,
     "status": "ok",
     "timestamp": 1642070849212,
     "user": {
      "displayName": "장홍선",
      "photoUrl": "https://lh3.googleusercontent.com/a/default-user=s64",
      "userId": "15052134402298649734"
     },
     "user_tz": -540
    },
    "id": "tpWd9a9SvZi9",
    "outputId": "50571fd3-f0dc-4f50-d1ca-e21ac84b9172"
   },
   "outputs": [
    {
     "data": {
      "text/plain": [
       "array([ 9, 10, 11, 12])"
      ]
     },
     "execution_count": 101,
     "metadata": {},
     "output_type": "execute_result"
    }
   ],
   "source": [
    "# 2번째 array의 전체 불러오기\n",
    "arr2[2,:]"
   ]
  },
  {
   "cell_type": "code",
   "execution_count": null,
   "metadata": {
    "colab": {
     "base_uri": "https://localhost:8080/"
    },
    "executionInfo": {
     "elapsed": 9,
     "status": "ok",
     "timestamp": 1642070849832,
     "user": {
      "displayName": "장홍선",
      "photoUrl": "https://lh3.googleusercontent.com/a/default-user=s64",
      "userId": "15052134402298649734"
     },
     "user_tz": -540
    },
    "id": "r796GvCSvZjD",
    "outputId": "86ef59f0-b486-4aa6-d4b5-a5a327ccfc96"
   },
   "outputs": [
    {
     "data": {
      "text/plain": [
       "12"
      ]
     },
     "execution_count": 102,
     "metadata": {},
     "output_type": "execute_result"
    }
   ],
   "source": [
    "# 2번째 array의 3번째 값 불러오기\n",
    "arr2[2,3]"
   ]
  },
  {
   "cell_type": "code",
   "execution_count": null,
   "metadata": {
    "colab": {
     "base_uri": "https://localhost:8080/"
    },
    "executionInfo": {
     "elapsed": 4,
     "status": "ok",
     "timestamp": 1642070853733,
     "user": {
      "displayName": "장홍선",
      "photoUrl": "https://lh3.googleusercontent.com/a/default-user=s64",
      "userId": "15052134402298649734"
     },
     "user_tz": -540
    },
    "id": "4LopnOKQvZjF",
    "outputId": "fe5eedfe-5a90-475e-a7d3-59df45325ab9"
   },
   "outputs": [
    {
     "data": {
      "text/plain": [
       "array([ 4,  8, 12])"
      ]
     },
     "execution_count": 103,
     "metadata": {},
     "output_type": "execute_result"
    }
   ],
   "source": [
    "# 모든 array의 3번째 값들만 불러오기\n",
    "arr2[:,3]"
   ]
  },
  {
   "cell_type": "code",
   "execution_count": null,
   "metadata": {
    "colab": {
     "base_uri": "https://localhost:8080/"
    },
    "executionInfo": {
     "elapsed": 564,
     "status": "ok",
     "timestamp": 1642070854295,
     "user": {
      "displayName": "장홍선",
      "photoUrl": "https://lh3.googleusercontent.com/a/default-user=s64",
      "userId": "15052134402298649734"
     },
     "user_tz": -540
    },
    "id": "qmVZ-tC4-GeC",
    "outputId": "a62a5050-dbae-4baa-be69-32e5abfcd276"
   },
   "outputs": [
    {
     "data": {
      "text/plain": [
       "array([[ 1,  2,  3,  4],\n",
       "       [ 9, 10, 11, 12]])"
      ]
     },
     "execution_count": 104,
     "metadata": {},
     "output_type": "execute_result"
    }
   ],
   "source": [
    "arr2[[0,2]]"
   ]
  },
  {
   "cell_type": "code",
   "execution_count": null,
   "metadata": {
    "colab": {
     "base_uri": "https://localhost:8080/"
    },
    "executionInfo": {
     "elapsed": 12,
     "status": "ok",
     "timestamp": 1642070854296,
     "user": {
      "displayName": "장홍선",
      "photoUrl": "https://lh3.googleusercontent.com/a/default-user=s64",
      "userId": "15052134402298649734"
     },
     "user_tz": -540
    },
    "id": "dFj58umE-GeC",
    "outputId": "3dc48798-ade8-4c60-a4c6-19a4def391db"
   },
   "outputs": [
    {
     "data": {
      "text/plain": [
       "array([ 4, 12])"
      ]
     },
     "execution_count": 105,
     "metadata": {},
     "output_type": "execute_result"
    }
   ],
   "source": [
    "arr2[[0,2],-1]"
   ]
  },
  {
   "cell_type": "markdown",
   "metadata": {
    "id": "QeS3E8E_vZjH"
   },
   "source": [
    "#### boolean을 이용한 인덱싱"
   ]
  },
  {
   "cell_type": "code",
   "execution_count": null,
   "metadata": {
    "colab": {
     "base_uri": "https://localhost:8080/"
    },
    "executionInfo": {
     "elapsed": 3,
     "status": "ok",
     "timestamp": 1642070855321,
     "user": {
      "displayName": "장홍선",
      "photoUrl": "https://lh3.googleusercontent.com/a/default-user=s64",
      "userId": "15052134402298649734"
     },
     "user_tz": -540
    },
    "id": "6GRVphkHvZjI",
    "outputId": "69534a53-a8b0-46a3-eb37-91b23d207e70"
   },
   "outputs": [
    {
     "data": {
      "text/plain": [
       "array([0, 1, 2, 3, 4, 5, 6, 7, 8, 9])"
      ]
     },
     "execution_count": 106,
     "metadata": {},
     "output_type": "execute_result"
    }
   ],
   "source": [
    "arr1"
   ]
  },
  {
   "cell_type": "code",
   "execution_count": null,
   "metadata": {
    "colab": {
     "base_uri": "https://localhost:8080/"
    },
    "executionInfo": {
     "elapsed": 470,
     "status": "ok",
     "timestamp": 1642070856205,
     "user": {
      "displayName": "장홍선",
      "photoUrl": "https://lh3.googleusercontent.com/a/default-user=s64",
      "userId": "15052134402298649734"
     },
     "user_tz": -540
    },
    "id": "futjUe2HvZjK",
    "outputId": "c764d66b-8f2c-4315-bfb9-ae7c13e9a993"
   },
   "outputs": [
    {
     "data": {
      "text/plain": [
       "array([False, False, False, False, False, False,  True,  True,  True,\n",
       "        True])"
      ]
     },
     "execution_count": 107,
     "metadata": {},
     "output_type": "execute_result"
    }
   ],
   "source": [
    "# boolean으로 확인하기\n",
    "\n",
    "arr1 > 5"
   ]
  },
  {
   "cell_type": "code",
   "execution_count": null,
   "metadata": {
    "colab": {
     "base_uri": "https://localhost:8080/"
    },
    "executionInfo": {
     "elapsed": 8,
     "status": "ok",
     "timestamp": 1642070856206,
     "user": {
      "displayName": "장홍선",
      "photoUrl": "https://lh3.googleusercontent.com/a/default-user=s64",
      "userId": "15052134402298649734"
     },
     "user_tz": -540
    },
    "id": "8NJtgHkbvZjQ",
    "outputId": "5f28e634-16f9-4136-d3ba-f886472723ca"
   },
   "outputs": [
    {
     "data": {
      "text/plain": [
       "array([6, 7, 8, 9])"
      ]
     },
     "execution_count": 108,
     "metadata": {},
     "output_type": "execute_result"
    }
   ],
   "source": [
    "# 조건에 맞는 (= 필터링된) 값 불러오기\n",
    "\n",
    "arr1[arr1 > 5]"
   ]
  },
  {
   "cell_type": "code",
   "execution_count": null,
   "metadata": {
    "colab": {
     "base_uri": "https://localhost:8080/"
    },
    "executionInfo": {
     "elapsed": 299,
     "status": "ok",
     "timestamp": 1642070879497,
     "user": {
      "displayName": "장홍선",
      "photoUrl": "https://lh3.googleusercontent.com/a/default-user=s64",
      "userId": "15052134402298649734"
     },
     "user_tz": -540
    },
    "id": "bl5NmgF8vZjc",
    "outputId": "6b86e31f-1e6f-4fc7-f6d6-76ce5e582100"
   },
   "outputs": [
    {
     "data": {
      "text/plain": [
       "(array([6, 7, 8, 9]),)"
      ]
     },
     "execution_count": 111,
     "metadata": {},
     "output_type": "execute_result"
    }
   ],
   "source": [
    "# 조건에 맞는 값들의 인덱스값만 반환\n",
    "np.where(arr1 > 5)"
   ]
  },
  {
   "cell_type": "code",
   "execution_count": null,
   "metadata": {
    "colab": {
     "base_uri": "https://localhost:8080/"
    },
    "executionInfo": {
     "elapsed": 330,
     "status": "ok",
     "timestamp": 1642070881407,
     "user": {
      "displayName": "장홍선",
      "photoUrl": "https://lh3.googleusercontent.com/a/default-user=s64",
      "userId": "15052134402298649734"
     },
     "user_tz": -540
    },
    "id": "R6YD6xIdvZjl",
    "outputId": "a668f2c7-a678-4203-928f-2a670b027a9e"
   },
   "outputs": [
    {
     "data": {
      "text/plain": [
       "array(['X', 'X', 'X', 'X', 'X', 'X', 'O', 'O', 'O', 'O'], dtype='<U1')"
      ]
     },
     "execution_count": 112,
     "metadata": {},
     "output_type": "execute_result"
    }
   ],
   "source": [
    "np.where(arr1 > 5, 'O', 'X') "
   ]
  },
  {
   "cell_type": "markdown",
   "metadata": {
    "id": "hSh-V9ZdvZjs"
   },
   "source": [
    "---"
   ]
  },
  {
   "cell_type": "markdown",
   "metadata": {
    "id": "ffC2FX64vZjs"
   },
   "source": [
    "## 4. 자주 쓰이는 Numpy 함수"
   ]
  },
  {
   "cell_type": "markdown",
   "metadata": {
    "id": "bi59TakKvZjs"
   },
   "source": [
    "#### concatenate - 결합\n",
    "(주의: 가로, 세로 결합에 따라 row, column 갯수가 맞아야 결합이 가능)"
   ]
  },
  {
   "cell_type": "code",
   "execution_count": null,
   "metadata": {
    "colab": {
     "base_uri": "https://localhost:8080/"
    },
    "executionInfo": {
     "elapsed": 320,
     "status": "ok",
     "timestamp": 1642070884013,
     "user": {
      "displayName": "장홍선",
      "photoUrl": "https://lh3.googleusercontent.com/a/default-user=s64",
      "userId": "15052134402298649734"
     },
     "user_tz": -540
    },
    "id": "m1WJw_OkvZjt",
    "outputId": "de88723b-a3e3-4104-fdbc-7aa7fb7569dd"
   },
   "outputs": [
    {
     "data": {
      "text/plain": [
       "array([[1, 2, 3],\n",
       "       [4, 5, 6]])"
      ]
     },
     "execution_count": 113,
     "metadata": {},
     "output_type": "execute_result"
    }
   ],
   "source": [
    "array1_"
   ]
  },
  {
   "cell_type": "code",
   "execution_count": null,
   "metadata": {
    "colab": {
     "base_uri": "https://localhost:8080/"
    },
    "executionInfo": {
     "elapsed": 306,
     "status": "ok",
     "timestamp": 1642070889178,
     "user": {
      "displayName": "장홍선",
      "photoUrl": "https://lh3.googleusercontent.com/a/default-user=s64",
      "userId": "15052134402298649734"
     },
     "user_tz": -540
    },
    "id": "uPq_dB0svZjw",
    "outputId": "f606b1b3-d618-4f33-f6e2-6b14d7ee72a5"
   },
   "outputs": [
    {
     "data": {
      "text/plain": [
       "array([[10, 11, 12],\n",
       "       [13, 14, 15]])"
      ]
     },
     "execution_count": 114,
     "metadata": {},
     "output_type": "execute_result"
    }
   ],
   "source": [
    "array2_"
   ]
  },
  {
   "cell_type": "code",
   "execution_count": null,
   "metadata": {
    "colab": {
     "base_uri": "https://localhost:8080/"
    },
    "executionInfo": {
     "elapsed": 3,
     "status": "ok",
     "timestamp": 1642070889507,
     "user": {
      "displayName": "장홍선",
      "photoUrl": "https://lh3.googleusercontent.com/a/default-user=s64",
      "userId": "15052134402298649734"
     },
     "user_tz": -540
    },
    "id": "2tLuYPnSvZj2",
    "outputId": "28157580-98a5-4a67-c258-7922560883b4",
    "scrolled": true
   },
   "outputs": [
    {
     "name": "stdout",
     "output_type": "stream",
     "text": [
      "[[ 1  2  3]\n",
      " [ 4  5  6]\n",
      " [10 11 12]\n",
      " [13 14 15]]\n"
     ]
    }
   ],
   "source": [
    "# default axis = 0, 수평축\n",
    "# 행을 기준으로 결합한다고 생각하면 쉬움\n",
    "array_concat = np.concatenate((array1_, array2_))\n",
    "print(array_concat)"
   ]
  },
  {
   "cell_type": "code",
   "execution_count": null,
   "metadata": {
    "colab": {
     "base_uri": "https://localhost:8080/"
    },
    "executionInfo": {
     "elapsed": 449,
     "status": "ok",
     "timestamp": 1642070903427,
     "user": {
      "displayName": "장홍선",
      "photoUrl": "https://lh3.googleusercontent.com/a/default-user=s64",
      "userId": "15052134402298649734"
     },
     "user_tz": -540
    },
    "id": "l6iuZgqPvZj6",
    "outputId": "6c5c60ca-acda-462e-bcfd-a94b78ab512f"
   },
   "outputs": [
    {
     "name": "stdout",
     "output_type": "stream",
     "text": [
      "[[ 1  2  3 10 11 12]\n",
      " [ 4  5  6 13 14 15]]\n"
     ]
    }
   ],
   "source": [
    "# axis=1로 하면 수직축\n",
    "# 열을 기준으로 결합\n",
    "array_con1 = np.concatenate((array1_, array2_), axis=1)\n",
    "print(array_con1)"
   ]
  },
  {
   "cell_type": "markdown",
   "metadata": {
    "id": "_yUjOJYA-GeD"
   },
   "source": [
    "#### split_분할"
   ]
  },
  {
   "cell_type": "code",
   "execution_count": null,
   "metadata": {
    "colab": {
     "base_uri": "https://localhost:8080/"
    },
    "executionInfo": {
     "elapsed": 352,
     "status": "ok",
     "timestamp": 1642070907034,
     "user": {
      "displayName": "장홍선",
      "photoUrl": "https://lh3.googleusercontent.com/a/default-user=s64",
      "userId": "15052134402298649734"
     },
     "user_tz": -540
    },
    "id": "08kIPqG8-GeD",
    "outputId": "693963b7-05ec-4662-e616-fdeb57c59a59"
   },
   "outputs": [
    {
     "data": {
      "text/plain": [
       "[array([[1, 2, 3],\n",
       "        [4, 5, 6]]), array([[10, 11, 12],\n",
       "        [13, 14, 15]])]"
      ]
     },
     "execution_count": 117,
     "metadata": {},
     "output_type": "execute_result"
    }
   ],
   "source": [
    "array= np.split(array_concat,2) \n",
    "array"
   ]
  },
  {
   "cell_type": "code",
   "execution_count": null,
   "metadata": {
    "colab": {
     "base_uri": "https://localhost:8080/"
    },
    "executionInfo": {
     "elapsed": 427,
     "status": "ok",
     "timestamp": 1642070928514,
     "user": {
      "displayName": "장홍선",
      "photoUrl": "https://lh3.googleusercontent.com/a/default-user=s64",
      "userId": "15052134402298649734"
     },
     "user_tz": -540
    },
    "id": "afVIsw_s-GeD",
    "outputId": "86a94137-c3b8-4883-e9f8-05e12016db1e"
   },
   "outputs": [
    {
     "name": "stdout",
     "output_type": "stream",
     "text": [
      "[[1 2 3]\n",
      " [4 5 6]]\n",
      "[[10 11 12]\n",
      " [13 14 15]]\n"
     ]
    }
   ],
   "source": [
    "array1, array2 = np.split(array_concat,2) \n",
    "print(array1)\n",
    "print(array2)"
   ]
  },
  {
   "cell_type": "markdown",
   "metadata": {
    "id": "xpOL4niKhZr-"
   },
   "source": [
    "### 이외에도 여러 함수 사용 가능\n",
    "- .sum, .cumsum, .gradient\n",
    "- 삼각함수 가능 .cos, .tanh 등등\n",
    "- append, insert, delete 등을 통해 배열 변경 가능\n",
    "- sort를 이용해 배열 정렬 가능\n"
   ]
  },
  {
   "cell_type": "code",
   "execution_count": null,
   "metadata": {
    "id": "3h3S2USUDaJV"
   },
   "outputs": [],
   "source": []
  }
 ],
 "metadata": {
  "colab": {
   "collapsed_sections": [],
   "name": "numpy_세션.ipynb",
   "provenance": []
  },
  "kernelspec": {
   "display_name": "Python 3 (ipykernel)",
   "language": "python",
   "name": "python3"
  },
  "language_info": {
   "codemirror_mode": {
    "name": "ipython",
    "version": 3
   },
   "file_extension": ".py",
   "mimetype": "text/x-python",
   "name": "python",
   "nbconvert_exporter": "python",
   "pygments_lexer": "ipython3",
   "version": "3.9.7"
  },
  "varInspector": {
   "cols": {
    "lenName": 16,
    "lenType": 16,
    "lenVar": 40
   },
   "kernels_config": {
    "python": {
     "delete_cmd_postfix": "",
     "delete_cmd_prefix": "del ",
     "library": "var_list.py",
     "varRefreshCmd": "print(var_dic_list())"
    },
    "r": {
     "delete_cmd_postfix": ") ",
     "delete_cmd_prefix": "rm(",
     "library": "var_list.r",
     "varRefreshCmd": "cat(var_dic_list()) "
    }
   },
   "types_to_exclude": [
    "module",
    "function",
    "builtin_function_or_method",
    "instance",
    "_Feature"
   ],
   "window_display": false
  }
 },
 "nbformat": 4,
 "nbformat_minor": 1
}

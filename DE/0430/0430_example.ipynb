{
 "cells": [
  {
   "cell_type": "code",
   "execution_count": 1,
   "id": "e8961af8-a152-420b-9987-86f7fa67d6f1",
   "metadata": {},
   "outputs": [],
   "source": [
    "from pyspark import SparkContext, SparkConf\n",
    "from pyspark.sql.session import SparkSession"
   ]
  },
  {
   "cell_type": "code",
   "execution_count": 2,
   "id": "3d93c192-0d4b-422b-9658-81f82651076e",
   "metadata": {},
   "outputs": [],
   "source": [
    "conf = SparkConf().setAppName(\"0430_example\").setMaster(\"local\")\n",
    "sc = SparkContext(conf=conf)"
   ]
  },
  {
   "cell_type": "code",
   "execution_count": 3,
   "id": "0c9e08c9-8caf-4a8c-9ad6-c69fab0336d9",
   "metadata": {},
   "outputs": [],
   "source": [
    "spark = SparkSession(sc)"
   ]
  },
  {
   "cell_type": "code",
   "execution_count": 4,
   "id": "9abf733d-2b6d-4aa2-8547-a3f58265e441",
   "metadata": {},
   "outputs": [
    {
     "data": {
      "text/html": [
       "\n",
       "        <div>\n",
       "            <p><b>SparkContext</b></p>\n",
       "\n",
       "            <p><a href=\"http://8f91a61e13e1:4040\">Spark UI</a></p>\n",
       "\n",
       "            <dl>\n",
       "              <dt>Version</dt>\n",
       "                <dd><code>v3.2.1</code></dd>\n",
       "              <dt>Master</dt>\n",
       "                <dd><code>local</code></dd>\n",
       "              <dt>AppName</dt>\n",
       "                <dd><code>0430_example</code></dd>\n",
       "            </dl>\n",
       "        </div>\n",
       "        "
      ],
      "text/plain": [
       "<SparkContext master=local appName=0430_example>"
      ]
     },
     "execution_count": 4,
     "metadata": {},
     "output_type": "execute_result"
    }
   ],
   "source": [
    "sc"
   ]
  },
  {
   "cell_type": "markdown",
   "id": "115b2be8-8385-4e82-8e0d-83ab5b70b2fa",
   "metadata": {},
   "source": [
    "# RDD 이용하기"
   ]
  },
  {
   "cell_type": "code",
   "execution_count": 5,
   "id": "ed2e570f-4aae-4edf-9002-25083f212133",
   "metadata": {},
   "outputs": [],
   "source": [
    "data = sc.textFile(\"./example.csv\")"
   ]
  },
  {
   "cell_type": "code",
   "execution_count": 8,
   "id": "b4c85f47-37cd-4f57-ba85-562de88d4a9d",
   "metadata": {},
   "outputs": [
    {
     "data": {
      "text/plain": [
       "[(68, 6378),\n",
       " (73, 6207),\n",
       " (39, 6198),\n",
       " (54, 6066),\n",
       " (71, 5995),\n",
       " (2, 5993),\n",
       " (97, 5979),\n",
       " (46, 5964),\n",
       " (42, 5692),\n",
       " (59, 5646),\n",
       " (41, 5638),\n",
       " (0, 5525),\n",
       " (8, 5518),\n",
       " (85, 5507),\n",
       " (61, 5497),\n",
       " (32, 5491),\n",
       " (58, 5438),\n",
       " (63, 5412),\n",
       " (15, 5410),\n",
       " (6, 5404),\n",
       " (92, 5374),\n",
       " (70, 5371),\n",
       " (43, 5369),\n",
       " (72, 5339),\n",
       " (34, 5329),\n",
       " (9, 5324),\n",
       " (55, 5300),\n",
       " (90, 5291),\n",
       " (64, 5290),\n",
       " (93, 5266),\n",
       " (24, 5259),\n",
       " (33, 5257),\n",
       " (62, 5254),\n",
       " (26, 5250),\n",
       " (52, 5247),\n",
       " (87, 5212),\n",
       " (40, 5185),\n",
       " (35, 5155),\n",
       " (11, 5149),\n",
       " (65, 5143),\n",
       " (69, 5119),\n",
       " (81, 5118),\n",
       " (25, 5062),\n",
       " (19, 5059),\n",
       " (60, 5041),\n",
       " (29, 5040),\n",
       " (17, 5035),\n",
       " (22, 5017),\n",
       " (28, 5001),\n",
       " (30, 4991),\n",
       " (16, 4981),\n",
       " (51, 4974),\n",
       " (1, 4958),\n",
       " (53, 4947),\n",
       " (18, 4922),\n",
       " (27, 4918),\n",
       " (86, 4908),\n",
       " (76, 4902),\n",
       " (38, 4899),\n",
       " (95, 4878),\n",
       " (89, 4852),\n",
       " (20, 4836),\n",
       " (88, 4830),\n",
       " (4, 4818),\n",
       " (82, 4815),\n",
       " (10, 4815),\n",
       " (31, 4766),\n",
       " (44, 4757),\n",
       " (7, 4754),\n",
       " (37, 4737),\n",
       " (14, 4734),\n",
       " (80, 4724),\n",
       " (21, 4708),\n",
       " (56, 4703),\n",
       " (66, 4683),\n",
       " (12, 4666),\n",
       " (3, 4659),\n",
       " (84, 4648),\n",
       " (74, 4647),\n",
       " (91, 4639),\n",
       " (83, 4632),\n",
       " (57, 4625),\n",
       " (5, 4560),\n",
       " (50, 4522),\n",
       " (78, 4522),\n",
       " (67, 4505),\n",
       " (94, 4473),\n",
       " (49, 4393),\n",
       " (48, 4385),\n",
       " (13, 4365),\n",
       " (77, 4324),\n",
       " (47, 4319),\n",
       " (98, 4297),\n",
       " (36, 4278),\n",
       " (75, 4178),\n",
       " (99, 4173),\n",
       " (23, 4041),\n",
       " (96, 3924),\n",
       " (79, 3789),\n",
       " (45, 3316)]"
      ]
     },
     "execution_count": 8,
     "metadata": {},
     "output_type": "execute_result"
    }
   ],
   "source": [
    "parsed_data = data.map(lambda x: (int(x.split(',')[0]), float(x.split(',')[2])))\n",
    "\n",
    "res = parsed_data.reduceByKey(lambda x, y: round(x + y)).sortBy(lambda x : x[1], ascending=False)\n",
    "res.collect()"
   ]
  },
  {
   "cell_type": "markdown",
   "id": "48f4a26b-4429-4804-82f0-2587e3589f60",
   "metadata": {},
   "source": [
    "# DataFrame 이용하기"
   ]
  },
  {
   "cell_type": "code",
   "execution_count": 9,
   "id": "be783256-0c6b-40ae-81af-9664b3efe5a9",
   "metadata": {},
   "outputs": [],
   "source": [
    "df = spark.read.csv(\"./example.csv\")"
   ]
  },
  {
   "cell_type": "code",
   "execution_count": 10,
   "id": "d5d605c9-4adb-444c-be9c-97f36780b3b4",
   "metadata": {},
   "outputs": [
    {
     "name": "stdout",
     "output_type": "stream",
     "text": [
      "root\n",
      " |-- _c0: string (nullable = true)\n",
      " |-- _c1: string (nullable = true)\n",
      " |-- _c2: string (nullable = true)\n",
      "\n"
     ]
    }
   ],
   "source": [
    "df.printSchema()"
   ]
  },
  {
   "cell_type": "code",
   "execution_count": 12,
   "id": "d87dd07f-e3f8-4e33-a64f-351dcd771228",
   "metadata": {},
   "outputs": [],
   "source": [
    "df_withSchema = spark.read.option(\"inferSchema\", \"true\").csv(\"./example.csv\")"
   ]
  },
  {
   "cell_type": "code",
   "execution_count": 13,
   "id": "30d16afd-058c-46b3-8ab6-ab7ee6cd5faa",
   "metadata": {},
   "outputs": [
    {
     "name": "stdout",
     "output_type": "stream",
     "text": [
      "root\n",
      " |-- _c0: integer (nullable = true)\n",
      " |-- _c1: integer (nullable = true)\n",
      " |-- _c2: double (nullable = true)\n",
      "\n"
     ]
    }
   ],
   "source": [
    "df_withSchema.printSchema()"
   ]
  },
  {
   "cell_type": "code",
   "execution_count": 20,
   "id": "85c20888-6a29-47a4-b755-8c8c28610d26",
   "metadata": {},
   "outputs": [],
   "source": [
    "df_withSchema = df.withColumnRenamed(\"_c0\", \"customerId\")\\\n",
    "                .withColumnRenamed(\"_c1\", \"productId\")\\\n",
    "                .withColumnRenamed(\"_c2\", \"spent\")"
   ]
  },
  {
   "cell_type": "code",
   "execution_count": 21,
   "id": "63bb2afd-013d-4450-bec3-4db03ea8cf98",
   "metadata": {},
   "outputs": [
    {
     "name": "stdout",
     "output_type": "stream",
     "text": [
      "+----------+---------+-----+\n",
      "|customerId|productId|spent|\n",
      "+----------+---------+-----+\n",
      "|        44|     8602|37.19|\n",
      "|        35|     5368|65.89|\n",
      "|         2|     3391|40.64|\n",
      "|        47|     6694|14.98|\n",
      "|        29|      680|13.08|\n",
      "|        91|     8900|24.59|\n",
      "|        70|     3959|68.68|\n",
      "|        85|     1733|28.53|\n",
      "|        53|     9900|83.55|\n",
      "|        14|     1505| 4.32|\n",
      "|        51|     3378|19.80|\n",
      "|        42|     6926|57.77|\n",
      "|         2|     4424|55.77|\n",
      "|        79|     9291|33.17|\n",
      "|        50|     3901|23.57|\n",
      "|        20|     6633| 6.49|\n",
      "|        15|     6148|65.53|\n",
      "|        44|     8331|99.19|\n",
      "|         5|     3505|64.18|\n",
      "|        48|     5539|32.42|\n",
      "+----------+---------+-----+\n",
      "only showing top 20 rows\n",
      "\n"
     ]
    }
   ],
   "source": [
    "df_withSchema.show()"
   ]
  },
  {
   "cell_type": "code",
   "execution_count": 25,
   "id": "cd938768-09db-42f5-aebb-a49d23dd6bb5",
   "metadata": {},
   "outputs": [
    {
     "name": "stdout",
     "output_type": "stream",
     "text": [
      "+----------+----------+\n",
      "|customerId|totalSpent|\n",
      "+----------+----------+\n",
      "|        68|   6375.45|\n",
      "|        73|    6206.2|\n",
      "|        39|   6193.11|\n",
      "|        54|   6065.39|\n",
      "|        71|   5995.66|\n",
      "|         2|   5994.59|\n",
      "|        97|   5977.19|\n",
      "|        46|   5963.11|\n",
      "|        42|   5696.84|\n",
      "|        59|   5642.89|\n",
      "|        41|   5637.62|\n",
      "|         0|   5524.95|\n",
      "|         8|   5517.24|\n",
      "|        85|   5503.43|\n",
      "|        61|   5497.48|\n",
      "|        32|   5496.05|\n",
      "|        58|   5437.73|\n",
      "|        63|   5415.15|\n",
      "|        15|   5413.51|\n",
      "|         6|   5397.88|\n",
      "+----------+----------+\n",
      "only showing top 20 rows\n",
      "\n"
     ]
    }
   ],
   "source": [
    "from pyspark.sql import functions as F\n",
    "\n",
    "df_withSchema.groupBy(\"customerId\")\\\n",
    "  .agg(F.round(F.sum(\"spent\"), 2).alias(\"totalSpent\"))\\\n",
    "  .orderBy(\"totalSpent\", ascending=False)\\\n",
    "  .show()"
   ]
  },
  {
   "cell_type": "code",
   "execution_count": 28,
   "id": "13b4100c-068d-4052-b635-581a03b06266",
   "metadata": {},
   "outputs": [],
   "source": [
    "df_withSchema.createOrReplaceTempView(\"CUSTOMER\")"
   ]
  },
  {
   "cell_type": "code",
   "execution_count": 31,
   "id": "f52ba238-efeb-465b-819e-0ad6d0d96acb",
   "metadata": {},
   "outputs": [
    {
     "name": "stdout",
     "output_type": "stream",
     "text": [
      "+----------+----------+\n",
      "|customerId|totalSpent|\n",
      "+----------+----------+\n",
      "|        68|   6375.45|\n",
      "|        73|    6206.2|\n",
      "|        39|   6193.11|\n",
      "|        54|   6065.39|\n",
      "|        71|   5995.66|\n",
      "|         2|   5994.59|\n",
      "|        97|   5977.19|\n",
      "|        46|   5963.11|\n",
      "|        42|   5696.84|\n",
      "|        59|   5642.89|\n",
      "|        41|   5637.62|\n",
      "|         0|   5524.95|\n",
      "|         8|   5517.24|\n",
      "|        85|   5503.43|\n",
      "|        61|   5497.48|\n",
      "|        32|   5496.05|\n",
      "|        58|   5437.73|\n",
      "|        63|   5415.15|\n",
      "|        15|   5413.51|\n",
      "|         6|   5397.88|\n",
      "+----------+----------+\n",
      "only showing top 20 rows\n",
      "\n"
     ]
    }
   ],
   "source": [
    "data = spark.sql(\"select * from CUSTOMER\")\n",
    "\n",
    "res = spark.sql(\"\"\"\n",
    "                select customerId, round(sum(spent), 2) AS totalSpent\n",
    "                from CUSTOMER\n",
    "                group by customerId\n",
    "                order by totalSpent desc\n",
    "                \"\"\")\n",
    "res.show()"
   ]
  },
  {
   "cell_type": "code",
   "execution_count": null,
   "id": "c219bfa3-e9d0-48f2-93b3-1b556add32dc",
   "metadata": {},
   "outputs": [],
   "source": []
  }
 ],
 "metadata": {
  "kernelspec": {
   "display_name": "Python 3 (ipykernel)",
   "language": "python",
   "name": "python3"
  },
  "language_info": {
   "codemirror_mode": {
    "name": "ipython",
    "version": 3
   },
   "file_extension": ".py",
   "mimetype": "text/x-python",
   "name": "python",
   "nbconvert_exporter": "python",
   "pygments_lexer": "ipython3",
   "version": "3.9.12"
  }
 },
 "nbformat": 4,
 "nbformat_minor": 5
}

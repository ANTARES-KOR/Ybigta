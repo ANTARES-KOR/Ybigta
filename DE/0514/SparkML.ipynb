{
 "cells": [
  {
   "cell_type": "markdown",
   "metadata": {},
   "source": [
    "## 0. Preparation"
   ]
  },
  {
   "cell_type": "code",
   "execution_count": 4,
   "metadata": {},
   "outputs": [],
   "source": [
    "from pyspark import SparkContext, SparkConf"
   ]
  },
  {
   "cell_type": "code",
   "execution_count": 5,
   "metadata": {},
   "outputs": [],
   "source": [
    "conf = SparkConf().setAppName(\"spark-ml\").setMaster(\"local\")\n",
    "sc = SparkContext(conf = conf)"
   ]
  },
  {
   "cell_type": "code",
   "execution_count": 6,
   "metadata": {},
   "outputs": [
    {
     "data": {
      "text/html": [
       "\n",
       "        <div>\n",
       "            <p><b>SparkContext</b></p>\n",
       "\n",
       "            <p><a href=\"http://25b1e2caeb1a:4040\">Spark UI</a></p>\n",
       "\n",
       "            <dl>\n",
       "              <dt>Version</dt>\n",
       "                <dd><code>v3.2.1</code></dd>\n",
       "              <dt>Master</dt>\n",
       "                <dd><code>local</code></dd>\n",
       "              <dt>AppName</dt>\n",
       "                <dd><code>spark-ml</code></dd>\n",
       "            </dl>\n",
       "        </div>\n",
       "        "
      ],
      "text/plain": [
       "<SparkContext master=local appName=spark-ml>"
      ]
     },
     "execution_count": 6,
     "metadata": {},
     "output_type": "execute_result"
    }
   ],
   "source": [
    "sc"
   ]
  },
  {
   "cell_type": "code",
   "execution_count": 7,
   "metadata": {},
   "outputs": [],
   "source": [
    "import os\n",
    "import pandas as pd\n",
    "import numpy as np\n",
    "import matplotlib.pyplot as plt\n",
    "import seaborn as sns\n",
    "\n",
    "# Pyspark - SQL\n",
    "from pyspark.sql import SparkSession\n",
    "from pyspark.sql import SQLContext\n",
    "from pyspark.sql.functions import mean, col, split, regexp_extract, when, lit\n",
    "\n",
    "# Pyspark - ML\n",
    "from pyspark.ml import Pipeline\n",
    "from pyspark.ml.feature import StringIndexer, VectorAssembler\n",
    "from pyspark.ml.evaluation import MulticlassClassificationEvaluator\n",
    "from pyspark.ml.feature import QuantileDiscretizer"
   ]
  },
  {
   "cell_type": "code",
   "execution_count": 8,
   "metadata": {},
   "outputs": [],
   "source": [
    "# Create Spark Session\n",
    "spark = SparkSession.builder.master('local').appName('titanic').getOrCreate()"
   ]
  },
  {
   "cell_type": "code",
   "execution_count": 9,
   "metadata": {},
   "outputs": [
    {
     "name": "stdout",
     "output_type": "stream",
     "text": [
      "<class 'pyspark.sql.dataframe.DataFrame'>\n",
      "+-----------+--------+------+--------------------+------+----+-----+-----+----------------+-------+-----+--------+\n",
      "|PassengerId|Survived|Pclass|                Name|   Sex| Age|SibSp|Parch|          Ticket|   Fare|Cabin|Embarked|\n",
      "+-----------+--------+------+--------------------+------+----+-----+-----+----------------+-------+-----+--------+\n",
      "|          1|       0|     3|Braund, Mr. Owen ...|  male|22.0|    1|    0|       A/5 21171|   7.25| null|       S|\n",
      "|          2|       1|     1|Cumings, Mrs. Joh...|female|38.0|    1|    0|        PC 17599|71.2833|  C85|       C|\n",
      "|          3|       1|     3|Heikkinen, Miss. ...|female|26.0|    0|    0|STON/O2. 3101282|  7.925| null|       S|\n",
      "|          4|       1|     1|Futrelle, Mrs. Ja...|female|35.0|    1|    0|          113803|   53.1| C123|       S|\n",
      "|          5|       0|     3|Allen, Mr. Willia...|  male|35.0|    0|    0|          373450|   8.05| null|       S|\n",
      "+-----------+--------+------+--------------------+------+----+-----+-----+----------------+-------+-----+--------+\n",
      "only showing top 5 rows\n",
      "\n"
     ]
    }
   ],
   "source": [
    "# Load Data\n",
    "df = spark.read.csv('./titanic.csv', header=True, inferSchema=True)\n",
    "print(type(df))\n",
    "df.show(5)"
   ]
  },
  {
   "cell_type": "markdown",
   "metadata": {},
   "source": [
    "- Y 변수: Survived - 0이면 사망, 1이면 생존\n",
    "- X 변수\n",
    "    - Pclass(Ticket class): categorical\n",
    "    - Sex: categorical\n",
    "    - Age: numeric\n",
    "    - SibSp(같이 탄 형제/자매 수), Parch(같이 탄 부모 수): numeric\n",
    "    - Fare(운임료): numeric"
   ]
  },
  {
   "cell_type": "code",
   "execution_count": 10,
   "metadata": {},
   "outputs": [
    {
     "name": "stdout",
     "output_type": "stream",
     "text": [
      "root\n",
      " |-- PassengerId: integer (nullable = true)\n",
      " |-- Survived: integer (nullable = true)\n",
      " |-- Pclass: integer (nullable = true)\n",
      " |-- Name: string (nullable = true)\n",
      " |-- Sex: string (nullable = true)\n",
      " |-- Age: double (nullable = true)\n",
      " |-- SibSp: integer (nullable = true)\n",
      " |-- Parch: integer (nullable = true)\n",
      " |-- Ticket: string (nullable = true)\n",
      " |-- Fare: double (nullable = true)\n",
      " |-- Cabin: string (nullable = true)\n",
      " |-- Embarked: string (nullable = true)\n",
      "\n"
     ]
    }
   ],
   "source": [
    "# Schema\n",
    "df.printSchema()"
   ]
  },
  {
   "cell_type": "markdown",
   "metadata": {},
   "source": [
    "## 1. EDA\n",
    "### 1) 결측치 확인"
   ]
  },
  {
   "cell_type": "code",
   "execution_count": 11,
   "metadata": {},
   "outputs": [
    {
     "name": "stdout",
     "output_type": "stream",
     "text": [
      "+-----------+--------+------+----+---+---+-----+-----+------+----+-----+--------+\n",
      "|PassengerId|Survived|Pclass|Name|Sex|Age|SibSp|Parch|Ticket|Fare|Cabin|Embarked|\n",
      "+-----------+--------+------+----+---+---+-----+-----+------+----+-----+--------+\n",
      "|          0|       0|     0|   0|  0|177|    0|    0|     0|   0|  687|       2|\n",
      "+-----------+--------+------+----+---+---+-----+-----+------+----+-----+--------+\n",
      "\n"
     ]
    }
   ],
   "source": [
    "from pyspark.sql.functions import isnan, count\n",
    "df.select([count(when(isnan(c) | col(c).isNull(), c)).alias(c) for c in df.columns]).show()\n",
    "\n",
    "# 결측치가 많은 Cabin과 Age, 그리고 불필요해보이는 Name과 Ticket, PassengerID은 제외하고 시작하겠습니다.\n",
    "# 과제 시에는 아래의 링크를 참고해서 다양한 feature를 활용해보세요 !"
   ]
  },
  {
   "cell_type": "code",
   "execution_count": 14,
   "metadata": {},
   "outputs": [
    {
     "name": "stdout",
     "output_type": "stream",
     "text": [
      "+------+---+-----+-----+----+--------+--------+\n",
      "|Pclass|Sex|SibSp|Parch|Fare|Embarked|Survived|\n",
      "+------+---+-----+-----+----+--------+--------+\n",
      "|     0|  0|    0|    0|   0|       2|       0|\n",
      "+------+---+-----+-----+----+--------+--------+\n",
      "\n"
     ]
    }
   ],
   "source": [
    "df = df[['Pclass', 'Sex', 'SibSp', 'Parch', 'Fare', 'Embarked', 'Survived']]\n",
    "df.select([count(when(isnan(c) | col(c).isNull(), c)).alias(c) for c in df.columns]).show()"
   ]
  },
  {
   "cell_type": "code",
   "execution_count": 12,
   "metadata": {},
   "outputs": [
    {
     "name": "stdout",
     "output_type": "stream",
     "text": [
      "+--------+-----+\n",
      "|Embarked|count|\n",
      "+--------+-----+\n",
      "|       Q|   77|\n",
      "|    null|    2|\n",
      "|       C|  168|\n",
      "|       S|  644|\n",
      "+--------+-----+\n",
      "\n"
     ]
    }
   ],
   "source": [
    "# Embark 결측치 처리\n",
    "df.groupBy('Embarked').count().show()"
   ]
  },
  {
   "cell_type": "code",
   "execution_count": 15,
   "metadata": {},
   "outputs": [
    {
     "name": "stdout",
     "output_type": "stream",
     "text": [
      "+--------+-----+\n",
      "|Embarked|count|\n",
      "+--------+-----+\n",
      "|       Q|   77|\n",
      "|       C|  168|\n",
      "|       S|  646|\n",
      "+--------+-----+\n",
      "\n"
     ]
    }
   ],
   "source": [
    "# Embarked의 결측치는 최빈값인 'S'로 대체해주기\n",
    "df = df.na.fill({\"Embarked\": \"S\"})\n",
    "df.groupBy('Embarked').count().show()"
   ]
  },
  {
   "cell_type": "code",
   "execution_count": 70,
   "metadata": {},
   "outputs": [
    {
     "name": "stdout",
     "output_type": "stream",
     "text": [
      "root\n",
      " |-- Pclass: integer (nullable = true)\n",
      " |-- Sex: string (nullable = true)\n",
      " |-- SibSp: integer (nullable = true)\n",
      " |-- Parch: integer (nullable = true)\n",
      " |-- Fare: double (nullable = true)\n",
      " |-- Embarked: string (nullable = false)\n",
      " |-- Survived: integer (nullable = true)\n",
      "\n",
      "(891, 7)\n"
     ]
    }
   ],
   "source": [
    "df.printSchema()\n",
    "print((df.count(), len(df.columns)))"
   ]
  },
  {
   "cell_type": "markdown",
   "metadata": {},
   "source": [
    "### 2) Y의 분포 확인하기"
   ]
  },
  {
   "cell_type": "code",
   "execution_count": 71,
   "metadata": {},
   "outputs": [
    {
     "data": {
      "image/png": "[encoded data removed]",
      "text/plain": [
       "<Figure size 432x288 with 1 Axes>"
      ]
     },
     "metadata": {
      "needs_background": "light"
     },
     "output_type": "display_data"
    }
   ],
   "source": [
    "sns.countplot(df.toPandas()['Survived']);"
   ]
  },
  {
   "cell_type": "markdown",
   "metadata": {},
   "source": [
    "### 3) P(Y|X) 확인하기"
   ]
  },
  {
   "cell_type": "code",
   "execution_count": 72,
   "metadata": {},
   "outputs": [
    {
     "data": {
      "image/png": "[encoded data removed]",
      "text/plain": [
       "<Figure size 432x288 with 1 Axes>"
      ]
     },
     "metadata": {
      "needs_background": "light"
     },
     "output_type": "display_data"
    }
   ],
   "source": [
    "# Pclass -> 높은 등석일수록 생존률이 높음\n",
    "sns.countplot(data=df.toPandas(), x='Pclass', hue='Survived');"
   ]
  },
  {
   "cell_type": "code",
   "execution_count": 73,
   "metadata": {},
   "outputs": [
    {
     "data": {
      "image/png": "[encoded data removed]",
      "text/plain": [
       "<Figure size 432x288 with 1 Axes>"
      ]
     },
     "metadata": {
      "needs_background": "light"
     },
     "output_type": "display_data"
    }
   ],
   "source": [
    "# Sex -> 여성의 생존률이 높음\n",
    "sns.countplot(data=df.toPandas(), x='Sex', hue='Survived');"
   ]
  },
  {
   "cell_type": "code",
   "execution_count": 74,
   "metadata": {},
   "outputs": [
    {
     "data": {
      "text/plain": [
       "SibSp      -0.035322\n",
       "Parch       0.081629\n",
       "Fare        0.257307\n",
       "Survived    1.000000\n",
       "Name: Survived, dtype: float64"
      ]
     },
     "execution_count": 74,
     "metadata": {},
     "output_type": "execute_result"
    }
   ],
   "source": [
    "# Numeric 변수간의 선형적 상관관계를 나타내는 correlation coefficient\n",
    "# 생존여부는 Fare(운임료)와 높은 양의 상관관계를 보임\n",
    "df.toPandas()[['SibSp', 'Parch', 'Fare', 'Survived']].corr()['Survived']"
   ]
  },
  {
   "cell_type": "markdown",
   "metadata": {},
   "source": [
    "### 4) X 끼리의 분포 확인"
   ]
  },
  {
   "cell_type": "code",
   "execution_count": 75,
   "metadata": {},
   "outputs": [
    {
     "data": {
      "image/png": "[encoded data removed]",
      "text/plain": [
       "<Figure size 432x288 with 2 Axes>"
      ]
     },
     "metadata": {
      "needs_background": "light"
     },
     "output_type": "display_data"
    }
   ],
   "source": [
    "# SibSp - Parch 간의 양의 상관관계\n",
    "heat = sns.heatmap(df.toPandas()[['SibSp', 'Parch', 'Fare', 'Survived']].corr(), annot=True)\n",
    "heat.set_ylim(0, 5)\n",
    "plt.show()"
   ]
  },
  {
   "cell_type": "markdown",
   "metadata": {},
   "source": [
    "## 2. Feature Engineering\n",
    "### 1) Feature Selection"
   ]
  },
  {
   "cell_type": "code",
   "execution_count": 76,
   "metadata": {},
   "outputs": [
    {
     "data": {
      "text/plain": [
       "0.01663898928274521"
      ]
     },
     "execution_count": 76,
     "metadata": {},
     "output_type": "execute_result"
    }
   ],
   "source": [
    "# SibSp + Parch는 곧 동행한 가족 수를 의미함\n",
    "family_count = df['SibSp'] + df['Parch']\n",
    "df.withColumn(\"family_count\", family_count).corr('family_count', 'Survived')"
   ]
  },
  {
   "cell_type": "code",
   "execution_count": 77,
   "metadata": {},
   "outputs": [],
   "source": [
    "# SibSp, Parch, SibSp + Parch 중 가장 중요한 변수는 Parch\n",
    "# Parch만 남겨두고 나머지는 버림\n",
    "df = df.drop('SibSp')"
   ]
  },
  {
   "cell_type": "markdown",
   "metadata": {},
   "source": [
    "### 2) OneHotEncoding"
   ]
  },
  {
   "cell_type": "code",
   "execution_count": 37,
   "metadata": {},
   "outputs": [],
   "source": [
    "from pyspark.ml.feature import OneHotEncoder, StringIndexer\n",
    "\n",
    "enc_pclass = OneHotEncoder(inputCol=\"Pclass\", outputCol=\"Pclass_onehot\")\n",
    "enc_sex = StringIndexer(inputCol='Sex', outputCol='Sex_onehot')"
   ]
  },
  {
   "cell_type": "code",
   "execution_count": 83,
   "metadata": {},
   "outputs": [
    {
     "name": "stdout",
     "output_type": "stream",
     "text": [
      "<class 'pyspark.ml.pipeline.Pipeline'>\n",
      "<class 'pyspark.ml.pipeline.PipelineModel'>\n",
      "<class 'pyspark.sql.dataframe.DataFrame'>\n"
     ]
    }
   ],
   "source": [
    "from pyspark.ml import Pipeline\n",
    "\n",
    "encoding_pipe = Pipeline(stages=[enc_pclass, enc_sex])\n",
    "print(type(encoding_pipe))\n",
    "\n",
    "estimator = encoding_pipe.fit(df)\n",
    "print(type(estimator))\n",
    "\n",
    "df_final = estimator.transform(df)\n",
    "print(type(df_final))"
   ]
  },
  {
   "cell_type": "code",
   "execution_count": 84,
   "metadata": {},
   "outputs": [
    {
     "name": "stdout",
     "output_type": "stream",
     "text": [
      "+------+------+-----+-------+--------+--------+-------------+----------+\n",
      "|Pclass|   Sex|Parch|   Fare|Embarked|Survived|Pclass_onehot|Sex_onehot|\n",
      "+------+------+-----+-------+--------+--------+-------------+----------+\n",
      "|     3|  male|    0|   7.25|       S|       0|    (3,[],[])|       0.0|\n",
      "|     1|female|    0|71.2833|       C|       1|(3,[1],[1.0])|       1.0|\n",
      "|     3|female|    0|  7.925|       S|       1|    (3,[],[])|       1.0|\n",
      "|     1|female|    0|   53.1|       S|       1|(3,[1],[1.0])|       1.0|\n",
      "|     3|  male|    0|   8.05|       S|       0|    (3,[],[])|       0.0|\n",
      "|     3|  male|    0| 8.4583|       Q|       0|    (3,[],[])|       0.0|\n",
      "|     1|  male|    0|51.8625|       S|       0|(3,[1],[1.0])|       0.0|\n",
      "|     3|  male|    1| 21.075|       S|       0|    (3,[],[])|       0.0|\n",
      "|     3|female|    2|11.1333|       S|       1|    (3,[],[])|       1.0|\n",
      "|     2|female|    0|30.0708|       C|       1|(3,[2],[1.0])|       1.0|\n",
      "|     3|female|    1|   16.7|       S|       1|    (3,[],[])|       1.0|\n",
      "|     1|female|    0|  26.55|       S|       1|(3,[1],[1.0])|       1.0|\n",
      "|     3|  male|    0|   8.05|       S|       0|    (3,[],[])|       0.0|\n",
      "|     3|  male|    5| 31.275|       S|       0|    (3,[],[])|       0.0|\n",
      "|     3|female|    0| 7.8542|       S|       0|    (3,[],[])|       1.0|\n",
      "|     2|female|    0|   16.0|       S|       1|(3,[2],[1.0])|       1.0|\n",
      "|     3|  male|    1| 29.125|       Q|       0|    (3,[],[])|       0.0|\n",
      "|     2|  male|    0|   13.0|       S|       1|(3,[2],[1.0])|       0.0|\n",
      "|     3|female|    0|   18.0|       S|       0|    (3,[],[])|       1.0|\n",
      "|     3|female|    0|  7.225|       C|       1|    (3,[],[])|       1.0|\n",
      "+------+------+-----+-------+--------+--------+-------------+----------+\n",
      "only showing top 20 rows\n",
      "\n"
     ]
    }
   ],
   "source": [
    "df_final.show()"
   ]
  },
  {
   "cell_type": "markdown",
   "metadata": {},
   "source": [
    "## 3. Train\n",
    "### 1) train, test split"
   ]
  },
  {
   "cell_type": "code",
   "execution_count": 86,
   "metadata": {},
   "outputs": [
    {
     "name": "stdout",
     "output_type": "stream",
     "text": [
      "# of train: 720\n",
      "# of test: 171\n"
     ]
    }
   ],
   "source": [
    "df_train, df_test = df_final.randomSplit([0.8, 0.2], seed=0)\n",
    "print(\"# of train: {}\".format(df_train.count()))\n",
    "print(\"# of test: {}\".format(df_test.count()))"
   ]
  },
  {
   "cell_type": "code",
   "execution_count": 105,
   "metadata": {},
   "outputs": [],
   "source": [
    "from pyspark.ml.feature import VectorAssembler\n",
    "from pyspark.ml.classification import LogisticRegression\n",
    "\n",
    "assembler = VectorAssembler(inputCols=['Pclass_onehot', 'Sex_onehot', 'Parch', 'Fare'], \n",
    "                            outputCol=\"features\")\n",
    "\n",
    "lr = LogisticRegression().setFeaturesCol(\"features\").setLabelCol(\"Survived\")\n",
    "lrModel = Pipeline(stages=[assembler, lr]).fit(df_train)"
   ]
  },
  {
   "cell_type": "code",
   "execution_count": 97,
   "metadata": {},
   "outputs": [],
   "source": [
    "train_pred = lrModel.transform(df_train).toPandas()['prediction']\n",
    "train_label = df_train.toPandas()['Survived']\n",
    "test_pred = lrModel.transform(df_test).toPandas()['prediction']\n",
    "test_label = df_test.toPandas()['Survived']"
   ]
  },
  {
   "cell_type": "code",
   "execution_count": 98,
   "metadata": {},
   "outputs": [
    {
     "name": "stdout",
     "output_type": "stream",
     "text": [
      "Train Score: 79.44%\n",
      "Test Score: 78.36%\n"
     ]
    }
   ],
   "source": [
    "from sklearn.metrics import accuracy_score\n",
    "\n",
    "print(f\"Train Score: {100 * accuracy_score(train_pred, train_label):.2f}%\")\n",
    "print(f\"Test Score: {100 * accuracy_score(test_pred, test_label):.2f}%\")"
   ]
  }
 ],
 "metadata": {
  "kernelspec": {
   "display_name": "Python 3 (ipykernel)",
   "language": "python",
   "name": "python3"
  },
  "language_info": {
   "codemirror_mode": {
    "name": "ipython",
    "version": 3
   },
   "file_extension": ".py",
   "mimetype": "text/x-python",
   "name": "python",
   "nbconvert_exporter": "python",
   "pygments_lexer": "ipython3",
   "version": "3.9.12"
  }
 },
 "nbformat": 4,
 "nbformat_minor": 4
}
